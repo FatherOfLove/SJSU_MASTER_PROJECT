{
 "cells": [
  {
   "cell_type": "markdown",
   "metadata": {
    "id": "w7cJVg3ApDEN"
   },
   "source": [
    "# Download data \n"
   ]
  },
  {
   "cell_type": "markdown",
   "metadata": {
    "id": "xUk0uccUo_2V"
   },
   "source": [
    "Downloading the ECG 2020 datasets and copy to google drive"
   ]
  },
  {
   "cell_type": "code",
   "execution_count": null,
   "metadata": {
    "id": "IbqUTEzJo85j"
   },
   "outputs": [],
   "source": [
    "# !wget -r -N -c -np https://physionet.org/files/ptb-xl/1.0.1/ "
   ]
  },
  {
   "cell_type": "code",
   "execution_count": null,
   "metadata": {
    "id": "JaIMyWsp7U4c"
   },
   "outputs": [],
   "source": [
    "# %cp -r -np /content/physionet.org/files/ptb-xl /content/gdrive/My\\ Drive/ECG2020new"
   ]
  },
  {
   "cell_type": "code",
   "execution_count": null,
   "metadata": {
    "id": "OIswKtMh2-uE"
   },
   "outputs": [],
   "source": [
    "# #%cd /content/physionet.org/files/ptb-xl/\n",
    "# %cd 20000/"
   ]
  },
  {
   "cell_type": "code",
   "execution_count": null,
   "metadata": {
    "id": "L52oKq77TVDE"
   },
   "outputs": [],
   "source": [
    "# %ls"
   ]
  },
  {
   "cell_type": "code",
   "execution_count": null,
   "metadata": {
    "id": "vwtoU0gUVD37"
   },
   "outputs": [],
   "source": [
    "# %pwd"
   ]
  },
  {
   "cell_type": "code",
   "execution_count": null,
   "metadata": {
    "id": "6OBbq-jl7fz0"
   },
   "outputs": [],
   "source": [
    "#%cd physionet.org/files/ptb-xl/1.0.1/"
   ]
  },
  {
   "cell_type": "markdown",
   "metadata": {
    "id": "A8iTcIwQC7HE"
   },
   "source": [
    "Load GPU"
   ]
  },
  {
   "cell_type": "code",
   "execution_count": null,
   "metadata": {
    "colab": {
     "base_uri": "https://localhost:8080/"
    },
    "id": "z8f7WTLYC8yB",
    "outputId": "81b79581-63d1-41e6-b5d4-ffaaeeed6b9d"
   },
   "outputs": [],
   "source": [
    "# %tensorflow_version 2.x\n",
    "# import tensorflow as tf\n",
    "# device_name = tf.test.gpu_device_name()\n",
    "# if device_name != '/device:GPU:0':\n",
    "#   raise SystemError('GPU device not found')\n",
    "# print('Found GPU at: {}'.format(device_name))"
   ]
  },
  {
   "cell_type": "markdown",
   "metadata": {
    "id": "3RPKHZKx-geM"
   },
   "source": [
    "# Link to Google Drive Import library"
   ]
  },
  {
   "cell_type": "code",
   "execution_count": null,
   "metadata": {
    "colab": {
     "base_uri": "https://localhost:8080/"
    },
    "id": "jgqPUO1ypCfE",
    "outputId": "24bf41bc-38b6-4e0a-d4d1-b3c18d8f976f"
   },
   "outputs": [],
   "source": [
    "# from google.colab import drive\n",
    "# drive.mount('/content/gdrive')"
   ]
  },
  {
   "cell_type": "markdown",
   "metadata": {
    "id": "Rp-L-NTRtO_m"
   },
   "source": [
    "Install library"
   ]
  },
  {
   "cell_type": "code",
   "execution_count": null,
   "metadata": {
    "colab": {
     "base_uri": "https://localhost:8080/"
    },
    "id": "YvhISaIPtHKE",
    "outputId": "75843dcf-46bf-4264-fb1a-571a789a431b"
   },
   "outputs": [],
   "source": [
    "# !pip install wfdb"
   ]
  },
  {
   "cell_type": "markdown",
   "metadata": {
    "id": "K_2GXVmxtSZL"
   },
   "source": [
    "Import library"
   ]
  },
  {
   "cell_type": "code",
   "execution_count": 1,
   "metadata": {
    "id": "laLZqeyZtRs0"
   },
   "outputs": [],
   "source": [
    "import numpy as np\n",
    "import pandas as pd\n",
    "import wfdb\n",
    "import matplotlib.pyplot as plt\n",
    "import ast\n",
    "import os\n",
    "import tensorflow as tf\n",
    "#from keras.utils import to_categorical\n",
    "\n",
    "#import tensorflow_datasets as tfds\n",
    "import datetime\n",
    "\n",
    "from sklearn.utils import resample\n",
    "from sklearn.model_selection import train_test_split\n",
    "from tensorflow_addons.optimizers import CyclicalLearningRate\n",
    "#from keras.layers import LSTM\n",
    "\n",
    "import pywt"
   ]
  },
  {
   "cell_type": "markdown",
   "metadata": {},
   "source": [
    "# read tfrecord"
   ]
  },
  {
   "cell_type": "code",
   "execution_count": 2,
   "metadata": {},
   "outputs": [],
   "source": [
    "def _parse_function(tf_data):\n",
    "  features = {\"data\": tf.io.FixedLenFeature((), tf.string),\n",
    "              \"label\": tf.io.FixedLenFeature((), tf.string)}\n",
    "  parsed_features = tf.io.parse_single_example(tf_data, features)\n",
    "  data = tf.io.parse_tensor(parsed_features['data'], out_type = tf.float32)\n",
    "  labels = tf.io.parse_tensor(parsed_features['label'], out_type = tf.float32)\n",
    "  return data, labels\n",
    "\n",
    "def read_from_path(tf_record_path):\n",
    "    dataset = tf.data.TFRecordDataset(tf_record_path)\n",
    "    dataset = dataset.map(_parse_function)\n",
    "    return dataset"
   ]
  },
  {
   "cell_type": "code",
   "execution_count": 3,
   "metadata": {},
   "outputs": [],
   "source": [
    "tf_record_train_path = 'C:\\\\Users\\\\jerry\\\\Downloads\\\\tfrecord\\\\train.tfrecords'\n",
    "tf_record_test_path = 'C:\\\\Users\\\\jerry\\\\Downloads\\\\tfrecord\\\\test.tfrecords'\n",
    "tf_record_val_path = 'C:\\\\Users\\\\jerry\\\\Downloads\\\\tfrecord\\\\val.tfrecords'\n",
    "#TODO LIST:\n",
    "# read train dataset here\n",
    "train_dataset = read_from_path(tf_record_train_path)\n",
    "# read test dataset here\n",
    "test_dataset = read_from_path(tf_record_test_path)\n",
    "# read validation dataset here\n",
    "val_dataset = read_from_path(tf_record_val_path)"
   ]
  },
  {
   "cell_type": "code",
   "execution_count": 105,
   "metadata": {},
   "outputs": [
    {
     "name": "stdout",
     "output_type": "stream",
     "text": [
      "(<tf.Tensor: shape=(5000, 12), dtype=float32, numpy=\n",
      "array([[-0.02815411,  0.05928221,  0.08811308, ..., -0.15034847,\n",
      "         0.10512699, -0.02803453],\n",
      "       [-0.02813395,  0.05913024,  0.0880912 , ..., -0.1507113 ,\n",
      "         0.10493328, -0.02797886],\n",
      "       [-0.02815004,  0.0590063 ,  0.08804197, ..., -0.15101314,\n",
      "         0.10476465, -0.0278557 ],\n",
      "       ...,\n",
      "       [-0.08832211,  0.01723753,  0.1047522 , ...,  0.49859625,\n",
      "         0.10776633, -0.24827701],\n",
      "       [-0.08821018,  0.01708768,  0.10444412, ...,  0.4985945 ,\n",
      "         0.10800342, -0.24830152],\n",
      "       [-0.08818521,  0.01692302,  0.10416713, ...,  0.4986349 ,\n",
      "         0.10823737, -0.24836968]], dtype=float32)>, <tf.Tensor: shape=(2,), dtype=float32, numpy=array([0., 1.], dtype=float32)>)\n",
      "(<tf.Tensor: shape=(5000, 12), dtype=float32, numpy=\n",
      "array([[ 0.18461645,  0.02534221, -0.15855102, ...,  0.46917713,\n",
      "         0.06536251, -0.04939149],\n",
      "       [ 0.18551959,  0.02606068, -0.15855682, ...,  0.46896774,\n",
      "         0.06553638, -0.04951092],\n",
      "       [ 0.18645881,  0.02717737, -0.15812808, ...,  0.46979037,\n",
      "         0.06638283, -0.04904995],\n",
      "       ...,\n",
      "       [-0.06633247, -0.20947582, -0.14234063, ..., -0.13234004,\n",
      "        -0.18752024, -0.16905265],\n",
      "       [-0.06629865, -0.20975731, -0.14259395, ..., -0.13226368,\n",
      "        -0.18756989, -0.16917804],\n",
      "       [-0.06636827, -0.2100765 , -0.14260209, ..., -0.13224863,\n",
      "        -0.18768212, -0.16934945]], dtype=float32)>, <tf.Tensor: shape=(2,), dtype=float32, numpy=array([0., 1.], dtype=float32)>)\n"
     ]
    }
   ],
   "source": [
    "for i in dataset.take(3):\n",
    "    print(i)"
   ]
  },
  {
   "cell_type": "markdown",
   "metadata": {
    "id": "TR7dtEngEOeR"
   },
   "source": [
    "# Get the label from csv, set up the basic raw data, get the features"
   ]
  },
  {
   "cell_type": "code",
   "execution_count": 3,
   "metadata": {
    "id": "Fr6mSieesLoT"
   },
   "outputs": [],
   "source": [
    "#get path\n",
    "path='C:\\\\Users\\\\jerry\\\\Downloads\\\\WFDB\\\\'\n",
    "# path = '/content/gdrive/.shortcut-targets-by-id/1ca8px2VUzY6uBCgo13kYoW0_JuynXfG7/1.0.1/'\n",
    "tf_save_path = 'C:\\\\Users\\\\jerry\\\\Downloads\\\\tfrecord\\\\'"
   ]
  },
  {
   "cell_type": "code",
   "execution_count": 4,
   "metadata": {
    "id": "Ez1KTXIoqLkg"
   },
   "outputs": [],
   "source": [
    "def get_label_info(path):\n",
    "  def add_path(str2):\n",
    "      return path + \"HR\"+str2.split(\"_\")[0]\n",
    "  def aggregate_diagnostic(y_dic):\n",
    "      tmp = []\n",
    "      for key in y_dic.keys():\n",
    "          if key in agg_df.index:\n",
    "              tmp.append(agg_df.loc[key].diagnostic_class)\n",
    "      if len(tmp) == 0:\n",
    "        return \"NL\"\n",
    "      return list(set(tmp))[0]\n",
    "  Y = pd.read_csv(path+'ptbxl_database.csv', index_col='ecg_id')\n",
    "  Y.scp_codes = Y.scp_codes.apply(lambda x: ast.literal_eval(x))\n",
    "\n",
    "      # Load scp_statements.csv for diagnostic aggregation\n",
    "  agg_df = pd.read_csv(path+'scp_statements.csv', index_col=0)\n",
    "  agg_df = agg_df[agg_df.diagnostic == 1]\n",
    "\n",
    "      # Apply diagnostic superclass\n",
    "      #target label of the classification\n",
    "  Y['diagnostic_superclass'] = Y.scp_codes.apply(aggregate_diagnostic)\n",
    "  Y['new_filename'] = Y.filename_hr.map(add_path)\n",
    "  Y['strat_fold'] = Y.strat_fold\n",
    "  return Y[[\"new_filename\",\"diagnostic_superclass\",\"age\",\"sex\",\"strat_fold\"]]"
   ]
  },
  {
   "cell_type": "code",
   "execution_count": 5,
   "metadata": {
    "colab": {
     "base_uri": "https://localhost:8080/",
     "height": 450
    },
    "id": "joumwM6zqLnM",
    "outputId": "98a0434c-3d23-4a07-f7e9-7a3c23d55d00"
   },
   "outputs": [
    {
     "data": {
      "text/html": [
       "<div>\n",
       "<style scoped>\n",
       "    .dataframe tbody tr th:only-of-type {\n",
       "        vertical-align: middle;\n",
       "    }\n",
       "\n",
       "    .dataframe tbody tr th {\n",
       "        vertical-align: top;\n",
       "    }\n",
       "\n",
       "    .dataframe thead th {\n",
       "        text-align: right;\n",
       "    }\n",
       "</style>\n",
       "<table border=\"1\" class=\"dataframe\">\n",
       "  <thead>\n",
       "    <tr style=\"text-align: right;\">\n",
       "      <th></th>\n",
       "      <th>new_filename</th>\n",
       "      <th>diagnostic_superclass</th>\n",
       "      <th>age</th>\n",
       "      <th>sex</th>\n",
       "      <th>strat_fold</th>\n",
       "    </tr>\n",
       "    <tr>\n",
       "      <th>ecg_id</th>\n",
       "      <th></th>\n",
       "      <th></th>\n",
       "      <th></th>\n",
       "      <th></th>\n",
       "      <th></th>\n",
       "    </tr>\n",
       "  </thead>\n",
       "  <tbody>\n",
       "    <tr>\n",
       "      <th>21837</th>\n",
       "      <td>C:\\Users\\jerry\\Downloads\\WFDB\\HR21837</td>\n",
       "      <td>NORM</td>\n",
       "      <td>68.0</td>\n",
       "      <td>0</td>\n",
       "      <td>9</td>\n",
       "    </tr>\n",
       "    <tr>\n",
       "      <th>21836</th>\n",
       "      <td>C:\\Users\\jerry\\Downloads\\WFDB\\HR21836</td>\n",
       "      <td>NORM</td>\n",
       "      <td>64.0</td>\n",
       "      <td>1</td>\n",
       "      <td>8</td>\n",
       "    </tr>\n",
       "    <tr>\n",
       "      <th>21835</th>\n",
       "      <td>C:\\Users\\jerry\\Downloads\\WFDB\\HR21835</td>\n",
       "      <td>STTC</td>\n",
       "      <td>59.0</td>\n",
       "      <td>1</td>\n",
       "      <td>2</td>\n",
       "    </tr>\n",
       "    <tr>\n",
       "      <th>21834</th>\n",
       "      <td>C:\\Users\\jerry\\Downloads\\WFDB\\HR21834</td>\n",
       "      <td>NORM</td>\n",
       "      <td>93.0</td>\n",
       "      <td>0</td>\n",
       "      <td>4</td>\n",
       "    </tr>\n",
       "    <tr>\n",
       "      <th>21833</th>\n",
       "      <td>C:\\Users\\jerry\\Downloads\\WFDB\\HR21833</td>\n",
       "      <td>STTC</td>\n",
       "      <td>67.0</td>\n",
       "      <td>1</td>\n",
       "      <td>7</td>\n",
       "    </tr>\n",
       "  </tbody>\n",
       "</table>\n",
       "</div>"
      ],
      "text/plain": [
       "                                 new_filename diagnostic_superclass   age  \\\n",
       "ecg_id                                                                      \n",
       "21837   C:\\Users\\jerry\\Downloads\\WFDB\\HR21837                  NORM  68.0   \n",
       "21836   C:\\Users\\jerry\\Downloads\\WFDB\\HR21836                  NORM  64.0   \n",
       "21835   C:\\Users\\jerry\\Downloads\\WFDB\\HR21835                  STTC  59.0   \n",
       "21834   C:\\Users\\jerry\\Downloads\\WFDB\\HR21834                  NORM  93.0   \n",
       "21833   C:\\Users\\jerry\\Downloads\\WFDB\\HR21833                  STTC  67.0   \n",
       "\n",
       "        sex  strat_fold  \n",
       "ecg_id                   \n",
       "21837     0           9  \n",
       "21836     1           8  \n",
       "21835     1           2  \n",
       "21834     0           4  \n",
       "21833     1           7  "
      ]
     },
     "execution_count": 5,
     "metadata": {},
     "output_type": "execute_result"
    }
   ],
   "source": [
    "y = get_label_info(path)\n",
    "y.head()"
   ]
  },
  {
   "cell_type": "code",
   "execution_count": 6,
   "metadata": {
    "colab": {
     "base_uri": "https://localhost:8080/"
    },
    "id": "_SSofaTgqSok",
    "outputId": "d5c21531-1249-4edc-d800-a8332b910ab0"
   },
   "outputs": [
    {
     "data": {
      "text/plain": [
       "NORM    9111\n",
       "CD      4907\n",
       "STTC    3356\n",
       "MI      3323\n",
       "HYP      731\n",
       "Name: diagnostic_superclass, dtype: int64"
      ]
     },
     "execution_count": 6,
     "metadata": {},
     "output_type": "execute_result"
    }
   ],
   "source": [
    "y = y[y.diagnostic_superclass !=\"NL\"]\n",
    "y.diagnostic_superclass.value_counts()"
   ]
  },
  {
   "cell_type": "code",
   "execution_count": 7,
   "metadata": {
    "colab": {
     "base_uri": "https://localhost:8080/"
    },
    "id": "1s0NvCVfqTUF",
    "outputId": "b491481c-99af-4f37-9433-2e3adb008645",
    "scrolled": true
   },
   "outputs": [
    {
     "data": {
      "text/plain": [
       "NORM    9105\n",
       "CD      4861\n",
       "STTC    3342\n",
       "MI      3307\n",
       "HYP      728\n",
       "Name: diagnostic_superclass, dtype: int64"
      ]
     },
     "execution_count": 7,
     "metadata": {},
     "output_type": "execute_result"
    }
   ],
   "source": [
    "y = y.dropna(how='any',axis=0) \n",
    "y.diagnostic_superclass.value_counts()"
   ]
  },
  {
   "cell_type": "markdown",
   "metadata": {
    "id": "C3eDhw444C2-"
   },
   "source": [
    "Convert the label into numercial data"
   ]
  },
  {
   "cell_type": "code",
   "execution_count": 8,
   "metadata": {
    "id": "vhOyNSQc0vRY"
   },
   "outputs": [],
   "source": [
    "numeric_label = {\"diagnostic_superclass\":{\"NORM\":0,\"CD\":1,\"MI\":1,\"STTC\":1,\"HYP\":1}}"
   ]
  },
  {
   "cell_type": "code",
   "execution_count": 9,
   "metadata": {
    "colab": {
     "base_uri": "https://localhost:8080/",
     "height": 450
    },
    "id": "LDFYUUw60vT-",
    "outputId": "6228c1cf-f5d1-4c85-eb76-ee5ef6b9e599"
   },
   "outputs": [
    {
     "data": {
      "text/plain": [
       "1    12238\n",
       "0     9105\n",
       "Name: diagnostic_superclass, dtype: int64"
      ]
     },
     "execution_count": 9,
     "metadata": {},
     "output_type": "execute_result"
    }
   ],
   "source": [
    "y = y.replace(numeric_label)\n",
    "y.diagnostic_superclass.value_counts()"
   ]
  },
  {
   "cell_type": "code",
   "execution_count": 10,
   "metadata": {},
   "outputs": [
    {
     "data": {
      "text/plain": [
       "False    21343\n",
       "Name: new_filename, dtype: int64"
      ]
     },
     "execution_count": 10,
     "metadata": {},
     "output_type": "execute_result"
    }
   ],
   "source": [
    "y.new_filename.isnull().value_counts()"
   ]
  },
  {
   "cell_type": "code",
   "execution_count": 11,
   "metadata": {},
   "outputs": [
    {
     "data": {
      "text/plain": [
       "False    21343\n",
       "Name: diagnostic_superclass, dtype: int64"
      ]
     },
     "execution_count": 11,
     "metadata": {},
     "output_type": "execute_result"
    }
   ],
   "source": [
    "y.diagnostic_superclass.isnull().value_counts()"
   ]
  },
  {
   "cell_type": "code",
   "execution_count": 12,
   "metadata": {
    "id": "6jWjUQS7pO1C"
   },
   "outputs": [],
   "source": [
    "# Split data into train and test\n",
    "test_fold = 10\n",
    "val_fold = 9\n",
    "train_fold = [1,2,3,4,5,6,7,8]\n",
    "\n",
    "# Train\n",
    "train_df = y[(y.strat_fold.isin(train_fold))]\n",
    "# Test\n",
    "test_df = y[(y.strat_fold == test_fold)]\n",
    "#test_df = df_new.loc[df_new[\"strat_fold\"]. isin(test_fold)]\n",
    "val_df = y[(y.strat_fold == val_fold) ]\n",
    "\n",
    "\n",
    "# #split the train test dataset\n",
    "# train_df, test_df = train_test_split(df_new, test_size = 0.2)\n",
    "# #split the train validation dataset\n",
    "# train_df, val_df = train_test_split(train_df, test_size = 0.2)"
   ]
  },
  {
   "cell_type": "code",
   "execution_count": 13,
   "metadata": {
    "colab": {
     "base_uri": "https://localhost:8080/",
     "height": 419
    },
    "id": "bZep9MxepOyi",
    "outputId": "1336fc2e-b158-42d3-d1e5-6eb2ee6db05c"
   },
   "outputs": [],
   "source": [
    "#shuffle the dataframe and re_index the dataset\n",
    "def shuffle_dataset(df):\n",
    "  df = df.sample(frac=1)\n",
    "  df = df.reset_index()\n",
    "  return df"
   ]
  },
  {
   "cell_type": "code",
   "execution_count": 14,
   "metadata": {},
   "outputs": [],
   "source": [
    "train_df = shuffle_dataset(train_df)\n",
    "test_df = shuffle_dataset(test_df)\n",
    "val_df = shuffle_dataset(val_df)"
   ]
  },
  {
   "cell_type": "code",
   "execution_count": 15,
   "metadata": {},
   "outputs": [
    {
     "data": {
      "text/html": [
       "<div>\n",
       "<style scoped>\n",
       "    .dataframe tbody tr th:only-of-type {\n",
       "        vertical-align: middle;\n",
       "    }\n",
       "\n",
       "    .dataframe tbody tr th {\n",
       "        vertical-align: top;\n",
       "    }\n",
       "\n",
       "    .dataframe thead th {\n",
       "        text-align: right;\n",
       "    }\n",
       "</style>\n",
       "<table border=\"1\" class=\"dataframe\">\n",
       "  <thead>\n",
       "    <tr style=\"text-align: right;\">\n",
       "      <th></th>\n",
       "      <th>ecg_id</th>\n",
       "      <th>new_filename</th>\n",
       "      <th>diagnostic_superclass</th>\n",
       "      <th>age</th>\n",
       "      <th>sex</th>\n",
       "      <th>strat_fold</th>\n",
       "    </tr>\n",
       "  </thead>\n",
       "  <tbody>\n",
       "    <tr>\n",
       "      <th>0</th>\n",
       "      <td>1223</td>\n",
       "      <td>C:\\Users\\jerry\\Downloads\\WFDB\\HR01223</td>\n",
       "      <td>0</td>\n",
       "      <td>87.0</td>\n",
       "      <td>0</td>\n",
       "      <td>4</td>\n",
       "    </tr>\n",
       "    <tr>\n",
       "      <th>1</th>\n",
       "      <td>12275</td>\n",
       "      <td>C:\\Users\\jerry\\Downloads\\WFDB\\HR12275</td>\n",
       "      <td>0</td>\n",
       "      <td>49.0</td>\n",
       "      <td>0</td>\n",
       "      <td>5</td>\n",
       "    </tr>\n",
       "    <tr>\n",
       "      <th>2</th>\n",
       "      <td>181</td>\n",
       "      <td>C:\\Users\\jerry\\Downloads\\WFDB\\HR00181</td>\n",
       "      <td>1</td>\n",
       "      <td>73.0</td>\n",
       "      <td>0</td>\n",
       "      <td>4</td>\n",
       "    </tr>\n",
       "    <tr>\n",
       "      <th>3</th>\n",
       "      <td>14186</td>\n",
       "      <td>C:\\Users\\jerry\\Downloads\\WFDB\\HR14186</td>\n",
       "      <td>0</td>\n",
       "      <td>51.0</td>\n",
       "      <td>0</td>\n",
       "      <td>3</td>\n",
       "    </tr>\n",
       "    <tr>\n",
       "      <th>4</th>\n",
       "      <td>12861</td>\n",
       "      <td>C:\\Users\\jerry\\Downloads\\WFDB\\HR12861</td>\n",
       "      <td>0</td>\n",
       "      <td>49.0</td>\n",
       "      <td>0</td>\n",
       "      <td>2</td>\n",
       "    </tr>\n",
       "    <tr>\n",
       "      <th>...</th>\n",
       "      <td>...</td>\n",
       "      <td>...</td>\n",
       "      <td>...</td>\n",
       "      <td>...</td>\n",
       "      <td>...</td>\n",
       "      <td>...</td>\n",
       "    </tr>\n",
       "    <tr>\n",
       "      <th>17045</th>\n",
       "      <td>1495</td>\n",
       "      <td>C:\\Users\\jerry\\Downloads\\WFDB\\HR01495</td>\n",
       "      <td>0</td>\n",
       "      <td>60.0</td>\n",
       "      <td>1</td>\n",
       "      <td>3</td>\n",
       "    </tr>\n",
       "    <tr>\n",
       "      <th>17046</th>\n",
       "      <td>15678</td>\n",
       "      <td>C:\\Users\\jerry\\Downloads\\WFDB\\HR15678</td>\n",
       "      <td>0</td>\n",
       "      <td>65.0</td>\n",
       "      <td>1</td>\n",
       "      <td>1</td>\n",
       "    </tr>\n",
       "    <tr>\n",
       "      <th>17047</th>\n",
       "      <td>17972</td>\n",
       "      <td>C:\\Users\\jerry\\Downloads\\WFDB\\HR17972</td>\n",
       "      <td>0</td>\n",
       "      <td>62.0</td>\n",
       "      <td>1</td>\n",
       "      <td>8</td>\n",
       "    </tr>\n",
       "    <tr>\n",
       "      <th>17048</th>\n",
       "      <td>5948</td>\n",
       "      <td>C:\\Users\\jerry\\Downloads\\WFDB\\HR05948</td>\n",
       "      <td>0</td>\n",
       "      <td>47.0</td>\n",
       "      <td>1</td>\n",
       "      <td>2</td>\n",
       "    </tr>\n",
       "    <tr>\n",
       "      <th>17049</th>\n",
       "      <td>1336</td>\n",
       "      <td>C:\\Users\\jerry\\Downloads\\WFDB\\HR01336</td>\n",
       "      <td>0</td>\n",
       "      <td>51.0</td>\n",
       "      <td>0</td>\n",
       "      <td>8</td>\n",
       "    </tr>\n",
       "  </tbody>\n",
       "</table>\n",
       "<p>17050 rows × 6 columns</p>\n",
       "</div>"
      ],
      "text/plain": [
       "       ecg_id                           new_filename  diagnostic_superclass  \\\n",
       "0        1223  C:\\Users\\jerry\\Downloads\\WFDB\\HR01223                      0   \n",
       "1       12275  C:\\Users\\jerry\\Downloads\\WFDB\\HR12275                      0   \n",
       "2         181  C:\\Users\\jerry\\Downloads\\WFDB\\HR00181                      1   \n",
       "3       14186  C:\\Users\\jerry\\Downloads\\WFDB\\HR14186                      0   \n",
       "4       12861  C:\\Users\\jerry\\Downloads\\WFDB\\HR12861                      0   \n",
       "...       ...                                    ...                    ...   \n",
       "17045    1495  C:\\Users\\jerry\\Downloads\\WFDB\\HR01495                      0   \n",
       "17046   15678  C:\\Users\\jerry\\Downloads\\WFDB\\HR15678                      0   \n",
       "17047   17972  C:\\Users\\jerry\\Downloads\\WFDB\\HR17972                      0   \n",
       "17048    5948  C:\\Users\\jerry\\Downloads\\WFDB\\HR05948                      0   \n",
       "17049    1336  C:\\Users\\jerry\\Downloads\\WFDB\\HR01336                      0   \n",
       "\n",
       "        age  sex  strat_fold  \n",
       "0      87.0    0           4  \n",
       "1      49.0    0           5  \n",
       "2      73.0    0           4  \n",
       "3      51.0    0           3  \n",
       "4      49.0    0           2  \n",
       "...     ...  ...         ...  \n",
       "17045  60.0    1           3  \n",
       "17046  65.0    1           1  \n",
       "17047  62.0    1           8  \n",
       "17048  47.0    1           2  \n",
       "17049  51.0    0           8  \n",
       "\n",
       "[17050 rows x 6 columns]"
      ]
     },
     "execution_count": 15,
     "metadata": {},
     "output_type": "execute_result"
    }
   ],
   "source": [
    "train_df"
   ]
  },
  {
   "cell_type": "code",
   "execution_count": 16,
   "metadata": {},
   "outputs": [
    {
     "data": {
      "text/plain": [
       "1    9782\n",
       "0    7268\n",
       "Name: diagnostic_superclass, dtype: int64"
      ]
     },
     "execution_count": 16,
     "metadata": {},
     "output_type": "execute_result"
    }
   ],
   "source": [
    "train_df.diagnostic_superclass.value_counts()"
   ]
  },
  {
   "cell_type": "markdown",
   "metadata": {
    "id": "1ur3lVPko0eN"
   },
   "source": [
    "Resampling the data label"
   ]
  },
  {
   "cell_type": "code",
   "execution_count": 17,
   "metadata": {
    "colab": {
     "base_uri": "https://localhost:8080/"
    },
    "id": "I2513wewpOv2",
    "outputId": "4dba807b-477d-408d-ae89-011c60051b35"
   },
   "outputs": [],
   "source": [
    "def resample_df_two_class(df_majority,df_minority,n_samples ):\n",
    "    #up sampling the miniority class of dataset\n",
    "  df_minority_upsampled = resample(df_minority, \n",
    "                                  replace=True,     # sample with replacement\n",
    "                                  n_samples= n_samples,    # to match majority class\n",
    "                                  random_state=123) # reproducible results\n",
    "  df_new = pd.concat([df_majority, df_minority_upsampled], ignore_index= True)\n",
    "  #df_new.diagnostic_superclass.value_counts()\n",
    "  return df_new"
   ]
  },
  {
   "cell_type": "code",
   "execution_count": 18,
   "metadata": {},
   "outputs": [
    {
     "data": {
      "text/plain": [
       "1    9782\n",
       "0    9782\n",
       "Name: diagnostic_superclass, dtype: int64"
      ]
     },
     "execution_count": 18,
     "metadata": {},
     "output_type": "execute_result"
    }
   ],
   "source": [
    "df_majority = train_df[train_df.diagnostic_superclass==1]\n",
    "df_minority = train_df[train_df.diagnostic_superclass==0]\n",
    "n_samples = len(df_majority)\n",
    "train_df = resample_df_two_class(df_majority,df_minority,n_samples)\n",
    "train_df.diagnostic_superclass.value_counts()"
   ]
  },
  {
   "cell_type": "code",
   "execution_count": 19,
   "metadata": {},
   "outputs": [
    {
     "data": {
      "text/plain": [
       "3    2525\n",
       "8    2475\n",
       "1    2452\n",
       "5    2450\n",
       "2    2443\n",
       "7    2427\n",
       "4    2410\n",
       "6    2382\n",
       "Name: strat_fold, dtype: int64"
      ]
     },
     "execution_count": 19,
     "metadata": {},
     "output_type": "execute_result"
    }
   ],
   "source": [
    "train_df.strat_fold.value_counts()"
   ]
  },
  {
   "cell_type": "code",
   "execution_count": 20,
   "metadata": {},
   "outputs": [
    {
     "data": {
      "text/plain": [
       "1    1231\n",
       "0     917\n",
       "Name: diagnostic_superclass, dtype: int64"
      ]
     },
     "execution_count": 20,
     "metadata": {},
     "output_type": "execute_result"
    }
   ],
   "source": [
    "test_df.diagnostic_superclass.value_counts()"
   ]
  },
  {
   "cell_type": "code",
   "execution_count": 21,
   "metadata": {},
   "outputs": [
    {
     "data": {
      "text/plain": [
       "1    1225\n",
       "0     920\n",
       "Name: diagnostic_superclass, dtype: int64"
      ]
     },
     "execution_count": 21,
     "metadata": {},
     "output_type": "execute_result"
    }
   ],
   "source": [
    "val_df.diagnostic_superclass.value_counts()"
   ]
  },
  {
   "cell_type": "code",
   "execution_count": 22,
   "metadata": {},
   "outputs": [
    {
     "name": "stdout",
     "output_type": "stream",
     "text": [
      "train dataset information:\n",
      "<class 'pandas.core.frame.DataFrame'>\n",
      "RangeIndex: 19564 entries, 0 to 19563\n",
      "Data columns (total 6 columns):\n",
      " #   Column                 Non-Null Count  Dtype  \n",
      "---  ------                 --------------  -----  \n",
      " 0   ecg_id                 19564 non-null  int64  \n",
      " 1   new_filename           19564 non-null  object \n",
      " 2   diagnostic_superclass  19564 non-null  int64  \n",
      " 3   age                    19564 non-null  float64\n",
      " 4   sex                    19564 non-null  int64  \n",
      " 5   strat_fold             19564 non-null  int64  \n",
      "dtypes: float64(1), int64(4), object(1)\n",
      "memory usage: 917.2+ KB\n",
      "None\n",
      "\n",
      "test dataset information:\n",
      "<class 'pandas.core.frame.DataFrame'>\n",
      "RangeIndex: 2148 entries, 0 to 2147\n",
      "Data columns (total 6 columns):\n",
      " #   Column                 Non-Null Count  Dtype  \n",
      "---  ------                 --------------  -----  \n",
      " 0   ecg_id                 2148 non-null   int64  \n",
      " 1   new_filename           2148 non-null   object \n",
      " 2   diagnostic_superclass  2148 non-null   int64  \n",
      " 3   age                    2148 non-null   float64\n",
      " 4   sex                    2148 non-null   int64  \n",
      " 5   strat_fold             2148 non-null   int64  \n",
      "dtypes: float64(1), int64(4), object(1)\n",
      "memory usage: 100.8+ KB\n",
      "None\n",
      "\n",
      "validation dataset information:\n",
      "<class 'pandas.core.frame.DataFrame'>\n",
      "RangeIndex: 2145 entries, 0 to 2144\n",
      "Data columns (total 6 columns):\n",
      " #   Column                 Non-Null Count  Dtype  \n",
      "---  ------                 --------------  -----  \n",
      " 0   ecg_id                 2145 non-null   int64  \n",
      " 1   new_filename           2145 non-null   object \n",
      " 2   diagnostic_superclass  2145 non-null   int64  \n",
      " 3   age                    2145 non-null   float64\n",
      " 4   sex                    2145 non-null   int64  \n",
      " 5   strat_fold             2145 non-null   int64  \n",
      "dtypes: float64(1), int64(4), object(1)\n",
      "memory usage: 100.7+ KB\n",
      "None\n"
     ]
    }
   ],
   "source": [
    "print(\"train dataset information:\")\n",
    "print(train_df.info())\n",
    "print()\n",
    "print(\"test dataset information:\")\n",
    "print(test_df.info())\n",
    "print()\n",
    "print(\"validation dataset information:\")\n",
    "print(val_df.info())"
   ]
  },
  {
   "cell_type": "markdown",
   "metadata": {
    "id": "6cf7DZEHD1R-"
   },
   "source": [
    "# Read data into Tensorflow data pipeline"
   ]
  },
  {
   "cell_type": "code",
   "execution_count": 34,
   "metadata": {},
   "outputs": [],
   "source": [
    "def denoise_tfrecord(data,file_path):\n",
    "    try:\n",
    "     # Generating numpy array \n",
    "      data_array = data.T\n",
    "      #print(data_array.shape)\n",
    "      for i, sig_array in enumerate(data_array):\n",
    "        #print(\"loop start!\")\n",
    "        sig_array2 = denoise(sig_array,i)\n",
    "        #print(\"loop shape:\",sig_array2.shape)\n",
    "        data_array[i] = sig_array2\n",
    "      data2 = data_array.T\n",
    "#       if data_array.T.shape[0] != 5000 or data_array.T.shape[1] != 12:\n",
    "# #       if data_array    \n",
    "#           print(\"data_array shape:\",data_array.T.shape)\n",
    "#           print(\"data shape:\",data2.shape)\n",
    "      return data2        \n",
    "    except:\n",
    "      print('Denoise error!')\n",
    "      print(file_path)\n",
    "      #print(data.numpy())\n",
    "      return data"
   ]
  },
  {
   "cell_type": "markdown",
   "metadata": {
    "id": "GZeIvY9m-wUk"
   },
   "source": [
    "TensorFlow Encode and Decode base Function"
   ]
  },
  {
   "cell_type": "code",
   "execution_count": 98,
   "metadata": {
    "id": "W-olHnLnD_io"
   },
   "outputs": [],
   "source": [
    "def _bytes_feature(value):\n",
    "    \"\"\"Returns a bytes_list from a string / byte.\"\"\"\n",
    "    # If the value is an eager tensor BytesList won't unpack a string from an EagerTensor.\n",
    "    if isinstance(value, type(tf.constant(0))):\n",
    "        value = value.numpy() \n",
    "    return tf.train.Feature(bytes_list=tf.train.BytesList(value=[value]))\n",
    "\n",
    "def _float_feature(value):\n",
    "    \"\"\"Returns a float_list from a float / double.\"\"\"\n",
    "    return tf.train.Feature(float_list=tf.train.FloatList(value=[value]))\n",
    "\n",
    "def _int64_feature(value):\n",
    "    \"\"\"Returns an int64_list from a bool / enum / int / uint.\"\"\"\n",
    "    return tf.train.Feature(int64_list=tf.train.Int64List(value=[value]))\n",
    "\n",
    "def save_tfrecords(data, labels, desfile):\n",
    "    with tf.io.TFRecordWriter(desfile) as writer:\n",
    "        \n",
    "       for i in range(len(data)):\n",
    "           features = tf.train.Features(\n",
    "                    feature = {\n",
    "                        \"data\": _bytes_feature(tf.io.serialize_tensor(data[i])),\n",
    "                        \"label\":_bytes_feature(tf.io.serialize_tensor(labels[i])),\n",
    "    #                     \"sex\":_int64_feature(sex),\n",
    "    #                     \"age\":_float_feature(age)\n",
    "                    }\n",
    "                )\n",
    "           example = tf.train.Example(features = features)\n",
    "           serialized = example.SerializeToString()\n",
    "           writer.write(serialized)"
   ]
  },
  {
   "cell_type": "code",
   "execution_count": null,
   "metadata": {},
   "outputs": [],
   "source": [
    "# def convert_data_file_to_tfdata_allpoints(data_path, label_1):\n",
    "  \n",
    "#   path_names=os.listdir(data_path)\n",
    "#  # for name in path_names:\n",
    "#   #  if not os.path.isdir(name):\n",
    "# #      path_names.remove(name) \n",
    "  \n",
    "#   for patient_path in path_names:\n",
    "#       PATH=os.path.join(data_path,patient_path)   #path\n",
    "#       #if not os.path.isfile(PATH):\n",
    "#       FILES=os.listdir(PATH)\n",
    "#          #print(FILES) \n",
    "#         # data_files=[]             \n",
    "#       for file in FILES:\n",
    "#         if '.hea' in file:\n",
    "#               #print(file)\n",
    "#               # data_files.append(file)\n",
    "#           records = []      \n",
    "#           labels = []    \n",
    "#           record_path=os.path.join(PATH,file.split('.')[0])\n",
    "#           record= wfdb.rdrecord(record_path)\n",
    "#           label = record.comments[4].split(':')[1]\n",
    "\n",
    "#           if  label == label_1:\n",
    "#             label = 1\n",
    "#           else:\n",
    "#             label = 0\n",
    "#           #print(label,file)  \n",
    "#           sig_data = record.p_signal.T\n",
    "#           # for single_sig in sig_data:\n",
    "#           #   sigle_sig = denoise(single_sig)\n",
    "#           tf_path = os.path.join(data_path+'tfrecord_all',record.record_name+'.tfrecords')\n",
    "#           print(tf_path)\n",
    "#           save_tfrecords(sig_data, label, tf_path)\n",
    "#           #tf.data.experimental.save(dataset, tf_path) \n",
    "\n",
    "# #convert_data_file_to_tfdata_allpoints(data_path,' Myocardial infarction')"
   ]
  },
  {
   "cell_type": "markdown",
   "metadata": {
    "id": "E2NftRX4eys1"
   },
   "source": [
    "**here can load the raw data directly to memory, sampling_rate 100 means the 100hz dataset, physinet provide 100hz dataset for user easier to use but we use 500 hz dataset in our project here**"
   ]
  },
  {
   "cell_type": "code",
   "execution_count": 23,
   "metadata": {
    "id": "LODeKtYiyLaa"
   },
   "outputs": [],
   "source": [
    "# here can load the raw data directly to memory, sampling_rate 100 means the 100hz dataset, physinet provide 100hz dataset for user easier to use\n",
    "# but we use 500 hz dataset in our project here\n",
    "\n",
    "# def load_raw_data(path):\n",
    "#     print(\"start\")\n",
    "#     sampling_rate = 100\n",
    "#     def aggregate_diagnostic(y_dic):\n",
    "#       tmp = []\n",
    "#       for key in y_dic.keys():\n",
    "#           if key in agg_df.index:\n",
    "#               tmp.append(agg_df.loc[key].diagnostic_class)\n",
    "#       return list(set(tmp))\n",
    "#     # load and convert annotation data\n",
    "#     Y = pd.read_csv(path+'ptbxl_database.csv', index_col='ecg_id')\n",
    "#     Y.scp_codes = Y.scp_codes.apply(lambda x: ast.literal_eval(x))\n",
    "\n",
    "#     # Load scp_statements.csv for diagnostic aggregation\n",
    "#     agg_df = pd.read_csv(path+'scp_statements.csv', index_col=0)\n",
    "#     agg_df = agg_df[agg_df.diagnostic == 1]\n",
    "\n",
    "#     # Apply diagnostic superclass\n",
    "#     #target label of the classification\n",
    "#     Y['diagnostic_superclass'] = Y.scp_codes.apply(aggregate_diagnostic)\n",
    "#     print(len(Y.diagnostic_superclass))\n",
    "#     #Y.reset_index()\n",
    "#     # 100 HZ dataset\n",
    "#     # if sampling_rate == 100:\n",
    "#     #     data = [wfdb.rdrecord(path+f).p_signal.T for f in Y.filename_lr]\n",
    "#     #     #print(data)\n",
    "#     # else:\n",
    "#     # 500 HZ array dataset\n",
    "#     for i in range(1,len(Y)+1):\n",
    "#       f = Y.filename_hr[i]\n",
    "#       # print(\"file name:\")\n",
    "#       # print(f)\n",
    "#       sex = Y.sex[i]\n",
    "#       # print(\"sex:\")\n",
    "#       # print(sex)\n",
    "#       age = Y.age[i]\n",
    "#       # print(\"age:\")\n",
    "#       # print(age)\n",
    "#       data =wfdb.rdrecord(path+f).p_signal.T\n",
    "#       # print(\"data:\"+str(i))\n",
    "#       # print(data)\n",
    "#       tf_path = os.path.join(tf_save_path,f+'.tfrecords')\n",
    "#       # print(\"tf_path:\")\n",
    "#       # print(tf_path)\n",
    "#       label = Y.diagnostic_superclass[i]\n",
    "#       # print(\"label:\")\n",
    "#       # print(label)\n",
    "#       save_tfrecords(data,label,sex,age,tf_path)\n",
    "#     #data = [wfdb.rdrecord(path+f).p_signal.T for f in Y.filename_hr]\n",
    "#     #data = np.array([signal for signal, meta in data])\n",
    "#     print('finish')\n",
    "#     return data, Y.diagnostic_superclass"
   ]
  },
  {
   "cell_type": "code",
   "execution_count": 26,
   "metadata": {
    "id": "nWlvtRLhsIeC"
   },
   "outputs": [],
   "source": [
    "#tensor flow function\n",
    "# def load_data(df,batch_size,i):\n",
    "#   #print(file_path)\n",
    "#   #df.reindex()\n",
    "#   end_index = (i+1)*batch_size\n",
    "#   if end_index > df.index[-1]:\n",
    "#     end_index = df.index[-1]\n",
    "#   start_index = i*batch_size\n",
    "#   #print('start:',start_index)\n",
    "#   #print('end:',end_index)\n",
    "#   path_list = df['new_filename'][start_index:end_index]\n",
    "#   #print(i)\n",
    "#   #age_tensor = tf.constant(df['age'][start_index: end_index],dtype=\"int8\")\n",
    "#   #sex_tensor =tf.constant(df['sex'][start_index: end_index],dtype=\"int8\")\n",
    "#   #label_one_hot = tf.one_hot(df['diagnostic_superclass'][start_index: end_index],5)\n",
    "#   #label_tensor = tf.constant(label_one_hot,dtype=\"float32\")\n",
    "#   #file = file_path.numpy().decode('UTF-8')\n",
    "#   #print(file)\n",
    "#   data_list = []\n",
    "#   path_list=path_list.reset_index()\n",
    "#   for j in range(len(path_list)):\n",
    "#     #print(j)\n",
    "#     #print(len(path_list))\n",
    "#     #print(path_list.index[j])\n",
    "#     #print(path_list[1])\n",
    "#     file_path = path_list.new_filename[j]\n",
    "    \n",
    "#     data = wfdb.rdrecord(file_path).p_signal.T.astype(\"float16\")\n",
    "#     if data is None:\n",
    "#         print(file_path,\"error!!\")\n",
    "#     data_list.append(data)\n",
    "#   data_array = np.array(data_list)\n",
    "#   #dataset = tf.data.Dataset.from_tensor_slices((data_array,age_tensor,sex_tensor,label_tensor))\n",
    "#   #set tensorflow feature\n",
    "#   label_tensor = tf.constant(train_df['diagnostic_superclass'][start_index: end_index],2)\n",
    "#   dataset = tf.data.Dataset.from_tensor_slices((data_array, label_tensor))\n",
    "#   return dataset\n",
    "\n",
    "def load_data(df,batch_size,i,name):\n",
    "  #print(file_path)\n",
    "  #df.reindex()\n",
    "  end_index = (i+1)*batch_size\n",
    "  if end_index > df.index[-1]:\n",
    "    end_index = df.index[-1]\n",
    "  start_index = i*batch_size\n",
    "  #print('start:',start_index)\n",
    "  #print('end:',end_index)\n",
    "  path_list = df['new_filename'][start_index:end_index]\n",
    "  #print(i)\n",
    "  #age_tensor = tf.constant(df['age'][start_index: end_index],dtype=\"int8\")\n",
    "  #sex_tensor =tf.constant(df['sex'][start_index: end_index],dtype=\"int8\")\n",
    "  labels_one_hot = tf.one_hot(df['diagnostic_superclass'][start_index: end_index],2)\n",
    "  data_list = []\n",
    "  path_list=path_list.reset_index()\n",
    "  for j in range(len(path_list)):\n",
    "    #print(j)\n",
    "    #print(len(path_list))\n",
    "    #print(path_list.index[j])\n",
    "    #print(path_list[1])\n",
    "    file_path = path_list.new_filename[j]\n",
    "    \n",
    "    data = denoise_tfrecord(wfdb.rdrecord(file_path).p_signal.astype(\"float16\"))\n",
    "    if data is None:\n",
    "        print(file_path,\"error!!\")\n",
    "    data_list.append(data)\n",
    "  data_array = np.array(data_list)\n",
    "  #dataset = tf.data.Dataset.from_tensor_slices((data_array,age_tensor,sex_tensor,label_one_hot))\n",
    "  #set tensorflow feature\n",
    "  #label_tensor = tf.constant(train_df['diagnostic_superclass'][start_index: end_index],2)\n",
    "  #dataset = tf.data.Dataset.from_tensor_slices((data_array, labels_one_hot))\n",
    "  tf_path = os.path.join(tf_save_path+name,'.tfrecords')\n",
    "  save_tfrecords(data_array, labels_one_hot, tf_path)\n",
    "\n",
    "# return dataset\n",
    "\n",
    "def one_hot_encode(signal,label):\n",
    "    if label == 0:\n",
    "      label = np.array([1.0,.0]).astype(\"float32\")\n",
    "    else:\n",
    "      label = np.array([.0,1.0]).astype(\"float32\")\n",
    "    return signal , label"
   ]
  },
  {
   "cell_type": "code",
   "execution_count": 107,
   "metadata": {},
   "outputs": [],
   "source": [
    "def load_data_all(df,name,label_num):\n",
    "  path_list = df['new_filename']\n",
    "  #print(i)\n",
    "  #age_tensor = tf.constant(df['age'][start_index: end_index],dtype=\"int8\")\n",
    "  #sex_tensor =tf.constant(df['sex'][start_index: end_index],dtype=\"int8\")\n",
    "  labels_one_hot = tf.one_hot(df['diagnostic_superclass'],label_num)\n",
    "  data_list = []\n",
    "  path_list=path_list.reset_index()\n",
    "  tf_path = os.path.join(tf_save_path,name+'.tfrecords')\n",
    "  for j in range(len(path_list)):\n",
    "    file_path = path_list.new_filename[j]\n",
    "    \n",
    "    data = wfdb.rdrecord(file_path).p_signal\n",
    "    data = denoise_tfrecord(data,file_path).astype(\"float32\")\n",
    "    #print(data.shape)\n",
    "    \n",
    "    if data is None:\n",
    "        print(file_path,\"error!!\")\n",
    "    #save_tfrecords(data, labels_one_hot[j], tf_path)\n",
    "    data_list.append(data)\n",
    "    \n",
    "  data_array = np.array(data_list)\n",
    "  save_tfrecords(data_array, labels_one_hot, tf_path)\n",
    "  #dataset = tf.data.Dataset.from_tensor_slices((data_array,age_tensor,sex_tensor,label_one_hot))\n",
    "  #set tensorflow feature\n",
    "  #label_tensor = tf.constant(train_df['diagnostic_superclass'][start_index: end_index],2)\n",
    "  #dataset = tf.data.Dataset.from_tensor_slices((data_array, labels_one_hot))"
   ]
  },
  {
   "cell_type": "code",
   "execution_count": 110,
   "metadata": {},
   "outputs": [
    {
     "name": "stderr",
     "output_type": "stream",
     "text": [
      "D:\\Anaconda\\lib\\site-packages\\pywt\\_thresholding.py:23: RuntimeWarning: invalid value encountered in true_divide\n",
      "  thresholded = (1 - value/magnitude)\n"
     ]
    }
   ],
   "source": [
    "load_data_all(train_df,\"train\",2)"
   ]
  },
  {
   "cell_type": "code",
   "execution_count": 60,
   "metadata": {},
   "outputs": [
    {
     "data": {
      "text/html": [
       "<div>\n",
       "<style scoped>\n",
       "    .dataframe tbody tr th:only-of-type {\n",
       "        vertical-align: middle;\n",
       "    }\n",
       "\n",
       "    .dataframe tbody tr th {\n",
       "        vertical-align: top;\n",
       "    }\n",
       "\n",
       "    .dataframe thead th {\n",
       "        text-align: right;\n",
       "    }\n",
       "</style>\n",
       "<table border=\"1\" class=\"dataframe\">\n",
       "  <thead>\n",
       "    <tr style=\"text-align: right;\">\n",
       "      <th></th>\n",
       "      <th>ecg_id</th>\n",
       "      <th>new_filename</th>\n",
       "      <th>diagnostic_superclass</th>\n",
       "      <th>age</th>\n",
       "      <th>sex</th>\n",
       "      <th>strat_fold</th>\n",
       "    </tr>\n",
       "  </thead>\n",
       "  <tbody>\n",
       "    <tr>\n",
       "      <th>0</th>\n",
       "      <td>16210</td>\n",
       "      <td>C:\\Users\\jerry\\Downloads\\WFDB\\HR16210</td>\n",
       "      <td>1</td>\n",
       "      <td>77.0</td>\n",
       "      <td>1</td>\n",
       "      <td>6</td>\n",
       "    </tr>\n",
       "    <tr>\n",
       "      <th>1</th>\n",
       "      <td>4590</td>\n",
       "      <td>C:\\Users\\jerry\\Downloads\\WFDB\\HR04590</td>\n",
       "      <td>1</td>\n",
       "      <td>71.0</td>\n",
       "      <td>1</td>\n",
       "      <td>4</td>\n",
       "    </tr>\n",
       "    <tr>\n",
       "      <th>2</th>\n",
       "      <td>11389</td>\n",
       "      <td>C:\\Users\\jerry\\Downloads\\WFDB\\HR11389</td>\n",
       "      <td>1</td>\n",
       "      <td>54.0</td>\n",
       "      <td>0</td>\n",
       "      <td>6</td>\n",
       "    </tr>\n",
       "    <tr>\n",
       "      <th>3</th>\n",
       "      <td>17884</td>\n",
       "      <td>C:\\Users\\jerry\\Downloads\\WFDB\\HR17884</td>\n",
       "      <td>1</td>\n",
       "      <td>33.0</td>\n",
       "      <td>1</td>\n",
       "      <td>2</td>\n",
       "    </tr>\n",
       "    <tr>\n",
       "      <th>4</th>\n",
       "      <td>5912</td>\n",
       "      <td>C:\\Users\\jerry\\Downloads\\WFDB\\HR05912</td>\n",
       "      <td>1</td>\n",
       "      <td>72.0</td>\n",
       "      <td>1</td>\n",
       "      <td>3</td>\n",
       "    </tr>\n",
       "  </tbody>\n",
       "</table>\n",
       "</div>"
      ],
      "text/plain": [
       "   ecg_id                           new_filename  diagnostic_superclass   age  \\\n",
       "0   16210  C:\\Users\\jerry\\Downloads\\WFDB\\HR16210                      1  77.0   \n",
       "1    4590  C:\\Users\\jerry\\Downloads\\WFDB\\HR04590                      1  71.0   \n",
       "2   11389  C:\\Users\\jerry\\Downloads\\WFDB\\HR11389                      1  54.0   \n",
       "3   17884  C:\\Users\\jerry\\Downloads\\WFDB\\HR17884                      1  33.0   \n",
       "4    5912  C:\\Users\\jerry\\Downloads\\WFDB\\HR05912                      1  72.0   \n",
       "\n",
       "   sex  strat_fold  \n",
       "0    1           6  \n",
       "1    1           4  \n",
       "2    0           6  \n",
       "3    1           2  \n",
       "4    1           3  "
      ]
     },
     "execution_count": 60,
     "metadata": {},
     "output_type": "execute_result"
    }
   ],
   "source": [
    "train_df.head()"
   ]
  },
  {
   "cell_type": "code",
   "execution_count": 25,
   "metadata": {},
   "outputs": [],
   "source": [
    "# def check_data(df,batch_size,i):\n",
    "#   #print(file_path)\n",
    "#   #df.reindex()\n",
    "#   print(i)\n",
    "#   end_index = (i+1)*batch_size\n",
    "#   if end_index > df.index[-1]:\n",
    "#     end_index = df.index[-1]\n",
    "#   start_index = i*batch_size\n",
    "#   #print('start:',start_index)\n",
    "#   #print('end:',end_index)\n",
    "#   path_list = df['new_filename'][start_index:end_index]\n",
    "\n",
    "#   labels_one_hot = tf.one_hot(df['diagnostic_superclass'][start_index: end_index],2)\n",
    "\n",
    "#   data_list = []\n",
    "#   name_list = []\n",
    "#   path_list=path_list.reset_index()\n",
    "#   for j in range(len(path_list)):\n",
    "#     file_path = path_list.new_filename[j]\n",
    "#     record = wfdb.rdrecord(file_path)\n",
    "#     data = record.p_signal.astype(\"float16\").T\n",
    "#     record_name = file_path.split(\"/\")[-1]\n",
    "#     #print(record_name)\n",
    "#     for i,signal_data in enumerate(data):\n",
    "#         check_data = denoise(signal_data,record_name,i)\n",
    "        \n",
    "        \n",
    "    \n",
    "#     #show(data,labels_one_hot[j].numpy())\n",
    "#     if data is None:\n",
    "#         print(file_path,\"error!!\")\n",
    "#     data_list.append(data)\n",
    "#     name_list.append(record_name)\n",
    "#   data_array = np.array(data_list)\n",
    "#   name_array = np.array(name_list)\n",
    "#   dataset = tf.data.Dataset.from_tensor_slices((data_array, labels_one_hot,name_array))\n",
    "#   return dataset"
   ]
  },
  {
   "cell_type": "code",
   "execution_count": 26,
   "metadata": {},
   "outputs": [],
   "source": [
    "# k = int(len(df_new)/2048)+1\n",
    "# for i in range(0,k):\n",
    "#     print(i)\n",
    "#     show_dataset_bactched(get_dataset(df_new,2048,i))"
   ]
  },
  {
   "cell_type": "markdown",
   "metadata": {
    "id": "4uTrT2rYvjyv"
   },
   "source": [
    "# data preprocessing "
   ]
  },
  {
   "cell_type": "code",
   "execution_count": 31,
   "metadata": {
    "id": "LtRXFr-qvnKl"
   },
   "outputs": [],
   "source": [
    "# def denoise(sig_data):\n",
    "#     # wavedec\n",
    "#     coeffs = pywt.wavedec(data=sig_data, wavelet='db8', level=9)\n",
    "#     cA9, cD9, cD8, cD7, cD6, cD5, cD4, cD3, cD2, cD1 = coeffs\n",
    "#     #print('here')\n",
    "#     # threshold\n",
    "#     threshold = (np.median(np.abs(cD1)) / 0.6745) * (np.sqrt(2 * np.log(len(cD1))))\n",
    "#     cD1.fill(0)\n",
    "#     cD2.fill(0)\n",
    "#     for i in range(1, len(coeffs) - 2):\n",
    "#        coeffs[i] = pywt.threshold(coeffs[i], threshold)\n",
    "\n",
    "#     rdata = pywt.waverec(coeffs=coeffs, wavelet='db8')\n",
    "#     #print(rdata)\n",
    "#     return rdata\n",
    "def denoise(sig_data,sig_num):\n",
    "    # wavedec\n",
    "#     print(record_name)\n",
    "        #print(\"denoise data:\",sig_data)\n",
    "        #print(sig_num)\n",
    "        sig_length = len(sig_data)\n",
    "        #print(\"pywt.waverec 1\")\n",
    "        coeffs = pywt.wavedec(data=sig_data, wavelet='db8', level=9)\n",
    "        cA9, cD9, cD8, cD7, cD6, cD5, cD4, cD3, cD2, cD1 = coeffs\n",
    "        #print('here')\n",
    "        # threshold\n",
    "        threshold = (np.median(np.abs(cD1)) / 0.6745) * (np.sqrt(2 * np.log(len(cD1))))\n",
    "        cD1.fill(0)\n",
    "        cD2.fill(0)\n",
    "        for i in range(1, len(coeffs) - 2):\n",
    "           coeffs[i] = pywt.threshold(coeffs[i], threshold)\n",
    "        #print(\"pywt.waverec 2\")\n",
    "        rdata = pywt.waverec(coeffs=coeffs, wavelet='db8')\n",
    "        #print(\"denoise data:\")\n",
    "        sig_array2 = rdata\n",
    "        zero_array = np.zeros(sig_length,)\n",
    "        if max(sig_array2) != 0:\n",
    "            #rdata = sig_array2[0:sig_length]\n",
    "            for i in range(len(sig_array2)):\n",
    "                #print(\"denoise loop\")\n",
    "                zero_array[i] = sig_array2[i]\n",
    "            \n",
    "            rdata = np.nan_to_num(zero_array)\n",
    "        else:\n",
    "            print(\"denoise zero error!\")\n",
    "            return sig_data\n",
    "        \n",
    "        #print(\"denoise return data:\",rdata)\n",
    "        return rdata\n",
    "\n",
    "# def denoise_for_tf_data(data,label):\n",
    "#   # Generating numpy array \n",
    "#   data_array = np.array(data).T\n",
    "#   #print(data_array)\n",
    "#   for i,sig_array  in enumerate(data_array):     \n",
    "#     #print(type(sig_array))\n",
    "#     # plt.figure()\n",
    "#     # plt.plot(sig_array[0:1024]) \n",
    "#     # plt.show()\n",
    "#     #print(type(sig_array))\n",
    "#     sig_length = len(sig_array)\n",
    "#     sig_array = denoise(sig_array)\n",
    "#     #print(sig_array)\n",
    "#     #plt.plot(sig_array[0:1024])\n",
    "#     #plt.show()\n",
    "#     data_array[i] = sig_array[0:sig_length].T\n",
    "#   #print(data_array.shape)\n",
    "#   data = tf.convert_to_tensor(data_array)\n",
    "#   #print(data.numpy())\n",
    "#   return data,label\n",
    "\n",
    "def denoise_for_tf_data(data,label):\n",
    "    try:\n",
    "     # Generating numpy array \n",
    "      data_array = np.array(data).T\n",
    "      #print(data_array)\n",
    "      for i, sig_array in enumerate(data_array):     \n",
    "        sig_length = len(sig_array)\n",
    "        sig_array2 = denoise(sig_array,i)\n",
    "        data_array[i] = sig_array2\n",
    "      data2 = tf.convert_to_tensor(data_array.T)\n",
    "#       if data_array.T.shape[0] != 5000 or data_array.T.shape[1] != 12:\n",
    "# #       if data_array    \n",
    "#           print(\"data_array shape:\",data_array.T.shape)\n",
    "#           print(\"data shape:\",data2.shape)\n",
    "      return data2,label        \n",
    "    except:\n",
    "      print('Denoise error!' )\n",
    "      #print(data.numpy())\n",
    "      return data,label"
   ]
  },
  {
   "cell_type": "code",
   "execution_count": 28,
   "metadata": {
    "id": "f6gQM2ugbsJy"
   },
   "outputs": [],
   "source": [
    "def get_dataset(df,batch_size, i):\n",
    "    dataset = load_data(df, batch_size,i)\n",
    "    ds_denoise = dataset.map(lambda x,y: \n",
    "                              tuple(tf.py_function(denoise_for_tf_data,[x,y],[tf.float16,tf.float32],)))\n",
    "    ds_batch = ds_denoise.batch(128)\n",
    "    return ds_batch"
   ]
  },
  {
   "cell_type": "code",
   "execution_count": 29,
   "metadata": {
    "id": "-Pq7TTNKeAq6"
   },
   "outputs": [],
   "source": [
    "def show(data, label):\n",
    "  for sig_data in data.T:\n",
    "    plt.figure()\n",
    "    plt.title(label)\n",
    "    plt.plot(sig_data)\n",
    "    plt.show()"
   ]
  },
  {
   "cell_type": "code",
   "execution_count": 30,
   "metadata": {},
   "outputs": [
    {
     "data": {
      "text/plain": [
       "<BatchDataset shapes: (<unknown>, <unknown>), types: (tf.float16, tf.float32)>"
      ]
     },
     "execution_count": 30,
     "metadata": {},
     "output_type": "execute_result"
    }
   ],
   "source": [
    "#get test tensor dataset\n",
    "test_dataset = get_dataset(test_df,len(test_df),0)\n",
    "#test_dataset = test_dataset.prefetch(tf.data.experimental.AUTOTUNE)\n",
    "#test_dataset = test_dataset.cache()\n",
    "#test_dataset = test_dataset.batch(32)\n",
    "test_dataset"
   ]
  },
  {
   "cell_type": "code",
   "execution_count": 31,
   "metadata": {
    "colab": {
     "base_uri": "https://localhost:8080/"
    },
    "id": "NzhEB94VePMS",
    "outputId": "7086401c-972b-4ce4-ae70-3de8fa2523df"
   },
   "outputs": [
    {
     "name": "stdout",
     "output_type": "stream",
     "text": [
      "batch_data: [[-0.085 -0.085  0.    ...  0.185  0.32   0.45 ]\n",
      " [-0.085 -0.085  0.    ...  0.185  0.32   0.45 ]\n",
      " [-0.085 -0.085  0.    ...  0.185  0.32   0.45 ]\n",
      " ...\n",
      " [-0.08  -0.2   -0.12  ... -0.235 -0.22  -0.155]\n",
      " [-0.08  -0.2   -0.12  ... -0.235 -0.22  -0.155]\n",
      " [-0.08  -0.2   -0.12  ... -0.235 -0.22  -0.155]] shape: (5000, 12) \n",
      " batcah_labels: [1. 0.] shape: (2,)\n",
      "batch_data: [[-0.085 -0.085  0.    ...  0.185  0.32   0.45 ]\n",
      " [-0.085 -0.085  0.    ...  0.185  0.32   0.45 ]\n",
      " [-0.085 -0.085  0.    ...  0.185  0.32   0.45 ]\n",
      " ...\n",
      " [-0.08  -0.2   -0.12  ... -0.235 -0.22  -0.155]\n",
      " [-0.08  -0.2   -0.12  ... -0.235 -0.22  -0.155]\n",
      " [-0.08  -0.2   -0.12  ... -0.235 -0.22  -0.155]] shape: (5000, 12) \n",
      " batcah_labels: [1. 0.] shape: (2,)\n"
     ]
    }
   ],
   "source": [
    "# test function\n",
    "ds_test0 = load_data(train_df,512, 1)\n",
    "def show_dataset(dataset):\n",
    "  iterator = iter(dataset)\n",
    "  raw_example = next(iterator)\n",
    "  parsed_data = raw_example[0].numpy()\n",
    "  label = raw_example[1].numpy()\n",
    "  print('batch_data:',parsed_data, 'shape:', parsed_data.shape, '\\n batcah_labels:',label, 'shape:', label.shape)\n",
    "  print('batch_data:',parsed_data, 'shape:', parsed_data.shape, '\\n batcah_labels:',label, 'shape:', label.shape)\n",
    "show_dataset(ds_test0)"
   ]
  },
  {
   "cell_type": "code",
   "execution_count": 32,
   "metadata": {},
   "outputs": [],
   "source": [
    "def show_dataset_bactched(dataset):\n",
    "  iterator = iter(dataset)\n",
    "  raw_example = next(iterator)\n",
    "  parsed_data = raw_example[0].numpy()\n",
    "  label = raw_example[1].numpy()\n",
    "  #print('batch_data:',parsed_data, 'shape:', parsed_data.shape, '\\n batcah_labels:',label, 'shape:', label.shape)\n",
    "#   for i in range(len(label)):\n",
    "#     show(parsed_data[0],label[0])  "
   ]
  },
  {
   "cell_type": "code",
   "execution_count": 32,
   "metadata": {},
   "outputs": [],
   "source": [
    "# show_dataset_bactched(test_dataset)"
   ]
  },
  {
   "cell_type": "markdown",
   "metadata": {
    "id": "C6bfETUsDVlf"
   },
   "source": [
    "# Modeling"
   ]
  },
  {
   "cell_type": "code",
   "execution_count": 33,
   "metadata": {
    "id": "zYa0uuLZH8BD"
   },
   "outputs": [],
   "source": [
    "# %tensorflow_version 2.x\n",
    "# import tensorflow as tf\n",
    "# print(\"Tensorflow version \" + tf.__version__)\n",
    "\n",
    "# try:\n",
    "#   tpu = tf.distribute.cluster_resolver.TPUClusterResolver()  # TPU detection\n",
    "#   print('Running on TPU ', tpu.cluster_spec().as_dict()['worker'])\n",
    "# except ValueError:\n",
    "#   raise BaseException('ERROR: Not connected to a TPU runtime; please see the previous cell in this notebook for instructions!')\n",
    "\n",
    "# tf.config.experimental_connect_to_cluster(tpu)\n",
    "# tf.tpu.experimental.initialize_tpu_system(tpu)\n",
    "# tpu_strategy = tf.distribute.experimental.TPUStrategy(tpu)"
   ]
  },
  {
   "cell_type": "code",
   "execution_count": 34,
   "metadata": {
    "id": "Syw2LfRZtxQN"
   },
   "outputs": [],
   "source": [
    "# #CNN modeling\n",
    "# def buildModel():\n",
    "\n",
    "#     newModel = tf.keras.models.Sequential([\n",
    "                                           \n",
    "#         tf.keras.layers.InputLayer(input_shape=(12,5000)),\n",
    "\n",
    "#         tf.keras.layers.Conv1D(filters=4, kernel_size=21, strides=1, padding='SAME', activation='relu'),\n",
    "       \n",
    "#         tf.keras.layers.AvgPool1D(pool_size=1, strides=4, padding='SAME'),\n",
    "        \n",
    "#         tf.keras.layers.Conv1D(filters=16, kernel_size=23, strides=1, padding='SAME', activation='relu'),\n",
    "        \n",
    "#         tf.keras.layers.AvgPool1D(pool_size=1, strides=4, padding='SAME'),\n",
    "       \n",
    "#         tf.keras.layers.Conv1D(filters=32, kernel_size=25, strides=1, padding='SAME', activation='elu'),\n",
    "       \n",
    "#         tf.keras.layers.AvgPool1D(pool_size=1, strides=8, padding='SAME'),\n",
    "       \n",
    "#         tf.keras.layers.Conv1D(filters=64, kernel_size=27, strides=1, padding='SAME', activation='relu'),\n",
    "       \n",
    "#         tf.keras.layers.Flatten(),\n",
    "       \n",
    "#         tf.keras.layers.Dense(128, activation='relu'),\n",
    "       \n",
    "#         tf.keras.layers.Dropout(rate=0.2),\n",
    "       \n",
    "#         tf.keras.layers.Dense(2, activation='sigmoid')\n",
    "#     ])\n",
    "\n",
    "#     # newModel.compile(optimizer = 'adam' , \n",
    "#     #               loss = \"categorical_crossentropy\", metrics=[\"accuracy\"])\n",
    "\n",
    "#     return newModel"
   ]
  },
  {
   "cell_type": "code",
   "execution_count": 35,
   "metadata": {
    "colab": {
     "base_uri": "https://localhost:8080/"
    },
    "id": "nQWFhnIK8ga1",
    "outputId": "552c9f74-80e9-4767-8793-246f688274a6"
   },
   "outputs": [],
   "source": [
    "# # with tpu_strategy.scope():\n",
    "# model_test = buildModel()\n",
    "# model_test.summary()"
   ]
  },
  {
   "cell_type": "markdown",
   "metadata": {},
   "source": [
    "# Initial optimizer and learning rate"
   ]
  },
  {
   "cell_type": "code",
   "execution_count": 5,
   "metadata": {},
   "outputs": [],
   "source": [
    "initial_learning_rate = 0.1\n",
    "lr_schedule = tf.keras.optimizers.schedules.ExponentialDecay(\n",
    "    initial_learning_rate, decay_steps=100000, decay_rate=0.96, staircase=True) \n",
    "optimizer_RMS_schedule = tf.keras.optimizers.RMSprop(learning_rate=lr_schedule)\n",
    "optimizer_adam = tf.keras.optimizers.Adam(learning_rate=0.00001, beta_1=0.9, beta_2=0.999, epsilon=1e-07, amsgrad=False, name='Adam')\n",
    "optimizer_adam_schedule = tf.keras.optimizers.Adam(learning_rate = lr_schedule)\n",
    "callback = tf.keras.callbacks.EarlyStopping(monitor=\"val_loss\",patience = 2)"
   ]
  },
  {
   "cell_type": "markdown",
   "metadata": {},
   "source": [
    "# ANN Modeling"
   ]
  },
  {
   "cell_type": "code",
   "execution_count": 6,
   "metadata": {},
   "outputs": [],
   "source": [
    "#ANN modeling\n",
    "ann_model = tf.keras.models.Sequential()\n",
    "ann_model.add(tf.keras.Input(shape=(5000,12)))\n",
    "ann_model.add(tf.keras.layers.BatchNormalization())\n",
    "ann_model.add(tf.keras.layers.Dense(50,activation = 'relu'))\n",
    "ann_model.add(tf.keras.layers.Dense(50,activation = 'relu'))\n",
    "#ann_model.add(tf.keras.layers.BatchNormalization())\n",
    "ann_model.add(tf.keras.layers.Dense(50,activation = 'relu'))\n",
    "ann_model.add(tf.keras.layers.Dropout(0.3))\n",
    "#ann_model.add(tf.keras.layers.BatchNormalization())\n",
    "ann_model.add(tf.keras.layers.Dense(25,activation = 'relu'))\n",
    "ann_model.add(tf.keras.layers.Dropout(0.3))\n",
    "#ann_model.add(tf.keras.layers.BatchNormalization())\n",
    "ann_model.add(tf.keras.layers.GlobalAveragePooling1D())\n",
    "ann_model.add(tf.keras.layers.Dense(12,activation = 'relu'))\n",
    "ann_model.add(tf.keras.layers.Dropout(0.3))\n",
    "ann_model.add(tf.keras.layers.Dense(2,activation = 'sigmoid'))"
   ]
  },
  {
   "cell_type": "code",
   "execution_count": 7,
   "metadata": {},
   "outputs": [
    {
     "name": "stdout",
     "output_type": "stream",
     "text": [
      "Model: \"sequential\"\n",
      "_________________________________________________________________\n",
      "Layer (type)                 Output Shape              Param #   \n",
      "=================================================================\n",
      "batch_normalization (BatchNo (None, 5000, 12)          48        \n",
      "_________________________________________________________________\n",
      "dense (Dense)                (None, 5000, 50)          650       \n",
      "_________________________________________________________________\n",
      "dense_1 (Dense)              (None, 5000, 50)          2550      \n",
      "_________________________________________________________________\n",
      "dense_2 (Dense)              (None, 5000, 50)          2550      \n",
      "_________________________________________________________________\n",
      "dropout (Dropout)            (None, 5000, 50)          0         \n",
      "_________________________________________________________________\n",
      "dense_3 (Dense)              (None, 5000, 25)          1275      \n",
      "_________________________________________________________________\n",
      "dropout_1 (Dropout)          (None, 5000, 25)          0         \n",
      "_________________________________________________________________\n",
      "global_average_pooling1d (Gl (None, 25)                0         \n",
      "_________________________________________________________________\n",
      "dense_4 (Dense)              (None, 12)                312       \n",
      "_________________________________________________________________\n",
      "dropout_2 (Dropout)          (None, 12)                0         \n",
      "_________________________________________________________________\n",
      "dense_5 (Dense)              (None, 2)                 26        \n",
      "=================================================================\n",
      "Total params: 7,411\n",
      "Trainable params: 7,387\n",
      "Non-trainable params: 24\n",
      "_________________________________________________________________\n"
     ]
    }
   ],
   "source": [
    "ann_model.summary()"
   ]
  },
  {
   "cell_type": "code",
   "execution_count": 8,
   "metadata": {},
   "outputs": [],
   "source": [
    "ann_model.compile(optimizer = 'adam', \n",
    "                  loss = tf.keras.losses.BinaryCrossentropy(), metrics=[tf.keras.metrics.BinaryAccuracy(name='accuracy', dtype=None, threshold=0.5),tf.keras.metrics.Recall(name='Recall'),tf.keras.metrics.Precision(name='Precision'), \n",
    "                    tf.keras.metrics.AUC(\n",
    "        num_thresholds=200,\n",
    "        curve=\"ROC\",\n",
    "        summation_method=\"interpolation\",\n",
    "        name=\"AUC\",\n",
    "        dtype=None,\n",
    "        thresholds=None,\n",
    "        multi_label=True,\n",
    "        label_weights=None,)])"
   ]
  },
  {
   "cell_type": "code",
   "execution_count": 9,
   "metadata": {},
   "outputs": [],
   "source": [
    "def train_model(train_dataset,val_dataset,model,epochs,batch_size):\n",
    "    s1 = datetime.datetime.now()\n",
    "    train_prefetch = train_dataset.batch(batch_size).prefetch(tf.data.experimental.AUTOTUNE)\n",
    "    train_cache = train_prefetch.cache()\n",
    "    val_dataset = val_dataset.batch(batch_size).cache()\n",
    "    model.fit(train_cache,epochs=epochs,validation_data = val_dataset,callbacks=[callback])#add validation dataset\n",
    "    s2 = datetime.datetime.now()\n",
    "    print(s2-s1)\n",
    "    return model"
   ]
  },
  {
   "cell_type": "code",
   "execution_count": 10,
   "metadata": {},
   "outputs": [
    {
     "name": "stdout",
     "output_type": "stream",
     "text": [
      "Epoch 1/10\n",
      "20/20 [==============================] - 497s 24s/step - loss: 0.7147 - accuracy: 0.5057 - Recall: 0.0981 - Precision: 0.5987 - AUC: 0.1663 - val_loss: 0.6899 - val_accuracy: 0.5711 - val_Recall: 0.5711 - val_Precision: 0.5711 - val_AUC: 0.5359\n",
      "Epoch 2/10\n",
      " 3/20 [===>..........................] - ETA: 6:04 - loss: 0.6555 - accuracy: 0.7767 - Recall: 0.5535 - Precision: 1.0000 - AUC: 0.0000e+00"
     ]
    },
    {
     "ename": "KeyboardInterrupt",
     "evalue": "",
     "output_type": "error",
     "traceback": [
      "\u001b[1;31m---------------------------------------------------------------------------\u001b[0m",
      "\u001b[1;31mKeyboardInterrupt\u001b[0m                         Traceback (most recent call last)",
      "\u001b[1;32m<ipython-input-10-f8ed524923f8>\u001b[0m in \u001b[0;36m<module>\u001b[1;34m\u001b[0m\n\u001b[1;32m----> 1\u001b[1;33m \u001b[0mmodel_annabell\u001b[0m \u001b[1;33m=\u001b[0m \u001b[0mtrain_model\u001b[0m\u001b[1;33m(\u001b[0m\u001b[0mtrain_dataset\u001b[0m\u001b[1;33m,\u001b[0m\u001b[0mval_dataset\u001b[0m\u001b[1;33m,\u001b[0m\u001b[0mann_model\u001b[0m\u001b[1;33m,\u001b[0m\u001b[1;36m10\u001b[0m\u001b[1;33m,\u001b[0m\u001b[1;36m1024\u001b[0m\u001b[1;33m)\u001b[0m\u001b[1;33m\u001b[0m\u001b[1;33m\u001b[0m\u001b[0m\n\u001b[0m",
      "\u001b[1;32m<ipython-input-9-d6ecb4a1ec79>\u001b[0m in \u001b[0;36mtrain_model\u001b[1;34m(train_dataset, val_dataset, model, epochs, batch_size)\u001b[0m\n\u001b[0;32m      4\u001b[0m     \u001b[0mtrain_cache\u001b[0m \u001b[1;33m=\u001b[0m \u001b[0mtrain_prefetch\u001b[0m\u001b[1;33m.\u001b[0m\u001b[0mcache\u001b[0m\u001b[1;33m(\u001b[0m\u001b[1;33m)\u001b[0m\u001b[1;33m\u001b[0m\u001b[1;33m\u001b[0m\u001b[0m\n\u001b[0;32m      5\u001b[0m     \u001b[0mval_dataset\u001b[0m \u001b[1;33m=\u001b[0m \u001b[0mval_dataset\u001b[0m\u001b[1;33m.\u001b[0m\u001b[0mbatch\u001b[0m\u001b[1;33m(\u001b[0m\u001b[0mbatch_size\u001b[0m\u001b[1;33m)\u001b[0m\u001b[1;33m.\u001b[0m\u001b[0mcache\u001b[0m\u001b[1;33m(\u001b[0m\u001b[1;33m)\u001b[0m\u001b[1;33m\u001b[0m\u001b[1;33m\u001b[0m\u001b[0m\n\u001b[1;32m----> 6\u001b[1;33m     \u001b[0mmodel\u001b[0m\u001b[1;33m.\u001b[0m\u001b[0mfit\u001b[0m\u001b[1;33m(\u001b[0m\u001b[0mtrain_cache\u001b[0m\u001b[1;33m,\u001b[0m\u001b[0mepochs\u001b[0m\u001b[1;33m=\u001b[0m\u001b[0mepochs\u001b[0m\u001b[1;33m,\u001b[0m\u001b[0mvalidation_data\u001b[0m \u001b[1;33m=\u001b[0m \u001b[0mval_dataset\u001b[0m\u001b[1;33m,\u001b[0m\u001b[0mcallbacks\u001b[0m\u001b[1;33m=\u001b[0m\u001b[1;33m[\u001b[0m\u001b[0mcallback\u001b[0m\u001b[1;33m]\u001b[0m\u001b[1;33m)\u001b[0m\u001b[1;31m#add validation dataset\u001b[0m\u001b[1;33m\u001b[0m\u001b[1;33m\u001b[0m\u001b[0m\n\u001b[0m\u001b[0;32m      7\u001b[0m     \u001b[0ms2\u001b[0m \u001b[1;33m=\u001b[0m \u001b[0mdatetime\u001b[0m\u001b[1;33m.\u001b[0m\u001b[0mdatetime\u001b[0m\u001b[1;33m.\u001b[0m\u001b[0mnow\u001b[0m\u001b[1;33m(\u001b[0m\u001b[1;33m)\u001b[0m\u001b[1;33m\u001b[0m\u001b[1;33m\u001b[0m\u001b[0m\n\u001b[0;32m      8\u001b[0m     \u001b[0mprint\u001b[0m\u001b[1;33m(\u001b[0m\u001b[0ms2\u001b[0m\u001b[1;33m-\u001b[0m\u001b[0ms1\u001b[0m\u001b[1;33m)\u001b[0m\u001b[1;33m\u001b[0m\u001b[1;33m\u001b[0m\u001b[0m\n",
      "\u001b[1;32mD:\\Anaconda\\lib\\site-packages\\tensorflow\\python\\keras\\engine\\training.py\u001b[0m in \u001b[0;36mfit\u001b[1;34m(self, x, y, batch_size, epochs, verbose, callbacks, validation_split, validation_data, shuffle, class_weight, sample_weight, initial_epoch, steps_per_epoch, validation_steps, validation_batch_size, validation_freq, max_queue_size, workers, use_multiprocessing)\u001b[0m\n\u001b[0;32m   1098\u001b[0m                 _r=1):\n\u001b[0;32m   1099\u001b[0m               \u001b[0mcallbacks\u001b[0m\u001b[1;33m.\u001b[0m\u001b[0mon_train_batch_begin\u001b[0m\u001b[1;33m(\u001b[0m\u001b[0mstep\u001b[0m\u001b[1;33m)\u001b[0m\u001b[1;33m\u001b[0m\u001b[1;33m\u001b[0m\u001b[0m\n\u001b[1;32m-> 1100\u001b[1;33m               \u001b[0mtmp_logs\u001b[0m \u001b[1;33m=\u001b[0m \u001b[0mself\u001b[0m\u001b[1;33m.\u001b[0m\u001b[0mtrain_function\u001b[0m\u001b[1;33m(\u001b[0m\u001b[0miterator\u001b[0m\u001b[1;33m)\u001b[0m\u001b[1;33m\u001b[0m\u001b[1;33m\u001b[0m\u001b[0m\n\u001b[0m\u001b[0;32m   1101\u001b[0m               \u001b[1;32mif\u001b[0m \u001b[0mdata_handler\u001b[0m\u001b[1;33m.\u001b[0m\u001b[0mshould_sync\u001b[0m\u001b[1;33m:\u001b[0m\u001b[1;33m\u001b[0m\u001b[1;33m\u001b[0m\u001b[0m\n\u001b[0;32m   1102\u001b[0m                 \u001b[0mcontext\u001b[0m\u001b[1;33m.\u001b[0m\u001b[0masync_wait\u001b[0m\u001b[1;33m(\u001b[0m\u001b[1;33m)\u001b[0m\u001b[1;33m\u001b[0m\u001b[1;33m\u001b[0m\u001b[0m\n",
      "\u001b[1;32mD:\\Anaconda\\lib\\site-packages\\tensorflow\\python\\eager\\def_function.py\u001b[0m in \u001b[0;36m__call__\u001b[1;34m(self, *args, **kwds)\u001b[0m\n\u001b[0;32m    826\u001b[0m     \u001b[0mtracing_count\u001b[0m \u001b[1;33m=\u001b[0m \u001b[0mself\u001b[0m\u001b[1;33m.\u001b[0m\u001b[0mexperimental_get_tracing_count\u001b[0m\u001b[1;33m(\u001b[0m\u001b[1;33m)\u001b[0m\u001b[1;33m\u001b[0m\u001b[1;33m\u001b[0m\u001b[0m\n\u001b[0;32m    827\u001b[0m     \u001b[1;32mwith\u001b[0m \u001b[0mtrace\u001b[0m\u001b[1;33m.\u001b[0m\u001b[0mTrace\u001b[0m\u001b[1;33m(\u001b[0m\u001b[0mself\u001b[0m\u001b[1;33m.\u001b[0m\u001b[0m_name\u001b[0m\u001b[1;33m)\u001b[0m \u001b[1;32mas\u001b[0m \u001b[0mtm\u001b[0m\u001b[1;33m:\u001b[0m\u001b[1;33m\u001b[0m\u001b[1;33m\u001b[0m\u001b[0m\n\u001b[1;32m--> 828\u001b[1;33m       \u001b[0mresult\u001b[0m \u001b[1;33m=\u001b[0m \u001b[0mself\u001b[0m\u001b[1;33m.\u001b[0m\u001b[0m_call\u001b[0m\u001b[1;33m(\u001b[0m\u001b[1;33m*\u001b[0m\u001b[0margs\u001b[0m\u001b[1;33m,\u001b[0m \u001b[1;33m**\u001b[0m\u001b[0mkwds\u001b[0m\u001b[1;33m)\u001b[0m\u001b[1;33m\u001b[0m\u001b[1;33m\u001b[0m\u001b[0m\n\u001b[0m\u001b[0;32m    829\u001b[0m       \u001b[0mcompiler\u001b[0m \u001b[1;33m=\u001b[0m \u001b[1;34m\"xla\"\u001b[0m \u001b[1;32mif\u001b[0m \u001b[0mself\u001b[0m\u001b[1;33m.\u001b[0m\u001b[0m_experimental_compile\u001b[0m \u001b[1;32melse\u001b[0m \u001b[1;34m\"nonXla\"\u001b[0m\u001b[1;33m\u001b[0m\u001b[1;33m\u001b[0m\u001b[0m\n\u001b[0;32m    830\u001b[0m       \u001b[0mnew_tracing_count\u001b[0m \u001b[1;33m=\u001b[0m \u001b[0mself\u001b[0m\u001b[1;33m.\u001b[0m\u001b[0mexperimental_get_tracing_count\u001b[0m\u001b[1;33m(\u001b[0m\u001b[1;33m)\u001b[0m\u001b[1;33m\u001b[0m\u001b[1;33m\u001b[0m\u001b[0m\n",
      "\u001b[1;32mD:\\Anaconda\\lib\\site-packages\\tensorflow\\python\\eager\\def_function.py\u001b[0m in \u001b[0;36m_call\u001b[1;34m(self, *args, **kwds)\u001b[0m\n\u001b[0;32m    853\u001b[0m       \u001b[1;31m# In this case we have created variables on the first call, so we run the\u001b[0m\u001b[1;33m\u001b[0m\u001b[1;33m\u001b[0m\u001b[1;33m\u001b[0m\u001b[0m\n\u001b[0;32m    854\u001b[0m       \u001b[1;31m# defunned version which is guaranteed to never create variables.\u001b[0m\u001b[1;33m\u001b[0m\u001b[1;33m\u001b[0m\u001b[1;33m\u001b[0m\u001b[0m\n\u001b[1;32m--> 855\u001b[1;33m       \u001b[1;32mreturn\u001b[0m \u001b[0mself\u001b[0m\u001b[1;33m.\u001b[0m\u001b[0m_stateless_fn\u001b[0m\u001b[1;33m(\u001b[0m\u001b[1;33m*\u001b[0m\u001b[0margs\u001b[0m\u001b[1;33m,\u001b[0m \u001b[1;33m**\u001b[0m\u001b[0mkwds\u001b[0m\u001b[1;33m)\u001b[0m  \u001b[1;31m# pylint: disable=not-callable\u001b[0m\u001b[1;33m\u001b[0m\u001b[1;33m\u001b[0m\u001b[0m\n\u001b[0m\u001b[0;32m    856\u001b[0m     \u001b[1;32melif\u001b[0m \u001b[0mself\u001b[0m\u001b[1;33m.\u001b[0m\u001b[0m_stateful_fn\u001b[0m \u001b[1;32mis\u001b[0m \u001b[1;32mnot\u001b[0m \u001b[1;32mNone\u001b[0m\u001b[1;33m:\u001b[0m\u001b[1;33m\u001b[0m\u001b[1;33m\u001b[0m\u001b[0m\n\u001b[0;32m    857\u001b[0m       \u001b[1;31m# Release the lock early so that multiple threads can perform the call\u001b[0m\u001b[1;33m\u001b[0m\u001b[1;33m\u001b[0m\u001b[1;33m\u001b[0m\u001b[0m\n",
      "\u001b[1;32mD:\\Anaconda\\lib\\site-packages\\tensorflow\\python\\eager\\function.py\u001b[0m in \u001b[0;36m__call__\u001b[1;34m(self, *args, **kwargs)\u001b[0m\n\u001b[0;32m   2940\u001b[0m       (graph_function,\n\u001b[0;32m   2941\u001b[0m        filtered_flat_args) = self._maybe_define_function(args, kwargs)\n\u001b[1;32m-> 2942\u001b[1;33m     return graph_function._call_flat(\n\u001b[0m\u001b[0;32m   2943\u001b[0m         filtered_flat_args, captured_inputs=graph_function.captured_inputs)  # pylint: disable=protected-access\n\u001b[0;32m   2944\u001b[0m \u001b[1;33m\u001b[0m\u001b[0m\n",
      "\u001b[1;32mD:\\Anaconda\\lib\\site-packages\\tensorflow\\python\\eager\\function.py\u001b[0m in \u001b[0;36m_call_flat\u001b[1;34m(self, args, captured_inputs, cancellation_manager)\u001b[0m\n\u001b[0;32m   1916\u001b[0m         and executing_eagerly):\n\u001b[0;32m   1917\u001b[0m       \u001b[1;31m# No tape is watching; skip to running the function.\u001b[0m\u001b[1;33m\u001b[0m\u001b[1;33m\u001b[0m\u001b[1;33m\u001b[0m\u001b[0m\n\u001b[1;32m-> 1918\u001b[1;33m       return self._build_call_outputs(self._inference_function.call(\n\u001b[0m\u001b[0;32m   1919\u001b[0m           ctx, args, cancellation_manager=cancellation_manager))\n\u001b[0;32m   1920\u001b[0m     forward_backward = self._select_forward_and_backward_functions(\n",
      "\u001b[1;32mD:\\Anaconda\\lib\\site-packages\\tensorflow\\python\\eager\\function.py\u001b[0m in \u001b[0;36mcall\u001b[1;34m(self, ctx, args, cancellation_manager)\u001b[0m\n\u001b[0;32m    553\u001b[0m       \u001b[1;32mwith\u001b[0m \u001b[0m_InterpolateFunctionError\u001b[0m\u001b[1;33m(\u001b[0m\u001b[0mself\u001b[0m\u001b[1;33m)\u001b[0m\u001b[1;33m:\u001b[0m\u001b[1;33m\u001b[0m\u001b[1;33m\u001b[0m\u001b[0m\n\u001b[0;32m    554\u001b[0m         \u001b[1;32mif\u001b[0m \u001b[0mcancellation_manager\u001b[0m \u001b[1;32mis\u001b[0m \u001b[1;32mNone\u001b[0m\u001b[1;33m:\u001b[0m\u001b[1;33m\u001b[0m\u001b[1;33m\u001b[0m\u001b[0m\n\u001b[1;32m--> 555\u001b[1;33m           outputs = execute.execute(\n\u001b[0m\u001b[0;32m    556\u001b[0m               \u001b[0mstr\u001b[0m\u001b[1;33m(\u001b[0m\u001b[0mself\u001b[0m\u001b[1;33m.\u001b[0m\u001b[0msignature\u001b[0m\u001b[1;33m.\u001b[0m\u001b[0mname\u001b[0m\u001b[1;33m)\u001b[0m\u001b[1;33m,\u001b[0m\u001b[1;33m\u001b[0m\u001b[1;33m\u001b[0m\u001b[0m\n\u001b[0;32m    557\u001b[0m               \u001b[0mnum_outputs\u001b[0m\u001b[1;33m=\u001b[0m\u001b[0mself\u001b[0m\u001b[1;33m.\u001b[0m\u001b[0m_num_outputs\u001b[0m\u001b[1;33m,\u001b[0m\u001b[1;33m\u001b[0m\u001b[1;33m\u001b[0m\u001b[0m\n",
      "\u001b[1;32mD:\\Anaconda\\lib\\site-packages\\tensorflow\\python\\eager\\execute.py\u001b[0m in \u001b[0;36mquick_execute\u001b[1;34m(op_name, num_outputs, inputs, attrs, ctx, name)\u001b[0m\n\u001b[0;32m     57\u001b[0m   \u001b[1;32mtry\u001b[0m\u001b[1;33m:\u001b[0m\u001b[1;33m\u001b[0m\u001b[1;33m\u001b[0m\u001b[0m\n\u001b[0;32m     58\u001b[0m     \u001b[0mctx\u001b[0m\u001b[1;33m.\u001b[0m\u001b[0mensure_initialized\u001b[0m\u001b[1;33m(\u001b[0m\u001b[1;33m)\u001b[0m\u001b[1;33m\u001b[0m\u001b[1;33m\u001b[0m\u001b[0m\n\u001b[1;32m---> 59\u001b[1;33m     tensors = pywrap_tfe.TFE_Py_Execute(ctx._handle, device_name, op_name,\n\u001b[0m\u001b[0;32m     60\u001b[0m                                         inputs, attrs, num_outputs)\n\u001b[0;32m     61\u001b[0m   \u001b[1;32mexcept\u001b[0m \u001b[0mcore\u001b[0m\u001b[1;33m.\u001b[0m\u001b[0m_NotOkStatusException\u001b[0m \u001b[1;32mas\u001b[0m \u001b[0me\u001b[0m\u001b[1;33m:\u001b[0m\u001b[1;33m\u001b[0m\u001b[1;33m\u001b[0m\u001b[0m\n",
      "\u001b[1;31mKeyboardInterrupt\u001b[0m: "
     ]
    }
   ],
   "source": [
    "model_annabell = train_model(train_dataset,val_dataset,ann_model,10,512)"
   ]
  },
  {
   "cell_type": "code",
   "execution_count": null,
   "metadata": {},
   "outputs": [],
   "source": []
  },
  {
   "cell_type": "code",
   "execution_count": 132,
   "metadata": {},
   "outputs": [],
   "source": [
    "def train_model_ann(train_df,batch_size , epochs):\n",
    "    s1 = datetime.datetime.now()\n",
    "    #for i in range(int(len(train_df)/batch_size)+1):\n",
    "    for i in range(int(len(train_df)/batch_size)):\n",
    "        print('batch:', i)  \n",
    "        ds_batch = get_dataset(train_df,batch_size,i)\n",
    "        train_prefetch = ds_batch.prefetch(tf.data.experimental.AUTOTUNE)\n",
    "        train_cache = train_prefetch.cache()\n",
    "        val_data = get_dataset(val_df,len(val_df),i)\n",
    "        ann_model.fit(train_cache,epochs=epochs,validation_data = val_data,callbacks=[callback])#add validation dataset\n",
    "    s2 = datetime.datetime.now()\n",
    "    print(s2-s1)\n",
    "    return ann_model\n",
    "\n",
    "# import datetime\n",
    "# def train_model_ann(train_df,batch_size , epochs, sig_num, model):\n",
    "#     model.compile(optimizer = \"adam\", \n",
    "#                   loss = tf.keras.losses.BinaryCrossentropy(), metrics=[tf.keras.metrics.BinaryAccuracy()])\n",
    "#     s1 = datetime.datetime.now()\n",
    "#     for e in range(epochs):\n",
    "#         print('round:', e) \n",
    "#         for i in range(int(len(train_df)/batch_size)+1):            \n",
    "#             ds_batch = get_dataset(train_df,batch_size,i,sig_num)\n",
    "#             train_prefetch = ds_batch.prefetch(tf.data.experimental.AUTOTUNE)\n",
    "#             train_cache = train_prefetch.cache()\n",
    "#     #     val_data = get_dataset(val_df,int(batch_size*0.2),i)\n",
    "#             ann_model.fit(train_cache)#,callbacks = [cp_callback])#validation_data = val_df,\n",
    "#     s2 = datetime.datetime.now()\n",
    "#     print(s2-s1)\n",
    "#     return ann_model"
   ]
  },
  {
   "cell_type": "code",
   "execution_count": 133,
   "metadata": {},
   "outputs": [
    {
     "name": "stdout",
     "output_type": "stream",
     "text": [
      "batch: 0\n",
      "Epoch 1/50\n",
      "148/148 [==============================] - 610s 4s/step - loss: 0.6440 - accuracy: 0.6302 - Recall: 0.6317 - Precision: 0.6297 - AUC: 0.6997 - val_loss: 0.5949 - val_accuracy: 0.6450 - val_Recall: 0.6385 - val_Precision: 0.6469 - val_AUC: 0.8267\n",
      "Epoch 2/50\n",
      "148/148 [==============================] - 205s 1s/step - loss: 0.5202 - accuracy: 0.7630 - Recall: 0.7707 - Precision: 0.7591 - AUC: 0.8228 - val_loss: 0.5108 - val_accuracy: 0.7457 - val_Recall: 0.7457 - val_Precision: 0.7457 - val_AUC: 0.8558\n",
      "Epoch 3/50\n",
      "148/148 [==============================] - 200s 1s/step - loss: 0.4820 - accuracy: 0.7880 - Recall: 0.7953 - Precision: 0.7839 - AUC: 0.8512 - val_loss: 0.4607 - val_accuracy: 0.7922 - val_Recall: 0.8023 - val_Precision: 0.7864 - val_AUC: 0.8690\n",
      "Epoch 4/50\n",
      "148/148 [==============================] - 201s 1s/step - loss: 0.4591 - accuracy: 0.7997 - Recall: 0.8071 - Precision: 0.7953 - AUC: 0.8649 - val_loss: 0.4448 - val_accuracy: 0.7842 - val_Recall: 0.7880 - val_Precision: 0.7821 - val_AUC: 0.8762\n",
      "Epoch 5/50\n",
      "148/148 [==============================] - 201s 1s/step - loss: 0.4418 - accuracy: 0.8073 - Recall: 0.8117 - Precision: 0.8046 - AUC: 0.8753 - val_loss: 0.4269 - val_accuracy: 0.7979 - val_Recall: 0.8085 - val_Precision: 0.7916 - val_AUC: 0.8840\n",
      "Epoch 6/50\n",
      "148/148 [==============================] - 202s 1s/step - loss: 0.4312 - accuracy: 0.8122 - Recall: 0.8160 - Precision: 0.8099 - AUC: 0.8799 - val_loss: 0.4211 - val_accuracy: 0.8037 - val_Recall: 0.8119 - val_Precision: 0.7988 - val_AUC: 0.8871\n",
      "Epoch 7/50\n",
      "148/148 [==============================] - 203s 1s/step - loss: 0.4180 - accuracy: 0.8216 - Recall: 0.8254 - Precision: 0.8192 - AUC: 0.8879 - val_loss: 0.4219 - val_accuracy: 0.8021 - val_Recall: 0.8035 - val_Precision: 0.8012 - val_AUC: 0.8897\n",
      "Epoch 8/50\n",
      "148/148 [==============================] - 202s 1s/step - loss: 0.4139 - accuracy: 0.8217 - Recall: 0.8235 - Precision: 0.8205 - AUC: 0.8898 - val_loss: 0.4141 - val_accuracy: 0.8067 - val_Recall: 0.8111 - val_Precision: 0.8040 - val_AUC: 0.8932\n",
      "Epoch 9/50\n",
      "148/148 [==============================] - 204s 1s/step - loss: 0.4063 - accuracy: 0.8270 - Recall: 0.8306 - Precision: 0.8247 - AUC: 0.8941 - val_loss: 0.4055 - val_accuracy: 0.8083 - val_Recall: 0.8098 - val_Precision: 0.8074 - val_AUC: 0.8943\n",
      "Epoch 10/50\n",
      "148/148 [==============================] - 202s 1s/step - loss: 0.4043 - accuracy: 0.8291 - Recall: 0.8305 - Precision: 0.8282 - AUC: 0.8946 - val_loss: 0.4065 - val_accuracy: 0.8088 - val_Recall: 0.8102 - val_Precision: 0.8079 - val_AUC: 0.8967\n",
      "Epoch 11/50\n",
      "148/148 [==============================] - 204s 1s/step - loss: 0.3981 - accuracy: 0.8305 - Recall: 0.8311 - Precision: 0.8301 - AUC: 0.8979 - val_loss: 0.4039 - val_accuracy: 0.8094 - val_Recall: 0.8111 - val_Precision: 0.8084 - val_AUC: 0.8983\n",
      "Epoch 12/50\n",
      "148/148 [==============================] - 205s 1s/step - loss: 0.3925 - accuracy: 0.8326 - Recall: 0.8344 - Precision: 0.8314 - AUC: 0.9012 - val_loss: 0.4019 - val_accuracy: 0.8134 - val_Recall: 0.8140 - val_Precision: 0.8130 - val_AUC: 0.8991\n",
      "Epoch 13/50\n",
      "148/148 [==============================] - 204s 1s/step - loss: 0.3919 - accuracy: 0.8313 - Recall: 0.8327 - Precision: 0.8304 - AUC: 0.9007 - val_loss: 0.4026 - val_accuracy: 0.8106 - val_Recall: 0.8148 - val_Precision: 0.8081 - val_AUC: 0.9000\n",
      "Epoch 14/50\n",
      "148/148 [==============================] - 202s 1s/step - loss: 0.3914 - accuracy: 0.8313 - Recall: 0.8330 - Precision: 0.8302 - AUC: 0.9019 - val_loss: 0.4033 - val_accuracy: 0.8132 - val_Recall: 0.8123 - val_Precision: 0.8137 - val_AUC: 0.9008\n",
      "0:55:55.152089\n"
     ]
    }
   ],
   "source": [
    "model_lumda = train_model_ann(train_df, len(train_df), 50)"
   ]
  },
  {
   "cell_type": "code",
   "execution_count": 134,
   "metadata": {},
   "outputs": [
    {
     "name": "stdout",
     "output_type": "stream",
     "text": [
      "19/19 [==============================] - 64s 3s/step - loss: 0.4266 - accuracy: 0.7974 - Recall: 0.7959 - Precision: 0.7983 - AUC: 0.8868\n"
     ]
    },
    {
     "data": {
      "text/plain": [
       "[0.42660829424858093,\n",
       " 0.7973923683166504,\n",
       " 0.7959437370300293,\n",
       " 0.798256516456604,\n",
       " 0.8868166208267212]"
      ]
     },
     "execution_count": 134,
     "metadata": {},
     "output_type": "execute_result"
    }
   ],
   "source": [
    "model_lumda.evaluate(test_dataset)"
   ]
  },
  {
   "cell_type": "code",
   "execution_count": 136,
   "metadata": {},
   "outputs": [],
   "source": [
    "model_lumda.save(\"/Users/xianghuihuang/Desktop/model_2020/ann.h5\")"
   ]
  },
  {
   "cell_type": "markdown",
   "metadata": {},
   "source": [
    "# CNN"
   ]
  },
  {
   "cell_type": "code",
   "execution_count": 93,
   "metadata": {},
   "outputs": [],
   "source": [
    "cnn_model = tf.keras.models.Sequential()\n",
    "cnn_model.add(tf.keras.Input(shape=(5000,12)))\n",
    "cnn_model.add(tf.keras.layers.Conv1D(filters = 4, kernel_size = 21, padding='same',activation = 'relu'))\n",
    "cnn_model.add(tf.keras.layers.AvgPool1D(pool_size=1,strides=4,padding='same'))\n",
    "\n",
    "cnn_model.add(tf.keras.layers.Conv1D(filters = 4, kernel_size = 23, padding='same',activation = 'relu'))\n",
    "cnn_model.add(tf.keras.layers.AvgPool1D(pool_size=1,strides=4,padding='same'))\n",
    "\n",
    "cnn_model.add(tf.keras.layers.Conv1D(filters = 4, kernel_size = 25, padding='same',activation = 'relu'))\n",
    "cnn_model.add(tf.keras.layers.AvgPool1D(pool_size=1,strides=4,padding='same'))\n",
    "\n",
    "cnn_model.add(tf.keras.layers.Conv1D(filters = 4, kernel_size = 27, padding='same',activation = 'relu'))\n",
    "\n",
    "cnn_model.add(tf.keras.layers.Flatten())\n",
    "\n",
    "cnn_model.add(tf.keras.layers.Dense(128,activation='relu'))\n",
    "cnn_model.add(tf.keras.layers.Dropout(0.3))\n",
    "cnn_model.add(tf.keras.layers.Dense(64,activation='relu'))\n",
    "cnn_model.add(tf.keras.layers.Dropout(0.3))\n",
    "cnn_model.add(tf.keras.layers.Dense(32,activation='relu'))\n",
    "cnn_model.add(tf.keras.layers.Dropout(0.3))\n",
    "\n",
    "cnn_model.add(tf.keras.layers.Dense(2,activation='sigmoid'))"
   ]
  },
  {
   "cell_type": "code",
   "execution_count": 94,
   "metadata": {},
   "outputs": [
    {
     "name": "stdout",
     "output_type": "stream",
     "text": [
      "Model: \"sequential_6\"\n",
      "_________________________________________________________________\n",
      "Layer (type)                 Output Shape              Param #   \n",
      "=================================================================\n",
      "conv1d_12 (Conv1D)           (None, 5000, 4)           1012      \n",
      "_________________________________________________________________\n",
      "average_pooling1d (AveragePo (None, 1250, 4)           0         \n",
      "_________________________________________________________________\n",
      "conv1d_13 (Conv1D)           (None, 1250, 4)           372       \n",
      "_________________________________________________________________\n",
      "average_pooling1d_1 (Average (None, 313, 4)            0         \n",
      "_________________________________________________________________\n",
      "conv1d_14 (Conv1D)           (None, 313, 4)            404       \n",
      "_________________________________________________________________\n",
      "average_pooling1d_2 (Average (None, 79, 4)             0         \n",
      "_________________________________________________________________\n",
      "conv1d_15 (Conv1D)           (None, 79, 4)             436       \n",
      "_________________________________________________________________\n",
      "flatten (Flatten)            (None, 316)               0         \n",
      "_________________________________________________________________\n",
      "dense_24 (Dense)             (None, 128)               40576     \n",
      "_________________________________________________________________\n",
      "dropout_6 (Dropout)          (None, 128)               0         \n",
      "_________________________________________________________________\n",
      "dense_25 (Dense)             (None, 64)                8256      \n",
      "_________________________________________________________________\n",
      "dropout_7 (Dropout)          (None, 64)                0         \n",
      "_________________________________________________________________\n",
      "dense_26 (Dense)             (None, 32)                2080      \n",
      "_________________________________________________________________\n",
      "dropout_8 (Dropout)          (None, 32)                0         \n",
      "_________________________________________________________________\n",
      "dense_27 (Dense)             (None, 2)                 66        \n",
      "=================================================================\n",
      "Total params: 53,202\n",
      "Trainable params: 53,202\n",
      "Non-trainable params: 0\n",
      "_________________________________________________________________\n"
     ]
    }
   ],
   "source": [
    "cnn_model.summary()"
   ]
  },
  {
   "cell_type": "code",
   "execution_count": 96,
   "metadata": {},
   "outputs": [],
   "source": [
    "cnn_model.compile(optimizer = 'adam', \n",
    "                  loss = tf.keras.losses.BinaryCrossentropy(), metrics=[tf.keras.metrics.BinaryAccuracy(name='accuracy', dtype=None, threshold=0.5),tf.keras.metrics.Recall(name='Recall'),tf.keras.metrics.Precision(name='Precision'), \n",
    "                    tf.keras.metrics.AUC(\n",
    "        num_thresholds=200,\n",
    "        curve=\"ROC\",\n",
    "        summation_method=\"interpolation\",\n",
    "        name=\"AUC\",\n",
    "        dtype=None,\n",
    "        thresholds=None,\n",
    "        multi_label=True,\n",
    "        label_weights=None,)])"
   ]
  },
  {
   "cell_type": "code",
   "execution_count": 100,
   "metadata": {},
   "outputs": [],
   "source": [
    "def train_model_cnn(train_df,batch_size , epochs):\n",
    "    s1 = datetime.datetime.now()\n",
    "    for i in range(int(len(train_df)/batch_size)):\n",
    "        print('round:', i)  \n",
    "        ds_batch = get_dataset(train_df,batch_size,i)\n",
    "        train_prefetch = ds_batch.prefetch(tf.data.experimental.AUTOTUNE)\n",
    "        train_cache = train_prefetch.cache()\n",
    "        val_data = get_dataset(val_df,len(val_df),i)\n",
    "        cnn_model.fit(train_cache,epochs=epochs,validation_data = val_data,callbacks = [callback])#,callbacks = [cp_callback])#validation_data = val_df,\n",
    "    s2 = datetime.datetime.now()\n",
    "    print(s2-s1)\n",
    "    return cnn_model"
   ]
  },
  {
   "cell_type": "code",
   "execution_count": 101,
   "metadata": {},
   "outputs": [
    {
     "name": "stdout",
     "output_type": "stream",
     "text": [
      "round: 0\n",
      "Epoch 1/50\n",
      "148/148 [==============================] - 515s 3s/step - loss: 0.6032 - accuracy: 0.6331 - Recall: 0.6160 - Precision: 0.6348 - AUC: 0.7236 - val_loss: 0.4402 - val_accuracy: 0.8056 - val_Recall: 0.8073 - val_Precision: 0.8046 - val_AUC: 0.8780\n",
      "Epoch 2/50\n",
      "148/148 [==============================] - 86s 581ms/step - loss: 0.4122 - accuracy: 0.8210 - Recall: 0.8203 - Precision: 0.8215 - AUC: 0.8903 - val_loss: 0.4184 - val_accuracy: 0.8058 - val_Recall: 0.8065 - val_Precision: 0.8054 - val_AUC: 0.8957\n",
      "Epoch 3/50\n",
      "148/148 [==============================] - 85s 574ms/step - loss: 0.3772 - accuracy: 0.8415 - Recall: 0.8428 - Precision: 0.8406 - AUC: 0.9102 - val_loss: 0.4044 - val_accuracy: 0.8182 - val_Recall: 0.8211 - val_Precision: 0.8163 - val_AUC: 0.8958\n",
      "Epoch 4/50\n",
      "148/148 [==============================] - 85s 576ms/step - loss: 0.3576 - accuracy: 0.8525 - Recall: 0.8540 - Precision: 0.8514 - AUC: 0.9184 - val_loss: 0.3916 - val_accuracy: 0.8205 - val_Recall: 0.8211 - val_Precision: 0.8201 - val_AUC: 0.8999\n",
      "Epoch 5/50\n",
      "148/148 [==============================] - 84s 571ms/step - loss: 0.3468 - accuracy: 0.8542 - Recall: 0.8549 - Precision: 0.8537 - AUC: 0.9239 - val_loss: 0.4027 - val_accuracy: 0.8136 - val_Recall: 0.8132 - val_Precision: 0.8138 - val_AUC: 0.8988\n",
      "Epoch 6/50\n",
      "148/148 [==============================] - 85s 575ms/step - loss: 0.3468 - accuracy: 0.8535 - Recall: 0.8538 - Precision: 0.8532 - AUC: 0.9230 - val_loss: 0.4192 - val_accuracy: 0.8062 - val_Recall: 0.8048 - val_Precision: 0.8071 - val_AUC: 0.8950\n",
      "Epoch 7/50\n",
      "148/148 [==============================] - 84s 571ms/step - loss: 0.3349 - accuracy: 0.8588 - Recall: 0.8584 - Precision: 0.8590 - AUC: 0.9279 - val_loss: 0.4147 - val_accuracy: 0.8041 - val_Recall: 0.8039 - val_Precision: 0.8043 - val_AUC: 0.8958\n",
      "0:18:50.705365\n"
     ]
    }
   ],
   "source": [
    "model_cellur = train_model_cnn(train_df, len(train_df), 50)"
   ]
  },
  {
   "cell_type": "code",
   "execution_count": 102,
   "metadata": {},
   "outputs": [
    {
     "name": "stdout",
     "output_type": "stream",
     "text": [
      "19/19 [==============================] - 59s 3s/step - loss: 0.4105 - accuracy: 0.8125 - Recall: 0.8129 - Precision: 0.8122 - AUC: 0.8977\n"
     ]
    },
    {
     "data": {
      "text/plain": [
       "[0.41046783328056335,\n",
       " 0.8125,\n",
       " 0.8129138946533203,\n",
       " 0.8122414946556091,\n",
       " 0.8977363705635071]"
      ]
     },
     "execution_count": 102,
     "metadata": {},
     "output_type": "execute_result"
    }
   ],
   "source": [
    "model_cellur.evaluate(test_dataset)"
   ]
  },
  {
   "cell_type": "code",
   "execution_count": 103,
   "metadata": {},
   "outputs": [],
   "source": [
    "model_cellur.save(\"/Users/xianghuihuang/Desktop/model_2020/cnn.h5\")"
   ]
  },
  {
   "cell_type": "markdown",
   "metadata": {},
   "source": [
    "# LeNet_5 model"
   ]
  },
  {
   "cell_type": "code",
   "execution_count": 81,
   "metadata": {},
   "outputs": [],
   "source": [
    "#leNet_5 modeling\n",
    "lenet_5_model = tf.keras.models.Sequential()\n",
    "lenet_5_model.add(tf.keras.Input(shape=(5000,12)))\n",
    "lenet_5_model.add(tf.keras.layers.Conv1D(filters = 6, kernel_size = 3, padding='same'))\n",
    "lenet_5_model.add(tf.keras.layers.BatchNormalization())\n",
    "lenet_5_model.add(tf.keras.layers.Activation('relu'))\n",
    "lenet_5_model.add(tf.keras.layers.MaxPool1D(pool_size=2,strides=2,padding='same'))\n",
    "\n",
    "lenet_5_model.add(tf.keras.layers.Conv1D(filters = 16, kernel_size = 5,strides =1))\n",
    "lenet_5_model.add(tf.keras.layers.BatchNormalization())\n",
    "lenet_5_model.add(tf.keras.layers.Activation('relu'))\n",
    "lenet_5_model.add(tf.keras.layers.MaxPool1D(pool_size=2,strides=2,padding='same'))\n",
    "\n",
    "lenet_5_model.add(tf.keras.layers.GlobalAveragePooling1D())\n",
    "\n",
    "lenet_5_model.add(tf.keras.layers.Dense(64,activation = 'relu'))\n",
    "\n",
    "lenet_5_model.add(tf.keras.layers.Dense(32,activation = 'relu'))\n",
    "\n",
    "lenet_5_model.add(tf.keras.layers.Dropout(0.3))\n",
    "\n",
    "lenet_5_model.add(tf.keras.layers.Dense(16,activation = 'relu'))\n",
    "\n",
    "lenet_5_model.add(tf.keras.layers.Dropout(0.3))\n",
    "\n",
    "lenet_5_model.add(tf.keras.layers.Dense(2,activation = 'softmax'))"
   ]
  },
  {
   "cell_type": "code",
   "execution_count": 82,
   "metadata": {},
   "outputs": [
    {
     "name": "stdout",
     "output_type": "stream",
     "text": [
      "Model: \"sequential_5\"\n",
      "_________________________________________________________________\n",
      "Layer (type)                 Output Shape              Param #   \n",
      "=================================================================\n",
      "conv1d_10 (Conv1D)           (None, 5000, 6)           222       \n",
      "_________________________________________________________________\n",
      "batch_normalization_10 (Batc (None, 5000, 6)           24        \n",
      "_________________________________________________________________\n",
      "activation_10 (Activation)   (None, 5000, 6)           0         \n",
      "_________________________________________________________________\n",
      "max_pooling1d_10 (MaxPooling (None, 2500, 6)           0         \n",
      "_________________________________________________________________\n",
      "conv1d_11 (Conv1D)           (None, 2496, 16)          496       \n",
      "_________________________________________________________________\n",
      "batch_normalization_11 (Batc (None, 2496, 16)          64        \n",
      "_________________________________________________________________\n",
      "activation_11 (Activation)   (None, 2496, 16)          0         \n",
      "_________________________________________________________________\n",
      "max_pooling1d_11 (MaxPooling (None, 1248, 16)          0         \n",
      "_________________________________________________________________\n",
      "global_average_pooling1d_5 ( (None, 16)                0         \n",
      "_________________________________________________________________\n",
      "dense_20 (Dense)             (None, 64)                1088      \n",
      "_________________________________________________________________\n",
      "dense_21 (Dense)             (None, 32)                2080      \n",
      "_________________________________________________________________\n",
      "dropout_4 (Dropout)          (None, 32)                0         \n",
      "_________________________________________________________________\n",
      "dense_22 (Dense)             (None, 16)                528       \n",
      "_________________________________________________________________\n",
      "dropout_5 (Dropout)          (None, 16)                0         \n",
      "_________________________________________________________________\n",
      "dense_23 (Dense)             (None, 2)                 34        \n",
      "=================================================================\n",
      "Total params: 4,536\n",
      "Trainable params: 4,492\n",
      "Non-trainable params: 44\n",
      "_________________________________________________________________\n"
     ]
    }
   ],
   "source": [
    "lenet_5_model.summary()"
   ]
  },
  {
   "cell_type": "code",
   "execution_count": 83,
   "metadata": {},
   "outputs": [],
   "source": [
    "lenet_5_model.compile(optimizer = \"adam\", \n",
    "                  loss = tf.keras.losses.BinaryCrossentropy(), metrics=[tf.keras.metrics.BinaryAccuracy(name='accuracy', dtype=None, threshold=0.5),tf.keras.metrics.Recall(name='Recall'),tf.keras.metrics.Precision(name='Precision'), \n",
    "                    tf.keras.metrics.AUC(\n",
    "        num_thresholds=200,\n",
    "        curve=\"ROC\",\n",
    "        summation_method=\"interpolation\",\n",
    "        name=\"AUC\",\n",
    "        dtype=None,\n",
    "        thresholds=None,\n",
    "        multi_label=True,\n",
    "        label_weights=None,)])"
   ]
  },
  {
   "cell_type": "code",
   "execution_count": 99,
   "metadata": {},
   "outputs": [],
   "source": [
    "# checkpoint_path = '/Users/xianghuihuang/Desktop/model_2020/tf1/'\n",
    "# checkpoint_dir = os.path.dirname(checkpoint_path)\n",
    "\n",
    "# # Create a callback that saves the model's weights\n",
    "# cp_callback = tf.keras.callbacks.ModelCheckpoint(filepath=checkpoint_path,\n",
    "#                                                  save_weights_only=True,\n",
    "#                                                  verbose=1)\n",
    "\n",
    "def train_model_lenet(train_df,batch_size , epochs):\n",
    "    s1 = datetime.datetime.now()\n",
    "    for i in range(int(len(train_df)/batch_size)):\n",
    "        print('round:', i)  \n",
    "        ds_batch = get_dataset(train_df,batch_size,i)\n",
    "        train_prefetch = ds_batch.prefetch(tf.data.experimental.AUTOTUNE)\n",
    "        train_cache = train_prefetch.cache()\n",
    "        val_data = get_dataset(val_df,len(val_df),i)\n",
    "        lenet_5_model.fit(train_cache,epochs=epochs,validation_data = val_data,callbacks = [callback])#,callbacks = [cp_callback])#validation_data = val_df,\n",
    "    s2 = datetime.datetime.now()\n",
    "    print(s2-s1)\n",
    "    return lenet_5_model"
   ]
  },
  {
   "cell_type": "code",
   "execution_count": 85,
   "metadata": {},
   "outputs": [],
   "source": [
    "# train_df.iloc[1340].new_filename"
   ]
  },
  {
   "cell_type": "code",
   "execution_count": 86,
   "metadata": {},
   "outputs": [],
   "source": [
    "# data = wfdb.rdrecord('/Users/xianghuihuang/Desktop/WFDB/HR19299').p_signal"
   ]
  },
  {
   "cell_type": "code",
   "execution_count": 87,
   "metadata": {},
   "outputs": [],
   "source": [
    "# show(data,\"debug\")"
   ]
  },
  {
   "cell_type": "code",
   "execution_count": 88,
   "metadata": {},
   "outputs": [],
   "source": [
    "# data2 = data.T\n",
    "# for i,signal_data in enumerate(data2):\n",
    "#     #print(signal_data.shape)\n",
    "#     signal_data = denoise(signal_data,i)\n",
    "#     data2[i] = signal_data\n",
    "#     print(data2[i].shape)\n",
    "# data3 = data2.T"
   ]
  },
  {
   "cell_type": "code",
   "execution_count": 89,
   "metadata": {},
   "outputs": [],
   "source": [
    "# data2[11]"
   ]
  },
  {
   "cell_type": "code",
   "execution_count": 90,
   "metadata": {},
   "outputs": [],
   "source": [
    "# show(data3,\"after denoise debug\")"
   ]
  },
  {
   "cell_type": "code",
   "execution_count": 91,
   "metadata": {},
   "outputs": [
    {
     "name": "stdout",
     "output_type": "stream",
     "text": [
      "round: 0\n",
      "Epoch 1/50\n",
      "148/148 [==============================] - 539s 4s/step - loss: 0.6539 - accuracy: 0.6235 - Recall: 0.6235 - Precision: 0.6235 - AUC: 0.6745 - val_loss: 0.5844 - val_accuracy: 0.7495 - val_Recall: 0.7495 - val_Precision: 0.7495 - val_AUC: 0.8283\n",
      "Epoch 2/50\n",
      "148/148 [==============================] - 93s 634ms/step - loss: 0.5200 - accuracy: 0.7670 - Recall: 0.7670 - Precision: 0.7670 - AUC: 0.8281 - val_loss: 0.4865 - val_accuracy: 0.7713 - val_Recall: 0.7713 - val_Precision: 0.7713 - val_AUC: 0.8564\n",
      "Epoch 3/50\n",
      "148/148 [==============================] - 91s 618ms/step - loss: 0.4625 - accuracy: 0.7940 - Recall: 0.7940 - Precision: 0.7940 - AUC: 0.8634 - val_loss: 0.4400 - val_accuracy: 0.7918 - val_Recall: 0.7918 - val_Precision: 0.7918 - val_AUC: 0.8808\n",
      "Epoch 4/50\n",
      "148/148 [==============================] - 92s 623ms/step - loss: 0.4313 - accuracy: 0.8111 - Recall: 0.8111 - Precision: 0.8111 - AUC: 0.8817 - val_loss: 0.4224 - val_accuracy: 0.8027 - val_Recall: 0.8027 - val_Precision: 0.8027 - val_AUC: 0.8906\n",
      "Epoch 5/50\n",
      "148/148 [==============================] - 92s 626ms/step - loss: 0.4176 - accuracy: 0.8194 - Recall: 0.8194 - Precision: 0.8194 - AUC: 0.8890 - val_loss: 0.4083 - val_accuracy: 0.8161 - val_Recall: 0.8161 - val_Precision: 0.8161 - val_AUC: 0.8993\n",
      "Epoch 6/50\n",
      "148/148 [==============================] - 92s 624ms/step - loss: 0.4049 - accuracy: 0.8252 - Recall: 0.8252 - Precision: 0.8252 - AUC: 0.8959 - val_loss: 0.4181 - val_accuracy: 0.8027 - val_Recall: 0.8027 - val_Precision: 0.8027 - val_AUC: 0.9032\n",
      "Epoch 7/50\n",
      "148/148 [==============================] - 93s 628ms/step - loss: 0.3991 - accuracy: 0.8272 - Recall: 0.8272 - Precision: 0.8272 - AUC: 0.8989 - val_loss: 0.4336 - val_accuracy: 0.7918 - val_Recall: 0.7918 - val_Precision: 0.7918 - val_AUC: 0.9035\n",
      "Epoch 8/50\n",
      "148/148 [==============================] - 92s 622ms/step - loss: 0.3931 - accuracy: 0.8315 - Recall: 0.8315 - Precision: 0.8315 - AUC: 0.9014 - val_loss: 0.3976 - val_accuracy: 0.8152 - val_Recall: 0.8152 - val_Precision: 0.8152 - val_AUC: 0.9059\n",
      "Epoch 9/50\n",
      "148/148 [==============================] - 93s 629ms/step - loss: 0.3886 - accuracy: 0.8323 - Recall: 0.8323 - Precision: 0.8323 - AUC: 0.9046 - val_loss: 0.4168 - val_accuracy: 0.7922 - val_Recall: 0.7922 - val_Precision: 0.7922 - val_AUC: 0.9067\n",
      "Epoch 10/50\n",
      "148/148 [==============================] - 97s 655ms/step - loss: 0.3864 - accuracy: 0.8359 - Recall: 0.8359 - Precision: 0.8359 - AUC: 0.9056 - val_loss: 0.4221 - val_accuracy: 0.7918 - val_Recall: 0.7918 - val_Precision: 0.7918 - val_AUC: 0.9065\n",
      "Epoch 11/50\n",
      "148/148 [==============================] - 93s 630ms/step - loss: 0.3822 - accuracy: 0.8378 - Recall: 0.8378 - Precision: 0.8378 - AUC: 0.9080 - val_loss: 0.4101 - val_accuracy: 0.8027 - val_Recall: 0.8027 - val_Precision: 0.8027 - val_AUC: 0.9060\n",
      "0:26:21.517879\n"
     ]
    }
   ],
   "source": [
    "#1024+256, 4096+512*24+128*3\n",
    "model_alexa = train_model_lenet(train_df, len(train_df), 50)"
   ]
  },
  {
   "cell_type": "code",
   "execution_count": 92,
   "metadata": {},
   "outputs": [
    {
     "name": "stdout",
     "output_type": "stream",
     "text": [
      "19/19 [==============================] - 59s 3s/step - loss: 0.4355 - accuracy: 0.8075 - Recall: 0.8075 - Precision: 0.8075 - AUC: 0.8962\n"
     ]
    },
    {
     "data": {
      "text/plain": [
       "[0.43551161885261536,\n",
       " 0.8075330853462219,\n",
       " 0.8075330853462219,\n",
       " 0.8075330853462219,\n",
       " 0.8961711525917053]"
      ]
     },
     "execution_count": 92,
     "metadata": {},
     "output_type": "execute_result"
    }
   ],
   "source": [
    "model_alexa.evaluate(test_dataset)"
   ]
  },
  {
   "cell_type": "code",
   "execution_count": 104,
   "metadata": {},
   "outputs": [],
   "source": [
    "model_alexa.save(\"/Users/xianghuihuang/Desktop/model_2020/leNet_5.h5\")"
   ]
  },
  {
   "cell_type": "markdown",
   "metadata": {},
   "source": [
    "# VGG16 model"
   ]
  },
  {
   "cell_type": "code",
   "execution_count": 1,
   "metadata": {},
   "outputs": [
    {
     "ename": "NameError",
     "evalue": "name 'tf' is not defined",
     "output_type": "error",
     "traceback": [
      "\u001b[1;31m---------------------------------------------------------------------------\u001b[0m",
      "\u001b[1;31mNameError\u001b[0m                                 Traceback (most recent call last)",
      "\u001b[1;32m<ipython-input-1-d161e0de9068>\u001b[0m in \u001b[0;36m<module>\u001b[1;34m\u001b[0m\n\u001b[0;32m      1\u001b[0m \u001b[1;31m#leNet_5 modeling\u001b[0m\u001b[1;33m\u001b[0m\u001b[1;33m\u001b[0m\u001b[1;33m\u001b[0m\u001b[0m\n\u001b[1;32m----> 2\u001b[1;33m \u001b[0mvgg16_model\u001b[0m \u001b[1;33m=\u001b[0m \u001b[0mtf\u001b[0m\u001b[1;33m.\u001b[0m\u001b[0mkeras\u001b[0m\u001b[1;33m.\u001b[0m\u001b[0mmodels\u001b[0m\u001b[1;33m.\u001b[0m\u001b[0mSequential\u001b[0m\u001b[1;33m(\u001b[0m\u001b[1;33m)\u001b[0m\u001b[1;33m\u001b[0m\u001b[1;33m\u001b[0m\u001b[0m\n\u001b[0m\u001b[0;32m      3\u001b[0m \u001b[0mvgg16_model\u001b[0m\u001b[1;33m.\u001b[0m\u001b[0madd\u001b[0m\u001b[1;33m(\u001b[0m\u001b[0mtf\u001b[0m\u001b[1;33m.\u001b[0m\u001b[0mkeras\u001b[0m\u001b[1;33m.\u001b[0m\u001b[0mInput\u001b[0m\u001b[1;33m(\u001b[0m\u001b[0mshape\u001b[0m\u001b[1;33m=\u001b[0m\u001b[1;33m(\u001b[0m\u001b[1;36m5000\u001b[0m\u001b[1;33m,\u001b[0m\u001b[1;36m12\u001b[0m\u001b[1;33m)\u001b[0m\u001b[1;33m)\u001b[0m\u001b[1;33m)\u001b[0m\u001b[1;33m\u001b[0m\u001b[1;33m\u001b[0m\u001b[0m\n\u001b[0;32m      4\u001b[0m \u001b[1;31m#64\u001b[0m\u001b[1;33m\u001b[0m\u001b[1;33m\u001b[0m\u001b[1;33m\u001b[0m\u001b[0m\n\u001b[0;32m      5\u001b[0m \u001b[0mvgg16_model\u001b[0m\u001b[1;33m.\u001b[0m\u001b[0madd\u001b[0m\u001b[1;33m(\u001b[0m\u001b[0mtf\u001b[0m\u001b[1;33m.\u001b[0m\u001b[0mkeras\u001b[0m\u001b[1;33m.\u001b[0m\u001b[0mlayers\u001b[0m\u001b[1;33m.\u001b[0m\u001b[0mConv1D\u001b[0m\u001b[1;33m(\u001b[0m\u001b[0mfilters\u001b[0m \u001b[1;33m=\u001b[0m \u001b[1;36m64\u001b[0m\u001b[1;33m,\u001b[0m \u001b[0mkernel_size\u001b[0m \u001b[1;33m=\u001b[0m \u001b[1;36m3\u001b[0m\u001b[1;33m,\u001b[0m \u001b[0mpadding\u001b[0m\u001b[1;33m=\u001b[0m\u001b[1;34m'same'\u001b[0m\u001b[1;33m)\u001b[0m\u001b[1;33m)\u001b[0m\u001b[1;33m\u001b[0m\u001b[1;33m\u001b[0m\u001b[0m\n",
      "\u001b[1;31mNameError\u001b[0m: name 'tf' is not defined"
     ]
    }
   ],
   "source": [
    "#leNet_5 modeling\n",
    "vgg16_model = tf.keras.models.Sequential()\n",
    "vgg16_model.add(tf.keras.Input(shape=(5000,12)))\n",
    "#64\n",
    "vgg16_model.add(tf.keras.layers.Conv1D(filters = 64, kernel_size = 3, padding='same'))\n",
    "vgg16_model.add(tf.keras.layers.BatchNormalization())\n",
    "vgg16_model.add(tf.keras.layers.Activation('relu'))\n",
    "vgg16_model.add(tf.keras.layers.Conv1D(filters = 64, kernel_size = 3, padding='same'))\n",
    "vgg16_model.add(tf.keras.layers.BatchNormalization())\n",
    "vgg16_model.add(tf.keras.layers.Activation('relu'))\n",
    "vgg16_model.add(tf.keras.layers.MaxPool1D(pool_size=2,strides=2,padding='same'))\n",
    "#128\n",
    "vgg16_model.add(tf.keras.layers.Conv1D(filters = 128, kernel_size = 3, padding='same'))\n",
    "vgg16_model.add(tf.keras.layers.BatchNormalization())\n",
    "vgg16_model.add(tf.keras.layers.Activation('relu'))\n",
    "vgg16_model.add(tf.keras.layers.Conv1D(filters = 128, kernel_size = 3, padding='same'))\n",
    "vgg16_model.add(tf.keras.layers.BatchNormalization())\n",
    "vgg16_model.add(tf.keras.layers.Activation('relu'))\n",
    "vgg16_model.add(tf.keras.layers.MaxPool1D(pool_size=2,strides=2,padding='same'))\n",
    "#256\n",
    "vgg16_model.add(tf.keras.layers.Conv1D(filters = 256, kernel_size = 3, padding='same'))\n",
    "vgg16_model.add(tf.keras.layers.BatchNormalization())\n",
    "vgg16_model.add(tf.keras.layers.Activation('relu'))\n",
    "vgg16_model.add(tf.keras.layers.Conv1D(filters = 256, kernel_size = 3, padding='same'))\n",
    "vgg16_model.add(tf.keras.layers.BatchNormalization())\n",
    "vgg16_model.add(tf.keras.layers.Activation('relu'))\n",
    "vgg16_model.add(tf.keras.layers.Conv1D(filters = 256, kernel_size = 3, padding='same'))\n",
    "vgg16_model.add(tf.keras.layers.BatchNormalization())\n",
    "vgg16_model.add(tf.keras.layers.Activation('relu'))\n",
    "vgg16_model.add(tf.keras.layers.MaxPool1D(pool_size=2,strides=2,padding='same'))\n",
    "#512\n",
    "vgg16_model.add(tf.keras.layers.Conv1D(filters = 512, kernel_size = 3, padding='same'))\n",
    "vgg16_model.add(tf.keras.layers.BatchNormalization())\n",
    "vgg16_model.add(tf.keras.layers.Activation('relu'))\n",
    "vgg16_model.add(tf.keras.layers.Conv1D(filters = 512, kernel_size = 3, padding='same'))\n",
    "vgg16_model.add(tf.keras.layers.BatchNormalization())\n",
    "vgg16_model.add(tf.keras.layers.Activation('relu'))\n",
    "vgg16_model.add(tf.keras.layers.Conv1D(filters = 512, kernel_size = 3, padding='same'))\n",
    "vgg16_model.add(tf.keras.layers.BatchNormalization())\n",
    "vgg16_model.add(tf.keras.layers.Activation('relu'))\n",
    "vgg16_model.add(tf.keras.layers.MaxPool1D(pool_size=2,strides=2,padding='same'))\n",
    "\n",
    "vgg16_model.add(tf.keras.layers.Conv1D(filters = 512, kernel_size = 3, padding='same'))\n",
    "vgg16_model.add(tf.keras.layers.BatchNormalization())\n",
    "vgg16_model.add(tf.keras.layers.Activation('relu'))\n",
    "vgg16_model.add(tf.keras.layers.Conv1D(filters = 512, kernel_size = 3, padding='same'))\n",
    "vgg16_model.add(tf.keras.layers.BatchNormalization())\n",
    "vgg16_model.add(tf.keras.layers.Activation('relu'))\n",
    "vgg16_model.add(tf.keras.layers.Conv1D(filters = 512, kernel_size = 3, padding='same'))\n",
    "vgg16_model.add(tf.keras.layers.BatchNormalization())\n",
    "vgg16_model.add(tf.keras.layers.Activation('relu'))\n",
    "vgg16_model.add(tf.keras.layers.MaxPool1D(pool_size=2,strides=2,padding='same'))\n",
    "\n",
    "vgg16_model.add(tf.keras.layers.GlobalAveragePooling1D())\n",
    "\n",
    "vgg16_model.add(tf.keras.layers.Dense(256,activation = 'relu'))\n",
    "vgg16_model.add(tf.keras.layers.Dropout(0.5))\n",
    "vgg16_model.add(tf.keras.layers.Dense(128,activation = 'relu'))\n",
    "vgg16_model.add(tf.keras.layers.Dropout(0.5))\n",
    "vgg16_model.add(tf.keras.layers.Dense(64,activation = 'relu'))\n",
    "vgg16_model.add(tf.keras.layers.Dropout(0.5))\n",
    "vgg16_model.add(tf.keras.layers.Dense(32,activation = 'relu'))\n",
    "vgg16_model.add(tf.keras.layers.Dropout(0.5))\n",
    "\n",
    "vgg16_model.add(tf.keras.layers.Dense(2,activation = 'softmax'))"
   ]
  },
  {
   "cell_type": "code",
   "execution_count": 2,
   "metadata": {},
   "outputs": [
    {
     "ename": "NameError",
     "evalue": "name 'vgg16_model' is not defined",
     "output_type": "error",
     "traceback": [
      "\u001b[1;31m---------------------------------------------------------------------------\u001b[0m",
      "\u001b[1;31mNameError\u001b[0m                                 Traceback (most recent call last)",
      "\u001b[1;32m<ipython-input-2-3dae85dfe7bd>\u001b[0m in \u001b[0;36m<module>\u001b[1;34m\u001b[0m\n\u001b[1;32m----> 1\u001b[1;33m \u001b[0mvgg16_model\u001b[0m\u001b[1;33m.\u001b[0m\u001b[0msummary\u001b[0m\u001b[1;33m(\u001b[0m\u001b[1;33m)\u001b[0m\u001b[1;33m\u001b[0m\u001b[1;33m\u001b[0m\u001b[0m\n\u001b[0m",
      "\u001b[1;31mNameError\u001b[0m: name 'vgg16_model' is not defined"
     ]
    }
   ],
   "source": [
    "vgg16_model.summary()"
   ]
  },
  {
   "cell_type": "code",
   "execution_count": 52,
   "metadata": {},
   "outputs": [],
   "source": [
    "vgg16_model.compile(optimizer = \"adam\", \n",
    "                  loss = tf.keras.losses.BinaryCrossentropy(), metrics=[tf.keras.metrics.BinaryAccuracy(name='accuracy', dtype=None, threshold=0.5),tf.keras.metrics.Recall(name='Recall'),tf.keras.metrics.Precision(name='Precision'), \n",
    "                    tf.keras.metrics.AUC(\n",
    "        num_thresholds=200,\n",
    "        curve=\"ROC\",\n",
    "        summation_method=\"interpolation\",\n",
    "        name=\"AUC\",\n",
    "        dtype=None,\n",
    "        thresholds=None,\n",
    "        multi_label=True,\n",
    "        label_weights=None,)])"
   ]
  },
  {
   "cell_type": "code",
   "execution_count": 53,
   "metadata": {},
   "outputs": [],
   "source": [
    "def train_model_vgg16(train_df,batch_size , epochs):\n",
    "    s1 = datetime.datetime.now()\n",
    "    for i in range(int(len(train_df)/batch_size)):\n",
    "        print('round:', i)  \n",
    "        ds_batch = get_dataset(train_df,batch_size,i)\n",
    "        train_prefetch = ds_batch.prefetch(tf.data.experimental.AUTOTUNE)\n",
    "        train_cache = train_prefetch.cache()\n",
    "        #val_data = get_dataset(val_df,len(val_df),i)\n",
    "        vgg16_model.fit(train_cache,epochs=epochs)#,callbacks = [cp_callback])#validation_data = val_df,\n",
    "    s2 = datetime.datetime.now()\n",
    "    print(s2-s1)\n",
    "    return vgg16_model"
   ]
  },
  {
   "cell_type": "code",
   "execution_count": 54,
   "metadata": {},
   "outputs": [
    {
     "name": "stdout",
     "output_type": "stream",
     "text": [
      "round: 0\n",
      "Epoch 1/10\n",
      " 34/148 [=====>........................] - ETA: 27:35 - loss: 0.7615 - accuracy: 0.5176 - Recall: 0.5176 - Precision: 0.5176 - AUC: 0.5331"
     ]
    },
    {
     "name": "stderr",
     "output_type": "stream",
     "text": [
      "/Users/xianghuihuang/anaconda3/lib/python3.7/site-packages/pywt/_thresholding.py:23: RuntimeWarning: invalid value encountered in true_divide\n",
      "  thresholded = (1 - value/magnitude)\n"
     ]
    },
    {
     "name": "stdout",
     "output_type": "stream",
     "text": [
      "148/148 [==============================] - 2162s 15s/step - loss: 0.6675 - accuracy: 0.6003 - Recall: 0.6003 - Precision: 0.6003 - AUC: 0.6467\n",
      "Epoch 2/10\n",
      "148/148 [==============================] - 2079s 14s/step - loss: 0.4212 - accuracy: 0.8265 - Recall: 0.8265 - Precision: 0.8265 - AUC: 0.8951\n",
      "Epoch 3/10\n",
      "148/148 [==============================] - 2062s 14s/step - loss: 0.3796 - accuracy: 0.8498 - Recall: 0.8498 - Precision: 0.8498 - AUC: 0.9151\n",
      "Epoch 4/10\n",
      "148/148 [==============================] - 2052s 14s/step - loss: 0.3575 - accuracy: 0.8552 - Recall: 0.8552 - Precision: 0.8552 - AUC: 0.9228\n",
      "Epoch 5/10\n",
      "148/148 [==============================] - 2053s 14s/step - loss: 0.3459 - accuracy: 0.8589 - Recall: 0.8589 - Precision: 0.8589 - AUC: 0.9267\n",
      "Epoch 6/10\n",
      "148/148 [==============================] - 2046s 14s/step - loss: 0.3290 - accuracy: 0.8635 - Recall: 0.8635 - Precision: 0.8635 - AUC: 0.9334\n",
      "Epoch 7/10\n",
      "148/148 [==============================] - 2045s 14s/step - loss: 0.3266 - accuracy: 0.8654 - Recall: 0.8654 - Precision: 0.8654 - AUC: 0.9346\n",
      "Epoch 8/10\n",
      "148/148 [==============================] - 2043s 14s/step - loss: 0.3136 - accuracy: 0.8716 - Recall: 0.8716 - Precision: 0.8716 - AUC: 0.9398\n",
      "Epoch 9/10\n",
      "148/148 [==============================] - 2066s 14s/step - loss: 0.3081 - accuracy: 0.8771 - Recall: 0.8771 - Precision: 0.8771 - AUC: 0.9418\n",
      "Epoch 10/10\n",
      "148/148 [==============================] - 2025s 14s/step - loss: 0.3039 - accuracy: 0.8752 - Recall: 0.8752 - Precision: 0.8752 - AUC: 0.9429\n",
      "5:45:29.137165\n"
     ]
    }
   ],
   "source": [
    "model_venessa = train_model_vgg16(train_df, len(train_df), 10)"
   ]
  },
  {
   "cell_type": "code",
   "execution_count": null,
   "metadata": {},
   "outputs": [],
   "source": [
    "model_venessa.evaluate(test_dataset)"
   ]
  },
  {
   "cell_type": "code",
   "execution_count": 56,
   "metadata": {},
   "outputs": [],
   "source": [
    "#save your best model \n",
    "model_venessa.save(\"/Users/xianghuihuang/Desktop/model_2020/vgg16.h5\")"
   ]
  },
  {
   "cell_type": "markdown",
   "metadata": {},
   "source": [
    "# Inception"
   ]
  },
  {
   "cell_type": "code",
   "execution_count": 43,
   "metadata": {},
   "outputs": [],
   "source": [
    "def inception_block(prev_layer):\n",
    "    \n",
    "    conv1=tf.keras.layers.Conv1D(filters = 64, kernel_size = 1, padding = 'same')(prev_layer)\n",
    "    conv1=tf.keras.layers.BatchNormalization()(conv1)\n",
    "    conv1=tf.keras.layers.Activation('relu')(conv1)\n",
    "    \n",
    "    conv3=tf.keras.layers.Conv1D(filters = 64, kernel_size = 1, padding = 'same')(prev_layer)\n",
    "    conv3=tf.keras.layers.BatchNormalization()(conv3)\n",
    "    conv3=tf.keras.layers.Activation('relu')(conv3)\n",
    "    conv3=tf.keras.layers.Conv1D(filters = 64, kernel_size = 3, padding = 'same')(conv3)\n",
    "    conv3=tf.keras.layers.BatchNormalization()(conv3)\n",
    "    conv3=tf.keras.layers.Activation('relu')(conv3)\n",
    "    \n",
    "    conv5=tf.keras.layers.Conv1D(filters = 64, kernel_size = 1, padding = 'same')(prev_layer)\n",
    "    conv5=tf.keras.layers.BatchNormalization()(conv5)\n",
    "    conv5=tf.keras.layers.Activation('relu')(conv5)\n",
    "    conv5=tf.keras.layers.Conv1D(filters = 64, kernel_size = 5, padding = 'same')(conv5)\n",
    "    conv5=tf.keras.layers.BatchNormalization()(conv5)\n",
    "    conv5=tf.keras.layers.Activation('relu')(conv5)\n",
    "    \n",
    "    pool= tf.keras.layers.MaxPool1D(pool_size=3, strides=1, padding='same')(prev_layer)\n",
    "    convmax=tf.keras.layers.Conv1D(filters = 64, kernel_size = 1, padding = 'same')(pool)\n",
    "    convmax=tf.keras.layers.BatchNormalization()(convmax)\n",
    "    convmax=tf.keras.layers.Activation('relu')(convmax)\n",
    "    \n",
    "    layer_out = tf.keras.layers.concatenate([conv1, conv3, conv5, convmax])\n",
    "    \n",
    "    return layer_out\n",
    "\n",
    "def inception_model(input_shape):\n",
    "    X_input=tf.keras.layers.Input(input_shape)\n",
    "    \n",
    "    X = tf.keras.layers.ZeroPadding1D(3)(X_input)\n",
    "    \n",
    "    X = tf.keras.layers.Conv1D(filters = 64, kernel_size = 7, padding = 'same')(X)\n",
    "    X = tf.keras.layers.BatchNormalization()(X)\n",
    "    X = tf.keras.layers.Activation('relu')(X)\n",
    "    X = tf.keras.layers.MaxPool1D(pool_size=3, strides=2, padding='same')(X)\n",
    "    \n",
    "    X = tf.keras.layers.Conv1D(filters = 64, kernel_size = 1, padding = 'same')(X)\n",
    "    X = tf.keras.layers.BatchNormalization()(X)\n",
    "    X = tf.keras.layers.Activation('relu')(X)\n",
    "    \n",
    "    X = inception_block(X)\n",
    "    X = inception_block(X)\n",
    "    \n",
    "    X = tf.keras.layers.MaxPool1D(pool_size=7, strides=2, padding='same')(X)\n",
    "    \n",
    "    X = tf.keras.layers.GlobalAveragePooling1D()(X)\n",
    "    X = tf.keras.layers.Dense(32,activation='relu')(X)\n",
    "    \n",
    "    X = tf.keras.layers.Dense(2,activation='sigmoid')(X)\n",
    "    \n",
    "    model = tf.keras.Model(inputs = X_input, outputs = X, name='Inception')\n",
    "    \n",
    "    return model"
   ]
  },
  {
   "cell_type": "code",
   "execution_count": 44,
   "metadata": {},
   "outputs": [],
   "source": [
    "inception_model = inception_model(input_shape = (5000,12))"
   ]
  },
  {
   "cell_type": "code",
   "execution_count": 45,
   "metadata": {},
   "outputs": [
    {
     "name": "stdout",
     "output_type": "stream",
     "text": [
      "Model: \"Inception\"\n",
      "__________________________________________________________________________________________________\n",
      "Layer (type)                    Output Shape         Param #     Connected to                     \n",
      "==================================================================================================\n",
      "input_3 (InputLayer)            [(None, 5000, 12)]   0                                            \n",
      "__________________________________________________________________________________________________\n",
      "zero_padding1d_1 (ZeroPadding1D (None, 5006, 12)     0           input_3[0][0]                    \n",
      "__________________________________________________________________________________________________\n",
      "conv1d_14 (Conv1D)              (None, 5006, 64)     5440        zero_padding1d_1[0][0]           \n",
      "__________________________________________________________________________________________________\n",
      "batch_normalization_15 (BatchNo (None, 5006, 64)     256         conv1d_14[0][0]                  \n",
      "__________________________________________________________________________________________________\n",
      "activation_14 (Activation)      (None, 5006, 64)     0           batch_normalization_15[0][0]     \n",
      "__________________________________________________________________________________________________\n",
      "max_pooling1d_4 (MaxPooling1D)  (None, 2503, 64)     0           activation_14[0][0]              \n",
      "__________________________________________________________________________________________________\n",
      "conv1d_15 (Conv1D)              (None, 2503, 64)     4160        max_pooling1d_4[0][0]            \n",
      "__________________________________________________________________________________________________\n",
      "batch_normalization_16 (BatchNo (None, 2503, 64)     256         conv1d_15[0][0]                  \n",
      "__________________________________________________________________________________________________\n",
      "activation_15 (Activation)      (None, 2503, 64)     0           batch_normalization_16[0][0]     \n",
      "__________________________________________________________________________________________________\n",
      "conv1d_17 (Conv1D)              (None, 2503, 64)     4160        activation_15[0][0]              \n",
      "__________________________________________________________________________________________________\n",
      "conv1d_19 (Conv1D)              (None, 2503, 64)     4160        activation_15[0][0]              \n",
      "__________________________________________________________________________________________________\n",
      "batch_normalization_18 (BatchNo (None, 2503, 64)     256         conv1d_17[0][0]                  \n",
      "__________________________________________________________________________________________________\n",
      "batch_normalization_20 (BatchNo (None, 2503, 64)     256         conv1d_19[0][0]                  \n",
      "__________________________________________________________________________________________________\n",
      "activation_17 (Activation)      (None, 2503, 64)     0           batch_normalization_18[0][0]     \n",
      "__________________________________________________________________________________________________\n",
      "activation_19 (Activation)      (None, 2503, 64)     0           batch_normalization_20[0][0]     \n",
      "__________________________________________________________________________________________________\n",
      "max_pooling1d_5 (MaxPooling1D)  (None, 2503, 64)     0           activation_15[0][0]              \n",
      "__________________________________________________________________________________________________\n",
      "conv1d_16 (Conv1D)              (None, 2503, 64)     4160        activation_15[0][0]              \n",
      "__________________________________________________________________________________________________\n",
      "conv1d_18 (Conv1D)              (None, 2503, 64)     12352       activation_17[0][0]              \n",
      "__________________________________________________________________________________________________\n",
      "conv1d_20 (Conv1D)              (None, 2503, 64)     20544       activation_19[0][0]              \n",
      "__________________________________________________________________________________________________\n",
      "conv1d_21 (Conv1D)              (None, 2503, 64)     4160        max_pooling1d_5[0][0]            \n",
      "__________________________________________________________________________________________________\n",
      "batch_normalization_17 (BatchNo (None, 2503, 64)     256         conv1d_16[0][0]                  \n",
      "__________________________________________________________________________________________________\n",
      "batch_normalization_19 (BatchNo (None, 2503, 64)     256         conv1d_18[0][0]                  \n",
      "__________________________________________________________________________________________________\n",
      "batch_normalization_21 (BatchNo (None, 2503, 64)     256         conv1d_20[0][0]                  \n",
      "__________________________________________________________________________________________________\n",
      "batch_normalization_22 (BatchNo (None, 2503, 64)     256         conv1d_21[0][0]                  \n",
      "__________________________________________________________________________________________________\n",
      "activation_16 (Activation)      (None, 2503, 64)     0           batch_normalization_17[0][0]     \n",
      "__________________________________________________________________________________________________\n",
      "activation_18 (Activation)      (None, 2503, 64)     0           batch_normalization_19[0][0]     \n",
      "__________________________________________________________________________________________________\n",
      "activation_20 (Activation)      (None, 2503, 64)     0           batch_normalization_21[0][0]     \n",
      "__________________________________________________________________________________________________\n",
      "activation_21 (Activation)      (None, 2503, 64)     0           batch_normalization_22[0][0]     \n",
      "__________________________________________________________________________________________________\n",
      "concatenate_2 (Concatenate)     (None, 2503, 256)    0           activation_16[0][0]              \n",
      "                                                                 activation_18[0][0]              \n",
      "                                                                 activation_20[0][0]              \n",
      "                                                                 activation_21[0][0]              \n",
      "__________________________________________________________________________________________________\n",
      "conv1d_23 (Conv1D)              (None, 2503, 64)     16448       concatenate_2[0][0]              \n",
      "__________________________________________________________________________________________________\n",
      "conv1d_25 (Conv1D)              (None, 2503, 64)     16448       concatenate_2[0][0]              \n",
      "__________________________________________________________________________________________________\n",
      "batch_normalization_24 (BatchNo (None, 2503, 64)     256         conv1d_23[0][0]                  \n",
      "__________________________________________________________________________________________________\n",
      "batch_normalization_26 (BatchNo (None, 2503, 64)     256         conv1d_25[0][0]                  \n",
      "__________________________________________________________________________________________________\n",
      "activation_23 (Activation)      (None, 2503, 64)     0           batch_normalization_24[0][0]     \n",
      "__________________________________________________________________________________________________\n",
      "activation_25 (Activation)      (None, 2503, 64)     0           batch_normalization_26[0][0]     \n",
      "__________________________________________________________________________________________________\n",
      "max_pooling1d_6 (MaxPooling1D)  (None, 2503, 256)    0           concatenate_2[0][0]              \n",
      "__________________________________________________________________________________________________\n",
      "conv1d_22 (Conv1D)              (None, 2503, 64)     16448       concatenate_2[0][0]              \n",
      "__________________________________________________________________________________________________\n",
      "conv1d_24 (Conv1D)              (None, 2503, 64)     12352       activation_23[0][0]              \n",
      "__________________________________________________________________________________________________\n",
      "conv1d_26 (Conv1D)              (None, 2503, 64)     20544       activation_25[0][0]              \n",
      "__________________________________________________________________________________________________\n",
      "conv1d_27 (Conv1D)              (None, 2503, 64)     16448       max_pooling1d_6[0][0]            \n",
      "__________________________________________________________________________________________________\n",
      "batch_normalization_23 (BatchNo (None, 2503, 64)     256         conv1d_22[0][0]                  \n",
      "__________________________________________________________________________________________________\n",
      "batch_normalization_25 (BatchNo (None, 2503, 64)     256         conv1d_24[0][0]                  \n",
      "__________________________________________________________________________________________________\n",
      "batch_normalization_27 (BatchNo (None, 2503, 64)     256         conv1d_26[0][0]                  \n",
      "__________________________________________________________________________________________________\n",
      "batch_normalization_28 (BatchNo (None, 2503, 64)     256         conv1d_27[0][0]                  \n",
      "__________________________________________________________________________________________________\n",
      "activation_22 (Activation)      (None, 2503, 64)     0           batch_normalization_23[0][0]     \n",
      "__________________________________________________________________________________________________\n",
      "activation_24 (Activation)      (None, 2503, 64)     0           batch_normalization_25[0][0]     \n",
      "__________________________________________________________________________________________________\n",
      "activation_26 (Activation)      (None, 2503, 64)     0           batch_normalization_27[0][0]     \n",
      "__________________________________________________________________________________________________\n",
      "activation_27 (Activation)      (None, 2503, 64)     0           batch_normalization_28[0][0]     \n",
      "__________________________________________________________________________________________________\n",
      "concatenate_3 (Concatenate)     (None, 2503, 256)    0           activation_22[0][0]              \n",
      "                                                                 activation_24[0][0]              \n",
      "                                                                 activation_26[0][0]              \n",
      "                                                                 activation_27[0][0]              \n",
      "__________________________________________________________________________________________________\n",
      "max_pooling1d_7 (MaxPooling1D)  (None, 1252, 256)    0           concatenate_3[0][0]              \n",
      "__________________________________________________________________________________________________\n",
      "global_average_pooling1d_2 (Glo (None, 256)          0           max_pooling1d_7[0][0]            \n",
      "__________________________________________________________________________________________________\n",
      "dense_7 (Dense)                 (None, 32)           8224        global_average_pooling1d_2[0][0] \n",
      "__________________________________________________________________________________________________\n",
      "dense_8 (Dense)                 (None, 2)            66          dense_7[0][0]                    \n",
      "==================================================================================================\n",
      "Total params: 169,698\n",
      "Trainable params: 167,906\n",
      "Non-trainable params: 1,792\n",
      "__________________________________________________________________________________________________\n"
     ]
    }
   ],
   "source": [
    "inception_model.summary()"
   ]
  },
  {
   "cell_type": "code",
   "execution_count": 46,
   "metadata": {},
   "outputs": [],
   "source": [
    "inception_model.compile(optimizer = \"adam\", \n",
    "                  loss = tf.keras.losses.BinaryCrossentropy(), metrics=[tf.keras.metrics.BinaryAccuracy(name='accuracy', dtype=None, threshold=0.5),tf.keras.metrics.Recall(name='Recall'),tf.keras.metrics.Precision(name='Precision'), \n",
    "                    tf.keras.metrics.AUC(\n",
    "        num_thresholds=200,\n",
    "        curve=\"ROC\",\n",
    "        summation_method=\"interpolation\",\n",
    "        name=\"AUC\",\n",
    "        dtype=None,\n",
    "        thresholds=None,\n",
    "        multi_label=True,\n",
    "        label_weights=None,)])"
   ]
  },
  {
   "cell_type": "code",
   "execution_count": 47,
   "metadata": {},
   "outputs": [],
   "source": [
    "def train_model_inception(train_df,batch_size , epochs):\n",
    "    s1 = datetime.datetime.now()\n",
    "    for i in range(int(len(train_df)/batch_size)+1):\n",
    "        print('round:', i)  \n",
    "        ds_batch = get_dataset(train_df,batch_size,i)\n",
    "        train_prefetch = ds_batch.prefetch(tf.data.experimental.AUTOTUNE)\n",
    "        train_cache = train_prefetch.cache()\n",
    "        val_data = get_dataset(val_df,int(batch_size*0.2),i)\n",
    "        inception_model.fit(train_cache,epochs=epochs,validation_data = val_data)#,callbacks = [cp_callback])#validation_data = val_df,\n",
    "    s2 = datetime.datetime.now()\n",
    "    print(s2-s1)\n",
    "    return inception_model"
   ]
  },
  {
   "cell_type": "code",
   "execution_count": 48,
   "metadata": {},
   "outputs": [
    {
     "name": "stdout",
     "output_type": "stream",
     "text": [
      "round: 0\n",
      "Epoch 1/20\n",
      "16/16 [==============================] - 143s 9s/step - loss: 0.5790 - accuracy: 0.7017 - Recall: 0.7995 - Precision: 0.6821 - AUC: 0.7688 - val_loss: 0.6675 - val_accuracy: 0.7518 - val_Recall: 0.6553 - val_Precision: 0.8121 - val_AUC: 0.8467\n",
      "Epoch 2/20\n",
      "16/16 [==============================] - 119s 7s/step - loss: 0.4188 - accuracy: 0.8117 - Recall: 0.8124 - Precision: 0.8112 - AUC: 0.8896 - val_loss: 0.6405 - val_accuracy: 0.7641 - val_Recall: 0.7237 - val_Precision: 0.7872 - val_AUC: 0.8375\n",
      "Epoch 3/20\n",
      "16/16 [==============================] - 119s 7s/step - loss: 0.3750 - accuracy: 0.8292 - Recall: 0.8283 - Precision: 0.8298 - AUC: 0.9119 - val_loss: 0.6272 - val_accuracy: 0.7152 - val_Recall: 0.6846 - val_Precision: 0.7292 - val_AUC: 0.8192\n",
      "Epoch 4/20\n",
      "16/16 [==============================] - 120s 8s/step - loss: 0.3488 - accuracy: 0.8351 - Recall: 0.8340 - Precision: 0.8358 - AUC: 0.9253 - val_loss: 0.6231 - val_accuracy: 0.6883 - val_Recall: 0.6699 - val_Precision: 0.6954 - val_AUC: 0.7986\n",
      "Epoch 5/20\n",
      "16/16 [==============================] - 118s 7s/step - loss: 0.3293 - accuracy: 0.8517 - Recall: 0.8495 - Precision: 0.8533 - AUC: 0.9323 - val_loss: 0.6123 - val_accuracy: 0.7078 - val_Recall: 0.6968 - val_Precision: 0.7125 - val_AUC: 0.7900\n",
      "Epoch 6/20\n",
      "16/16 [==============================] - 124s 8s/step - loss: 0.3001 - accuracy: 0.8742 - Recall: 0.8741 - Precision: 0.8742 - AUC: 0.9442 - val_loss: 0.6021 - val_accuracy: 0.7152 - val_Recall: 0.7066 - val_Precision: 0.7189 - val_AUC: 0.7835\n",
      "Epoch 7/20\n",
      "16/16 [==============================] - 120s 8s/step - loss: 0.2758 - accuracy: 0.8846 - Recall: 0.8841 - Precision: 0.8850 - AUC: 0.9537 - val_loss: 0.5968 - val_accuracy: 0.7127 - val_Recall: 0.6944 - val_Precision: 0.7208 - val_AUC: 0.7752\n",
      "Epoch 8/20\n",
      "16/16 [==============================] - 119s 7s/step - loss: 0.2618 - accuracy: 0.8966 - Recall: 0.8982 - Precision: 0.8953 - AUC: 0.9580 - val_loss: 0.5736 - val_accuracy: 0.7152 - val_Recall: 0.6968 - val_Precision: 0.7234 - val_AUC: 0.7964\n",
      "Epoch 9/20\n",
      "16/16 [==============================] - 119s 7s/step - loss: 0.2476 - accuracy: 0.9011 - Recall: 0.9007 - Precision: 0.9014 - AUC: 0.9629 - val_loss: 0.5710 - val_accuracy: 0.6846 - val_Recall: 0.6626 - val_Precision: 0.6931 - val_AUC: 0.7988\n",
      "Epoch 10/20\n",
      "16/16 [==============================] - 118s 7s/step - loss: 0.2407 - accuracy: 0.8997 - Recall: 0.8979 - Precision: 0.9013 - AUC: 0.9643 - val_loss: 0.5783 - val_accuracy: 0.6687 - val_Recall: 0.6577 - val_Precision: 0.6725 - val_AUC: 0.8098\n",
      "Epoch 11/20\n",
      "16/16 [==============================] - 119s 8s/step - loss: 0.2278 - accuracy: 0.9062 - Recall: 0.9037 - Precision: 0.9083 - AUC: 0.9687 - val_loss: 0.5317 - val_accuracy: 0.7396 - val_Recall: 0.7311 - val_Precision: 0.7438 - val_AUC: 0.8227\n",
      "Epoch 12/20\n",
      "16/16 [==============================] - 118s 7s/step - loss: 0.2124 - accuracy: 0.9177 - Recall: 0.9179 - Precision: 0.9175 - AUC: 0.9728 - val_loss: 0.5546 - val_accuracy: 0.7066 - val_Recall: 0.7017 - val_Precision: 0.7086 - val_AUC: 0.8211\n",
      "Epoch 13/20\n",
      "16/16 [==============================] - 119s 8s/step - loss: 0.1998 - accuracy: 0.9171 - Recall: 0.9167 - Precision: 0.9174 - AUC: 0.9760 - val_loss: 0.5093 - val_accuracy: 0.7457 - val_Recall: 0.7433 - val_Precision: 0.7469 - val_AUC: 0.8312\n",
      "Epoch 14/20\n",
      "16/16 [==============================] - 119s 7s/step - loss: 0.1959 - accuracy: 0.9235 - Recall: 0.9224 - Precision: 0.9245 - AUC: 0.9770 - val_loss: 0.5055 - val_accuracy: 0.7433 - val_Recall: 0.7335 - val_Precision: 0.7481 - val_AUC: 0.8285\n",
      "Epoch 15/20\n",
      "16/16 [==============================] - 119s 7s/step - loss: 0.1989 - accuracy: 0.9142 - Recall: 0.9147 - Precision: 0.9139 - AUC: 0.9764 - val_loss: 0.5325 - val_accuracy: 0.7628 - val_Recall: 0.7555 - val_Precision: 0.7667 - val_AUC: 0.8385\n",
      "Epoch 16/20\n",
      "16/16 [==============================] - 119s 7s/step - loss: 0.1806 - accuracy: 0.9275 - Recall: 0.9260 - Precision: 0.9288 - AUC: 0.9816 - val_loss: 0.5166 - val_accuracy: 0.7726 - val_Recall: 0.7677 - val_Precision: 0.7753 - val_AUC: 0.8423\n",
      "Epoch 17/20\n",
      "16/16 [==============================] - 119s 8s/step - loss: 0.1867 - accuracy: 0.9220 - Recall: 0.9231 - Precision: 0.9211 - AUC: 0.9792 - val_loss: 0.4917 - val_accuracy: 0.7824 - val_Recall: 0.7800 - val_Precision: 0.7838 - val_AUC: 0.8604\n",
      "Epoch 18/20\n",
      "16/16 [==============================] - 119s 7s/step - loss: 0.1819 - accuracy: 0.9285 - Recall: 0.9306 - Precision: 0.9268 - AUC: 0.9790 - val_loss: 0.6626 - val_accuracy: 0.7555 - val_Recall: 0.7579 - val_Precision: 0.7543 - val_AUC: 0.8471\n",
      "Epoch 19/20\n",
      "16/16 [==============================] - 119s 7s/step - loss: 0.2030 - accuracy: 0.9229 - Recall: 0.9240 - Precision: 0.9220 - AUC: 0.9757 - val_loss: 0.5427 - val_accuracy: 0.7628 - val_Recall: 0.7604 - val_Precision: 0.7641 - val_AUC: 0.8504\n",
      "Epoch 20/20\n",
      "16/16 [==============================] - 119s 7s/step - loss: 0.1659 - accuracy: 0.9350 - Recall: 0.9347 - Precision: 0.9352 - AUC: 0.9838 - val_loss: 0.5073 - val_accuracy: 0.7897 - val_Recall: 0.7848 - val_Precision: 0.7926 - val_AUC: 0.8627\n",
      "round: 1\n",
      "Epoch 1/20\n",
      "16/16 [==============================] - 138s 9s/step - loss: 0.4555 - accuracy: 0.8301 - Recall: 0.8340 - Precision: 0.8275 - AUC: 0.8990 - val_loss: 0.5315 - val_accuracy: 0.7531 - val_Recall: 0.7506 - val_Precision: 0.7543 - val_AUC: 0.8863\n",
      "Epoch 2/20\n",
      "16/16 [==============================] - 120s 8s/step - loss: 0.3450 - accuracy: 0.8540 - Recall: 0.8579 - Precision: 0.8513 - AUC: 0.9252 - val_loss: 0.4071 - val_accuracy: 0.8093 - val_Recall: 0.8044 - val_Precision: 0.8123 - val_AUC: 0.9052\n",
      "Epoch 3/20\n",
      "16/16 [==============================] - 120s 8s/step - loss: 0.3153 - accuracy: 0.8604 - Recall: 0.8564 - Precision: 0.8632 - AUC: 0.9360 - val_loss: 0.4450 - val_accuracy: 0.8056 - val_Recall: 0.8044 - val_Precision: 0.8064 - val_AUC: 0.9084\n",
      "Epoch 4/20\n",
      "16/16 [==============================] - 119s 7s/step - loss: 0.2888 - accuracy: 0.8733 - Recall: 0.8730 - Precision: 0.8735 - AUC: 0.9458 - val_loss: 0.3907 - val_accuracy: 0.8240 - val_Recall: 0.8240 - val_Precision: 0.8240 - val_AUC: 0.9110\n",
      "Epoch 5/20\n",
      "16/16 [==============================] - 120s 8s/step - loss: 0.2650 - accuracy: 0.8877 - Recall: 0.8867 - Precision: 0.8885 - AUC: 0.9547 - val_loss: 0.4043 - val_accuracy: 0.8191 - val_Recall: 0.8215 - val_Precision: 0.8175 - val_AUC: 0.9064\n",
      "Epoch 6/20\n",
      "16/16 [==============================] - 119s 7s/step - loss: 0.2428 - accuracy: 0.8987 - Recall: 0.8994 - Precision: 0.8981 - AUC: 0.9617 - val_loss: 0.4103 - val_accuracy: 0.8142 - val_Recall: 0.8117 - val_Precision: 0.8157 - val_AUC: 0.9036\n",
      "Epoch 7/20\n",
      "16/16 [==============================] - 122s 8s/step - loss: 0.2201 - accuracy: 0.9163 - Recall: 0.9165 - Precision: 0.9161 - AUC: 0.9686 - val_loss: 0.4600 - val_accuracy: 0.8105 - val_Recall: 0.8068 - val_Precision: 0.8128 - val_AUC: 0.8922\n",
      "Epoch 8/20\n",
      "16/16 [==============================] - 119s 7s/step - loss: 0.1982 - accuracy: 0.9226 - Recall: 0.9233 - Precision: 0.9220 - AUC: 0.9748 - val_loss: 0.4590 - val_accuracy: 0.8044 - val_Recall: 0.8020 - val_Precision: 0.8059 - val_AUC: 0.8902\n",
      "Epoch 9/20\n",
      "16/16 [==============================] - 118s 7s/step - loss: 0.1752 - accuracy: 0.9417 - Recall: 0.9414 - Precision: 0.9419 - AUC: 0.9804 - val_loss: 0.5144 - val_accuracy: 0.7848 - val_Recall: 0.7775 - val_Precision: 0.7891 - val_AUC: 0.8810\n",
      "Epoch 10/20\n",
      "16/16 [==============================] - 120s 8s/step - loss: 0.1552 - accuracy: 0.9478 - Recall: 0.9478 - Precision: 0.9478 - AUC: 0.9850 - val_loss: 0.5001 - val_accuracy: 0.7983 - val_Recall: 0.7946 - val_Precision: 0.8005 - val_AUC: 0.8827\n",
      "Epoch 11/20\n",
      "16/16 [==============================] - 118s 7s/step - loss: 0.1525 - accuracy: 0.9465 - Recall: 0.9468 - Precision: 0.9463 - AUC: 0.9849 - val_loss: 0.5893 - val_accuracy: 0.7861 - val_Recall: 0.7824 - val_Precision: 0.7882 - val_AUC: 0.8766\n",
      "Epoch 12/20\n",
      "16/16 [==============================] - 118s 7s/step - loss: 0.1883 - accuracy: 0.9243 - Recall: 0.9248 - Precision: 0.9239 - AUC: 0.9768 - val_loss: 0.5671 - val_accuracy: 0.7995 - val_Recall: 0.7971 - val_Precision: 0.8010 - val_AUC: 0.8741\n",
      "Epoch 13/20\n",
      "16/16 [==============================] - 118s 7s/step - loss: 0.1975 - accuracy: 0.9219 - Recall: 0.9214 - Precision: 0.9223 - AUC: 0.9753 - val_loss: 0.5319 - val_accuracy: 0.7910 - val_Recall: 0.7873 - val_Precision: 0.7931 - val_AUC: 0.8870\n",
      "Epoch 14/20\n",
      "16/16 [==============================] - 118s 7s/step - loss: 0.1497 - accuracy: 0.9395 - Recall: 0.9390 - Precision: 0.9399 - AUC: 0.9865 - val_loss: 0.5511 - val_accuracy: 0.7971 - val_Recall: 0.7971 - val_Precision: 0.7971 - val_AUC: 0.8768\n",
      "Epoch 15/20\n",
      "16/16 [==============================] - 118s 7s/step - loss: 0.1268 - accuracy: 0.9585 - Recall: 0.9590 - Precision: 0.9580 - AUC: 0.9905 - val_loss: 0.5592 - val_accuracy: 0.7946 - val_Recall: 0.7873 - val_Precision: 0.7990 - val_AUC: 0.8921\n",
      "Epoch 16/20\n",
      "16/16 [==============================] - 119s 7s/step - loss: 0.1186 - accuracy: 0.9580 - Recall: 0.9575 - Precision: 0.9585 - AUC: 0.9909 - val_loss: 0.6822 - val_accuracy: 0.7812 - val_Recall: 0.7824 - val_Precision: 0.7805 - val_AUC: 0.8755\n",
      "Epoch 17/20\n",
      "16/16 [==============================] - 119s 7s/step - loss: 0.1196 - accuracy: 0.9583 - Recall: 0.9580 - Precision: 0.9585 - AUC: 0.9908 - val_loss: 0.6451 - val_accuracy: 0.7824 - val_Recall: 0.7775 - val_Precision: 0.7852 - val_AUC: 0.8590\n",
      "Epoch 18/20\n",
      "16/16 [==============================] - 127s 8s/step - loss: 0.1550 - accuracy: 0.9392 - Recall: 0.9399 - Precision: 0.9386 - AUC: 0.9840 - val_loss: 0.5721 - val_accuracy: 0.7922 - val_Recall: 0.7897 - val_Precision: 0.7936 - val_AUC: 0.8791\n",
      "Epoch 19/20\n",
      "16/16 [==============================] - 125s 8s/step - loss: 0.1570 - accuracy: 0.9404 - Recall: 0.9404 - Precision: 0.9404 - AUC: 0.9837 - val_loss: 0.6352 - val_accuracy: 0.8032 - val_Recall: 0.8020 - val_Precision: 0.8039 - val_AUC: 0.8728\n",
      "Epoch 20/20\n",
      "16/16 [==============================] - 124s 8s/step - loss: 0.1489 - accuracy: 0.9382 - Recall: 0.9385 - Precision: 0.9380 - AUC: 0.9868 - val_loss: 0.8085 - val_accuracy: 0.7689 - val_Recall: 0.7702 - val_Precision: 0.7683 - val_AUC: 0.8537\n",
      "round: 2\n",
      "Epoch 1/20\n",
      "16/16 [==============================] - 144s 9s/step - loss: 0.4665 - accuracy: 0.8218 - Recall: 0.8232 - Precision: 0.8208 - AUC: 0.8959 - val_loss: 0.4440 - val_accuracy: 0.7910 - val_Recall: 0.8215 - val_Precision: 0.7742 - val_AUC: 0.9057\n",
      "Epoch 2/20\n",
      "16/16 [==============================] - 124s 8s/step - loss: 0.3407 - accuracy: 0.8545 - Recall: 0.8633 - Precision: 0.8484 - AUC: 0.9285 - val_loss: 0.4081 - val_accuracy: 0.8142 - val_Recall: 0.8117 - val_Precision: 0.8157 - val_AUC: 0.9107\n",
      "Epoch 3/20\n",
      "16/16 [==============================] - 124s 8s/step - loss: 0.2992 - accuracy: 0.8677 - Recall: 0.8662 - Precision: 0.8688 - AUC: 0.9437 - val_loss: 0.4110 - val_accuracy: 0.8289 - val_Recall: 0.8313 - val_Precision: 0.8273 - val_AUC: 0.8990\n",
      "Epoch 4/20\n",
      "16/16 [==============================] - 124s 8s/step - loss: 0.2724 - accuracy: 0.8794 - Recall: 0.8799 - Precision: 0.8790 - AUC: 0.9539 - val_loss: 0.4257 - val_accuracy: 0.8276 - val_Recall: 0.8289 - val_Precision: 0.8268 - val_AUC: 0.8949\n",
      "Epoch 5/20\n",
      "16/16 [==============================] - 123s 8s/step - loss: 0.2501 - accuracy: 0.8950 - Recall: 0.8965 - Precision: 0.8939 - AUC: 0.9611 - val_loss: 0.4452 - val_accuracy: 0.8178 - val_Recall: 0.8142 - val_Precision: 0.8202 - val_AUC: 0.8918\n",
      "Epoch 6/20\n",
      "16/16 [==============================] - 124s 8s/step - loss: 0.2316 - accuracy: 0.9036 - Recall: 0.9048 - Precision: 0.9026 - AUC: 0.9668 - val_loss: 0.4627 - val_accuracy: 0.8154 - val_Recall: 0.8117 - val_Precision: 0.8177 - val_AUC: 0.8888\n",
      "Epoch 7/20\n",
      "16/16 [==============================] - 123s 8s/step - loss: 0.2078 - accuracy: 0.9197 - Recall: 0.9209 - Precision: 0.9187 - AUC: 0.9739 - val_loss: 0.4851 - val_accuracy: 0.8130 - val_Recall: 0.8117 - val_Precision: 0.8137 - val_AUC: 0.8838\n",
      "Epoch 8/20\n",
      "16/16 [==============================] - 124s 8s/step - loss: 0.1856 - accuracy: 0.9319 - Recall: 0.9336 - Precision: 0.9304 - AUC: 0.9794 - val_loss: 0.4972 - val_accuracy: 0.8117 - val_Recall: 0.8068 - val_Precision: 0.8148 - val_AUC: 0.8815\n",
      "Epoch 9/20\n",
      "16/16 [==============================] - 124s 8s/step - loss: 0.1632 - accuracy: 0.9402 - Recall: 0.9424 - Precision: 0.9383 - AUC: 0.9843 - val_loss: 0.5176 - val_accuracy: 0.8081 - val_Recall: 0.8020 - val_Precision: 0.8119 - val_AUC: 0.8788\n",
      "Epoch 10/20\n",
      "16/16 [==============================] - 124s 8s/step - loss: 0.1506 - accuracy: 0.9458 - Recall: 0.9473 - Precision: 0.9445 - AUC: 0.9866 - val_loss: 0.5651 - val_accuracy: 0.7971 - val_Recall: 0.7897 - val_Precision: 0.8015 - val_AUC: 0.8679\n",
      "Epoch 11/20\n",
      "16/16 [==============================] - 123s 8s/step - loss: 0.1475 - accuracy: 0.9458 - Recall: 0.9463 - Precision: 0.9454 - AUC: 0.9868 - val_loss: 0.5973 - val_accuracy: 0.8032 - val_Recall: 0.7995 - val_Precision: 0.8054 - val_AUC: 0.8732\n",
      "Epoch 12/20\n",
      "16/16 [==============================] - 124s 8s/step - loss: 0.1456 - accuracy: 0.9438 - Recall: 0.9438 - Precision: 0.9438 - AUC: 0.9871 - val_loss: 0.6487 - val_accuracy: 0.7873 - val_Recall: 0.7824 - val_Precision: 0.7901 - val_AUC: 0.8816\n",
      "Epoch 13/20\n",
      "16/16 [==============================] - 124s 8s/step - loss: 0.1637 - accuracy: 0.9319 - Recall: 0.9326 - Precision: 0.9313 - AUC: 0.9841 - val_loss: 0.6861 - val_accuracy: 0.7885 - val_Recall: 0.7873 - val_Precision: 0.7892 - val_AUC: 0.8884\n",
      "Epoch 14/20\n",
      "16/16 [==============================] - 124s 8s/step - loss: 0.1658 - accuracy: 0.9307 - Recall: 0.9316 - Precision: 0.9298 - AUC: 0.9832 - val_loss: 0.9357 - val_accuracy: 0.6956 - val_Recall: 0.6944 - val_Precision: 0.6961 - val_AUC: 0.8669\n",
      "Epoch 15/20\n",
      "16/16 [==============================] - 124s 8s/step - loss: 0.1619 - accuracy: 0.9385 - Recall: 0.9380 - Precision: 0.9389 - AUC: 0.9837 - val_loss: 0.6251 - val_accuracy: 0.7604 - val_Recall: 0.7604 - val_Precision: 0.7604 - val_AUC: 0.8608\n",
      "Epoch 16/20\n",
      "16/16 [==============================] - 124s 8s/step - loss: 0.1787 - accuracy: 0.9277 - Recall: 0.9282 - Precision: 0.9273 - AUC: 0.9798 - val_loss: 0.8966 - val_accuracy: 0.7090 - val_Recall: 0.7042 - val_Precision: 0.7111 - val_AUC: 0.8624\n",
      "Epoch 17/20\n",
      "16/16 [==============================] - 124s 8s/step - loss: 0.1552 - accuracy: 0.9368 - Recall: 0.9370 - Precision: 0.9366 - AUC: 0.9852 - val_loss: 0.5518 - val_accuracy: 0.7751 - val_Recall: 0.7751 - val_Precision: 0.7751 - val_AUC: 0.8620\n",
      "Epoch 18/20\n",
      "16/16 [==============================] - 124s 8s/step - loss: 0.1353 - accuracy: 0.9492 - Recall: 0.9497 - Precision: 0.9488 - AUC: 0.9885 - val_loss: 0.5800 - val_accuracy: 0.7641 - val_Recall: 0.7604 - val_Precision: 0.7660 - val_AUC: 0.8581\n",
      "Epoch 19/20\n",
      "16/16 [==============================] - 124s 8s/step - loss: 0.1284 - accuracy: 0.9500 - Recall: 0.9502 - Precision: 0.9497 - AUC: 0.9903 - val_loss: 0.7093 - val_accuracy: 0.7653 - val_Recall: 0.7579 - val_Precision: 0.7692 - val_AUC: 0.8762\n",
      "Epoch 20/20\n",
      "16/16 [==============================] - 123s 8s/step - loss: 0.1125 - accuracy: 0.9573 - Recall: 0.9575 - Precision: 0.9571 - AUC: 0.9925 - val_loss: 0.6242 - val_accuracy: 0.7800 - val_Recall: 0.7800 - val_Precision: 0.7800 - val_AUC: 0.8770\n",
      "round: 3\n",
      "Epoch 1/20\n",
      "16/16 [==============================] - 147s 9s/step - loss: 0.5065 - accuracy: 0.8188 - Recall: 0.8193 - Precision: 0.8185 - AUC: 0.8952 - val_loss: 0.4498 - val_accuracy: 0.7910 - val_Recall: 0.8020 - val_Precision: 0.7847 - val_AUC: 0.8777\n",
      "Epoch 2/20\n",
      "16/16 [==============================] - 119s 7s/step - loss: 0.3392 - accuracy: 0.8477 - Recall: 0.8540 - Precision: 0.8433 - AUC: 0.9277 - val_loss: 0.4492 - val_accuracy: 0.7995 - val_Recall: 0.7946 - val_Precision: 0.8025 - val_AUC: 0.8773\n",
      "Epoch 3/20\n",
      "16/16 [==============================] - 118s 7s/step - loss: 0.2966 - accuracy: 0.8665 - Recall: 0.8652 - Precision: 0.8674 - AUC: 0.9438 - val_loss: 0.4620 - val_accuracy: 0.7885 - val_Recall: 0.7922 - val_Precision: 0.7864 - val_AUC: 0.8903\n",
      "Epoch 4/20\n",
      "16/16 [==============================] - 119s 7s/step - loss: 0.2674 - accuracy: 0.8826 - Recall: 0.8833 - Precision: 0.8820 - AUC: 0.9544 - val_loss: 0.4816 - val_accuracy: 0.7897 - val_Recall: 0.8020 - val_Precision: 0.7828 - val_AUC: 0.8905\n",
      "Epoch 5/20\n",
      "16/16 [==============================] - 119s 7s/step - loss: 0.2403 - accuracy: 0.8997 - Recall: 0.9019 - Precision: 0.8979 - AUC: 0.9638 - val_loss: 0.4855 - val_accuracy: 0.7885 - val_Recall: 0.7946 - val_Precision: 0.7850 - val_AUC: 0.8948\n",
      "Epoch 6/20\n",
      "16/16 [==============================] - 119s 7s/step - loss: 0.2209 - accuracy: 0.9077 - Recall: 0.9072 - Precision: 0.9081 - AUC: 0.9694 - val_loss: 0.4930 - val_accuracy: 0.7848 - val_Recall: 0.7897 - val_Precision: 0.7821 - val_AUC: 0.8928\n",
      "Epoch 7/20\n",
      "16/16 [==============================] - 119s 7s/step - loss: 0.2004 - accuracy: 0.9185 - Recall: 0.9185 - Precision: 0.9185 - AUC: 0.9750 - val_loss: 0.5095 - val_accuracy: 0.7910 - val_Recall: 0.7971 - val_Precision: 0.7874 - val_AUC: 0.8918\n",
      "Epoch 8/20\n",
      "16/16 [==============================] - 119s 7s/step - loss: 0.1797 - accuracy: 0.9280 - Recall: 0.9287 - Precision: 0.9274 - AUC: 0.9804 - val_loss: 0.5118 - val_accuracy: 0.7861 - val_Recall: 0.7848 - val_Precision: 0.7868 - val_AUC: 0.8889\n",
      "Epoch 9/20\n",
      "16/16 [==============================] - 119s 7s/step - loss: 0.1608 - accuracy: 0.9370 - Recall: 0.9380 - Precision: 0.9362 - AUC: 0.9847 - val_loss: 0.5374 - val_accuracy: 0.7910 - val_Recall: 0.7873 - val_Precision: 0.7931 - val_AUC: 0.8876\n",
      "Epoch 10/20\n",
      "16/16 [==============================] - 121s 8s/step - loss: 0.1386 - accuracy: 0.9512 - Recall: 0.9517 - Precision: 0.9507 - AUC: 0.9890 - val_loss: 0.5442 - val_accuracy: 0.8007 - val_Recall: 0.7971 - val_Precision: 0.8030 - val_AUC: 0.8859\n",
      "Epoch 11/20\n",
      "16/16 [==============================] - 124s 8s/step - loss: 0.1324 - accuracy: 0.9534 - Recall: 0.9526 - Precision: 0.9540 - AUC: 0.9900 - val_loss: 0.5728 - val_accuracy: 0.8044 - val_Recall: 0.7971 - val_Precision: 0.8089 - val_AUC: 0.8852\n",
      "Epoch 12/20\n",
      "16/16 [==============================] - 124s 8s/step - loss: 0.1342 - accuracy: 0.9446 - Recall: 0.9453 - Precision: 0.9439 - AUC: 0.9892 - val_loss: 0.7550 - val_accuracy: 0.7641 - val_Recall: 0.7604 - val_Precision: 0.7660 - val_AUC: 0.8751\n",
      "Epoch 13/20\n",
      "16/16 [==============================] - 124s 8s/step - loss: 0.1551 - accuracy: 0.9360 - Recall: 0.9355 - Precision: 0.9365 - AUC: 0.9853 - val_loss: 0.6507 - val_accuracy: 0.7812 - val_Recall: 0.7800 - val_Precision: 0.7819 - val_AUC: 0.8830\n",
      "Epoch 14/20\n",
      "16/16 [==============================] - 124s 8s/step - loss: 0.1838 - accuracy: 0.9246 - Recall: 0.9243 - Precision: 0.9248 - AUC: 0.9792 - val_loss: 0.6694 - val_accuracy: 0.7946 - val_Recall: 0.7922 - val_Precision: 0.7961 - val_AUC: 0.8650\n",
      "Epoch 15/20\n",
      "16/16 [==============================] - 124s 8s/step - loss: 0.1651 - accuracy: 0.9341 - Recall: 0.9336 - Precision: 0.9345 - AUC: 0.9836 - val_loss: 0.8832 - val_accuracy: 0.7641 - val_Recall: 0.7604 - val_Precision: 0.7660 - val_AUC: 0.8627\n",
      "Epoch 16/20\n",
      "16/16 [==============================] - 124s 8s/step - loss: 0.1386 - accuracy: 0.9429 - Recall: 0.9448 - Precision: 0.9411 - AUC: 0.9884 - val_loss: 0.6176 - val_accuracy: 0.7934 - val_Recall: 0.7971 - val_Precision: 0.7913 - val_AUC: 0.8767\n",
      "Epoch 17/20\n",
      "16/16 [==============================] - 124s 8s/step - loss: 0.1348 - accuracy: 0.9453 - Recall: 0.9443 - Precision: 0.9462 - AUC: 0.9890 - val_loss: 0.6171 - val_accuracy: 0.8007 - val_Recall: 0.7971 - val_Precision: 0.8030 - val_AUC: 0.8795\n",
      "Epoch 18/20\n",
      "16/16 [==============================] - 124s 8s/step - loss: 0.1270 - accuracy: 0.9539 - Recall: 0.9546 - Precision: 0.9532 - AUC: 0.9895 - val_loss: 0.7099 - val_accuracy: 0.7714 - val_Recall: 0.7726 - val_Precision: 0.7707 - val_AUC: 0.8463\n",
      "Epoch 19/20\n",
      "16/16 [==============================] - 124s 8s/step - loss: 0.1142 - accuracy: 0.9565 - Recall: 0.9561 - Precision: 0.9570 - AUC: 0.9912 - val_loss: 0.8163 - val_accuracy: 0.7702 - val_Recall: 0.7726 - val_Precision: 0.7689 - val_AUC: 0.8634\n",
      "Epoch 20/20\n",
      "16/16 [==============================] - 124s 8s/step - loss: 0.0888 - accuracy: 0.9700 - Recall: 0.9697 - Precision: 0.9702 - AUC: 0.9952 - val_loss: 0.6557 - val_accuracy: 0.7983 - val_Recall: 0.7971 - val_Precision: 0.7990 - val_AUC: 0.8739\n",
      "round: 4\n",
      "Epoch 1/20\n",
      "16/16 [==============================] - 144s 9s/step - loss: 0.4836 - accuracy: 0.8323 - Recall: 0.8340 - Precision: 0.8311 - AUC: 0.9101 - val_loss: 0.9023 - val_accuracy: 0.7249 - val_Recall: 0.7384 - val_Precision: 0.7190 - val_AUC: 0.8962\n",
      "Epoch 2/20\n",
      "16/16 [==============================] - 124s 8s/step - loss: 0.3290 - accuracy: 0.8652 - Recall: 0.8774 - Precision: 0.8565 - AUC: 0.9361 - val_loss: 0.5257 - val_accuracy: 0.7861 - val_Recall: 0.7946 - val_Precision: 0.7812 - val_AUC: 0.9059\n",
      "Epoch 3/20\n",
      "16/16 [==============================] - 124s 8s/step - loss: 0.2735 - accuracy: 0.8948 - Recall: 0.8940 - Precision: 0.8954 - AUC: 0.9547 - val_loss: 0.5667 - val_accuracy: 0.7824 - val_Recall: 0.7848 - val_Precision: 0.7810 - val_AUC: 0.9049\n",
      "Epoch 4/20\n",
      "16/16 [==============================] - 124s 8s/step - loss: 0.2368 - accuracy: 0.9041 - Recall: 0.9053 - Precision: 0.9031 - AUC: 0.9658 - val_loss: 0.5958 - val_accuracy: 0.7787 - val_Recall: 0.7800 - val_Precision: 0.7780 - val_AUC: 0.9052\n",
      "Epoch 5/20\n",
      "16/16 [==============================] - 124s 8s/step - loss: 0.2144 - accuracy: 0.9143 - Recall: 0.9170 - Precision: 0.9121 - AUC: 0.9726 - val_loss: 0.5370 - val_accuracy: 0.8032 - val_Recall: 0.8093 - val_Precision: 0.7995 - val_AUC: 0.9059\n",
      "Epoch 6/20\n",
      "16/16 [==============================] - 123s 8s/step - loss: 0.1869 - accuracy: 0.9280 - Recall: 0.9312 - Precision: 0.9253 - AUC: 0.9794 - val_loss: 0.5343 - val_accuracy: 0.8117 - val_Recall: 0.8093 - val_Precision: 0.8133 - val_AUC: 0.9003\n",
      "Epoch 7/20\n",
      "16/16 [==============================] - 124s 8s/step - loss: 0.1693 - accuracy: 0.9363 - Recall: 0.9341 - Precision: 0.9382 - AUC: 0.9834 - val_loss: 0.4998 - val_accuracy: 0.8068 - val_Recall: 0.8093 - val_Precision: 0.8054 - val_AUC: 0.8963\n",
      "Epoch 8/20\n",
      "16/16 [==============================] - 124s 8s/step - loss: 0.1623 - accuracy: 0.9360 - Recall: 0.9370 - Precision: 0.9352 - AUC: 0.9845 - val_loss: 0.5070 - val_accuracy: 0.8130 - val_Recall: 0.8191 - val_Precision: 0.8092 - val_AUC: 0.8925\n",
      "Epoch 9/20\n",
      "16/16 [==============================] - 123s 8s/step - loss: 0.1619 - accuracy: 0.9351 - Recall: 0.9360 - Precision: 0.9342 - AUC: 0.9843 - val_loss: 0.6542 - val_accuracy: 0.7714 - val_Recall: 0.7726 - val_Precision: 0.7707 - val_AUC: 0.8934\n",
      "Epoch 10/20\n",
      "16/16 [==============================] - 124s 8s/step - loss: 0.1698 - accuracy: 0.9277 - Recall: 0.9292 - Precision: 0.9265 - AUC: 0.9826 - val_loss: 0.9063 - val_accuracy: 0.7152 - val_Recall: 0.7164 - val_Precision: 0.7146 - val_AUC: 0.8796\n",
      "Epoch 11/20\n",
      "16/16 [==============================] - 124s 8s/step - loss: 0.1835 - accuracy: 0.9248 - Recall: 0.9268 - Precision: 0.9232 - AUC: 0.9795 - val_loss: 0.5445 - val_accuracy: 0.7897 - val_Recall: 0.7946 - val_Precision: 0.7869 - val_AUC: 0.8861\n",
      "Epoch 12/20\n",
      "16/16 [==============================] - 124s 8s/step - loss: 0.1542 - accuracy: 0.9407 - Recall: 0.9424 - Precision: 0.9392 - AUC: 0.9856 - val_loss: 0.5332 - val_accuracy: 0.8007 - val_Recall: 0.8093 - val_Precision: 0.7957 - val_AUC: 0.8781\n",
      "Epoch 13/20\n",
      "16/16 [==============================] - 124s 8s/step - loss: 0.1247 - accuracy: 0.9500 - Recall: 0.9531 - Precision: 0.9471 - AUC: 0.9909 - val_loss: 0.5602 - val_accuracy: 0.7885 - val_Recall: 0.7873 - val_Precision: 0.7892 - val_AUC: 0.8763\n",
      "Epoch 14/20\n",
      "16/16 [==============================] - 123s 8s/step - loss: 0.1027 - accuracy: 0.9646 - Recall: 0.9644 - Precision: 0.9648 - AUC: 0.9937 - val_loss: 0.5588 - val_accuracy: 0.8154 - val_Recall: 0.8142 - val_Precision: 0.8162 - val_AUC: 0.8757\n",
      "Epoch 15/20\n",
      "16/16 [==============================] - 124s 8s/step - loss: 0.1056 - accuracy: 0.9595 - Recall: 0.9600 - Precision: 0.9590 - AUC: 0.9933 - val_loss: 0.6501 - val_accuracy: 0.7983 - val_Recall: 0.7971 - val_Precision: 0.7990 - val_AUC: 0.8721\n",
      "Epoch 16/20\n",
      "16/16 [==============================] - 124s 8s/step - loss: 0.1088 - accuracy: 0.9541 - Recall: 0.9541 - Precision: 0.9541 - AUC: 0.9926 - val_loss: 0.5702 - val_accuracy: 0.8032 - val_Recall: 0.8020 - val_Precision: 0.8039 - val_AUC: 0.8821\n",
      "Epoch 17/20\n",
      "16/16 [==============================] - 124s 8s/step - loss: 0.1130 - accuracy: 0.9558 - Recall: 0.9565 - Precision: 0.9551 - AUC: 0.9921 - val_loss: 0.7138 - val_accuracy: 0.7677 - val_Recall: 0.7677 - val_Precision: 0.7677 - val_AUC: 0.8788\n",
      "Epoch 18/20\n",
      "16/16 [==============================] - 124s 8s/step - loss: 0.1225 - accuracy: 0.9529 - Recall: 0.9536 - Precision: 0.9522 - AUC: 0.9904 - val_loss: 0.7235 - val_accuracy: 0.8166 - val_Recall: 0.8191 - val_Precision: 0.8151 - val_AUC: 0.8742\n",
      "Epoch 19/20\n",
      "16/16 [==============================] - 124s 8s/step - loss: 0.1279 - accuracy: 0.9529 - Recall: 0.9536 - Precision: 0.9522 - AUC: 0.9898 - val_loss: 0.7214 - val_accuracy: 0.8044 - val_Recall: 0.8044 - val_Precision: 0.8044 - val_AUC: 0.8758\n",
      "Epoch 20/20\n",
      "16/16 [==============================] - 124s 8s/step - loss: 0.1019 - accuracy: 0.9617 - Recall: 0.9624 - Precision: 0.9610 - AUC: 0.9940 - val_loss: 1.1243 - val_accuracy: 0.6968 - val_Recall: 0.6993 - val_Precision: 0.6959 - val_AUC: 0.8535\n",
      "round: 5\n",
      "Epoch 1/20\n",
      "16/16 [==============================] - 141s 9s/step - loss: 0.4911 - accuracy: 0.8232 - Recall: 0.8354 - Precision: 0.8155 - AUC: 0.8957 - val_loss: 0.6001 - val_accuracy: 0.7131 - val_Recall: 0.7835 - val_Precision: 0.6867 - val_AUC: 0.8992\n",
      "Epoch 2/20\n",
      "16/16 [==============================] - 120s 8s/step - loss: 0.3233 - accuracy: 0.8618 - Recall: 0.8813 - Precision: 0.8482 - AUC: 0.9357 - val_loss: 0.5662 - val_accuracy: 0.7612 - val_Recall: 0.7629 - val_Precision: 0.7603 - val_AUC: 0.9122\n",
      "Epoch 3/20\n",
      "16/16 [==============================] - 120s 8s/step - loss: 0.2820 - accuracy: 0.8792 - Recall: 0.8735 - Precision: 0.8835 - AUC: 0.9493 - val_loss: 0.5453 - val_accuracy: 0.7663 - val_Recall: 0.7560 - val_Precision: 0.7719 - val_AUC: 0.9176\n",
      "Epoch 4/20\n",
      "16/16 [==============================] - 120s 8s/step - loss: 0.2470 - accuracy: 0.8975 - Recall: 0.8960 - Precision: 0.8986 - AUC: 0.9618 - val_loss: 0.5441 - val_accuracy: 0.7646 - val_Recall: 0.7698 - val_Precision: 0.7619 - val_AUC: 0.9203\n",
      "Epoch 5/20\n",
      "16/16 [==============================] - 120s 8s/step - loss: 0.2134 - accuracy: 0.9138 - Recall: 0.9136 - Precision: 0.9140 - AUC: 0.9717 - val_loss: 0.6289 - val_accuracy: 0.7388 - val_Recall: 0.7423 - val_Precision: 0.7372 - val_AUC: 0.9185\n",
      "Epoch 6/20\n",
      "16/16 [==============================] - 120s 8s/step - loss: 0.1862 - accuracy: 0.9302 - Recall: 0.9302 - Precision: 0.9302 - AUC: 0.9784 - val_loss: 0.7445 - val_accuracy: 0.6993 - val_Recall: 0.6976 - val_Precision: 0.7000 - val_AUC: 0.9117\n",
      "Epoch 7/20\n",
      "16/16 [==============================] - 120s 8s/step - loss: 0.1603 - accuracy: 0.9456 - Recall: 0.9453 - Precision: 0.9458 - AUC: 0.9841 - val_loss: 0.7945 - val_accuracy: 0.7216 - val_Recall: 0.7148 - val_Precision: 0.7247 - val_AUC: 0.9039\n",
      "Epoch 8/20\n",
      "16/16 [==============================] - 121s 8s/step - loss: 0.1364 - accuracy: 0.9563 - Recall: 0.9561 - Precision: 0.9565 - AUC: 0.9888 - val_loss: 0.8646 - val_accuracy: 0.7268 - val_Recall: 0.7251 - val_Precision: 0.7276 - val_AUC: 0.9020\n",
      "Epoch 9/20\n",
      "16/16 [==============================] - 120s 8s/step - loss: 0.1221 - accuracy: 0.9617 - Recall: 0.9614 - Precision: 0.9619 - AUC: 0.9911 - val_loss: 0.7496 - val_accuracy: 0.7543 - val_Recall: 0.7526 - val_Precision: 0.7552 - val_AUC: 0.8988\n",
      "Epoch 10/20\n",
      "16/16 [==============================] - 120s 8s/step - loss: 0.1177 - accuracy: 0.9617 - Recall: 0.9619 - Precision: 0.9614 - AUC: 0.9920 - val_loss: 0.9115 - val_accuracy: 0.7216 - val_Recall: 0.7216 - val_Precision: 0.7216 - val_AUC: 0.8799\n",
      "Epoch 11/20\n",
      "16/16 [==============================] - 120s 8s/step - loss: 0.1289 - accuracy: 0.9502 - Recall: 0.9512 - Precision: 0.9493 - AUC: 0.9895 - val_loss: 0.8815 - val_accuracy: 0.7457 - val_Recall: 0.7423 - val_Precision: 0.7474 - val_AUC: 0.8734\n",
      "Epoch 12/20\n",
      "16/16 [==============================] - 120s 8s/step - loss: 0.1478 - accuracy: 0.9407 - Recall: 0.9419 - Precision: 0.9396 - AUC: 0.9859 - val_loss: 1.0336 - val_accuracy: 0.7612 - val_Recall: 0.7595 - val_Precision: 0.7621 - val_AUC: 0.8692\n",
      "Epoch 13/20\n",
      "16/16 [==============================] - 120s 8s/step - loss: 0.1726 - accuracy: 0.9307 - Recall: 0.9321 - Precision: 0.9294 - AUC: 0.9808 - val_loss: 1.2530 - val_accuracy: 0.6529 - val_Recall: 0.6529 - val_Precision: 0.6529 - val_AUC: 0.8570\n",
      "Epoch 14/20\n",
      "16/16 [==============================] - 120s 8s/step - loss: 0.1474 - accuracy: 0.9456 - Recall: 0.9482 - Precision: 0.9432 - AUC: 0.9859 - val_loss: 0.6967 - val_accuracy: 0.7337 - val_Recall: 0.7354 - val_Precision: 0.7329 - val_AUC: 0.8739\n",
      "Epoch 15/20\n",
      "16/16 [==============================] - 120s 8s/step - loss: 0.1192 - accuracy: 0.9563 - Recall: 0.9565 - Precision: 0.9561 - AUC: 0.9914 - val_loss: 0.8292 - val_accuracy: 0.7113 - val_Recall: 0.7113 - val_Precision: 0.7113 - val_AUC: 0.8704\n",
      "Epoch 16/20\n",
      "16/16 [==============================] - 121s 8s/step - loss: 0.0943 - accuracy: 0.9690 - Recall: 0.9688 - Precision: 0.9692 - AUC: 0.9950 - val_loss: 0.8920 - val_accuracy: 0.7251 - val_Recall: 0.7251 - val_Precision: 0.7251 - val_AUC: 0.8773\n",
      "Epoch 17/20\n",
      "16/16 [==============================] - 120s 8s/step - loss: 0.0854 - accuracy: 0.9678 - Recall: 0.9673 - Precision: 0.9682 - AUC: 0.9949 - val_loss: 0.6875 - val_accuracy: 0.8093 - val_Recall: 0.8076 - val_Precision: 0.8103 - val_AUC: 0.8834\n",
      "Epoch 18/20\n",
      "16/16 [==============================] - 120s 8s/step - loss: 0.0586 - accuracy: 0.9812 - Recall: 0.9805 - Precision: 0.9819 - AUC: 0.9986 - val_loss: 0.7596 - val_accuracy: 0.7869 - val_Recall: 0.7835 - val_Precision: 0.7889 - val_AUC: 0.8777\n",
      "Epoch 19/20\n",
      "16/16 [==============================] - 120s 8s/step - loss: 0.0616 - accuracy: 0.9824 - Recall: 0.9829 - Precision: 0.9820 - AUC: 0.9977 - val_loss: 0.7386 - val_accuracy: 0.7646 - val_Recall: 0.7595 - val_Precision: 0.7674 - val_AUC: 0.8751\n",
      "Epoch 20/20\n",
      "16/16 [==============================] - 120s 8s/step - loss: 0.0466 - accuracy: 0.9861 - Recall: 0.9858 - Precision: 0.9863 - AUC: 0.9990 - val_loss: 0.7094 - val_accuracy: 0.7904 - val_Recall: 0.7904 - val_Precision: 0.7904 - val_AUC: 0.8852\n",
      "round: 6\n",
      "Epoch 1/20\n",
      "16/16 [==============================] - 131s 8s/step - loss: 0.5646 - accuracy: 0.8225 - Recall: 0.8291 - Precision: 0.8183 - AUC: 0.8902\n",
      "Epoch 2/20\n",
      "16/16 [==============================] - 111s 7s/step - loss: 0.3306 - accuracy: 0.8623 - Recall: 0.8779 - Precision: 0.8513 - AUC: 0.9332\n",
      "Epoch 3/20\n",
      "16/16 [==============================] - 111s 7s/step - loss: 0.2922 - accuracy: 0.8789 - Recall: 0.8745 - Precision: 0.8823 - AUC: 0.9466\n",
      "Epoch 4/20\n",
      "16/16 [==============================] - 111s 7s/step - loss: 0.2680 - accuracy: 0.8921 - Recall: 0.8936 - Precision: 0.8909 - AUC: 0.9547\n",
      "Epoch 5/20\n",
      "16/16 [==============================] - 111s 7s/step - loss: 0.2489 - accuracy: 0.9065 - Recall: 0.9082 - Precision: 0.9051 - AUC: 0.9605\n",
      "Epoch 6/20\n",
      "16/16 [==============================] - 111s 7s/step - loss: 0.2285 - accuracy: 0.9167 - Recall: 0.9170 - Precision: 0.9165 - AUC: 0.9666\n",
      "Epoch 7/20\n",
      "16/16 [==============================] - 111s 7s/step - loss: 0.2119 - accuracy: 0.9255 - Recall: 0.9253 - Precision: 0.9257 - AUC: 0.9712\n",
      "Epoch 8/20\n",
      "16/16 [==============================] - 111s 7s/step - loss: 0.1958 - accuracy: 0.9316 - Recall: 0.9307 - Precision: 0.9325 - AUC: 0.9753\n",
      "Epoch 9/20\n",
      "16/16 [==============================] - 111s 7s/step - loss: 0.1820 - accuracy: 0.9390 - Recall: 0.9380 - Precision: 0.9398 - AUC: 0.9785\n",
      "Epoch 10/20\n",
      "16/16 [==============================] - 111s 7s/step - loss: 0.1745 - accuracy: 0.9377 - Recall: 0.9360 - Precision: 0.9392 - AUC: 0.9802\n",
      "Epoch 11/20\n",
      "16/16 [==============================] - 111s 7s/step - loss: 0.1666 - accuracy: 0.9353 - Recall: 0.9360 - Precision: 0.9347 - AUC: 0.9821\n",
      "Epoch 12/20\n",
      "16/16 [==============================] - 111s 7s/step - loss: 0.1580 - accuracy: 0.9412 - Recall: 0.9414 - Precision: 0.9409 - AUC: 0.9847\n",
      "Epoch 13/20\n",
      "16/16 [==============================] - 111s 7s/step - loss: 0.1606 - accuracy: 0.9370 - Recall: 0.9370 - Precision: 0.9370 - AUC: 0.9836\n",
      "Epoch 14/20\n",
      "16/16 [==============================] - 111s 7s/step - loss: 0.1386 - accuracy: 0.9524 - Recall: 0.9521 - Precision: 0.9526 - AUC: 0.9877\n",
      "Epoch 15/20\n",
      "16/16 [==============================] - 111s 7s/step - loss: 0.1324 - accuracy: 0.9502 - Recall: 0.9507 - Precision: 0.9498 - AUC: 0.9887\n",
      "Epoch 16/20\n",
      "16/16 [==============================] - 111s 7s/step - loss: 0.1191 - accuracy: 0.9570 - Recall: 0.9570 - Precision: 0.9570 - AUC: 0.9909\n",
      "Epoch 17/20\n",
      "16/16 [==============================] - 111s 7s/step - loss: 0.0811 - accuracy: 0.9768 - Recall: 0.9761 - Precision: 0.9775 - AUC: 0.9957\n",
      "Epoch 18/20\n",
      "16/16 [==============================] - 111s 7s/step - loss: 0.0598 - accuracy: 0.9861 - Recall: 0.9858 - Precision: 0.9863 - AUC: 0.9973\n",
      "Epoch 19/20\n",
      "16/16 [==============================] - 111s 7s/step - loss: 0.0491 - accuracy: 0.9895 - Recall: 0.9888 - Precision: 0.9902 - AUC: 0.9980\n",
      "Epoch 20/20\n",
      "16/16 [==============================] - 111s 7s/step - loss: 0.0457 - accuracy: 0.9890 - Recall: 0.9883 - Precision: 0.9897 - AUC: 0.9980\n",
      "round: 7\n",
      "Epoch 1/20\n",
      "16/16 [==============================] - 133s 8s/step - loss: 0.5653 - accuracy: 0.8276 - Recall: 0.8325 - Precision: 0.8245 - AUC: 0.9021\n",
      "Epoch 2/20\n",
      "16/16 [==============================] - 111s 7s/step - loss: 0.3302 - accuracy: 0.8555 - Recall: 0.8735 - Precision: 0.8431 - AUC: 0.9322\n",
      "Epoch 3/20\n",
      "16/16 [==============================] - 111s 7s/step - loss: 0.2716 - accuracy: 0.8884 - Recall: 0.8945 - Precision: 0.8837 - AUC: 0.9546\n",
      "Epoch 4/20\n",
      "16/16 [==============================] - 111s 7s/step - loss: 0.2327 - accuracy: 0.9080 - Recall: 0.9097 - Precision: 0.9066 - AUC: 0.9658\n",
      "Epoch 5/20\n",
      "16/16 [==============================] - 111s 7s/step - loss: 0.2000 - accuracy: 0.9197 - Recall: 0.9194 - Precision: 0.9199 - AUC: 0.9752\n",
      "Epoch 6/20\n",
      "16/16 [==============================] - 111s 7s/step - loss: 0.1709 - accuracy: 0.9385 - Recall: 0.9385 - Precision: 0.9385 - AUC: 0.9820\n",
      "Epoch 7/20\n",
      "16/16 [==============================] - 111s 7s/step - loss: 0.1435 - accuracy: 0.9480 - Recall: 0.9473 - Precision: 0.9487 - AUC: 0.9877\n",
      "Epoch 8/20\n",
      "16/16 [==============================] - 111s 7s/step - loss: 0.1173 - accuracy: 0.9639 - Recall: 0.9634 - Precision: 0.9643 - AUC: 0.9923\n",
      "Epoch 9/20\n",
      "16/16 [==============================] - 111s 7s/step - loss: 0.0967 - accuracy: 0.9719 - Recall: 0.9712 - Precision: 0.9726 - AUC: 0.9952\n",
      "Epoch 10/20\n",
      "16/16 [==============================] - 111s 7s/step - loss: 0.0896 - accuracy: 0.9761 - Recall: 0.9756 - Precision: 0.9765 - AUC: 0.9953\n",
      "Epoch 11/20\n",
      "16/16 [==============================] - 111s 7s/step - loss: 0.1185 - accuracy: 0.9539 - Recall: 0.9541 - Precision: 0.9536 - AUC: 0.9913\n",
      "Epoch 12/20\n",
      "16/16 [==============================] - 111s 7s/step - loss: 0.1146 - accuracy: 0.9565 - Recall: 0.9570 - Precision: 0.9561 - AUC: 0.9915\n",
      "Epoch 13/20\n",
      "16/16 [==============================] - 111s 7s/step - loss: 0.1121 - accuracy: 0.9556 - Recall: 0.9561 - Precision: 0.9551 - AUC: 0.9916\n",
      "Epoch 14/20\n",
      "16/16 [==============================] - 111s 7s/step - loss: 0.0936 - accuracy: 0.9658 - Recall: 0.9658 - Precision: 0.9658 - AUC: 0.9948\n",
      "Epoch 15/20\n",
      "16/16 [==============================] - 111s 7s/step - loss: 0.0870 - accuracy: 0.9709 - Recall: 0.9717 - Precision: 0.9703 - AUC: 0.9952\n",
      "Epoch 16/20\n",
      "16/16 [==============================] - 111s 7s/step - loss: 0.0667 - accuracy: 0.9753 - Recall: 0.9756 - Precision: 0.9751 - AUC: 0.9972\n",
      "Epoch 17/20\n",
      "16/16 [==============================] - 111s 7s/step - loss: 0.0764 - accuracy: 0.9744 - Recall: 0.9741 - Precision: 0.9746 - AUC: 0.9963\n",
      "Epoch 18/20\n",
      "16/16 [==============================] - 111s 7s/step - loss: 0.0854 - accuracy: 0.9690 - Recall: 0.9683 - Precision: 0.9697 - AUC: 0.9952\n",
      "Epoch 19/20\n",
      "16/16 [==============================] - 111s 7s/step - loss: 0.0680 - accuracy: 0.9756 - Recall: 0.9761 - Precision: 0.9751 - AUC: 0.9968\n",
      "Epoch 20/20\n",
      "16/16 [==============================] - 111s 7s/step - loss: 0.0627 - accuracy: 0.9783 - Recall: 0.9780 - Precision: 0.9785 - AUC: 0.9973\n",
      "round: 8\n",
      "Epoch 1/20\n",
      "16/16 [==============================] - 131s 8s/step - loss: 0.4992 - accuracy: 0.8467 - Recall: 0.8496 - Precision: 0.8447 - AUC: 0.9121\n",
      "Epoch 2/20\n",
      "16/16 [==============================] - 111s 7s/step - loss: 0.3082 - accuracy: 0.8674 - Recall: 0.8809 - Precision: 0.8578 - AUC: 0.9416\n",
      "Epoch 3/20\n",
      "16/16 [==============================] - 111s 7s/step - loss: 0.2600 - accuracy: 0.8865 - Recall: 0.8823 - Precision: 0.8897 - AUC: 0.9584\n",
      "Epoch 4/20\n",
      "16/16 [==============================] - 111s 7s/step - loss: 0.2199 - accuracy: 0.9138 - Recall: 0.9106 - Precision: 0.9165 - AUC: 0.9704\n",
      "Epoch 5/20\n",
      "16/16 [==============================] - 111s 7s/step - loss: 0.1860 - accuracy: 0.9336 - Recall: 0.9312 - Precision: 0.9357 - AUC: 0.9794\n",
      "Epoch 6/20\n",
      "16/16 [==============================] - 111s 7s/step - loss: 0.1573 - accuracy: 0.9468 - Recall: 0.9458 - Precision: 0.9477 - AUC: 0.9856\n",
      "Epoch 7/20\n",
      "16/16 [==============================] - 111s 7s/step - loss: 0.1279 - accuracy: 0.9565 - Recall: 0.9561 - Precision: 0.9570 - AUC: 0.9911\n",
      "Epoch 8/20\n",
      "16/16 [==============================] - 111s 7s/step - loss: 0.1010 - accuracy: 0.9683 - Recall: 0.9683 - Precision: 0.9683 - AUC: 0.9949\n",
      "Epoch 9/20\n",
      "16/16 [==============================] - 111s 7s/step - loss: 0.0742 - accuracy: 0.9832 - Recall: 0.9829 - Precision: 0.9834 - AUC: 0.9976\n",
      "Epoch 10/20\n",
      "16/16 [==============================] - 111s 7s/step - loss: 0.0569 - accuracy: 0.9897 - Recall: 0.9897 - Precision: 0.9897 - AUC: 0.9987\n",
      "Epoch 11/20\n",
      "16/16 [==============================] - 111s 7s/step - loss: 0.0457 - accuracy: 0.9927 - Recall: 0.9927 - Precision: 0.9927 - AUC: 0.9990\n",
      "Epoch 12/20\n",
      "16/16 [==============================] - 111s 7s/step - loss: 0.0590 - accuracy: 0.9812 - Recall: 0.9819 - Precision: 0.9805 - AUC: 0.9979\n",
      "Epoch 13/20\n",
      "16/16 [==============================] - 111s 7s/step - loss: 0.1120 - accuracy: 0.9585 - Recall: 0.9580 - Precision: 0.9589 - AUC: 0.9913\n",
      "Epoch 14/20\n",
      "16/16 [==============================] - 111s 7s/step - loss: 0.2112 - accuracy: 0.9194 - Recall: 0.9194 - Precision: 0.9194 - AUC: 0.9764\n",
      "Epoch 15/20\n",
      "16/16 [==============================] - 111s 7s/step - loss: 0.1632 - accuracy: 0.9338 - Recall: 0.9351 - Precision: 0.9328 - AUC: 0.9836\n",
      "Epoch 16/20\n",
      "16/16 [==============================] - 111s 7s/step - loss: 0.1107 - accuracy: 0.9558 - Recall: 0.9565 - Precision: 0.9551 - AUC: 0.9929\n",
      "Epoch 17/20\n",
      "16/16 [==============================] - 111s 7s/step - loss: 0.0717 - accuracy: 0.9731 - Recall: 0.9717 - Precision: 0.9745 - AUC: 0.9975\n",
      "Epoch 18/20\n",
      "16/16 [==============================] - 111s 7s/step - loss: 0.0484 - accuracy: 0.9875 - Recall: 0.9868 - Precision: 0.9883 - AUC: 0.9990\n",
      "Epoch 19/20\n",
      "16/16 [==============================] - 111s 7s/step - loss: 0.0393 - accuracy: 0.9907 - Recall: 0.9902 - Precision: 0.9912 - AUC: 0.9995\n",
      "Epoch 20/20\n",
      "16/16 [==============================] - 111s 7s/step - loss: 0.0524 - accuracy: 0.9797 - Recall: 0.9795 - Precision: 0.9800 - AUC: 0.9986\n",
      "round: 9\n",
      "Epoch 1/20\n",
      "4/4 [==============================] - 34s 8s/step - loss: 0.5994 - accuracy: 0.8647 - Recall: 0.8637 - Precision: 0.8655 - AUC: 0.9272\n",
      "Epoch 2/20\n",
      "4/4 [==============================] - 27s 7s/step - loss: 0.2800 - accuracy: 0.8898 - Recall: 0.8898 - Precision: 0.8898 - AUC: 0.9654\n",
      "Epoch 3/20\n",
      "4/4 [==============================] - 27s 7s/step - loss: 0.1209 - accuracy: 0.9559 - Recall: 0.9559 - Precision: 0.9559 - AUC: 0.9913\n",
      "Epoch 4/20\n",
      "4/4 [==============================] - 27s 7s/step - loss: 0.0772 - accuracy: 0.9659 - Recall: 0.9659 - Precision: 0.9659 - AUC: 0.9978\n",
      "Epoch 5/20\n",
      "4/4 [==============================] - 27s 7s/step - loss: 0.0507 - accuracy: 0.9880 - Recall: 0.9880 - Precision: 0.9880 - AUC: 0.9997\n",
      "Epoch 6/20\n",
      "4/4 [==============================] - 27s 7s/step - loss: 0.0327 - accuracy: 1.0000 - Recall: 1.0000 - Precision: 1.0000 - AUC: 1.0000\n",
      "Epoch 7/20\n",
      "4/4 [==============================] - 27s 7s/step - loss: 0.0255 - accuracy: 1.0000 - Recall: 1.0000 - Precision: 1.0000 - AUC: 1.0000\n",
      "Epoch 8/20\n",
      "4/4 [==============================] - 27s 7s/step - loss: 0.0194 - accuracy: 1.0000 - Recall: 1.0000 - Precision: 1.0000 - AUC: 1.0000\n",
      "Epoch 9/20\n",
      "4/4 [==============================] - 27s 7s/step - loss: 0.0153 - accuracy: 1.0000 - Recall: 1.0000 - Precision: 1.0000 - AUC: 1.0000\n",
      "Epoch 10/20\n",
      "4/4 [==============================] - 27s 7s/step - loss: 0.0121 - accuracy: 1.0000 - Recall: 1.0000 - Precision: 1.0000 - AUC: 1.0000\n",
      "Epoch 11/20\n",
      "4/4 [==============================] - 27s 7s/step - loss: 0.0097 - accuracy: 1.0000 - Recall: 1.0000 - Precision: 1.0000 - AUC: 1.0000\n",
      "Epoch 12/20\n",
      "4/4 [==============================] - 27s 7s/step - loss: 0.0080 - accuracy: 1.0000 - Recall: 1.0000 - Precision: 1.0000 - AUC: 1.0000\n",
      "Epoch 13/20\n",
      "4/4 [==============================] - 27s 7s/step - loss: 0.0068 - accuracy: 1.0000 - Recall: 1.0000 - Precision: 1.0000 - AUC: 1.0000\n",
      "Epoch 14/20\n",
      "4/4 [==============================] - 27s 7s/step - loss: 0.0059 - accuracy: 1.0000 - Recall: 1.0000 - Precision: 1.0000 - AUC: 1.0000\n",
      "Epoch 15/20\n",
      "4/4 [==============================] - 27s 7s/step - loss: 0.0052 - accuracy: 1.0000 - Recall: 1.0000 - Precision: 1.0000 - AUC: 1.0000\n",
      "Epoch 16/20\n",
      "4/4 [==============================] - 27s 7s/step - loss: 0.0047 - accuracy: 1.0000 - Recall: 1.0000 - Precision: 1.0000 - AUC: 1.0000\n",
      "Epoch 17/20\n",
      "4/4 [==============================] - 27s 7s/step - loss: 0.0043 - accuracy: 1.0000 - Recall: 1.0000 - Precision: 1.0000 - AUC: 1.0000\n",
      "Epoch 18/20\n",
      "4/4 [==============================] - 27s 7s/step - loss: 0.0040 - accuracy: 1.0000 - Recall: 1.0000 - Precision: 1.0000 - AUC: 1.0000\n",
      "Epoch 19/20\n",
      "4/4 [==============================] - 27s 7s/step - loss: 0.0037 - accuracy: 1.0000 - Recall: 1.0000 - Precision: 1.0000 - AUC: 1.0000\n",
      "Epoch 20/20\n",
      "4/4 [==============================] - 27s 7s/step - loss: 0.0035 - accuracy: 1.0000 - Recall: 1.0000 - Precision: 1.0000 - AUC: 1.0000\n",
      "6:07:58.929760\n"
     ]
    }
   ],
   "source": [
    "model_mars = train_model_inception(train_df, 2048, 20)"
   ]
  },
  {
   "cell_type": "code",
   "execution_count": 49,
   "metadata": {},
   "outputs": [
    {
     "name": "stdout",
     "output_type": "stream",
     "text": [
      "19/19 [==============================] - 74s 4s/step - loss: 0.9012 - accuracy: 0.7873 - Recall: 0.7850 - Precision: 0.7886 - AUC: 0.8565\n"
     ]
    },
    {
     "data": {
      "text/plain": [
       "[0.9012466669082642,\n",
       " 0.7873009443283081,\n",
       " 0.7849957942962646,\n",
       " 0.7886315584182739,\n",
       " 0.8564768433570862]"
      ]
     },
     "execution_count": 49,
     "metadata": {},
     "output_type": "execute_result"
    }
   ],
   "source": [
    "model_mars.evaluate(test_dataset)"
   ]
  },
  {
   "cell_type": "code",
   "execution_count": 50,
   "metadata": {},
   "outputs": [],
   "source": [
    "#save inception model here\n",
    "model_mars.save(\"/Users/xianghuihuang/Desktop/model_2020/inception.h5\")"
   ]
  },
  {
   "cell_type": "markdown",
   "metadata": {},
   "source": [
    "# LSTM Modeling"
   ]
  },
  {
   "cell_type": "code",
   "execution_count": 107,
   "metadata": {},
   "outputs": [],
   "source": [
    "lstm_model = tf.keras.models.Sequential()\n",
    "lstm_model.add(tf.keras.layers.LSTM(64, input_shape=(5000,12), return_sequences=True))\n",
    "lstm_model.add(tf.keras.layers.BatchNormalization())\n",
    "lstm_model.add(tf.keras.layers.LSTM(64))\n",
    "lstm_model.add(tf.keras.layers.Dense(32, activation = 'relu'))\n",
    "lstm_model.add(tf.keras.layers.Dropout(0.3))\n",
    "lstm_model.add(tf.keras.layers.Dense(16, activation = 'relu'))\n",
    "lstm_model.add(tf.keras.layers.Dropout(0.3))\n",
    "lstm_model.add(tf.keras.layers.Dense(2, activation = 'sigmoid'))"
   ]
  },
  {
   "cell_type": "code",
   "execution_count": 108,
   "metadata": {},
   "outputs": [
    {
     "name": "stdout",
     "output_type": "stream",
     "text": [
      "Model: \"sequential_7\"\n",
      "_________________________________________________________________\n",
      "Layer (type)                 Output Shape              Param #   \n",
      "=================================================================\n",
      "lstm (LSTM)                  (None, 5000, 64)          19712     \n",
      "_________________________________________________________________\n",
      "batch_normalization_12 (Batc (None, 5000, 64)          256       \n",
      "_________________________________________________________________\n",
      "lstm_1 (LSTM)                (None, 64)                33024     \n",
      "_________________________________________________________________\n",
      "dense_28 (Dense)             (None, 32)                2080      \n",
      "_________________________________________________________________\n",
      "dropout_9 (Dropout)          (None, 32)                0         \n",
      "_________________________________________________________________\n",
      "dense_29 (Dense)             (None, 16)                528       \n",
      "_________________________________________________________________\n",
      "dropout_10 (Dropout)         (None, 16)                0         \n",
      "_________________________________________________________________\n",
      "dense_30 (Dense)             (None, 2)                 34        \n",
      "=================================================================\n",
      "Total params: 55,634\n",
      "Trainable params: 55,506\n",
      "Non-trainable params: 128\n",
      "_________________________________________________________________\n"
     ]
    }
   ],
   "source": [
    "lstm_model.summary()"
   ]
  },
  {
   "cell_type": "code",
   "execution_count": 109,
   "metadata": {},
   "outputs": [],
   "source": [
    "lstm_model.compile(optimizer = \"adam\", \n",
    "                  loss = tf.keras.losses.BinaryCrossentropy(), metrics=[tf.keras.metrics.BinaryAccuracy(name='accuracy', dtype=None, threshold=0.5),tf.keras.metrics.Recall(name='Recall'),tf.keras.metrics.Precision(name='Precision'), \n",
    "                    tf.keras.metrics.AUC(\n",
    "        num_thresholds=200,\n",
    "        curve=\"ROC\",\n",
    "        summation_method=\"interpolation\",\n",
    "        name=\"AUC\",\n",
    "        dtype=None,\n",
    "        thresholds=None,\n",
    "        multi_label=True,\n",
    "        label_weights=None,)])"
   ]
  },
  {
   "cell_type": "code",
   "execution_count": 110,
   "metadata": {},
   "outputs": [],
   "source": [
    "def train_model_lstm(train_df,batch_size , epochs):\n",
    "    s1 = datetime.datetime.now()\n",
    "    for i in range(int(len(train_df)/batch_size)):\n",
    "        print('round:', i)  \n",
    "        ds_batch = get_dataset(train_df,batch_size,i)\n",
    "        train_prefetch = ds_batch.prefetch(tf.data.experimental.AUTOTUNE)\n",
    "        train_cache = train_prefetch.cache()\n",
    "        val_data = get_dataset(val_df,len(val_df),i)\n",
    "        lstm_model.fit(train_cache,epochs=epochs,validation_data = val_data,callbacks = [callback])#,callbacks = [cp_callback])#validation_data = val_df,\n",
    "    s2 = datetime.datetime.now()\n",
    "    print(s2-s1)\n",
    "    return lstm_model"
   ]
  },
  {
   "cell_type": "code",
   "execution_count": 112,
   "metadata": {},
   "outputs": [
    {
     "name": "stdout",
     "output_type": "stream",
     "text": [
      "round: 0\n",
      "148/148 [==============================] - 1205s 8s/step - loss: 0.6357 - accuracy: 0.6310 - Recall: 0.6195 - Precision: 0.6341 - AUC: 0.6799 - val_loss: 0.6422 - val_accuracy: 0.6125 - val_Recall: 0.6041 - val_Precision: 0.6144 - val_AUC: 0.6691\n",
      "0:21:47.309905\n"
     ]
    }
   ],
   "source": [
    "model_lunar = train_model_lstm(train_df, len(train_df), 1)"
   ]
  },
  {
   "cell_type": "code",
   "execution_count": 113,
   "metadata": {},
   "outputs": [
    {
     "name": "stdout",
     "output_type": "stream",
     "text": [
      "19/19 [==============================] - 69s 4s/step - loss: 0.6381 - accuracy: 0.6322 - Recall: 0.6262 - Precision: 0.6339 - AUC: 0.6825\n"
     ]
    },
    {
     "data": {
      "text/plain": [
       "[0.6381473541259766,\n",
       " 0.6322433948516846,\n",
       " 0.6262417435646057,\n",
       " 0.6338500380516052,\n",
       " 0.682476282119751]"
      ]
     },
     "execution_count": 113,
     "metadata": {},
     "output_type": "execute_result"
    }
   ],
   "source": [
    "model_lunar.evaluate(test_dataset)"
   ]
  },
  {
   "cell_type": "code",
   "execution_count": 114,
   "metadata": {},
   "outputs": [],
   "source": [
    "#save LSTM model here\n",
    "model_lunar.save(\"/Users/xianghuihuang/Desktop/model_2020/lstm.h5\")"
   ]
  },
  {
   "cell_type": "markdown",
   "metadata": {},
   "source": [
    "# LSTM+CNN Modeling"
   ]
  },
  {
   "cell_type": "code",
   "execution_count": 120,
   "metadata": {},
   "outputs": [],
   "source": [
    "time_step = 5000\n",
    "num_sensors = 12\n",
    "\n",
    "def conv_block_type1(x,num_filters, kernel_size):\n",
    "    x = tf.keras.layers.Conv1D(num_filters, kernel_size, activation='relu', padding=\"same\")(x)\n",
    "    x = tf.keras.layers.BatchNormalization()(x)\n",
    "    x = tf.keras.layers.ReLU()(x)\n",
    "    x = tf.keras.layers.Dropout(0.5)(x)\n",
    "    x = tf.keras.layers.Conv1D(num_filters, kernel_size, activation='relu', padding=\"same\")(x)\n",
    "    x = tf.keras.layers.MaxPooling1D()(x)\n",
    "\n",
    "    return x\n",
    "\n",
    "\n",
    "def conv_block_type2(x,num_filters, kernel_size):\n",
    "    x = tf.keras.layers.BatchNormalization()(x)\n",
    "    x = tf.keras.layers.ReLU()(x)\n",
    "    x = tf.keras.layers.Dropout(0.5)(x)\n",
    "    x = tf.keras.layers.Conv1D(num_filters, kernel_size, activation='relu', padding=\"same\")(x)\n",
    "    x = tf.keras.layers.BatchNormalization()(x)\n",
    "    x = tf.keras.layers.ReLU()(x)\n",
    "    x = tf.keras.layers.Dropout(0.5)(x)\n",
    "    x = tf.keras.layers.Conv1D(num_filters, kernel_size, activation='relu', padding=\"same\")(x)\n",
    "    x = tf.keras.layers.MaxPooling1D()(x)\n",
    "\n",
    "    return x\n",
    "\n",
    "\n",
    "def build_model(time_step,num_sensors):\n",
    "    input_shape = (time_step,num_sensors)\n",
    "\n",
    "    #CNNModel\n",
    "    inpt = tf.keras.layers.Input(input_shape)\n",
    "\n",
    "    x = tf.keras.layers.Conv1D(32, 16, activation='relu')(inpt)\n",
    "    x = tf.keras.layers.BatchNormalization()(x)\n",
    "    x = tf.keras.layers.ReLU()(x)\n",
    "\n",
    "    x = conv_block_type1(x, 32, 16)\n",
    "\n",
    "    x = conv_block_type2(x, 32, 16)\n",
    "    x = conv_block_type2(x, 64, 8)\n",
    "    x = conv_block_type2(x, 64, 8)\n",
    "    x = conv_block_type2(x, 128, 4)\n",
    "    x = conv_block_type2(x, 128, 4)\n",
    "\n",
    "    x = tf.keras.layers.BatchNormalization()(x)\n",
    "    x = tf.keras.layers.ReLU()(x)\n",
    "    x = tf.keras.layers.Bidirectional(LSTM(64, return_sequences=True, input_shape=(None, 1)))(x)\n",
    "    x = tf.keras.layers.GlobalMaxPooling1D()(x)\n",
    "\n",
    "    x = tf.keras.layers.Dense(32, activation='relu', input_shape=(None, 128))(x)\n",
    "    x = tf.keras.layers.Dense(2, activation='sigmoid')(x)\n",
    "\n",
    "    model = tf.keras.Model(inputs=inpt, outputs=x)\n",
    "\n",
    "    return(model)"
   ]
  },
  {
   "cell_type": "code",
   "execution_count": 121,
   "metadata": {},
   "outputs": [],
   "source": [
    "cnn_lstm_model = build_model(time_step,num_sensors)"
   ]
  },
  {
   "cell_type": "code",
   "execution_count": 122,
   "metadata": {},
   "outputs": [
    {
     "name": "stdout",
     "output_type": "stream",
     "text": [
      "Model: \"model_1\"\n",
      "_________________________________________________________________\n",
      "Layer (type)                 Output Shape              Param #   \n",
      "=================================================================\n",
      "input_9 (InputLayer)         [(None, 5000, 12)]        0         \n",
      "_________________________________________________________________\n",
      "conv1d_29 (Conv1D)           (None, 4985, 32)          6176      \n",
      "_________________________________________________________________\n",
      "batch_normalization_26 (Batc (None, 4985, 32)          128       \n",
      "_________________________________________________________________\n",
      "re_lu_13 (ReLU)              (None, 4985, 32)          0         \n",
      "_________________________________________________________________\n",
      "conv1d_30 (Conv1D)           (None, 4985, 32)          16416     \n",
      "_________________________________________________________________\n",
      "batch_normalization_27 (Batc (None, 4985, 32)          128       \n",
      "_________________________________________________________________\n",
      "re_lu_14 (ReLU)              (None, 4985, 32)          0         \n",
      "_________________________________________________________________\n",
      "dropout_22 (Dropout)         (None, 4985, 32)          0         \n",
      "_________________________________________________________________\n",
      "conv1d_31 (Conv1D)           (None, 4985, 32)          16416     \n",
      "_________________________________________________________________\n",
      "max_pooling1d_18 (MaxPooling (None, 2492, 32)          0         \n",
      "_________________________________________________________________\n",
      "batch_normalization_28 (Batc (None, 2492, 32)          128       \n",
      "_________________________________________________________________\n",
      "re_lu_15 (ReLU)              (None, 2492, 32)          0         \n",
      "_________________________________________________________________\n",
      "dropout_23 (Dropout)         (None, 2492, 32)          0         \n",
      "_________________________________________________________________\n",
      "conv1d_32 (Conv1D)           (None, 2492, 32)          16416     \n",
      "_________________________________________________________________\n",
      "batch_normalization_29 (Batc (None, 2492, 32)          128       \n",
      "_________________________________________________________________\n",
      "re_lu_16 (ReLU)              (None, 2492, 32)          0         \n",
      "_________________________________________________________________\n",
      "dropout_24 (Dropout)         (None, 2492, 32)          0         \n",
      "_________________________________________________________________\n",
      "conv1d_33 (Conv1D)           (None, 2492, 32)          16416     \n",
      "_________________________________________________________________\n",
      "max_pooling1d_19 (MaxPooling (None, 1246, 32)          0         \n",
      "_________________________________________________________________\n",
      "batch_normalization_30 (Batc (None, 1246, 32)          128       \n",
      "_________________________________________________________________\n",
      "re_lu_17 (ReLU)              (None, 1246, 32)          0         \n",
      "_________________________________________________________________\n",
      "dropout_25 (Dropout)         (None, 1246, 32)          0         \n",
      "_________________________________________________________________\n",
      "conv1d_34 (Conv1D)           (None, 1246, 64)          16448     \n",
      "_________________________________________________________________\n",
      "batch_normalization_31 (Batc (None, 1246, 64)          256       \n",
      "_________________________________________________________________\n",
      "re_lu_18 (ReLU)              (None, 1246, 64)          0         \n",
      "_________________________________________________________________\n",
      "dropout_26 (Dropout)         (None, 1246, 64)          0         \n",
      "_________________________________________________________________\n",
      "conv1d_35 (Conv1D)           (None, 1246, 64)          32832     \n",
      "_________________________________________________________________\n",
      "max_pooling1d_20 (MaxPooling (None, 623, 64)           0         \n",
      "_________________________________________________________________\n",
      "batch_normalization_32 (Batc (None, 623, 64)           256       \n",
      "_________________________________________________________________\n",
      "re_lu_19 (ReLU)              (None, 623, 64)           0         \n",
      "_________________________________________________________________\n",
      "dropout_27 (Dropout)         (None, 623, 64)           0         \n",
      "_________________________________________________________________\n",
      "conv1d_36 (Conv1D)           (None, 623, 64)           32832     \n",
      "_________________________________________________________________\n",
      "batch_normalization_33 (Batc (None, 623, 64)           256       \n",
      "_________________________________________________________________\n",
      "re_lu_20 (ReLU)              (None, 623, 64)           0         \n",
      "_________________________________________________________________\n",
      "dropout_28 (Dropout)         (None, 623, 64)           0         \n",
      "_________________________________________________________________\n",
      "conv1d_37 (Conv1D)           (None, 623, 64)           32832     \n",
      "_________________________________________________________________\n",
      "max_pooling1d_21 (MaxPooling (None, 311, 64)           0         \n",
      "_________________________________________________________________\n",
      "batch_normalization_34 (Batc (None, 311, 64)           256       \n",
      "_________________________________________________________________\n",
      "re_lu_21 (ReLU)              (None, 311, 64)           0         \n",
      "_________________________________________________________________\n",
      "dropout_29 (Dropout)         (None, 311, 64)           0         \n",
      "_________________________________________________________________\n",
      "conv1d_38 (Conv1D)           (None, 311, 128)          32896     \n",
      "_________________________________________________________________\n",
      "batch_normalization_35 (Batc (None, 311, 128)          512       \n",
      "_________________________________________________________________\n",
      "re_lu_22 (ReLU)              (None, 311, 128)          0         \n",
      "_________________________________________________________________\n",
      "dropout_30 (Dropout)         (None, 311, 128)          0         \n",
      "_________________________________________________________________\n",
      "conv1d_39 (Conv1D)           (None, 311, 128)          65664     \n",
      "_________________________________________________________________\n",
      "max_pooling1d_22 (MaxPooling (None, 155, 128)          0         \n",
      "_________________________________________________________________\n",
      "batch_normalization_36 (Batc (None, 155, 128)          512       \n",
      "_________________________________________________________________\n",
      "re_lu_23 (ReLU)              (None, 155, 128)          0         \n",
      "_________________________________________________________________\n",
      "dropout_31 (Dropout)         (None, 155, 128)          0         \n",
      "_________________________________________________________________\n",
      "conv1d_40 (Conv1D)           (None, 155, 128)          65664     \n",
      "_________________________________________________________________\n",
      "batch_normalization_37 (Batc (None, 155, 128)          512       \n",
      "_________________________________________________________________\n",
      "re_lu_24 (ReLU)              (None, 155, 128)          0         \n",
      "_________________________________________________________________\n",
      "dropout_32 (Dropout)         (None, 155, 128)          0         \n",
      "_________________________________________________________________\n",
      "conv1d_41 (Conv1D)           (None, 155, 128)          65664     \n",
      "_________________________________________________________________\n",
      "max_pooling1d_23 (MaxPooling (None, 77, 128)           0         \n",
      "_________________________________________________________________\n",
      "batch_normalization_38 (Batc (None, 77, 128)           512       \n",
      "_________________________________________________________________\n",
      "re_lu_25 (ReLU)              (None, 77, 128)           0         \n",
      "_________________________________________________________________\n",
      "bidirectional_1 (Bidirection (None, 77, 128)           98816     \n",
      "_________________________________________________________________\n",
      "global_max_pooling1d_1 (Glob (None, 128)               0         \n",
      "_________________________________________________________________\n",
      "dense_33 (Dense)             (None, 32)                4128      \n",
      "_________________________________________________________________\n",
      "dense_34 (Dense)             (None, 2)                 66        \n",
      "=================================================================\n",
      "Total params: 523,394\n",
      "Trainable params: 521,538\n",
      "Non-trainable params: 1,856\n",
      "_________________________________________________________________\n"
     ]
    }
   ],
   "source": [
    "cnn_lstm_model.summary()"
   ]
  },
  {
   "cell_type": "code",
   "execution_count": 123,
   "metadata": {},
   "outputs": [],
   "source": [
    "cnn_lstm_model.compile(optimizer = \"adam\", \n",
    "                  loss = tf.keras.losses.BinaryCrossentropy(), metrics=[tf.keras.metrics.BinaryAccuracy(name='accuracy', dtype=None, threshold=0.5),tf.keras.metrics.Recall(name='Recall'),tf.keras.metrics.Precision(name='Precision'), \n",
    "                    tf.keras.metrics.AUC(\n",
    "        num_thresholds=200,\n",
    "        curve=\"ROC\",\n",
    "        summation_method=\"interpolation\",\n",
    "        name=\"AUC\",\n",
    "        dtype=None,\n",
    "        thresholds=None,\n",
    "        multi_label=True,\n",
    "        label_weights=None,)])"
   ]
  },
  {
   "cell_type": "code",
   "execution_count": 125,
   "metadata": {},
   "outputs": [],
   "source": [
    "def train_model_cnn_lstm(train_df,batch_size , epochs):\n",
    "    s1 = datetime.datetime.now()\n",
    "    for i in range(int(len(train_df)/batch_size)):\n",
    "        print('round:', i)  \n",
    "        ds_batch = get_dataset(train_df,batch_size,i)\n",
    "        train_prefetch = ds_batch.prefetch(tf.data.experimental.AUTOTUNE)\n",
    "        train_cache = train_prefetch.cache()\n",
    "        val_data = get_dataset(val_df,len(val_df),i)\n",
    "        cnn_lstm_model.fit(train_cache,epochs=epochs,validation_data = val_data,callbacks=[callback])#,callbacks = [cp_callback])#validation_data = val_df,\n",
    "    s2 = datetime.datetime.now()\n",
    "    print(s2-s1)\n",
    "    return cnn_lstm_model"
   ]
  },
  {
   "cell_type": "code",
   "execution_count": 126,
   "metadata": {},
   "outputs": [
    {
     "name": "stdout",
     "output_type": "stream",
     "text": [
      "round: 0\n",
      "Epoch 1/20\n",
      "148/148 [==============================] - 946s 6s/step - loss: 0.6308 - accuracy: 0.6218 - Recall: 0.6191 - Precision: 0.6246 - AUC: 0.6689 - val_loss: 0.7254 - val_accuracy: 0.5023 - val_Recall: 0.5023 - val_Precision: 0.5023 - val_AUC: 0.5000\n",
      "Epoch 2/20\n",
      "148/148 [==============================] - 757s 5s/step - loss: 0.4421 - accuracy: 0.7942 - Recall: 0.7923 - Precision: 0.7952 - AUC: 0.8724 - val_loss: 0.6937 - val_accuracy: 0.5027 - val_Recall: 0.5027 - val_Precision: 0.5027 - val_AUC: 0.4348\n",
      "Epoch 3/20\n",
      "148/148 [==============================] - 730s 5s/step - loss: 0.3984 - accuracy: 0.8193 - Recall: 0.8179 - Precision: 0.8202 - AUC: 0.8974 - val_loss: 0.7231 - val_accuracy: 0.3473 - val_Recall: 0.3159 - val_Precision: 0.3371 - val_AUC: 0.2368\n",
      "Epoch 4/20\n",
      "148/148 [==============================] - 729s 5s/step - loss: 0.3860 - accuracy: 0.8291 - Recall: 0.8269 - Precision: 0.8305 - AUC: 0.9031 - val_loss: 0.7295 - val_accuracy: 0.3620 - val_Recall: 0.3431 - val_Precision: 0.3566 - val_AUC: 0.2892\n",
      "0:54:29.113442\n"
     ]
    }
   ],
   "source": [
    "model_bella = train_model_cnn_lstm(train_df, len(train_df), 20)"
   ]
  },
  {
   "cell_type": "code",
   "execution_count": 127,
   "metadata": {},
   "outputs": [
    {
     "name": "stdout",
     "output_type": "stream",
     "text": [
      "19/19 [==============================] - 68s 4s/step - loss: 0.7270 - accuracy: 0.3789 - Recall: 0.3572 - Precision: 0.3734 - AUC: 0.3029\n"
     ]
    },
    {
     "data": {
      "text/plain": [
       "[0.7270005345344543,\n",
       " 0.3789321184158325,\n",
       " 0.3572019934654236,\n",
       " 0.37343141436576843,\n",
       " 0.302914023399353]"
      ]
     },
     "execution_count": 127,
     "metadata": {},
     "output_type": "execute_result"
    }
   ],
   "source": [
    "model_bella.evaluate(test_dataset)"
   ]
  },
  {
   "cell_type": "code",
   "execution_count": 128,
   "metadata": {},
   "outputs": [],
   "source": [
    "model_bella.save(\"/Users/xianghuihuang/Desktop/model_2020/cnn_lstm.h5\")"
   ]
  },
  {
   "cell_type": "code",
   "execution_count": null,
   "metadata": {},
   "outputs": [],
   "source": [
    "#save CNN_LSTM model here"
   ]
  },
  {
   "cell_type": "code",
   "execution_count": null,
   "metadata": {},
   "outputs": [],
   "source": [
    "# inceptionV3_model = tf.keras.applications.InceptionV3(input_shape = (5000,12),include_top= False)"
   ]
  },
  {
   "cell_type": "code",
   "execution_count": null,
   "metadata": {},
   "outputs": [],
   "source": []
  }
 ],
 "metadata": {
  "accelerator": "GPU",
  "colab": {
   "collapsed_sections": [],
   "machine_shape": "hm",
   "name": "Copy of Jacky_ECG_2020.ipynb",
   "provenance": [],
   "toc_visible": true
  },
  "kernelspec": {
   "display_name": "Python 3",
   "language": "python",
   "name": "python3"
  },
  "language_info": {
   "codemirror_mode": {
    "name": "ipython",
    "version": 3
   },
   "file_extension": ".py",
   "mimetype": "text/x-python",
   "name": "python",
   "nbconvert_exporter": "python",
   "pygments_lexer": "ipython3",
   "version": "3.8.3"
  }
 },
 "nbformat": 4,
 "nbformat_minor": 1
}
