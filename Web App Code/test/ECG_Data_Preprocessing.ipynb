{
  "nbformat": 4,
  "nbformat_minor": 0,
  "metadata": {
    "colab": {
      "name": "ECG_Data_Preprocessing.ipynb",
      "provenance": [],
      "collapsed_sections": [],
      "toc_visible": true,
      "machine_shape": "hm"
    },
    "kernelspec": {
      "name": "python3",
      "display_name": "Python 3"
    },
    "accelerator": "GPU"
  },
  "cells": [
    {
      "cell_type": "markdown",
      "metadata": {
        "id": "JexxjEhlTrOy"
      },
      "source": [
        "https://colab.research.google.com/drive/1TiSSQDOr3CQEhVmhm4eTkEsSzHn9kRIm?usp=sharing"
      ]
    },
    {
      "cell_type": "code",
      "metadata": {
        "id": "W4PMgcHLcz2l",
        "outputId": "4b5cda79-0a48-4dc0-97c0-1b503f071802",
        "colab": {
          "base_uri": "https://localhost:8080/",
          "height": 656
        }
      },
      "source": [
        "!pip install wfdb"
      ],
      "execution_count": 4,
      "outputs": [
        {
          "output_type": "stream",
          "text": [
            "Collecting wfdb\n",
            "\u001b[?25l  Downloading https://files.pythonhosted.org/packages/b1/a0/922d06ec737e219a9f45545432842e68a84e8b52f292704056eea1d35e41/wfdb-3.1.1.tar.gz (113kB)\n",
            "\r\u001b[K     |██▉                             | 10kB 14.0MB/s eta 0:00:01\r\u001b[K     |█████▊                          | 20kB 6.4MB/s eta 0:00:01\r\u001b[K     |████████▋                       | 30kB 6.8MB/s eta 0:00:01\r\u001b[K     |███████████▌                    | 40kB 5.6MB/s eta 0:00:01\r\u001b[K     |██████████████▍                 | 51kB 5.0MB/s eta 0:00:01\r\u001b[K     |█████████████████▎              | 61kB 5.0MB/s eta 0:00:01\r\u001b[K     |████████████████████▏           | 71kB 4.8MB/s eta 0:00:01\r\u001b[K     |███████████████████████         | 81kB 5.0MB/s eta 0:00:01\r\u001b[K     |██████████████████████████      | 92kB 4.8MB/s eta 0:00:01\r\u001b[K     |████████████████████████████▉   | 102kB 4.9MB/s eta 0:00:01\r\u001b[K     |███████████████████████████████▊| 112kB 4.9MB/s eta 0:00:01\r\u001b[K     |████████████████████████████████| 122kB 4.9MB/s \n",
            "\u001b[?25hRequirement already satisfied: certifi>=2016.8.2 in /usr/local/lib/python3.6/dist-packages (from wfdb) (2020.6.20)\n",
            "Requirement already satisfied: chardet>=3.0.0 in /usr/local/lib/python3.6/dist-packages (from wfdb) (3.0.4)\n",
            "Requirement already satisfied: cycler>=0.10.0 in /usr/local/lib/python3.6/dist-packages (from wfdb) (0.10.0)\n",
            "Requirement already satisfied: idna>=2.2 in /usr/local/lib/python3.6/dist-packages (from wfdb) (2.10)\n",
            "Requirement already satisfied: joblib>=0.11 in /usr/local/lib/python3.6/dist-packages (from wfdb) (0.16.0)\n",
            "Requirement already satisfied: kiwisolver>=1.1.0 in /usr/local/lib/python3.6/dist-packages (from wfdb) (1.2.0)\n",
            "Requirement already satisfied: matplotlib>=2.0.0 in /usr/local/lib/python3.6/dist-packages (from wfdb) (3.2.2)\n",
            "Collecting mne>=0.18.0\n",
            "\u001b[?25l  Downloading https://files.pythonhosted.org/packages/c9/0d/ba12e84feae362d9808e51aa4e3d96a148db9a047e13e51bb070016fa1ab/mne-0.21.0-py3-none-any.whl (6.8MB)\n",
            "\u001b[K     |████████████████████████████████| 6.8MB 7.1MB/s \n",
            "\u001b[?25hCollecting nose>=1.3.7\n",
            "\u001b[?25l  Downloading https://files.pythonhosted.org/packages/15/d8/dd071918c040f50fa1cf80da16423af51ff8ce4a0f2399b7bf8de45ac3d9/nose-1.3.7-py3-none-any.whl (154kB)\n",
            "\u001b[K     |████████████████████████████████| 163kB 53.3MB/s \n",
            "\u001b[?25hRequirement already satisfied: numpy>=1.10.1 in /usr/local/lib/python3.6/dist-packages (from wfdb) (1.18.5)\n",
            "Requirement already satisfied: pandas>=0.17.0 in /usr/local/lib/python3.6/dist-packages (from wfdb) (1.1.2)\n",
            "Requirement already satisfied: pyparsing>=2.0.4 in /usr/local/lib/python3.6/dist-packages (from wfdb) (2.4.7)\n",
            "Requirement already satisfied: python-dateutil>=2.4.2 in /usr/local/lib/python3.6/dist-packages (from wfdb) (2.8.1)\n",
            "Requirement already satisfied: pytz>=2018.3 in /usr/local/lib/python3.6/dist-packages (from wfdb) (2018.9)\n",
            "Requirement already satisfied: requests>=2.8.1 in /usr/local/lib/python3.6/dist-packages (from wfdb) (2.23.0)\n",
            "Requirement already satisfied: scikit-learn>=0.18 in /usr/local/lib/python3.6/dist-packages (from wfdb) (0.22.2.post1)\n",
            "Requirement already satisfied: scipy>=0.17.0 in /usr/local/lib/python3.6/dist-packages (from wfdb) (1.4.1)\n",
            "Requirement already satisfied: six>=0.9.0 in /usr/local/lib/python3.6/dist-packages (from wfdb) (1.15.0)\n",
            "Requirement already satisfied: sklearn>=0.0 in /usr/local/lib/python3.6/dist-packages (from wfdb) (0.0)\n",
            "Collecting threadpoolctl>=1.0.0\n",
            "  Downloading https://files.pythonhosted.org/packages/f7/12/ec3f2e203afa394a149911729357aa48affc59c20e2c1c8297a60f33f133/threadpoolctl-2.1.0-py3-none-any.whl\n",
            "Requirement already satisfied: urllib3>=1.22 in /usr/local/lib/python3.6/dist-packages (from wfdb) (1.24.3)\n",
            "Building wheels for collected packages: wfdb\n",
            "  Building wheel for wfdb (setup.py) ... \u001b[?25l\u001b[?25hdone\n",
            "  Created wheel for wfdb: filename=wfdb-3.1.1-cp36-none-any.whl size=117828 sha256=b3b661af9800556a8401e6bac466c41191b03d25417eb5539c2a47f6323eec8f\n",
            "  Stored in directory: /root/.cache/pip/wheels/bc/d0/c1/90538d266ccba2d1076fbc9970192c7ea1a09c99df3e65c69b\n",
            "Successfully built wfdb\n",
            "Installing collected packages: mne, nose, threadpoolctl, wfdb\n",
            "Successfully installed mne-0.21.0 nose-1.3.7 threadpoolctl-2.1.0 wfdb-3.1.1\n"
          ],
          "name": "stdout"
        }
      ]
    },
    {
      "cell_type": "code",
      "metadata": {
        "id": "mENhCFE_9dyV",
        "outputId": "7b8429fc-8704-4965-c364-1c65a5732e6b",
        "colab": {
          "base_uri": "https://localhost:8080/",
          "height": 34
        }
      },
      "source": [
        "import os\n",
        "import pandas as pd\n",
        "import wfdb\n",
        "import numpy as np\n",
        "import matplotlib.pyplot as plt\n",
        "import wfdb\n",
        "from google.colab import drive\n",
        "drive.mount('/content/gdrive')"
      ],
      "execution_count": 4,
      "outputs": [
        {
          "output_type": "stream",
          "text": [
            "Drive already mounted at /content/gdrive; to attempt to forcibly remount, call drive.mount(\"/content/gdrive\", force_remount=True).\n"
          ],
          "name": "stdout"
        }
      ]
    },
    {
      "cell_type": "markdown",
      "metadata": {
        "id": "tRwQW_UegT8z"
      },
      "source": [
        "## Download data"
      ]
    },
    {
      "cell_type": "code",
      "metadata": {
        "id": "AvDsHxF-gTOk",
        "outputId": "f5dbab07-c962-42c9-ee88-777c0d03ff2c",
        "colab": {
          "base_uri": "https://localhost:8080/",
          "height": 34
        }
      },
      "source": [
        "from google.colab import drive\n",
        "drive.mount('/content/gdrive')"
      ],
      "execution_count": 2,
      "outputs": [
        {
          "output_type": "stream",
          "text": [
            "Mounted at /content/gdrive\n"
          ],
          "name": "stdout"
        }
      ]
    },
    {
      "cell_type": "code",
      "metadata": {
        "id": "D7m5Nwbl81c6"
      },
      "source": [
        "!wget -r -N -c -np https://physionet.org/files/ptbdb/1.0.0/ /content/gdrive/"
      ],
      "execution_count": null,
      "outputs": []
    },
    {
      "cell_type": "code",
      "metadata": {
        "id": "shHxXdgnR-h9",
        "outputId": "da3423cd-9496-4efc-f403-265c4fe3015e",
        "colab": {
          "base_uri": "https://localhost:8080/",
          "height": 34
        }
      },
      "source": [
        "!ls"
      ],
      "execution_count": null,
      "outputs": [
        {
          "output_type": "stream",
          "text": [
            "sample_data\n"
          ],
          "name": "stdout"
        }
      ]
    },
    {
      "cell_type": "code",
      "metadata": {
        "id": "MVWMKKOHSRbo",
        "outputId": "3e95e235-0ec0-4210-b198-77656ad90cdf",
        "colab": {
          "base_uri": "https://localhost:8080/",
          "height": 33
        }
      },
      "source": [
        "%cd gdrive/"
      ],
      "execution_count": null,
      "outputs": [
        {
          "output_type": "stream",
          "text": [
            "/content/gdrive\n"
          ],
          "name": "stdout"
        }
      ]
    },
    {
      "cell_type": "code",
      "metadata": {
        "id": "pxYJLk5mdEct",
        "outputId": "ba47dfaf-9e36-4475-fecb-dacd9d20527a",
        "colab": {
          "base_uri": "https://localhost:8080/",
          "height": 33
        }
      },
      "source": [
        "!ls"
      ],
      "execution_count": null,
      "outputs": [
        {
          "output_type": "stream",
          "text": [
            "'My Drive'  'Shared drives'\n"
          ],
          "name": "stdout"
        }
      ]
    },
    {
      "cell_type": "code",
      "metadata": {
        "id": "pj9_24Sddjqn",
        "outputId": "f827cbb1-e9ac-44cf-dbac-acf1995405a1",
        "colab": {
          "base_uri": "https://localhost:8080/",
          "height": 34
        }
      },
      "source": [
        "!ls /content/gdrive/My\\ Drive/physionet.org\n"
      ],
      "execution_count": null,
      "outputs": [
        {
          "output_type": "stream",
          "text": [
            "files  robots.txt\n"
          ],
          "name": "stdout"
        }
      ]
    },
    {
      "cell_type": "code",
      "metadata": {
        "id": "sJcXB5hOcyM2"
      },
      "source": [
        "import os"
      ],
      "execution_count": 3,
      "outputs": []
    },
    {
      "cell_type": "code",
      "metadata": {
        "id": "l-kHKhY7cu4O"
      },
      "source": [
        "data_path='/content/gdrive/My Drive/physionet.org/files/ptbdb/1.0.0'"
      ],
      "execution_count": 7,
      "outputs": []
    },
    {
      "cell_type": "code",
      "metadata": {
        "id": "Mw17c1RfVrbR"
      },
      "source": [
        "path_names=os.listdir(data_path)\n",
        "# for patient_path in path_names:\n",
        "#   if not os.path.isdir(patient_path):\n",
        "#       path_names.remove(patient_path)"
      ],
      "execution_count": 6,
      "outputs": []
    },
    {
      "cell_type": "code",
      "metadata": {
        "id": "0lNR1REqTzcg",
        "outputId": "39e9d801-5c7e-4d9a-ab41-d9ea89bec21e",
        "colab": {
          "base_uri": "https://localhost:8080/",
          "height": 34
        }
      },
      "source": [
        "len(path_names)"
      ],
      "execution_count": 7,
      "outputs": [
        {
          "output_type": "execute_result",
          "data": {
            "text/plain": [
              "290"
            ]
          },
          "metadata": {
            "tags": []
          },
          "execution_count": 7
        }
      ]
    },
    {
      "cell_type": "code",
      "metadata": {
        "id": "3tpl-SttWXio",
        "outputId": "9d9e9a73-0a85-419b-8f73-76fb8c84a3e3",
        "colab": {
          "base_uri": "https://localhost:8080/",
          "height": 54
        }
      },
      "source": [
        "print(path_names)"
      ],
      "execution_count": 8,
      "outputs": [
        {
          "output_type": "stream",
          "text": [
            "['patient001', 'patient002', 'patient003', 'patient004', 'patient005', 'patient006', 'patient007', 'patient008', 'patient009', 'patient010', 'patient011', 'patient012', 'patient013', 'patient014', 'patient015', 'patient016', 'patient017', 'patient018', 'patient019', 'patient020', 'patient021', 'patient022', 'patient023', 'patient024', 'patient025', 'patient026', 'patient027', 'patient028', 'patient029', 'patient030', 'patient031', 'patient032', 'patient033', 'patient034', 'patient035', 'patient036', 'patient037', 'patient038', 'patient039', 'patient040', 'patient041', 'patient042', 'patient043', 'patient044', 'patient045', 'patient046', 'patient047', 'patient048', 'patient049', 'patient050', 'patient051', 'patient052', 'patient053', 'patient054', 'patient055', 'patient056', 'patient057', 'patient058', 'patient059', 'patient060', 'patient061', 'patient062', 'patient063', 'patient064', 'patient065', 'patient066', 'patient067', 'patient068', 'patient069', 'patient070', 'patient071', 'patient072', 'patient073', 'patient074', 'patient075', 'patient076', 'patient077', 'patient078', 'patient079', 'patient080', 'patient081', 'patient082', 'patient083', 'patient084', 'patient085', 'patient086', 'patient087', 'patient088', 'patient089', 'patient090', 'patient091', 'patient092', 'patient093', 'patient094', 'patient095', 'patient096', 'patient097', 'patient098', 'patient099', 'patient100', 'patient101', 'patient102', 'patient103', 'patient104', 'patient105', 'patient106', 'patient107', 'patient108', 'patient109', 'patient110', 'patient111', 'patient112', 'patient113', 'patient114', 'patient115', 'patient116', 'patient117', 'patient118', 'patient119', 'patient120', 'patient121', 'patient122', 'patient123', 'patient125', 'patient126', 'patient127', 'patient128', 'patient129', 'patient130', 'patient131', 'patient133', 'patient135', 'patient136', 'patient137', 'patient138', 'patient139', 'patient140', 'patient141', 'patient142', 'patient143', 'patient144', 'patient145', 'patient146', 'patient147', 'patient148', 'patient149', 'patient150', 'patient151', 'patient152', 'patient153', 'patient154', 'patient155', 'patient156', 'patient157', 'patient158', 'patient159', 'patient160', 'patient162', 'patient163', 'patient164', 'patient165', 'patient166', 'patient167', 'patient168', 'patient169', 'patient170', 'patient171', 'patient172', 'patient173', 'patient174', 'patient175', 'patient176', 'patient177', 'patient178', 'patient179', 'patient180', 'patient181', 'patient182', 'patient183', 'patient184', 'patient185', 'patient186', 'patient187', 'patient188', 'patient189', 'patient190', 'patient191', 'patient192', 'patient193', 'patient194', 'patient195', 'patient196', 'patient197', 'patient198', 'patient199', 'patient200', 'patient201', 'patient202', 'patient203', 'patient204', 'patient205', 'patient206', 'patient207', 'patient208', 'patient209', 'patient210', 'patient211', 'patient212', 'patient213', 'patient214', 'patient215', 'patient216', 'patient217', 'patient218', 'patient219', 'patient220', 'patient221', 'patient222', 'patient223', 'patient224', 'patient225', 'patient226', 'patient227', 'patient228', 'patient229', 'patient230', 'patient231', 'patient232', 'patient233', 'patient234', 'patient235', 'patient236', 'patient237', 'patient238', 'patient239', 'patient240', 'patient241', 'patient242', 'patient243', 'patient244', 'patient245', 'patient246', 'patient247', 'patient248', 'patient249', 'patient250', 'patient251', 'patient252', 'patient253', 'patient254', 'patient255', 'patient256', 'patient257', 'patient258', 'patient259', 'patient260', 'patient261', 'patient262', 'patient263', 'patient264', 'patient265', 'patient266', 'patient267', 'patient268', 'patient269', 'patient270', 'patient271', 'patient272', 'patient273', 'patient274', 'patient275', 'patient276', 'patient277', 'patient278', 'patient279', 'patient280', 'patient281', 'patient282', 'patient283', 'patient284', 'patient285', 'patient286', 'patient287', 'patient288', 'patient289', 'patient290', 'patient291', 'patient292', 'patient293', 'patient294']\n"
          ],
          "name": "stdout"
        }
      ]
    },
    {
      "cell_type": "code",
      "metadata": {
        "id": "CJa4HgLFejyn"
      },
      "source": [
        "####################opening the head file######################\n",
        "# HEADERFILE=''\n",
        "# f=open(data_path+HEADERFILE,\"r\")\n",
        "# z=f.readline().split()\n",
        "# num_of_sig,s_freq=int(z[1]),int(z[2])     #% number of signals，sample rate of data\n",
        "\n",
        "# dformat,gain,bitres,zerovalue,firstvalue=[],[],[],[],[]\n",
        "\n",
        "# for i in range(num_of_sig):\n",
        "#     z=f.readline().split()\n",
        "#     dformat.append(int(z[1]))     #format\n",
        "#     gain.append(int(z[2]))     #number of integers per mV\n",
        "#     bitres.append(int(z[3]))     #bitresolution\n",
        "#     zerovalue.append(int(z[4]))     #integer value of ECG zero point\n",
        "#     firstvalue.append(int(z[5]))     #first integer value of signal (to test for errors)\n",
        "# f.close()"
      ],
      "execution_count": null,
      "outputs": []
    },
    {
      "cell_type": "code",
      "metadata": {
        "id": "6ulH-v9mzUXx",
        "outputId": "14fcc5fb-844f-426b-8f83-dcac1c1c684e",
        "colab": {
          "base_uri": "https://localhost:8080/",
          "height": 33
        }
      },
      "source": [
        "# num_of_sig,s_freq,bitres"
      ],
      "execution_count": null,
      "outputs": [
        {
          "output_type": "execute_result",
          "data": {
            "text/plain": [
              "(15, 1000, [16, 16, 16, 16, 16, 16, 16, 16, 16, 16, 16, 16, 16, 16, 16])"
            ]
          },
          "metadata": {
            "tags": []
          },
          "execution_count": 42
        }
      ]
    },
    {
      "cell_type": "code",
      "metadata": {
        "id": "zvmdG2Cn1TfJ",
        "outputId": "e6485d08-4b01-4048-f81a-f06234603ad5",
        "colab": {
          "base_uri": "https://localhost:8080/",
          "height": 566
        }
      },
      "source": [
        "# dformat,gain,bitres,zerovalue,firstvalue"
      ],
      "execution_count": null,
      "outputs": [
        {
          "output_type": "execute_result",
          "data": {
            "text/plain": [
              "([16, 16, 16, 16, 16, 16, 16, 16, 16, 16, 16, 16, 16, 16, 16],\n",
              " [2000,\n",
              "  2000,\n",
              "  2000,\n",
              "  2000,\n",
              "  2000,\n",
              "  2000,\n",
              "  2000,\n",
              "  2000,\n",
              "  2000,\n",
              "  2000,\n",
              "  2000,\n",
              "  2000,\n",
              "  2000,\n",
              "  2000,\n",
              "  2000],\n",
              " [16, 16, 16, 16, 16, 16, 16, 16, 16, 16, 16, 16, 16, 16, 16],\n",
              " [0, 0, 0, 0, 0, 0, 0, 0, 0, 0, 0, 0, 0, 0, 0],\n",
              " [-148,\n",
              "  -73,\n",
              "  75,\n",
              "  110,\n",
              "  -112,\n",
              "  1,\n",
              "  -189,\n",
              "  -540,\n",
              "  -380,\n",
              "  -574,\n",
              "  -638,\n",
              "  -322,\n",
              "  142,\n",
              "  576,\n",
              "  310])"
            ]
          },
          "metadata": {
            "tags": []
          },
          "execution_count": 59
        }
      ]
    },
    {
      "cell_type": "code",
      "metadata": {
        "id": "HuwMPGZmzmTm",
        "outputId": "aecaf385-ddcf-4455-b5ee-76b74fbaea07",
        "colab": {
          "base_uri": "https://localhost:8080/",
          "height": 566
        }
      },
      "source": [
        "# dformat,gain,bitres,zerovalue,firstvalue"
      ],
      "execution_count": null,
      "outputs": [
        {
          "output_type": "execute_result",
          "data": {
            "text/plain": [
              "([16, 16, 16, 16, 16, 16, 16, 16, 16, 16, 16, 16, 16, 16, 16],\n",
              " [2000,\n",
              "  2000,\n",
              "  2000,\n",
              "  2000,\n",
              "  2000,\n",
              "  2000,\n",
              "  2000,\n",
              "  2000,\n",
              "  2000,\n",
              "  2000,\n",
              "  2000,\n",
              "  2000,\n",
              "  2000,\n",
              "  2000,\n",
              "  2000],\n",
              " [16, 16, 16, 16, 16, 16, 16, 16, 16, 16, 16, 16, 16, 16, 16],\n",
              " [0, 0, 0, 0, 0, 0, 0, 0, 0, 0, 0, 0, 0, 0, 0],\n",
              " [-148,\n",
              "  -73,\n",
              "  75,\n",
              "  110,\n",
              "  -112,\n",
              "  1,\n",
              "  -189,\n",
              "  -540,\n",
              "  -380,\n",
              "  -574,\n",
              "  -638,\n",
              "  -322,\n",
              "  142,\n",
              "  576,\n",
              "  310])"
            ]
          },
          "metadata": {
            "tags": []
          },
          "execution_count": 43
        }
      ]
    },
    {
      "cell_type": "code",
      "metadata": {
        "id": "eVPtcOtPHDnu"
      },
      "source": [
        "import numpy as np"
      ],
      "execution_count": 9,
      "outputs": []
    },
    {
      "cell_type": "code",
      "metadata": {
        "id": "dcL7lSFoqStX",
        "outputId": "c846900e-5a9c-45fe-f7a6-262a0f357b85",
        "colab": {
          "base_uri": "https://localhost:8080/",
          "height": 33
        }
      },
      "source": [
        "# ####################read .dat file######################\n",
        "# f=open(data_path+'/patient001/s0014lre.dat',\"rb\")     #\n",
        "# b=f.read()   \n",
        "# f.close()\n",
        "\n",
        "# A_init=np.frombuffer(b,dtype=np.uint8)      \n",
        "# A_shape0=int(A_init.shape[0]/3)     \n",
        "# A=A_init.reshape(A_shape0,3)[:]    \n",
        "# A.shape"
      ],
      "execution_count": null,
      "outputs": [
        {
          "output_type": "execute_result",
          "data": {
            "text/plain": [
              "(921600, 3)"
            ]
          },
          "metadata": {
            "tags": []
          },
          "execution_count": 30
        }
      ]
    },
    {
      "cell_type": "markdown",
      "metadata": {
        "id": "Yh0C7jwVI-8Z"
      },
      "source": [
        "## discover the data"
      ]
    },
    {
      "cell_type": "code",
      "metadata": {
        "id": "5mWfOrysc-Sc",
        "outputId": "c1665eba-c167-40b5-b8af-aeaed05b60d4",
        "colab": {
          "base_uri": "https://localhost:8080/",
          "height": 1000
        }
      },
      "source": [
        "import wfdb\n",
        "import numpy as np\n",
        "import matplotlib.pyplot as plt\n",
        "# plot ECG\n",
        "def draw_ecg(x):\n",
        "    plt.plot(x)\n",
        "    plt.show()\n",
        "\n",
        "#  read_ecg_data\n",
        "def read_ecg_data(file_path,channel_names,sampfrom=0,smpto=1500):\n",
        "    '''\n",
        "    to read the ECG data\n",
        "    sampfrom: start point，default sampfrom=0\n",
        "    sampto：end poit，default to the end of data\n",
        "    channel_names： chanel names which is a list，eg. channel_names=['vx']\n",
        "    channels：a list with numbers，eg. channels=[0, 3]\n",
        "    :return: record of ECG\n",
        "    '''      \n",
        "    record = wfdb.rdrecord(file_path, sampfrom=0, sampto = 1500 ,channel_names=['vz'])\n",
        "    print(type(record))\n",
        "\n",
        "    print(dir(record))\n",
        "\n",
        "    print(record.p_signal)\n",
        "    print(np.shape(record.p_signal))\n",
        "    print(record.sig_len)\n",
        "  \n",
        "    print(record.record_name)\n",
        "   \n",
        "    print(record.n_sig)\n",
        "   \n",
        "    print(record.sig_name)\n",
        "   \n",
        "    print(record.fs)\n",
        "\n",
        "\n",
        "    print(\"***************\")\n",
        "      \n",
        "\n",
        "    \n",
        "    print(wfdb.show_ann_labels())\n",
        "\n",
        "    draw_ecg(record.p_signal)\n",
        "    return record\n",
        "\n",
        "\n",
        "#test function\n",
        "test_file=data_path+'/patient001/s0014lre'\n",
        "read_ecg_data(test_file,'vx')"
      ],
      "execution_count": 10,
      "outputs": [
        {
          "output_type": "stream",
          "text": [
            "<class 'wfdb.io.record.Record'>\n",
            "['__class__', '__delattr__', '__dict__', '__dir__', '__doc__', '__eq__', '__format__', '__ge__', '__getattribute__', '__gt__', '__hash__', '__init__', '__init_subclass__', '__le__', '__lt__', '__module__', '__ne__', '__new__', '__reduce__', '__reduce_ex__', '__repr__', '__setattr__', '__sizeof__', '__str__', '__subclasshook__', '__weakref__', '_adjust_datetime', '_arrange_fields', 'adc', 'adc_gain', 'adc_res', 'adc_zero', 'base_counter', 'base_date', 'base_time', 'baseline', 'block_size', 'byte_offset', 'calc_adc_params', 'calc_checksum', 'check_field', 'check_field_cohesion', 'check_read_inputs', 'check_sig_cohesion', 'checksum', 'comments', 'convert_dtype', 'counter_freq', 'd_signal', 'dac', 'e_d_signal', 'e_p_signal', 'file_name', 'fmt', 'fs', 'get_write_fields', 'get_write_subset', 'init_value', 'n_sig', 'p_signal', 'record_name', 'samps_per_frame', 'set_d_features', 'set_default', 'set_defaults', 'set_p_features', 'sig_len', 'sig_name', 'skew', 'smooth_frames', 'units', 'wr_dat_files', 'wr_dats', 'wr_header_file', 'wrheader', 'wrsamp']\n",
            "[[0.9675]\n",
            " [0.9645]\n",
            " [0.961 ]\n",
            " ...\n",
            " [0.945 ]\n",
            " [0.946 ]\n",
            " [0.9465]]\n",
            "(1500, 1)\n",
            "1500\n",
            "s0014lre\n",
            "1\n",
            "['vz']\n",
            "1000\n",
            "***************\n",
            "    label_store symbol                                    description\n",
            "0             0                              Not an actual annotation\n",
            "1             1      N                                    Normal beat\n",
            "2             2      L                  Left bundle branch block beat\n",
            "3             3      R                 Right bundle branch block beat\n",
            "4             4      a                Aberrated atrial premature beat\n",
            "5             5      V              Premature ventricular contraction\n",
            "6             6      F          Fusion of ventricular and normal beat\n",
            "7             7      J              Nodal (junctional) premature beat\n",
            "8             8      A                   Atrial premature contraction\n",
            "9             9      S     Premature or ectopic supraventricular beat\n",
            "10           10      E                        Ventricular escape beat\n",
            "11           11      j                 Nodal (junctional) escape beat\n",
            "12           12      /                                     Paced beat\n",
            "13           13      Q                            Unclassifiable beat\n",
            "14           14      ~                          Signal quality change\n",
            "16           16      |                     Isolated QRS-like artifact\n",
            "18           18      s                                      ST change\n",
            "19           19      T                                  T-wave change\n",
            "20           20      *                                        Systole\n",
            "21           21      D                                       Diastole\n",
            "22           22      \"                             Comment annotation\n",
            "23           23      =                         Measurement annotation\n",
            "24           24      p                                    P-wave peak\n",
            "25           25      B              Left or right bundle branch block\n",
            "26           26      ^                      Non-conducted pacer spike\n",
            "27           27      t                                    T-wave peak\n",
            "28           28      +                                  Rhythm change\n",
            "29           29      u                                    U-wave peak\n",
            "30           30      ?                                       Learning\n",
            "31           31      !                       Ventricular flutter wave\n",
            "32           32      [      Start of ventricular flutter/fibrillation\n",
            "33           33      ]        End of ventricular flutter/fibrillation\n",
            "34           34      e                             Atrial escape beat\n",
            "35           35      n                   Supraventricular escape beat\n",
            "36           36      @  Link to external data (aux_note contains URL)\n",
            "37           37      x             Non-conducted P-wave (blocked APB)\n",
            "38           38      f                Fusion of paced and normal beat\n",
            "39           39      (                                 Waveform onset\n",
            "40           40      )                                   Waveform end\n",
            "41           41      r       R-on-T premature ventricular contraction\n",
            "None\n"
          ],
          "name": "stdout"
        },
        {
          "output_type": "display_data",
          "data": {
            "image/png": "[encoded data removed]",
            "text/plain": [
              "<Figure size 432x288 with 1 Axes>"
            ]
          },
          "metadata": {
            "tags": [],
            "needs_background": "light"
          }
        },
        {
          "output_type": "execute_result",
          "data": {
            "text/plain": [
              "<wfdb.io.record.Record at 0x7fbd6b9da160>"
            ]
          },
          "metadata": {
            "tags": []
          },
          "execution_count": 10
        }
      ]
    },
    {
      "cell_type": "code",
      "metadata": {
        "id": "tgKNP0wKlAjm"
      },
      "source": [
        "# # test how many .dat files\n",
        "# for patient_path in path_names:\n",
        "#   PATH=os.path.join(data_path,patient_path)   #path\n",
        "#   if not os.path.isfile(PATH):\n",
        "#     FILES=os.listdir(PATH)\n",
        "#     print(FILES)        \n",
        "#     for file in FILES:\n",
        "#       if '.dat' in file:\n",
        "#         print(file)   "
      ],
      "execution_count": null,
      "outputs": []
    },
    {
      "cell_type": "markdown",
      "metadata": {
        "id": "N1SZtOZNJI9I"
      },
      "source": [
        "# read all data to pd dataframe"
      ]
    },
    {
      "cell_type": "code",
      "metadata": {
        "id": "Y5yH0CWZZIHQ"
      },
      "source": [
        "import os\n",
        "import wfdb\n",
        "data_path='/content/gdrive/My Drive/physionet.org/files/ptbdb/1.0.0'\n",
        "\n",
        "def read_data_files(data_path):\n",
        "  path_names=os.listdir(data_path)\n",
        "  # for name in path_names:\n",
        "    # if not os.path.isdir(name):\n",
        "    #     path_names.remove(name) \n",
        "  \n",
        "  records=[]      \n",
        "             \n",
        "  for patient_path in path_names:\n",
        "      PATH=os.path.join(data_path,patient_path)   #path\n",
        "      if not os.path.isfile(PATH):\n",
        "         FILES=os.listdir(PATH)\n",
        "         #print(FILES) \n",
        "        # data_files=[]             \n",
        "         for file in FILES:\n",
        "           if '.hea' in file:\n",
        "              #print(file)\n",
        "              # data_files.append(file)\n",
        "              record_path=os.path.join(PATH,file.split('.')[0])\n",
        "              record=wfdb.rdrecord(record_path)\n",
        "              records.append(record)\n",
        "\n",
        "  return records         \n",
        "\n",
        "all_records=read_data_files(data_path)"
      ],
      "execution_count": 63,
      "outputs": []
    },
    {
      "cell_type": "code",
      "metadata": {
        "id": "OJQv89DmsHqZ",
        "outputId": "48337c61-fc91-4af6-b698-5cf684b37def",
        "colab": {
          "base_uri": "https://localhost:8080/",
          "height": 34
        }
      },
      "source": [
        "len(all_records)"
      ],
      "execution_count": null,
      "outputs": [
        {
          "output_type": "execute_result",
          "data": {
            "text/plain": [
              "549"
            ]
          },
          "metadata": {
            "tags": []
          },
          "execution_count": 11
        }
      ]
    },
    {
      "cell_type": "code",
      "metadata": {
        "id": "pm7Ppj67sOcv"
      },
      "source": [
        "import pandas as pd\n",
        "\n",
        "def make_dataset(records): \n",
        "  df = pd.DataFrame(columns = ['record_name','gender','age','label'])\n",
        "  # array_0=records[0].p_signala\n",
        "  # print(array_0)\n",
        "  # plt.plot(array_0)\n",
        "  record_names=[]\n",
        "  genders=[]\n",
        "  ages=[]\n",
        "  labels=[]\n",
        "  arrays_sigs=[]\n",
        "  for record in records:\n",
        "    #print(record.record_name)\n",
        "    record_names.append(record.record_name) \n",
        "    genders.append(record.comments[1].split(':')[1]) \n",
        "    ages.append(record.comments[0].split(':')[1])  \n",
        "    labels.append(record.comments[4].split(':')[1])\n",
        "    arrays_sigs.append(record.p_signal.T)\n",
        "  df.record_name=record_names\n",
        "  df.gender=genders\n",
        "  df.age=ages\n",
        "  df.label=labels\n",
        "  df['arrays_all']=arrays_sigs\n",
        "\n",
        "  channel_names=records[0].sig_name\n",
        "  for i in range(15):\n",
        "    df[channel_names[i]]=df.arrays_all.apply(lambda x: x[i])\n",
        "  \n",
        "  df.drop(['arrays_all'],axis=1,inplace=True)\n",
        "  return df"
      ],
      "execution_count": 64,
      "outputs": []
    },
    {
      "cell_type": "code",
      "metadata": {
        "id": "CgIOtKdGR9Jb",
        "outputId": "a5877054-6340-4b62-d0b2-a8de0dc8f69a",
        "colab": {
          "base_uri": "https://localhost:8080/",
          "height": 34
        }
      },
      "source": [
        "df=make_dataset(all_records)\n",
        "df.shape"
      ],
      "execution_count": 66,
      "outputs": [
        {
          "output_type": "execute_result",
          "data": {
            "text/plain": [
              "(549, 19)"
            ]
          },
          "metadata": {
            "tags": []
          },
          "execution_count": 66
        }
      ]
    },
    {
      "cell_type": "code",
      "metadata": {
        "id": "Q-Hn30gnTbqR",
        "outputId": "29069744-c62e-4b02-dbfb-9bfcf2a19e18",
        "colab": {
          "base_uri": "https://localhost:8080/",
          "height": 614
        }
      },
      "source": [
        "df.head(5)"
      ],
      "execution_count": 67,
      "outputs": [
        {
          "output_type": "execute_result",
          "data": {
            "text/html": [
              "<div>\n",
              "<style scoped>\n",
              "    .dataframe tbody tr th:only-of-type {\n",
              "        vertical-align: middle;\n",
              "    }\n",
              "\n",
              "    .dataframe tbody tr th {\n",
              "        vertical-align: top;\n",
              "    }\n",
              "\n",
              "    .dataframe thead th {\n",
              "        text-align: right;\n",
              "    }\n",
              "</style>\n",
              "<table border=\"1\" class=\"dataframe\">\n",
              "  <thead>\n",
              "    <tr style=\"text-align: right;\">\n",
              "      <th></th>\n",
              "      <th>record_name</th>\n",
              "      <th>gender</th>\n",
              "      <th>age</th>\n",
              "      <th>label</th>\n",
              "      <th>i</th>\n",
              "      <th>ii</th>\n",
              "      <th>iii</th>\n",
              "      <th>avr</th>\n",
              "      <th>avl</th>\n",
              "      <th>avf</th>\n",
              "      <th>v1</th>\n",
              "      <th>v2</th>\n",
              "      <th>v3</th>\n",
              "      <th>v4</th>\n",
              "      <th>v5</th>\n",
              "      <th>v6</th>\n",
              "      <th>vx</th>\n",
              "      <th>vy</th>\n",
              "      <th>vz</th>\n",
              "    </tr>\n",
              "  </thead>\n",
              "  <tbody>\n",
              "    <tr>\n",
              "      <th>0</th>\n",
              "      <td>s0010_re</td>\n",
              "      <td>female</td>\n",
              "      <td>81</td>\n",
              "      <td>Myocardial infarction</td>\n",
              "      <td>[-0.2445, -0.2425, -0.2415, -0.241, -0.2315, -...</td>\n",
              "      <td>[-0.229, -0.2335, -0.2345, -0.229, -0.227, -0....</td>\n",
              "      <td>[0.0155, 0.009, 0.007, 0.012, 0.0045, -0.007, ...</td>\n",
              "      <td>[0.237, 0.238, 0.238, 0.235, 0.2295, 0.2295, 0...</td>\n",
              "      <td>[-0.13, -0.1255, -0.124, -0.126, -0.118, -0.10...</td>\n",
              "      <td>[-0.107, -0.1125, -0.114, -0.109, -0.1115, -0....</td>\n",
              "      <td>[-0.044, -0.042, -0.044, -0.045, -0.0455, -0.0...</td>\n",
              "      <td>[-0.1205, -0.1175, -0.118, -0.1175, -0.117, -0...</td>\n",
              "      <td>[-0.056, -0.051, -0.0535, -0.0515, -0.0495, -0...</td>\n",
              "      <td>[0.106, 0.1095, 0.1095, 0.1115, 0.1115, 0.1075...</td>\n",
              "      <td>[0.1965, 0.202, 0.2005, 0.201, 0.2, 0.196, 0.1...</td>\n",
              "      <td>[0.195, 0.198, 0.1965, 0.197, 0.1985, 0.194, 0...</td>\n",
              "      <td>[-0.0015, -0.0015, -0.0035, -0.002, 0.0005, 0....</td>\n",
              "      <td>[0.06, 0.061, 0.0555, 0.0535, 0.0545, 0.056, 0...</td>\n",
              "      <td>[-0.009, -0.01, -0.0085, -0.008, -0.0085, -0.0...</td>\n",
              "    </tr>\n",
              "    <tr>\n",
              "      <th>1</th>\n",
              "      <td>s0014lre</td>\n",
              "      <td>female</td>\n",
              "      <td>81</td>\n",
              "      <td>Myocardial infarction</td>\n",
              "      <td>[-0.474, -0.444, -0.4555, -0.462, -0.459, -0.4...</td>\n",
              "      <td>[-0.0595, -0.032, -0.0345, -0.031, -0.018, -0....</td>\n",
              "      <td>[0.415, 0.4125, 0.422, 0.432, 0.442, 0.448, 0....</td>\n",
              "      <td>[0.267, 0.238, 0.2455, 0.2465, 0.239, 0.2455, ...</td>\n",
              "      <td>[-0.445, -0.4285, -0.439, -0.4475, -0.451, -0....</td>\n",
              "      <td>[0.178, 0.191, 0.194, 0.2005, 0.212, 0.2135, 0...</td>\n",
              "      <td>[1.252, 1.2575, 1.256, 1.256, 1.2605, 1.2545, ...</td>\n",
              "      <td>[1.287, 1.2845, 1.282, 1.2775, 1.276, 1.2705, ...</td>\n",
              "      <td>[-0.9325, -0.929, -0.936, -0.942, -0.945, -0.9...</td>\n",
              "      <td>[-0.822, -0.8215, -0.824, -0.828, -0.827, -0.8...</td>\n",
              "      <td>[1.614, 1.6195, 1.6195, 1.6185, 1.621, 1.6205,...</td>\n",
              "      <td>[1.708, 1.712, 1.7125, 1.7125, 1.7165, 1.716, ...</td>\n",
              "      <td>[0.5365, 0.5335, 0.5305, 0.531, 0.5305, 0.53, ...</td>\n",
              "      <td>[-1.1385, -1.1385, -1.141, -1.133, -1.1265, -1...</td>\n",
              "      <td>[0.9675, 0.9645, 0.961, 0.963, 0.962, 0.9595, ...</td>\n",
              "    </tr>\n",
              "    <tr>\n",
              "      <th>2</th>\n",
              "      <td>s0016lre</td>\n",
              "      <td>female</td>\n",
              "      <td>81</td>\n",
              "      <td>Myocardial infarction</td>\n",
              "      <td>[0.254, 0.263, 0.2755, 0.28, 0.3035, 0.305, 0....</td>\n",
              "      <td>[0.7535, 0.7615, 0.786, 0.805, 0.8415, 0.8505,...</td>\n",
              "      <td>[0.499, 0.498, 0.51, 0.5245, 0.5375, 0.545, 0....</td>\n",
              "      <td>[-0.5035, -0.5115, -0.5305, -0.542, -0.572, -0...</td>\n",
              "      <td>[-0.1225, -0.1175, -0.117, -0.122, -0.117, -0....</td>\n",
              "      <td>[0.626, 0.6295, 0.648, 0.6645, 0.6895, 0.6975,...</td>\n",
              "      <td>[0.5815, 0.5955, 0.6015, 0.6015, 0.6105, 0.613...</td>\n",
              "      <td>[0.7875, 0.8015, 0.8075, 0.8115, 0.823, 0.821,...</td>\n",
              "      <td>[0.936, 0.9535, 0.957, 0.962, 0.975, 0.975, 0....</td>\n",
              "      <td>[0.984, 1.001, 1.0065, 1.0125, 1.0235, 1.024, ...</td>\n",
              "      <td>[0.818, 0.8335, 0.833, 0.8385, 0.861, 0.859, 0...</td>\n",
              "      <td>[0.5385, 0.551, 0.5515, 0.5605, 0.581, 0.5755,...</td>\n",
              "      <td>[0.385, 0.38, 0.382, 0.382, 0.384, 0.3825, 0.3...</td>\n",
              "      <td>[-0.131, -0.132, -0.118, -0.1075, -0.106, -0.1...</td>\n",
              "      <td>[0.029, 0.024, 0.0245, 0.0275, 0.028, 0.0205, ...</td>\n",
              "    </tr>\n",
              "    <tr>\n",
              "      <th>3</th>\n",
              "      <td>s0015lre</td>\n",
              "      <td>female</td>\n",
              "      <td>58</td>\n",
              "      <td>Myocardial infarction</td>\n",
              "      <td>[0.2735, 0.287, 0.2925, 0.312, 0.3275, 0.3305,...</td>\n",
              "      <td>[-0.035, -0.037, -0.0315, -0.0175, -0.018, -0....</td>\n",
              "      <td>[-0.308, -0.3235, -0.324, -0.329, -0.345, -0.3...</td>\n",
              "      <td>[-0.119, -0.125, -0.1305, -0.147, -0.1545, -0....</td>\n",
              "      <td>[0.291, 0.305, 0.3085, 0.3205, 0.336, 0.3415, ...</td>\n",
              "      <td>[-0.1715, -0.18, -0.178, -0.1735, -0.1815, -0....</td>\n",
              "      <td>[0.68, 0.669, 0.6645, 0.6525, 0.641, 0.63, 0.6...</td>\n",
              "      <td>[0.333, 0.3295, 0.33, 0.319, 0.3155, 0.3135, 0...</td>\n",
              "      <td>[0.391, 0.413, 0.4315, 0.4405, 0.45, 0.468, 0....</td>\n",
              "      <td>[0.0545, 0.0775, 0.097, 0.109, 0.121, 0.138, 0...</td>\n",
              "      <td>[-0.3835, -0.3605, -0.341, -0.33, -0.319, -0.3...</td>\n",
              "      <td>[-0.198, -0.18, -0.169, -0.1615, -0.1535, -0.1...</td>\n",
              "      <td>[-0.3205, -0.292, -0.286, -0.277, -0.2575, -0....</td>\n",
              "      <td>[-0.179, -0.1935, -0.197, -0.1975, -0.205, -0....</td>\n",
              "      <td>[-0.0045, -0.006, -0.016, -0.024, -0.02, -0.02...</td>\n",
              "    </tr>\n",
              "    <tr>\n",
              "      <th>4</th>\n",
              "      <td>s0017lre</td>\n",
              "      <td>male</td>\n",
              "      <td>63</td>\n",
              "      <td>Myocardial infarction</td>\n",
              "      <td>[-0.6195, -0.6225, -0.626, -0.6275, -0.626, -0...</td>\n",
              "      <td>[-0.9435, -0.9575, -0.969, -0.968, -0.964, -0....</td>\n",
              "      <td>[-0.3235, -0.3345, -0.3425, -0.34, -0.3375, -0...</td>\n",
              "      <td>[0.782, 0.7905, 0.7975, 0.798, 0.795, 0.7915, ...</td>\n",
              "      <td>[-0.1475, -0.1435, -0.141, -0.1435, -0.144, -0...</td>\n",
              "      <td>[-0.6335, -0.646, -0.656, -0.654, -0.6505, -0....</td>\n",
              "      <td>[-0.011, -0.0095, -0.0035, -0.0045, -0.001, -0...</td>\n",
              "      <td>[-0.187, -0.1855, -0.1785, -0.1785, -0.179, -0...</td>\n",
              "      <td>[-0.3385, -0.338, -0.3315, -0.3345, -0.334, -0...</td>\n",
              "      <td>[-0.2675, -0.267, -0.263, -0.265, -0.265, -0.2...</td>\n",
              "      <td>[-0.188, -0.187, -0.182, -0.1865, -0.1865, -0....</td>\n",
              "      <td>[-0.3335, -0.3345, -0.3305, -0.3315, -0.3335, ...</td>\n",
              "      <td>[-0.444, -0.453, -0.458, -0.454, -0.449, -0.44...</td>\n",
              "      <td>[-0.41, -0.4205, -0.429, -0.434, -0.4315, -0.4...</td>\n",
              "      <td>[0.469, 0.4675, 0.461, 0.4575, 0.461, 0.459, 0...</td>\n",
              "    </tr>\n",
              "  </tbody>\n",
              "</table>\n",
              "</div>"
            ],
            "text/plain": [
              "  record_name  ...                                                 vz\n",
              "0    s0010_re  ...  [-0.009, -0.01, -0.0085, -0.008, -0.0085, -0.0...\n",
              "1    s0014lre  ...  [0.9675, 0.9645, 0.961, 0.963, 0.962, 0.9595, ...\n",
              "2    s0016lre  ...  [0.029, 0.024, 0.0245, 0.0275, 0.028, 0.0205, ...\n",
              "3    s0015lre  ...  [-0.0045, -0.006, -0.016, -0.024, -0.02, -0.02...\n",
              "4    s0017lre  ...  [0.469, 0.4675, 0.461, 0.4575, 0.461, 0.459, 0...\n",
              "\n",
              "[5 rows x 19 columns]"
            ]
          },
          "metadata": {
            "tags": []
          },
          "execution_count": 67
        }
      ]
    },
    {
      "cell_type": "code",
      "metadata": {
        "id": "RAlHfXwCOo4_",
        "outputId": "cf717b1e-26cc-4190-c348-5e88ad04ac4c",
        "colab": {
          "base_uri": "https://localhost:8080/",
          "height": 281
        }
      },
      "source": [
        "plt.plot(df.vx[0][100:2000].flatten())"
      ],
      "execution_count": null,
      "outputs": [
        {
          "output_type": "execute_result",
          "data": {
            "text/plain": [
              "[<matplotlib.lines.Line2D at 0x7f028810c2e8>]"
            ]
          },
          "metadata": {
            "tags": []
          },
          "execution_count": 53
        },
        {
          "output_type": "display_data",
          "data": {
            "image/png": "[encoded data removed]",
            "text/plain": [
              "<Figure size 432x288 with 1 Axes>"
            ]
          },
          "metadata": {
            "tags": [],
            "needs_background": "light"
          }
        }
      ]
    },
    {
      "cell_type": "code",
      "metadata": {
        "id": "mr3159i-UZyB",
        "outputId": "36b8423d-85ab-41cd-f3f0-406a1c8d067a",
        "colab": {
          "base_uri": "https://localhost:8080/",
          "height": 34
        }
      },
      "source": [
        "grouped = df.groupby(['label']).head(3)\n",
        "grouped.shape"
      ],
      "execution_count": null,
      "outputs": [
        {
          "output_type": "execute_result",
          "data": {
            "text/plain": [
              "(34, 19)"
            ]
          },
          "metadata": {
            "tags": []
          },
          "execution_count": 19
        }
      ]
    },
    {
      "cell_type": "code",
      "metadata": {
        "id": "G8GnueRYUflo",
        "outputId": "b5cdd91f-e3b0-4335-80d9-2b67baf0caca",
        "colab": {
          "base_uri": "https://localhost:8080/",
          "height": 1000
        }
      },
      "source": [
        "grouped.head(10)"
      ],
      "execution_count": null,
      "outputs": [
        {
          "output_type": "execute_result",
          "data": {
            "text/html": [
              "<div>\n",
              "<style scoped>\n",
              "    .dataframe tbody tr th:only-of-type {\n",
              "        vertical-align: middle;\n",
              "    }\n",
              "\n",
              "    .dataframe tbody tr th {\n",
              "        vertical-align: top;\n",
              "    }\n",
              "\n",
              "    .dataframe thead th {\n",
              "        text-align: right;\n",
              "    }\n",
              "</style>\n",
              "<table border=\"1\" class=\"dataframe\">\n",
              "  <thead>\n",
              "    <tr style=\"text-align: right;\">\n",
              "      <th></th>\n",
              "      <th>record_name</th>\n",
              "      <th>gender</th>\n",
              "      <th>age</th>\n",
              "      <th>label</th>\n",
              "      <th>i</th>\n",
              "      <th>ii</th>\n",
              "      <th>iii</th>\n",
              "      <th>avr</th>\n",
              "      <th>avl</th>\n",
              "      <th>avf</th>\n",
              "      <th>v1</th>\n",
              "      <th>v2</th>\n",
              "      <th>v3</th>\n",
              "      <th>v4</th>\n",
              "      <th>v5</th>\n",
              "      <th>v6</th>\n",
              "      <th>vx</th>\n",
              "      <th>vy</th>\n",
              "      <th>vz</th>\n",
              "    </tr>\n",
              "  </thead>\n",
              "  <tbody>\n",
              "    <tr>\n",
              "      <th>0</th>\n",
              "      <td>s0010_re</td>\n",
              "      <td>female</td>\n",
              "      <td>81</td>\n",
              "      <td>Myocardial infarction</td>\n",
              "      <td>[-0.2445, -0.2425, -0.2415, -0.241, -0.2315, -...</td>\n",
              "      <td>[-0.229, -0.2335, -0.2345, -0.229, -0.227, -0....</td>\n",
              "      <td>[0.0155, 0.009, 0.007, 0.012, 0.0045, -0.007, ...</td>\n",
              "      <td>[0.237, 0.238, 0.238, 0.235, 0.2295, 0.2295, 0...</td>\n",
              "      <td>[-0.13, -0.1255, -0.124, -0.126, -0.118, -0.10...</td>\n",
              "      <td>[-0.107, -0.1125, -0.114, -0.109, -0.1115, -0....</td>\n",
              "      <td>[-0.044, -0.042, -0.044, -0.045, -0.0455, -0.0...</td>\n",
              "      <td>[-0.1205, -0.1175, -0.118, -0.1175, -0.117, -0...</td>\n",
              "      <td>[-0.056, -0.051, -0.0535, -0.0515, -0.0495, -0...</td>\n",
              "      <td>[0.106, 0.1095, 0.1095, 0.1115, 0.1115, 0.1075...</td>\n",
              "      <td>[0.1965, 0.202, 0.2005, 0.201, 0.2, 0.196, 0.1...</td>\n",
              "      <td>[0.195, 0.198, 0.1965, 0.197, 0.1985, 0.194, 0...</td>\n",
              "      <td>[-0.0015, -0.0015, -0.0035, -0.002, 0.0005, 0....</td>\n",
              "      <td>[0.06, 0.061, 0.0555, 0.0535, 0.0545, 0.056, 0...</td>\n",
              "      <td>[-0.009, -0.01, -0.0085, -0.008, -0.0085, -0.0...</td>\n",
              "    </tr>\n",
              "    <tr>\n",
              "      <th>1</th>\n",
              "      <td>s0014lre</td>\n",
              "      <td>female</td>\n",
              "      <td>81</td>\n",
              "      <td>Myocardial infarction</td>\n",
              "      <td>[-0.474, -0.444, -0.4555, -0.462, -0.459, -0.4...</td>\n",
              "      <td>[-0.0595, -0.032, -0.0345, -0.031, -0.018, -0....</td>\n",
              "      <td>[0.415, 0.4125, 0.422, 0.432, 0.442, 0.448, 0....</td>\n",
              "      <td>[0.267, 0.238, 0.2455, 0.2465, 0.239, 0.2455, ...</td>\n",
              "      <td>[-0.445, -0.4285, -0.439, -0.4475, -0.451, -0....</td>\n",
              "      <td>[0.178, 0.191, 0.194, 0.2005, 0.212, 0.2135, 0...</td>\n",
              "      <td>[1.252, 1.2575, 1.256, 1.256, 1.2605, 1.2545, ...</td>\n",
              "      <td>[1.287, 1.2845, 1.282, 1.2775, 1.276, 1.2705, ...</td>\n",
              "      <td>[-0.9325, -0.929, -0.936, -0.942, -0.945, -0.9...</td>\n",
              "      <td>[-0.822, -0.8215, -0.824, -0.828, -0.827, -0.8...</td>\n",
              "      <td>[1.614, 1.6195, 1.6195, 1.6185, 1.621, 1.6205,...</td>\n",
              "      <td>[1.708, 1.712, 1.7125, 1.7125, 1.7165, 1.716, ...</td>\n",
              "      <td>[0.5365, 0.5335, 0.5305, 0.531, 0.5305, 0.53, ...</td>\n",
              "      <td>[-1.1385, -1.1385, -1.141, -1.133, -1.1265, -1...</td>\n",
              "      <td>[0.9675, 0.9645, 0.961, 0.963, 0.962, 0.9595, ...</td>\n",
              "    </tr>\n",
              "    <tr>\n",
              "      <th>2</th>\n",
              "      <td>s0016lre</td>\n",
              "      <td>female</td>\n",
              "      <td>81</td>\n",
              "      <td>Myocardial infarction</td>\n",
              "      <td>[0.254, 0.263, 0.2755, 0.28, 0.3035, 0.305, 0....</td>\n",
              "      <td>[0.7535, 0.7615, 0.786, 0.805, 0.8415, 0.8505,...</td>\n",
              "      <td>[0.499, 0.498, 0.51, 0.5245, 0.5375, 0.545, 0....</td>\n",
              "      <td>[-0.5035, -0.5115, -0.5305, -0.542, -0.572, -0...</td>\n",
              "      <td>[-0.1225, -0.1175, -0.117, -0.122, -0.117, -0....</td>\n",
              "      <td>[0.626, 0.6295, 0.648, 0.6645, 0.6895, 0.6975,...</td>\n",
              "      <td>[0.5815, 0.5955, 0.6015, 0.6015, 0.6105, 0.613...</td>\n",
              "      <td>[0.7875, 0.8015, 0.8075, 0.8115, 0.823, 0.821,...</td>\n",
              "      <td>[0.936, 0.9535, 0.957, 0.962, 0.975, 0.975, 0....</td>\n",
              "      <td>[0.984, 1.001, 1.0065, 1.0125, 1.0235, 1.024, ...</td>\n",
              "      <td>[0.818, 0.8335, 0.833, 0.8385, 0.861, 0.859, 0...</td>\n",
              "      <td>[0.5385, 0.551, 0.5515, 0.5605, 0.581, 0.5755,...</td>\n",
              "      <td>[0.385, 0.38, 0.382, 0.382, 0.384, 0.3825, 0.3...</td>\n",
              "      <td>[-0.131, -0.132, -0.118, -0.1075, -0.106, -0.1...</td>\n",
              "      <td>[0.029, 0.024, 0.0245, 0.0275, 0.028, 0.0205, ...</td>\n",
              "    </tr>\n",
              "    <tr>\n",
              "      <th>316</th>\n",
              "      <td>s0306lre</td>\n",
              "      <td>male</td>\n",
              "      <td>58</td>\n",
              "      <td>Healthy control</td>\n",
              "      <td>[0.031, 0.029, 0.03, 0.0275, 0.0295, 0.033, 0....</td>\n",
              "      <td>[-1.1485, -1.1485, -1.145, -1.1475, -1.149, -1...</td>\n",
              "      <td>[-1.1795, -1.1775, -1.175, -1.175, -1.1785, -1...</td>\n",
              "      <td>[0.5585, 0.5595, 0.557, 0.5595, 0.5595, 0.5585...</td>\n",
              "      <td>[0.6055, 0.6035, 0.603, 0.6015, 0.6045, 0.6085...</td>\n",
              "      <td>[-1.164, -1.163, -1.1595, -1.161, -1.1635, -1....</td>\n",
              "      <td>[0.166, 0.1675, 0.1655, 0.162, 0.162, 0.1655, ...</td>\n",
              "      <td>[0.258, 0.2585, 0.2585, 0.259, 0.2575, 0.2615,...</td>\n",
              "      <td>[0.573, 0.5735, 0.576, 0.576, 0.577, 0.5805, 0...</td>\n",
              "      <td>[0.129, 0.128, 0.129, 0.128, 0.1275, 0.1305, 0...</td>\n",
              "      <td>[-0.3825, -0.3835, -0.381, -0.382, -0.382, -0....</td>\n",
              "      <td>[0.012, 0.014, 0.015, 0.016, 0.0155, 0.0195, 0...</td>\n",
              "      <td>[-0.3415, -0.338, -0.337, -0.336, -0.3355, -0....</td>\n",
              "      <td>[-0.698, -0.6985, -0.696, -0.694, -0.6925, -0....</td>\n",
              "      <td>[0.0095, 0.0095, 0.0065, 0.0075, 0.0085, 0.003...</td>\n",
              "    </tr>\n",
              "    <tr>\n",
              "      <th>317</th>\n",
              "      <td>s0303lre</td>\n",
              "      <td>female</td>\n",
              "      <td>32</td>\n",
              "      <td>Healthy control</td>\n",
              "      <td>[-0.658, -0.66, -0.6575, -0.652, -0.643, -0.63...</td>\n",
              "      <td>[-0.1105, -0.1085, -0.103, -0.105, -0.1125, -0...</td>\n",
              "      <td>[0.5475, 0.5515, 0.5545, 0.547, 0.531, 0.5185,...</td>\n",
              "      <td>[0.3845, 0.3845, 0.3805, 0.379, 0.378, 0.379, ...</td>\n",
              "      <td>[-0.6025, -0.606, -0.606, -0.5995, -0.587, -0....</td>\n",
              "      <td>[0.219, 0.222, 0.226, 0.221, 0.2095, 0.1995, 0...</td>\n",
              "      <td>[0.5235, 0.5305, 0.536, 0.545, 0.5525, 0.5585,...</td>\n",
              "      <td>[0.649, 0.669, 0.69, 0.7165, 0.743, 0.7595, 0....</td>\n",
              "      <td>[0.1675, 0.201, 0.231, 0.266, 0.3005, 0.328, 0...</td>\n",
              "      <td>[0.07, 0.0995, 0.129, 0.1585, 0.1885, 0.2105, ...</td>\n",
              "      <td>[-0.1915, -0.1665, -0.143, -0.1185, -0.0935, -...</td>\n",
              "      <td>[0.445, 0.4595, 0.478, 0.4955, 0.512, 0.5255, ...</td>\n",
              "      <td>[-0.0725, -0.0605, -0.0425, -0.026, -0.0065, 0...</td>\n",
              "      <td>[1.6095, 1.629, 1.6465, 1.661, 1.669, 1.6765, ...</td>\n",
              "      <td>[0.5455, 0.5215, 0.503, 0.491, 0.484, 0.476, 0...</td>\n",
              "    </tr>\n",
              "    <tr>\n",
              "      <th>318</th>\n",
              "      <td>s0030_re</td>\n",
              "      <td>male</td>\n",
              "      <td>46</td>\n",
              "      <td>Valvular heart disease</td>\n",
              "      <td>[-0.027, -0.0195, 0.001, -0.0035, -0.0135, -0....</td>\n",
              "      <td>[-0.7785, -0.7865, -0.7685, -0.764, -0.759, -0...</td>\n",
              "      <td>[-0.7515, -0.767, -0.769, -0.7605, -0.7455, -0...</td>\n",
              "      <td>[0.403, 0.403, 0.384, 0.384, 0.3865, 0.3755, 0...</td>\n",
              "      <td>[0.3625, 0.374, 0.385, 0.3785, 0.366, 0.363, 0...</td>\n",
              "      <td>[-0.765, -0.777, -0.769, -0.7625, -0.7525, -0....</td>\n",
              "      <td>[-0.262, -0.265, -0.274, -0.2785, -0.278, -0.2...</td>\n",
              "      <td>[0.079, 0.0735, 0.067, 0.0655, 0.067, 0.069, 0...</td>\n",
              "      <td>[-0.1095, -0.1115, -0.118, -0.119, -0.117, -0....</td>\n",
              "      <td>[-0.03, -0.03, -0.037, -0.038, -0.0375, -0.035...</td>\n",
              "      <td>[0.105, 0.1075, 0.1005, 0.092, 0.0935, 0.095, ...</td>\n",
              "      <td>[0.1155, 0.121, 0.11, 0.101, 0.1005, 0.1035, 0...</td>\n",
              "      <td>[0.2045, 0.211, 0.207, 0.202, 0.1985, 0.196, 0...</td>\n",
              "      <td>[-0.321, -0.3305, -0.324, -0.317, -0.307, -0.2...</td>\n",
              "      <td>[-0.0385, -0.0345, -0.0375, -0.04, -0.044, -0....</td>\n",
              "    </tr>\n",
              "    <tr>\n",
              "      <th>319</th>\n",
              "      <td>s0199_re</td>\n",
              "      <td>female</td>\n",
              "      <td>41</td>\n",
              "      <td>Valvular heart disease</td>\n",
              "      <td>[-0.497, -0.5075, -0.506, -0.504, -0.49, -0.49...</td>\n",
              "      <td>[-1.1315, -1.1345, -1.1335, -1.13, -1.1225, -1...</td>\n",
              "      <td>[-0.634, -0.6265, -0.627, -0.6255, -0.632, -0....</td>\n",
              "      <td>[0.814, 0.821, 0.8195, 0.817, 0.8065, 0.8065, ...</td>\n",
              "      <td>[0.0685, 0.0595, 0.0605, 0.061, 0.071, 0.071, ...</td>\n",
              "      <td>[-0.8825, -0.8805, -0.88, -0.878, -0.877, -0.8...</td>\n",
              "      <td>[0.348, 0.352, 0.352, 0.3495, 0.3475, 0.346, 0...</td>\n",
              "      <td>[0.2155, 0.216, 0.22, 0.2205, 0.2185, 0.218, 0...</td>\n",
              "      <td>[0.0975, 0.1015, 0.1055, 0.1075, 0.104, 0.1035...</td>\n",
              "      <td>[0.0615, 0.0625, 0.067, 0.07, 0.067, 0.0665, 0...</td>\n",
              "      <td>[0.0975, 0.101, 0.104, 0.107, 0.1045, 0.105, 0...</td>\n",
              "      <td>[0.0235, 0.0265, 0.0285, 0.031, 0.03, 0.03, 0....</td>\n",
              "      <td>[-0.028, -0.028, -0.0265, -0.023, -0.0215, -0....</td>\n",
              "      <td>[-0.3825, -0.3815, -0.3835, -0.38, -0.378, -0....</td>\n",
              "      <td>[0.093, 0.093, 0.091, 0.094, 0.094, 0.09, 0.08...</td>\n",
              "    </tr>\n",
              "    <tr>\n",
              "      <th>321</th>\n",
              "      <td>s0349lre</td>\n",
              "      <td>male</td>\n",
              "      <td>17</td>\n",
              "      <td>Dysrhythmia</td>\n",
              "      <td>[-0.426, -0.4185, -0.413, -0.4105, -0.404, -0....</td>\n",
              "      <td>[-1.3545, -1.374, -1.3925, -1.4025, -1.401, -1...</td>\n",
              "      <td>[-0.928, -0.955, -0.979, -0.9915, -0.9965, -1....</td>\n",
              "      <td>[0.8905, 0.8965, 0.903, 0.907, 0.9025, 0.9095,...</td>\n",
              "      <td>[0.251, 0.268, 0.283, 0.2905, 0.296, 0.2965, 0...</td>\n",
              "      <td>[-1.1415, -1.1645, -1.186, -1.197, -1.199, -1....</td>\n",
              "      <td>[0.2955, 0.295, 0.306, 0.314, 0.32, 0.3255, 0....</td>\n",
              "      <td>[0.645, 0.641, 0.65, 0.659, 0.6555, 0.6515, 0....</td>\n",
              "      <td>[0.4335, 0.4265, 0.429, 0.4355, 0.431, 0.424, ...</td>\n",
              "      <td>[0.752, 0.7465, 0.7475, 0.7515, 0.7475, 0.738,...</td>\n",
              "      <td>[0.247, 0.2485, 0.251, 0.2565, 0.2535, 0.247, ...</td>\n",
              "      <td>[0.154, 0.1605, 0.163, 0.1645, 0.1635, 0.1585,...</td>\n",
              "      <td>[-0.11, -0.1065, -0.0985, -0.0825, -0.087, -0....</td>\n",
              "      <td>[-0.5375, -0.558, -0.5765, -0.583, -0.578, -0....</td>\n",
              "      <td>[0.0485, 0.0605, 0.0615, 0.063, 0.063, 0.064, ...</td>\n",
              "    </tr>\n",
              "    <tr>\n",
              "      <th>322</th>\n",
              "      <td>s0003_re</td>\n",
              "      <td>n/a</td>\n",
              "      <td>n/a</td>\n",
              "      <td>Valvular heart disease</td>\n",
              "      <td>[0.7365, 0.7205, 0.697, 0.694, 0.6975, 0.712, ...</td>\n",
              "      <td>[-0.1635, -0.1655, -0.174, -0.1695, -0.1615, -...</td>\n",
              "      <td>[-0.9, -0.886, -0.8715, -0.864, -0.859, -0.866...</td>\n",
              "      <td>[-0.2865, -0.2775, -0.2615, -0.262, -0.268, -0...</td>\n",
              "      <td>[0.818, 0.803, 0.7845, 0.779, 0.7785, 0.7895, ...</td>\n",
              "      <td>[-0.532, -0.5255, -0.523, -0.517, -0.5105, -0....</td>\n",
              "      <td>[0.5655, 0.5625, 0.562, 0.562, 0.5665, 0.571, ...</td>\n",
              "      <td>[0.6365, 0.637, 0.633, 0.6345, 0.6355, 0.64, 0...</td>\n",
              "      <td>[0.652, 0.654, 0.652, 0.652, 0.6525, 0.6555, 0...</td>\n",
              "      <td>[0.4375, 0.4395, 0.4385, 0.4385, 0.4405, 0.443...</td>\n",
              "      <td>[0.458, 0.4585, 0.459, 0.4605, 0.463, 0.466, 0...</td>\n",
              "      <td>[0.417, 0.419, 0.418, 0.4195, 0.4215, 0.4235, ...</td>\n",
              "      <td>[-0.087, -0.0865, -0.0875, -0.087, -0.0885, -0...</td>\n",
              "      <td>[-0.663, -0.658, -0.656, -0.6535, -0.6545, -0....</td>\n",
              "      <td>[-0.063, -0.0605, -0.065, -0.0645, -0.0625, -0...</td>\n",
              "    </tr>\n",
              "    <tr>\n",
              "      <th>324</th>\n",
              "      <td>s0169_re</td>\n",
              "      <td>male</td>\n",
              "      <td>59</td>\n",
              "      <td>Dysrhythmia</td>\n",
              "      <td>[-0.103, -0.1045, -0.101, -0.107, -0.1115, -0....</td>\n",
              "      <td>[0.066, 0.0665, 0.0665, 0.064, 0.065, 0.0665, ...</td>\n",
              "      <td>[0.169, 0.1705, 0.1675, 0.1705, 0.176, 0.175, ...</td>\n",
              "      <td>[0.0185, 0.0195, 0.0175, 0.0215, 0.0235, 0.021...</td>\n",
              "      <td>[-0.136, -0.1375, -0.1345, -0.139, -0.144, -0....</td>\n",
              "      <td>[0.1175, 0.1185, 0.117, 0.1175, 0.1205, 0.1205...</td>\n",
              "      <td>[0.4735, 0.472, 0.4705, 0.474, 0.471, 0.4725, ...</td>\n",
              "      <td>[0.4195, 0.4215, 0.4205, 0.419, 0.414, 0.4175,...</td>\n",
              "      <td>[0.361, 0.3615, 0.362, 0.358, 0.355, 0.3575, 0...</td>\n",
              "      <td>[0.264, 0.265, 0.2665, 0.2645, 0.261, 0.2635, ...</td>\n",
              "      <td>[0.41, 0.4095, 0.411, 0.4085, 0.405, 0.4055, 0...</td>\n",
              "      <td>[0.2685, 0.2705, 0.2735, 0.2695, 0.2655, 0.268...</td>\n",
              "      <td>[-0.235, -0.233, -0.23, -0.2345, -0.2365, -0.2...</td>\n",
              "      <td>[0.306, 0.3125, 0.309, 0.305, 0.305, 0.309, 0....</td>\n",
              "      <td>[0.0025, 0.002, 0.0035, 0.005, 0.002, 0.004, 0...</td>\n",
              "    </tr>\n",
              "  </tbody>\n",
              "</table>\n",
              "</div>"
            ],
            "text/plain": [
              "    record_name  ...                                                 vz\n",
              "0      s0010_re  ...  [-0.009, -0.01, -0.0085, -0.008, -0.0085, -0.0...\n",
              "1      s0014lre  ...  [0.9675, 0.9645, 0.961, 0.963, 0.962, 0.9595, ...\n",
              "2      s0016lre  ...  [0.029, 0.024, 0.0245, 0.0275, 0.028, 0.0205, ...\n",
              "316    s0306lre  ...  [0.0095, 0.0095, 0.0065, 0.0075, 0.0085, 0.003...\n",
              "317    s0303lre  ...  [0.5455, 0.5215, 0.503, 0.491, 0.484, 0.476, 0...\n",
              "318    s0030_re  ...  [-0.0385, -0.0345, -0.0375, -0.04, -0.044, -0....\n",
              "319    s0199_re  ...  [0.093, 0.093, 0.091, 0.094, 0.094, 0.09, 0.08...\n",
              "321    s0349lre  ...  [0.0485, 0.0605, 0.0615, 0.063, 0.063, 0.064, ...\n",
              "322    s0003_re  ...  [-0.063, -0.0605, -0.065, -0.0645, -0.0625, -0...\n",
              "324    s0169_re  ...  [0.0025, 0.002, 0.0035, 0.005, 0.002, 0.004, 0...\n",
              "\n",
              "[10 rows x 19 columns]"
            ]
          },
          "metadata": {
            "tags": []
          },
          "execution_count": 18
        }
      ]
    },
    {
      "cell_type": "code",
      "metadata": {
        "id": "oXqtnbhdUsu9"
      },
      "source": [
        "#grouped.to_excel(data_path+\"data_group3.xlsx\")"
      ],
      "execution_count": null,
      "outputs": []
    },
    {
      "cell_type": "code",
      "metadata": {
        "id": "-D3LFoQhVFho"
      },
      "source": [
        "#grouped.to_json(data_path+\"data_group3.json\")"
      ],
      "execution_count": null,
      "outputs": []
    },
    {
      "cell_type": "code",
      "metadata": {
        "id": "PcYH3qIkVLEV"
      },
      "source": [
        "#df.to_excel(data_path+\"data_all.xlsx\")"
      ],
      "execution_count": null,
      "outputs": []
    },
    {
      "cell_type": "code",
      "metadata": {
        "id": "TTWFBaTMgcPt"
      },
      "source": [
        "#df.to_json(data_path+\"data_all.json\")"
      ],
      "execution_count": null,
      "outputs": []
    },
    {
      "cell_type": "markdown",
      "metadata": {
        "id": "qqp3O2olaNd7"
      },
      "source": [
        "### read data from json function"
      ]
    },
    {
      "cell_type": "code",
      "metadata": {
        "id": "-5obryY1Yqis"
      },
      "source": [
        "symbol_names=['i','ii','iii','avr','avl','avf','v1','v2','v3','v4','v5','v6','vx','vy','vz']\n",
        "data_path='/content/gdrive/My Drive/physionet.org/files/ptbdb/1.0.0'\n",
        "def read_data_json(f,symbol_names): \n",
        "  df_read=pd.read_json(f)\n",
        "  for symbol in symbol_names:\n",
        "    df_read[symbol]=df_read[symbol].apply(np.array)\n",
        "  return df_read\n",
        "\n"
      ],
      "execution_count": 68,
      "outputs": []
    },
    {
      "cell_type": "code",
      "metadata": {
        "id": "-TCvmyC0_BYX"
      },
      "source": [
        "#df_group_read= read_data_json(data_path+\"data_group3.json\",symbol_names)"
      ],
      "execution_count": 5,
      "outputs": []
    },
    {
      "cell_type": "code",
      "metadata": {
        "id": "n8n3kcCIYAsr",
        "outputId": "f495af0d-f472-4799-cc06-fbb38efa7a4f",
        "colab": {
          "base_uri": "https://localhost:8080/",
          "height": 34
        }
      },
      "source": [
        "#df_group_read.vx[0].shape"
      ],
      "execution_count": 37,
      "outputs": [
        {
          "output_type": "execute_result",
          "data": {
            "text/plain": [
              "(38400,)"
            ]
          },
          "metadata": {
            "tags": []
          },
          "execution_count": 37
        }
      ]
    },
    {
      "cell_type": "markdown",
      "metadata": {
        "id": "TimjNdlF-QhR"
      },
      "source": [
        "### write data to csv function"
      ]
    },
    {
      "cell_type": "code",
      "metadata": {
        "id": "huRVByUy_Q_C"
      },
      "source": [
        "def array_to_str(array_data):\n",
        "  rtn_str=''  \n",
        "  for number in array_data:\n",
        "    rtn_str+=str(number)+' '\n",
        "  return rtn_str\n",
        "\n",
        "def write_data_csv(file_name,data,symbol_names): \n",
        "  df_to_csv= data.copy() \n",
        "  for symbol in symbol_names:\n",
        "    df_to_csv[symbol]=df_to_csv[symbol].apply(array_to_str)\n",
        "  df_to_csv.to_csv(data_path+file_name)"
      ],
      "execution_count": 69,
      "outputs": []
    },
    {
      "cell_type": "code",
      "metadata": {
        "id": "KGFeCeTsAiBI"
      },
      "source": [
        "#write_data_csv('data_group3.csv',df_group_read,symbol_names)"
      ],
      "execution_count": 52,
      "outputs": []
    },
    {
      "cell_type": "code",
      "metadata": {
        "id": "9holjWZzIRrX"
      },
      "source": [
        "write_data_csv('data_all.csv',df,symbol_names)"
      ],
      "execution_count": 70,
      "outputs": []
    },
    {
      "cell_type": "markdown",
      "metadata": {
        "id": "LxjSczAa-NK-"
      },
      "source": [
        "### read data from csv function"
      ]
    },
    {
      "cell_type": "code",
      "metadata": {
        "id": "qZNXcJ8C-DsP"
      },
      "source": [
        "symbol_names=['i','ii','iii','avr','avl','avf','v1','v2','v3','v4','v5','v6','vx','vy','vz']\n",
        "data_path='/content/gdrive/My Drive/physionet.org/files/ptbdb/1.0.0'\n",
        "def str_to_array(str_data):\n",
        "  num_list=[]\n",
        "  str_list=str_data.split(\" \")\n",
        "  for i in range(len(str_list)-1):\n",
        "    num_list.append(float(str_list[i]))  \n",
        "  return np.array(num_list)\n",
        "\n",
        "def read_data_csv(f,symbol_names): \n",
        "  df_read=pd.read_csv(f,index_col=0)\n",
        "  for symbol in symbol_names:\n",
        "    df_read[symbol]=df_read[symbol].apply(str_to_array)\n",
        "  return df_read"
      ],
      "execution_count": 57,
      "outputs": []
    },
    {
      "cell_type": "code",
      "metadata": {
        "id": "piaHr7UsGb9N"
      },
      "source": [
        "#data_read_from_csv=read_data_csv(data_path+'data_group3.csv',symbol_names)"
      ],
      "execution_count": 58,
      "outputs": []
    },
    {
      "cell_type": "code",
      "metadata": {
        "id": "_XbSi8fQGzpy",
        "outputId": "36de4a9d-3ecf-4889-f37c-bf3c657ecbb8",
        "colab": {
          "base_uri": "https://localhost:8080/",
          "height": 384
        }
      },
      "source": [
        "#data_read_from_csv.head()"
      ],
      "execution_count": 59,
      "outputs": [
        {
          "output_type": "execute_result",
          "data": {
            "text/html": [
              "<div>\n",
              "<style scoped>\n",
              "    .dataframe tbody tr th:only-of-type {\n",
              "        vertical-align: middle;\n",
              "    }\n",
              "\n",
              "    .dataframe tbody tr th {\n",
              "        vertical-align: top;\n",
              "    }\n",
              "\n",
              "    .dataframe thead th {\n",
              "        text-align: right;\n",
              "    }\n",
              "</style>\n",
              "<table border=\"1\" class=\"dataframe\">\n",
              "  <thead>\n",
              "    <tr style=\"text-align: right;\">\n",
              "      <th></th>\n",
              "      <th>record_name</th>\n",
              "      <th>gender</th>\n",
              "      <th>age</th>\n",
              "      <th>label</th>\n",
              "      <th>i</th>\n",
              "      <th>ii</th>\n",
              "      <th>iii</th>\n",
              "      <th>avr</th>\n",
              "      <th>avl</th>\n",
              "      <th>avf</th>\n",
              "      <th>v1</th>\n",
              "      <th>v2</th>\n",
              "      <th>v3</th>\n",
              "      <th>v4</th>\n",
              "      <th>v5</th>\n",
              "      <th>v6</th>\n",
              "      <th>vx</th>\n",
              "      <th>vy</th>\n",
              "      <th>vz</th>\n",
              "    </tr>\n",
              "  </thead>\n",
              "  <tbody>\n",
              "    <tr>\n",
              "      <th>0</th>\n",
              "      <td>s0010_re</td>\n",
              "      <td>female</td>\n",
              "      <td>81</td>\n",
              "      <td>Myocardial infarction</td>\n",
              "      <td>[-0.24450000000000002, -0.24250000000000002, -...</td>\n",
              "      <td>[-0.229, -0.2335, -0.23450000000000001, -0.229...</td>\n",
              "      <td>[0.0155, 0.009000000000000001, 0.007, 0.012, 0...</td>\n",
              "      <td>[0.23700000000000002, 0.23800000000000002, 0.2...</td>\n",
              "      <td>[-0.13, -0.1255, -0.124, -0.126, -0.1180000000...</td>\n",
              "      <td>[-0.107, -0.1125, -0.114, -0.109, -0.1115, -0....</td>\n",
              "      <td>[-0.044, -0.042, -0.044, -0.045, -0.0455, -0.0...</td>\n",
              "      <td>[-0.12050000000000001, -0.11750000000000001, -...</td>\n",
              "      <td>[-0.056, -0.051000000000000004, -0.05350000000...</td>\n",
              "      <td>[0.106, 0.1095, 0.1095, 0.1115, 0.1115, 0.1075...</td>\n",
              "      <td>[0.1965, 0.202, 0.2005, 0.201, 0.2, 0.196, 0.1...</td>\n",
              "      <td>[0.195, 0.198, 0.1965, 0.197, 0.1985, 0.194, 0...</td>\n",
              "      <td>[-0.0015, -0.0015, -0.0035, -0.002, 0.0005, 0....</td>\n",
              "      <td>[0.06, 0.061, 0.0555, 0.053500000000000006, 0....</td>\n",
              "      <td>[-0.009000000000000001, -0.01, -0.0085, -0.008...</td>\n",
              "    </tr>\n",
              "    <tr>\n",
              "      <th>1</th>\n",
              "      <td>s0014lre</td>\n",
              "      <td>female</td>\n",
              "      <td>81</td>\n",
              "      <td>Myocardial infarction</td>\n",
              "      <td>[-0.47400000000000003, -0.444, -0.4555, -0.462...</td>\n",
              "      <td>[-0.059500000000000004, -0.032, -0.0345, -0.03...</td>\n",
              "      <td>[0.41500000000000004, 0.41250000000000003, 0.4...</td>\n",
              "      <td>[0.267, 0.23800000000000002, 0.245500000000000...</td>\n",
              "      <td>[-0.445, -0.42850000000000005, -0.439, -0.4475...</td>\n",
              "      <td>[0.178, 0.191, 0.194, 0.2005, 0.212, 0.2135000...</td>\n",
              "      <td>[1.252, 1.2575, 1.256, 1.256, 1.2605, 1.2545, ...</td>\n",
              "      <td>[1.287, 1.2845, 1.282, 1.2775, 1.276, 1.2705, ...</td>\n",
              "      <td>[-0.9325, -0.929, -0.936, -0.9420000000000001,...</td>\n",
              "      <td>[-0.8220000000000001, -0.8215, -0.824000000000...</td>\n",
              "      <td>[1.6139999999999999, 1.6195, 1.6195, 1.6185, 1...</td>\n",
              "      <td>[1.708, 1.712, 1.7125, 1.7125, 1.7165, 1.716, ...</td>\n",
              "      <td>[0.5365, 0.5335, 0.5305, 0.531, 0.5305, 0.53, ...</td>\n",
              "      <td>[-1.1385, -1.1385, -1.141, -1.133, -1.1265, -1...</td>\n",
              "      <td>[0.9675, 0.9645, 0.961, 0.963, 0.962, 0.9595, ...</td>\n",
              "    </tr>\n",
              "    <tr>\n",
              "      <th>2</th>\n",
              "      <td>s0016lre</td>\n",
              "      <td>female</td>\n",
              "      <td>81</td>\n",
              "      <td>Myocardial infarction</td>\n",
              "      <td>[0.254, 0.263, 0.2755, 0.28, 0.3035, 0.305, 0....</td>\n",
              "      <td>[0.7535000000000001, 0.7615000000000001, 0.786...</td>\n",
              "      <td>[0.499, 0.498, 0.51, 0.5245000000000001, 0.537...</td>\n",
              "      <td>[-0.5035000000000001, -0.5115000000000001, -0....</td>\n",
              "      <td>[-0.12250000000000001, -0.11750000000000001, -...</td>\n",
              "      <td>[0.626, 0.6295000000000001, 0.648, 0.6645, 0.6...</td>\n",
              "      <td>[0.5815, 0.5955, 0.6015, 0.6015, 0.6105, 0.613...</td>\n",
              "      <td>[0.7875000000000001, 0.8015, 0.8075, 0.8115, 0...</td>\n",
              "      <td>[0.936, 0.9535, 0.9570000000000001, 0.962, 0.9...</td>\n",
              "      <td>[0.984, 1.001, 1.0065, 1.0125, 1.0235, 1.024, ...</td>\n",
              "      <td>[0.8180000000000001, 0.8335, 0.833, 0.8385, 0....</td>\n",
              "      <td>[0.5385, 0.551, 0.5515, 0.5605, 0.581, 0.5755,...</td>\n",
              "      <td>[0.385, 0.38, 0.382, 0.382, 0.384, 0.3825, 0.3...</td>\n",
              "      <td>[-0.131, -0.132, -0.11800000000000001, -0.1075...</td>\n",
              "      <td>[0.029, 0.024, 0.0245, 0.0275, 0.028, 0.0205, ...</td>\n",
              "    </tr>\n",
              "    <tr>\n",
              "      <th>316</th>\n",
              "      <td>s0306lre</td>\n",
              "      <td>male</td>\n",
              "      <td>58</td>\n",
              "      <td>Healthy control</td>\n",
              "      <td>[0.031, 0.029, 0.03, 0.0275, 0.029500000000000...</td>\n",
              "      <td>[-1.1485, -1.1485, -1.145, -1.1475, -1.149, -1...</td>\n",
              "      <td>[-1.1795, -1.1775, -1.175, -1.175, -1.1785, -1...</td>\n",
              "      <td>[0.5585, 0.5595, 0.557, 0.5595, 0.5595, 0.5585...</td>\n",
              "      <td>[0.6055, 0.6035, 0.603, 0.6015, 0.6045, 0.6085...</td>\n",
              "      <td>[-1.164, -1.163, -1.1595, -1.161, -1.1635, -1....</td>\n",
              "      <td>[0.166, 0.1675, 0.1655, 0.162, 0.162, 0.1655, ...</td>\n",
              "      <td>[0.258, 0.2585, 0.2585, 0.259, 0.2575, 0.2615,...</td>\n",
              "      <td>[0.5730000000000001, 0.5735, 0.576000000000000...</td>\n",
              "      <td>[0.129, 0.128, 0.129, 0.128, 0.1275, 0.1305, 0...</td>\n",
              "      <td>[-0.3825, -0.3835, -0.381, -0.382, -0.382, -0....</td>\n",
              "      <td>[0.012, 0.014, 0.015, 0.016, 0.0155, 0.0195, 0...</td>\n",
              "      <td>[-0.3415, -0.338, -0.337, -0.336, -0.3355, -0....</td>\n",
              "      <td>[-0.6980000000000001, -0.6985, -0.696000000000...</td>\n",
              "      <td>[0.0095, 0.0095, 0.006500000000000001, 0.00750...</td>\n",
              "    </tr>\n",
              "    <tr>\n",
              "      <th>317</th>\n",
              "      <td>s0303lre</td>\n",
              "      <td>female</td>\n",
              "      <td>32</td>\n",
              "      <td>Healthy control</td>\n",
              "      <td>[-0.658, -0.66, -0.6575000000000001, -0.652, -...</td>\n",
              "      <td>[-0.1105, -0.1085, -0.10300000000000001, -0.10...</td>\n",
              "      <td>[0.5475, 0.5515, 0.5545, 0.547, 0.531, 0.51850...</td>\n",
              "      <td>[0.3845, 0.3845, 0.3805, 0.379, 0.378, 0.379, ...</td>\n",
              "      <td>[-0.6025, -0.606, -0.606, -0.5995, -0.587, -0....</td>\n",
              "      <td>[0.219, 0.222, 0.226, 0.221, 0.209500000000000...</td>\n",
              "      <td>[0.5235000000000001, 0.5305, 0.536, 0.545, 0.5...</td>\n",
              "      <td>[0.649, 0.669, 0.6900000000000001, 0.7165, 0.7...</td>\n",
              "      <td>[0.1675, 0.201, 0.231, 0.266, 0.3005, 0.328, 0...</td>\n",
              "      <td>[0.07, 0.0995, 0.129, 0.1585, 0.1885, 0.210500...</td>\n",
              "      <td>[-0.1915, -0.1665, -0.14300000000000002, -0.11...</td>\n",
              "      <td>[0.445, 0.4595, 0.47800000000000004, 0.4955, 0...</td>\n",
              "      <td>[-0.07250000000000001, -0.060500000000000005, ...</td>\n",
              "      <td>[1.6095000000000002, 1.629, 1.6465, 1.661, 1.6...</td>\n",
              "      <td>[0.5455, 0.5215000000000001, 0.503, 0.491, 0.4...</td>\n",
              "    </tr>\n",
              "  </tbody>\n",
              "</table>\n",
              "</div>"
            ],
            "text/plain": [
              "    record_name  ...                                                 vz\n",
              "0      s0010_re  ...  [-0.009000000000000001, -0.01, -0.0085, -0.008...\n",
              "1      s0014lre  ...  [0.9675, 0.9645, 0.961, 0.963, 0.962, 0.9595, ...\n",
              "2      s0016lre  ...  [0.029, 0.024, 0.0245, 0.0275, 0.028, 0.0205, ...\n",
              "316    s0306lre  ...  [0.0095, 0.0095, 0.006500000000000001, 0.00750...\n",
              "317    s0303lre  ...  [0.5455, 0.5215000000000001, 0.503, 0.491, 0.4...\n",
              "\n",
              "[5 rows x 19 columns]"
            ]
          },
          "metadata": {
            "tags": []
          },
          "execution_count": 59
        }
      ]
    },
    {
      "cell_type": "code",
      "metadata": {
        "id": "fJEuKLmLH7zm",
        "outputId": "45ea65db-2ca9-4f4b-a599-490452fcb9a8",
        "colab": {
          "base_uri": "https://localhost:8080/",
          "height": 34
        }
      },
      "source": [
        "#data_read_from_csv['vx'][0].shape"
      ],
      "execution_count": 62,
      "outputs": [
        {
          "output_type": "execute_result",
          "data": {
            "text/plain": [
              "(38400,)"
            ]
          },
          "metadata": {
            "tags": []
          },
          "execution_count": 62
        }
      ]
    },
    {
      "cell_type": "code",
      "metadata": {
        "id": "mo7GwlBkIlTX"
      },
      "source": [
        "data_read_from_csv_all=read_data_csv(data_path+'data_all.csv',symbol_names)"
      ],
      "execution_count": null,
      "outputs": []
    },
    {
      "cell_type": "markdown",
      "metadata": {
        "id": "gd_G9hwBGdXN"
      },
      "source": [
        "### plot_wav_function"
      ]
    },
    {
      "cell_type": "code",
      "metadata": {
        "id": "1URDVsxUXMxW"
      },
      "source": [
        "def plot_wave(sigals,start_sampl,end_sampl,channel_name,record_name):\n",
        "  plt.figure(figsize=(25,8),dpi=70)\n",
        "  plt.plot(sigals[start_sampl:end_sampl],'g')\n",
        "  plt.title(record_name+'_'+channel_name +' from:'+str(start_sampl)+\" to:\"+str(end_sampl))"
      ],
      "execution_count": 19,
      "outputs": []
    },
    {
      "cell_type": "code",
      "metadata": {
        "id": "za0NYdcjYoxg",
        "outputId": "bdbdf68c-e2e5-40b3-f0c7-de4408d01164",
        "colab": {
          "base_uri": "https://localhost:8080/",
          "height": 1000
        }
      },
      "source": [
        "for i in range(3):\n",
        "  plot_wave(df_group_read.vx[i],100,2000,\"vx\",df_group_read.record_name[i])"
      ],
      "execution_count": 20,
      "outputs": [
        {
          "output_type": "display_data",
          "data": {
            "image/png": "[encoded data removed]",
            "text/plain": [
              "<Figure size 1750x560 with 1 Axes>"
            ]
          },
          "metadata": {
            "tags": [],
            "needs_background": "light"
          }
        },
        {
          "output_type": "display_data",
          "data": {
            "image/png": "[encoded data removed]",
            "text/plain": [
              "<Figure size 1750x560 with 1 Axes>"
            ]
          },
          "metadata": {
            "tags": [],
            "needs_background": "light"
          }
        },
        {
          "output_type": "display_data",
          "data": {
            "image/png": "[encoded data removed]",
            "text/plain": [
              "<Figure size 1750x560 with 1 Axes>"
            ]
          },
          "metadata": {
            "tags": [],
            "needs_background": "light"
          }
        }
      ]
    },
    {
      "cell_type": "code",
      "metadata": {
        "id": "_4oKjIahO9Vp"
      },
      "source": [
        "vx1=df_group_read.vx[0]"
      ],
      "execution_count": null,
      "outputs": []
    },
    {
      "cell_type": "code",
      "metadata": {
        "id": "GSBYQgHIRkyY",
        "outputId": "51e27fd3-07ad-4c17-c301-398c3c3c9470",
        "colab": {
          "base_uri": "https://localhost:8080/",
          "height": 34
        }
      },
      "source": [
        "vx1"
      ],
      "execution_count": null,
      "outputs": [
        {
          "output_type": "execute_result",
          "data": {
            "text/plain": [
              "array([-0.0015, -0.0015, -0.0035, ...,  0.079 ,  0.081 ,  0.081 ])"
            ]
          },
          "metadata": {
            "tags": []
          },
          "execution_count": 56
        }
      ]
    },
    {
      "cell_type": "code",
      "metadata": {
        "id": "E0SNs_q-RqRW"
      },
      "source": [
        "# vx1_str=str(vx1.tolist())\n",
        "# vx1_str"
      ],
      "execution_count": null,
      "outputs": []
    },
    {
      "cell_type": "code",
      "metadata": {
        "id": "V3nvv59BTbb0"
      },
      "source": [
        "def array_to_str(da):\n",
        "  return str(array.tolist())"
      ],
      "execution_count": null,
      "outputs": []
    },
    {
      "cell_type": "code",
      "metadata": {
        "id": "XqNg3eoFHNc8",
        "outputId": "62c59998-fcfa-452d-b2c6-4840ff928178",
        "colab": {
          "base_uri": "https://localhost:8080/",
          "height": 283
        }
      },
      "source": [
        "#array to list\n",
        "df.iloc[:,4:].apply(lambda x:str(x.tolist()))"
      ],
      "execution_count": null,
      "outputs": [
        {
          "output_type": "execute_result",
          "data": {
            "text/plain": [
              "i      [array([-0.2445, -0.2425, -0.2415, ...,  0.152...\n",
              "ii     [array([-0.229 , -0.2335, -0.2345, ...,  0.269...\n",
              "iii    [array([0.0155, 0.009 , 0.007 , ..., 0.118 , 0...\n",
              "avr    [array([ 0.237 ,  0.238 ,  0.238 , ..., -0.211...\n",
              "avl    [array([-0.13  , -0.1255, -0.124 , ...,  0.017...\n",
              "avf    [array([-0.107 , -0.1125, -0.114 , ...,  0.194...\n",
              "v1     [array([-0.044 , -0.042 , -0.044 , ..., -0.083...\n",
              "v2     [array([-0.1205, -0.1175, -0.118 , ...,  0.098...\n",
              "v3     [array([-0.056 , -0.051 , -0.0535, ...,  0.073...\n",
              "v4     [array([ 0.106 ,  0.1095,  0.1095, ..., -0.077...\n",
              "v5     [array([ 0.1965,  0.202 ,  0.2005, ..., -0.120...\n",
              "v6     [array([ 0.195 ,  0.198 ,  0.1965, ..., -0.161...\n",
              "vx     [array([-0.0015, -0.0015, -0.0035, ...,  0.079...\n",
              "vy     [array([0.06  , 0.061 , 0.0555, ..., 0.036 , 0...\n",
              "vz     [array([-0.009 , -0.01  , -0.0085, ...,  0.031...\n",
              "dtype: object"
            ]
          },
          "metadata": {
            "tags": []
          },
          "execution_count": 19
        }
      ]
    },
    {
      "cell_type": "code",
      "metadata": {
        "id": "L1OKzsrKWAsK",
        "outputId": "d45373f7-c5c9-46a9-810e-39a8c176aa05",
        "colab": {
          "base_uri": "https://localhost:8080/",
          "height": 33
        }
      },
      "source": [
        "df.i[0]"
      ],
      "execution_count": null,
      "outputs": [
        {
          "output_type": "execute_result",
          "data": {
            "text/plain": [
              "array([-0.2445, -0.2425, -0.2415, ...,  0.152 ,  0.136 ,  0.135 ])"
            ]
          },
          "metadata": {
            "tags": []
          },
          "execution_count": 22
        }
      ]
    },
    {
      "cell_type": "code",
      "metadata": {
        "id": "tRGImGiSV49l"
      },
      "source": [
        "df.to_csv(data_path+\"data_all.csv\")"
      ],
      "execution_count": null,
      "outputs": []
    },
    {
      "cell_type": "markdown",
      "metadata": {
        "id": "0edAeInLlAwg"
      },
      "source": [
        "# noisy cancelation\n",
        "#//todo"
      ]
    },
    {
      "cell_type": "code",
      "metadata": {
        "id": "Yh9SK7lu62yM"
      },
      "source": [
        "import os\n",
        "import datetime\n",
        "\n",
        "import wfdb\n",
        "import pywt\n",
        "import seaborn\n",
        "import numpy as np\n",
        "import tensorflow as tf\n",
        "import matplotlib.pyplot as plt\n",
        "from sklearn.metrics import confusion_matrix\n",
        "\n",
        "# project path\n",
        "project_path = PATH+'s0173lre'\n",
        "# logs path\n",
        "log_dir = project_path + \"logs\\\\\" + datetime.datetime.now().strftime(\"%Y%m%d-%H%M%S\")\n",
        "model_path = project_path + \"ecg_model.h5\"\n",
        "\n",
        "# testing \n",
        "RATIO = 0.3\n",
        "\n",
        "\n",
        "# denoise  function\n",
        "def denoise(data):\n",
        "    # wavedec\n",
        "    coeffs = pywt.wavedec(data=data, wavelet='db5', level=9)\n",
        "    cA9, cD9, cD8, cD7, cD6, cD5, cD4, cD3, cD2, cD1 = coeffs\n",
        "\n",
        "    # threshold\n",
        "    threshold = (np.median(np.abs(cD1)) / 0.6745) * (np.sqrt(2 * np.log(len(cD1))))\n",
        "    cD1.fill(0)\n",
        "    cD2.fill(0)\n",
        "    for i in range(1, len(coeffs) - 2):\n",
        "        coeffs[i] = pywt.threshold(coeffs[i], threshold)\n",
        "\n",
        "    rdata = pywt.waverec(coeffs=coeffs, wavelet='db5')\n",
        "    return rdata\n",
        "\n",
        "\n",
        "\n",
        "def getDataSet(number, X_data, Y_data):\n",
        "    ecgClassSet = ['N', 'A', 'V', 'L', 'R']\n",
        "\n",
        "    # Reading the ECG data\n",
        "    print(\"Reading \" + number + \" ECG data...\")\n",
        "    record = wfdb.rdrecord(PATH +'s0173lre', channel_names=['vx'])\n",
        "    data = record.p_signal.flatten()\n",
        "    rdata = denoise(data=data)\n",
        "    print(data)\n",
        "    print(rdata)\n",
        "   \n",
        "    annotation = wfdb.show_ann_labels()\n",
        "    Rlocation = annotation.sample\n",
        "    Rclass = annotation.symbol\n",
        "\n",
        "    \n",
        "    start = 10\n",
        "    end = 5\n",
        "    i = start\n",
        "    j = len(annotation.symbol) - end\n",
        "\n",
        "    while i < j:\n",
        "        try:\n",
        "            lable = ecgClassSet.index(Rclass[i])\n",
        "            x_train = rdata[Rlocation[i] - 99:Rlocation[i] + 201]\n",
        "            X_data.append(x_train)\n",
        "            Y_data.append(lable)\n",
        "            i += 1\n",
        "        except ValueError:\n",
        "            i += 1\n",
        "    return\n",
        "\n",
        "\n",
        "\n",
        "def loadData():   \n",
        "    numberSet = ['s0173lre']\n",
        "    dataSet = []\n",
        "    lableSet = []\n",
        "    for n in numberSet:\n",
        "        getDataSet(n, dataSet, lableSet)\n",
        "\n",
        "    dataSet = np.array(dataSet).reshape(-1, 300)\n",
        "    lableSet = np.array(lableSet).reshape(-1, 1)\n",
        "    train_ds = np.hstack((dataSet, lableSet))\n",
        "    np.random.shuffle(train_ds)\n",
        "\n",
        "    X = train_ds[:, :300].reshape(-1, 300, 1)\n",
        "    Y = train_ds[:, 300]\n",
        "\n",
        "    shuffle_index = np.random.permutation(len(X))\n",
        "    test_length = int(RATIO * len(shuffle_index))\n",
        "    test_index = shuffle_index[:test_length]\n",
        "    train_index = shuffle_index[test_length:]\n",
        "    X_test, Y_test = X[test_index], Y[test_index]\n",
        "    X_train, Y_train = X[train_index], Y[train_index]\n",
        "    return X_train, Y_train, X_test, Y_test\n",
        "\n",
        "\n",
        "\n",
        "def buildModel():\n",
        "    newModel = tf.keras.models.Sequential([\n",
        "        tf.keras.layers.InputLayer(input_shape=(300, 1)),\n",
        "        tf.keras.layers.Conv1D(filters=4, kernel_size=21, strides=1, padding='SAME', activation='relu'),\n",
        "       \n",
        "        tf.keras.layers.MaxPool1D(pool_size=3, strides=2, padding='SAME'),\n",
        "        \n",
        "        tf.keras.layers.Conv1D(filters=16, kernel_size=23, strides=1, padding='SAME', activation='relu'),\n",
        "        \n",
        "        tf.keras.layers.MaxPool1D(pool_size=3, strides=2, padding='SAME'),\n",
        "       \n",
        "        tf.keras.layers.Conv1D(filters=32, kernel_size=25, strides=1, padding='SAME', activation='relu'),\n",
        "       \n",
        "        tf.keras.layers.AvgPool1D(pool_size=3, strides=2, padding='SAME'),\n",
        "       \n",
        "        tf.keras.layers.Conv1D(filters=64, kernel_size=27, strides=1, padding='SAME', activation='relu'),\n",
        "       \n",
        "        tf.keras.layers.Flatten(),\n",
        "       \n",
        "        tf.keras.layers.Dense(128, activation='relu'),\n",
        "       \n",
        "        tf.keras.layers.Dropout(rate=0.2),\n",
        "       \n",
        "        tf.keras.layers.Dense(5, activation='softmax')\n",
        "    ])\n",
        "    return newModel\n",
        "\n",
        "\n",
        "\n",
        "def plotHeatMap(Y_test, Y_pred):\n",
        "    con_mat = confusion_matrix(Y_test, Y_pred)\n",
        "   \n",
        "    # con_mat_norm = con_mat.astype('float') / con_mat.sum(axis=1)[:, np.newaxis]\n",
        "    # con_mat_norm = np.around(con_mat_norm, decimals=2)\n",
        "\n",
        "    # plot\n",
        "    plt.figure(figsize=(8, 8))\n",
        "    seaborn.heatmap(con_mat, annot=True, fmt='.20g', cmap='Blues')\n",
        "    plt.ylim(0, 5)\n",
        "    plt.xlabel('Predicted labels')\n",
        "    plt.ylabel('True labels')\n",
        "    plt.show()\n",
        "\n",
        "\n",
        "def main():\n",
        "    X_train, Y_train, X_test, Y_test = loadData()\n",
        "\n",
        "    if os.path.exists(model_path):      \n",
        "        model = tf.keras.models.load_model(filepath=model_path)\n",
        "    else:      \n",
        "        model = buildModel()\n",
        "        model.compile(optimizer='adam',\n",
        "                      loss='sparse_categorical_crossentropy',\n",
        "                      metrics=['accuracy'])\n",
        "        model.summary()        \n",
        "        tensorboard_callback = tf.keras.callbacks.TensorBoard(log_dir=log_dir, histogram_freq=1)        \n",
        "        model.fit(X_train, Y_train, epochs=30,\n",
        "                  batch_size=128,\n",
        "                  validation_split=RATIO,\n",
        "                  callbacks=[tensorboard_callback])\n",
        "        model.save(filepath=model_path)\n",
        "\n",
        "   \n",
        "    Y_pred = model.predict_classes(X_test)\n",
        "    \n",
        "    plotHeatMap(Y_test, Y_pred)\n",
        "\n"
      ],
      "execution_count": null,
      "outputs": []
    }
  ]
}