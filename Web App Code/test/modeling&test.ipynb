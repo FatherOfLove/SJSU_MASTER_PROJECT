{
  "nbformat": 4,
  "nbformat_minor": 0,
  "metadata": {
    "colab": {
      "name": "modeling&test.ipynb",
      "provenance": [],
      "collapsed_sections": []
    },
    "kernelspec": {
      "name": "python3",
      "display_name": "Python 3"
    }
  },
  "cells": [
    {
      "cell_type": "code",
      "metadata": {
        "id": "4TViDrDdpf3e",
        "outputId": "0ad64dbc-de4a-4938-e400-025e48b63e66",
        "colab": {
          "base_uri": "https://localhost:8080/"
        }
      },
      "source": [
        "from google.colab import drive\n",
        "drive.mount('/content/drive')"
      ],
      "execution_count": null,
      "outputs": [
        {
          "output_type": "stream",
          "text": [
            "Drive already mounted at /content/drive; to attempt to forcibly remount, call drive.mount(\"/content/drive\", force_remount=True).\n"
          ],
          "name": "stdout"
        }
      ]
    },
    {
      "cell_type": "code",
      "metadata": {
        "id": "4Pv1hjYDpgiJ"
      },
      "source": [
        "import pickle\n",
        "from tensorflow.keras.models import load_model\n",
        "import pandas as pd\n",
        "import numpy as np\n",
        "\n",
        "#wirite ML-model to model_pickle file\n",
        "#with open('model_pickle', 'wb') as f:\n",
        "#    pickle.dump(model, f)\n",
        "\n",
        "#save DL-model with keras.models.save_model\n",
        "#tf.keras.models.save_model(model, export_path,overwrite=True,include_optimizer=True,\n",
        "#    save_format=None, signatures=None,    options=None)\n",
        "\n",
        "#MODEL_DIR='/content/drive/My Drive/master_project/CNN_Model.h5' #todo: get it from database?\n",
        "\n"
      ],
      "execution_count": null,
      "outputs": []
    },
    {
      "cell_type": "code",
      "metadata": {
        "id": "5JV_doZcvr59"
      },
      "source": [
        "import enum\n",
        "# Using enum class create enumerations\n",
        "class Data_type(enum.Enum):\n",
        "   ECG=0\n",
        "   BLOODCELL=1\n",
        "\n",
        "class ML_type(enum.Enum):\n",
        "  DL=0\n",
        "  ML=1"
      ],
      "execution_count": null,
      "outputs": []
    },
    {
      "cell_type": "code",
      "metadata": {
        "id": "p1fQi_fxoFk1"
      },
      "source": [
        "class Modeling():\n",
        "  \n",
        "  def __init__(self,data_type,ML_type):\n",
        "    self.data_type=data_type\n",
        "    self.ML_type=ML_type\n",
        "    #print(self.data_type)\n",
        "    #print(self.ML_type)\n",
        "    self.model=self.load_model()\n",
        "    \n",
        "\n",
        "  def load_model(self):    \n",
        "      MODEL_DIR=self.get_model_path() #store in database?\n",
        "      #print(MODEL_DIR)\n",
        "      if self.ML_type==ML_type.DL:\n",
        "      # loading DL model \n",
        "        return load_model(MODEL_DIR) \n",
        "      #read Machine Learning model from model_pickle file\n",
        "      if ML_type==ML_type.ML:\n",
        "        with open(MODEL_DIR, 'rb') as f:\n",
        "          return pickle.load(f)    \n",
        "\n",
        "  def get_model_path(self):\n",
        "    #todo: get it from database?\n",
        "    if self.data_type==Data_type.ECG:\n",
        "      return '/content/drive/My Drive/master_project/ECG_Model.h5' \n",
        "    if self.data_type==Data_type.BLOODCELL:\n",
        "      return '/content/drive/My Drive/master_project/Blood_Cell_Model.h5'\n",
        "\n",
        "  def model_predict(self,df):\n",
        "    \"\"\"\n",
        "    to predict the input df\n",
        "\n",
        "    \"\"\"\n",
        "    return self.model.predict(df)"
      ],
      "execution_count": null,
      "outputs": []
    },
    {
      "cell_type": "code",
      "metadata": {
        "id": "9Ri5X52eu_nq",
        "outputId": "0455d6fe-5a43-4de7-946c-4f31df65c308",
        "colab": {
          "base_uri": "https://localhost:8080/"
        }
      },
      "source": [
        "model=Modeling(Data_type.ECG,ML_type.DL)"
      ],
      "execution_count": null,
      "outputs": [
        {
          "output_type": "stream",
          "text": [
            "Data_type.ECG\n",
            "ML_type.DL\n",
            "/content/drive/My Drive/master_project/ECG_Model.h5\n"
          ],
          "name": "stdout"
        }
      ]
    },
    {
      "cell_type": "code",
      "metadata": {
        "id": "ypd5fQ0x09E4",
        "outputId": "68a43160-e39f-47bd-a533-743428d2307d",
        "colab": {
          "base_uri": "https://localhost:8080/"
        }
      },
      "source": [
        "model.model.summary()"
      ],
      "execution_count": null,
      "outputs": [
        {
          "output_type": "stream",
          "text": [
            "Model: \"sequential_3\"\n",
            "_________________________________________________________________\n",
            "Layer (type)                 Output Shape              Param #   \n",
            "=================================================================\n",
            "conv1d_12 (Conv1D)           (None, 30000, 4)          1264      \n",
            "_________________________________________________________________\n",
            "average_pooling1d_9 (Average (None, 7500, 4)           0         \n",
            "_________________________________________________________________\n",
            "conv1d_13 (Conv1D)           (None, 7500, 16)          1488      \n",
            "_________________________________________________________________\n",
            "average_pooling1d_10 (Averag (None, 1875, 16)          0         \n",
            "_________________________________________________________________\n",
            "conv1d_14 (Conv1D)           (None, 1875, 32)          12832     \n",
            "_________________________________________________________________\n",
            "average_pooling1d_11 (Averag (None, 235, 32)           0         \n",
            "_________________________________________________________________\n",
            "conv1d_15 (Conv1D)           (None, 235, 64)           55360     \n",
            "_________________________________________________________________\n",
            "flatten_3 (Flatten)          (None, 15040)             0         \n",
            "_________________________________________________________________\n",
            "dense_6 (Dense)              (None, 128)               1925248   \n",
            "_________________________________________________________________\n",
            "dropout_3 (Dropout)          (None, 128)               0         \n",
            "_________________________________________________________________\n",
            "dense_7 (Dense)              (None, 13)                1677      \n",
            "=================================================================\n",
            "Total params: 1,997,869\n",
            "Trainable params: 1,997,869\n",
            "Non-trainable params: 0\n",
            "_________________________________________________________________\n"
          ],
          "name": "stdout"
        }
      ]
    },
    {
      "cell_type": "code",
      "metadata": {
        "id": "wh-QOse7yUe8"
      },
      "source": [
        "symbol_names=['i','ii','iii','avr','avl','avf','v1','v2','v3','v4','v5','v6','vx','vy','vz']\n",
        "data_path='/content/drive/My Drive/physionet.org/files/ptbdb/'\n",
        "def read_data_json(f,symbol_names): \n",
        "  df_read=pd.read_json(f)\n",
        "  for symbol in symbol_names:\n",
        "    df_read[symbol]=df_read[symbol].apply(np.array)\n",
        "  return df_read"
      ],
      "execution_count": null,
      "outputs": []
    },
    {
      "cell_type": "code",
      "metadata": {
        "id": "0q_tL_zEyF7t"
      },
      "source": [
        "symbol_names=['i','ii','iii','avr','avl','avf','v1','v2','v3','v4','v5','v6','vx','vy','vz']\n",
        "data_path='/content/drive/My Drive/physionet.org/files/ptbdb/'\n",
        "def str_to_array(str_data):\n",
        "  num_list=[]\n",
        "  str_list=str_data.split(\" \")\n",
        "  for i in range(len(str_list)-1):\n",
        "    num_list.append(float(str_list[i]))  \n",
        "  return np.array(num_list)\n",
        "\n",
        "def read_data_csv(f,symbol_names): \n",
        "  df_read=pd.read_csv(f,index_col=0)\n",
        "  for symbol in symbol_names:\n",
        "    df_read[symbol]=df_read[symbol].apply(str_to_array)\n",
        "  return df_read"
      ],
      "execution_count": null,
      "outputs": []
    },
    {
      "cell_type": "code",
      "metadata": {
        "id": "ul97elmsz6bN",
        "outputId": "c309cd2c-63f8-40bc-cdf8-f1e64f6902ab",
        "colab": {
          "base_uri": "https://localhost:8080/"
        }
      },
      "source": [
        "%cd /content/drive/My Drive/physionet.org/files/ptbdb/"
      ],
      "execution_count": null,
      "outputs": [
        {
          "output_type": "stream",
          "text": [
            "/content/drive/My Drive/physionet.org/files/ptbdb\n"
          ],
          "name": "stdout"
        }
      ]
    },
    {
      "cell_type": "code",
      "metadata": {
        "id": "K09xCjYvz9J5",
        "outputId": "c380d0ac-cafe-41ae-f34c-c50c6e2b28dc",
        "colab": {
          "base_uri": "https://localhost:8080/"
        }
      },
      "source": [
        "!ls"
      ],
      "execution_count": null,
      "outputs": [
        {
          "output_type": "stream",
          "text": [
            "1.0.0\t\t   1.0.0data_all.csv   1.0.0data_group3.json  data_all.json\n",
            "1.0.0data_41.json  1.0.0data_all.json  data_41.json\t      data_group3.csv\n"
          ],
          "name": "stdout"
        }
      ]
    },
    {
      "cell_type": "code",
      "metadata": {
        "id": "73m90ntpy5Zk"
      },
      "source": [
        "data_read_from_csv=read_data_csv(data_path+'data_group3.csv',symbol_names)"
      ],
      "execution_count": null,
      "outputs": []
    },
    {
      "cell_type": "code",
      "metadata": {
        "id": "8taNf9t98w45"
      },
      "source": [
        "clean_data=data_read_from_csv[symbol_names].reindex()"
      ],
      "execution_count": null,
      "outputs": []
    },
    {
      "cell_type": "code",
      "metadata": {
        "id": "fq1KR8_q-K3Q",
        "outputId": "2d5f28c9-2fc4-4718-b1c3-ca28630a1ba1",
        "colab": {
          "base_uri": "https://localhost:8080/",
          "height": 384
        }
      },
      "source": [
        "clean_data.head()"
      ],
      "execution_count": null,
      "outputs": [
        {
          "output_type": "execute_result",
          "data": {
            "text/html": [
              "<div>\n",
              "<style scoped>\n",
              "    .dataframe tbody tr th:only-of-type {\n",
              "        vertical-align: middle;\n",
              "    }\n",
              "\n",
              "    .dataframe tbody tr th {\n",
              "        vertical-align: top;\n",
              "    }\n",
              "\n",
              "    .dataframe thead th {\n",
              "        text-align: right;\n",
              "    }\n",
              "</style>\n",
              "<table border=\"1\" class=\"dataframe\">\n",
              "  <thead>\n",
              "    <tr style=\"text-align: right;\">\n",
              "      <th></th>\n",
              "      <th>i</th>\n",
              "      <th>ii</th>\n",
              "      <th>iii</th>\n",
              "      <th>avr</th>\n",
              "      <th>avl</th>\n",
              "      <th>avf</th>\n",
              "      <th>v1</th>\n",
              "      <th>v2</th>\n",
              "      <th>v3</th>\n",
              "      <th>v4</th>\n",
              "      <th>v5</th>\n",
              "      <th>v6</th>\n",
              "      <th>vx</th>\n",
              "      <th>vy</th>\n",
              "      <th>vz</th>\n",
              "    </tr>\n",
              "  </thead>\n",
              "  <tbody>\n",
              "    <tr>\n",
              "      <th>0</th>\n",
              "      <td>[-0.24450000000000002, -0.24250000000000002, -...</td>\n",
              "      <td>[-0.229, -0.2335, -0.23450000000000001, -0.229...</td>\n",
              "      <td>[0.0155, 0.009000000000000001, 0.007, 0.012, 0...</td>\n",
              "      <td>[0.23700000000000002, 0.23800000000000002, 0.2...</td>\n",
              "      <td>[-0.13, -0.1255, -0.124, -0.126, -0.1180000000...</td>\n",
              "      <td>[-0.107, -0.1125, -0.114, -0.109, -0.1115, -0....</td>\n",
              "      <td>[-0.044, -0.042, -0.044, -0.045, -0.0455, -0.0...</td>\n",
              "      <td>[-0.12050000000000001, -0.11750000000000001, -...</td>\n",
              "      <td>[-0.056, -0.051000000000000004, -0.05350000000...</td>\n",
              "      <td>[0.106, 0.1095, 0.1095, 0.1115, 0.1115, 0.1075...</td>\n",
              "      <td>[0.1965, 0.202, 0.2005, 0.201, 0.2, 0.196, 0.1...</td>\n",
              "      <td>[0.195, 0.198, 0.1965, 0.197, 0.1985, 0.194, 0...</td>\n",
              "      <td>[-0.0015, -0.0015, -0.0035, -0.002, 0.0005, 0....</td>\n",
              "      <td>[0.06, 0.061, 0.0555, 0.053500000000000006, 0....</td>\n",
              "      <td>[-0.009000000000000001, -0.01, -0.0085, -0.008...</td>\n",
              "    </tr>\n",
              "    <tr>\n",
              "      <th>1</th>\n",
              "      <td>[-0.47400000000000003, -0.444, -0.4555, -0.462...</td>\n",
              "      <td>[-0.059500000000000004, -0.032, -0.0345, -0.03...</td>\n",
              "      <td>[0.41500000000000004, 0.41250000000000003, 0.4...</td>\n",
              "      <td>[0.267, 0.23800000000000002, 0.245500000000000...</td>\n",
              "      <td>[-0.445, -0.42850000000000005, -0.439, -0.4475...</td>\n",
              "      <td>[0.178, 0.191, 0.194, 0.2005, 0.212, 0.2135000...</td>\n",
              "      <td>[1.252, 1.2575, 1.256, 1.256, 1.2605, 1.2545, ...</td>\n",
              "      <td>[1.287, 1.2845, 1.282, 1.2775, 1.276, 1.2705, ...</td>\n",
              "      <td>[-0.9325, -0.929, -0.936, -0.9420000000000001,...</td>\n",
              "      <td>[-0.8220000000000001, -0.8215, -0.824000000000...</td>\n",
              "      <td>[1.6139999999999999, 1.6195, 1.6195, 1.6185, 1...</td>\n",
              "      <td>[1.708, 1.712, 1.7125, 1.7125, 1.7165, 1.716, ...</td>\n",
              "      <td>[0.5365, 0.5335, 0.5305, 0.531, 0.5305, 0.53, ...</td>\n",
              "      <td>[-1.1385, -1.1385, -1.141, -1.133, -1.1265, -1...</td>\n",
              "      <td>[0.9675, 0.9645, 0.961, 0.963, 0.962, 0.9595, ...</td>\n",
              "    </tr>\n",
              "    <tr>\n",
              "      <th>2</th>\n",
              "      <td>[0.254, 0.263, 0.2755, 0.28, 0.3035, 0.305, 0....</td>\n",
              "      <td>[0.7535000000000001, 0.7615000000000001, 0.786...</td>\n",
              "      <td>[0.499, 0.498, 0.51, 0.5245000000000001, 0.537...</td>\n",
              "      <td>[-0.5035000000000001, -0.5115000000000001, -0....</td>\n",
              "      <td>[-0.12250000000000001, -0.11750000000000001, -...</td>\n",
              "      <td>[0.626, 0.6295000000000001, 0.648, 0.6645, 0.6...</td>\n",
              "      <td>[0.5815, 0.5955, 0.6015, 0.6015, 0.6105, 0.613...</td>\n",
              "      <td>[0.7875000000000001, 0.8015, 0.8075, 0.8115, 0...</td>\n",
              "      <td>[0.936, 0.9535, 0.9570000000000001, 0.962, 0.9...</td>\n",
              "      <td>[0.984, 1.001, 1.0065, 1.0125, 1.0235, 1.024, ...</td>\n",
              "      <td>[0.8180000000000001, 0.8335, 0.833, 0.8385, 0....</td>\n",
              "      <td>[0.5385, 0.551, 0.5515, 0.5605, 0.581, 0.5755,...</td>\n",
              "      <td>[0.385, 0.38, 0.382, 0.382, 0.384, 0.3825, 0.3...</td>\n",
              "      <td>[-0.131, -0.132, -0.11800000000000001, -0.1075...</td>\n",
              "      <td>[0.029, 0.024, 0.0245, 0.0275, 0.028, 0.0205, ...</td>\n",
              "    </tr>\n",
              "    <tr>\n",
              "      <th>316</th>\n",
              "      <td>[0.031, 0.029, 0.03, 0.0275, 0.029500000000000...</td>\n",
              "      <td>[-1.1485, -1.1485, -1.145, -1.1475, -1.149, -1...</td>\n",
              "      <td>[-1.1795, -1.1775, -1.175, -1.175, -1.1785, -1...</td>\n",
              "      <td>[0.5585, 0.5595, 0.557, 0.5595, 0.5595, 0.5585...</td>\n",
              "      <td>[0.6055, 0.6035, 0.603, 0.6015, 0.6045, 0.6085...</td>\n",
              "      <td>[-1.164, -1.163, -1.1595, -1.161, -1.1635, -1....</td>\n",
              "      <td>[0.166, 0.1675, 0.1655, 0.162, 0.162, 0.1655, ...</td>\n",
              "      <td>[0.258, 0.2585, 0.2585, 0.259, 0.2575, 0.2615,...</td>\n",
              "      <td>[0.5730000000000001, 0.5735, 0.576000000000000...</td>\n",
              "      <td>[0.129, 0.128, 0.129, 0.128, 0.1275, 0.1305, 0...</td>\n",
              "      <td>[-0.3825, -0.3835, -0.381, -0.382, -0.382, -0....</td>\n",
              "      <td>[0.012, 0.014, 0.015, 0.016, 0.0155, 0.0195, 0...</td>\n",
              "      <td>[-0.3415, -0.338, -0.337, -0.336, -0.3355, -0....</td>\n",
              "      <td>[-0.6980000000000001, -0.6985, -0.696000000000...</td>\n",
              "      <td>[0.0095, 0.0095, 0.006500000000000001, 0.00750...</td>\n",
              "    </tr>\n",
              "    <tr>\n",
              "      <th>317</th>\n",
              "      <td>[-0.658, -0.66, -0.6575000000000001, -0.652, -...</td>\n",
              "      <td>[-0.1105, -0.1085, -0.10300000000000001, -0.10...</td>\n",
              "      <td>[0.5475, 0.5515, 0.5545, 0.547, 0.531, 0.51850...</td>\n",
              "      <td>[0.3845, 0.3845, 0.3805, 0.379, 0.378, 0.379, ...</td>\n",
              "      <td>[-0.6025, -0.606, -0.606, -0.5995, -0.587, -0....</td>\n",
              "      <td>[0.219, 0.222, 0.226, 0.221, 0.209500000000000...</td>\n",
              "      <td>[0.5235000000000001, 0.5305, 0.536, 0.545, 0.5...</td>\n",
              "      <td>[0.649, 0.669, 0.6900000000000001, 0.7165, 0.7...</td>\n",
              "      <td>[0.1675, 0.201, 0.231, 0.266, 0.3005, 0.328, 0...</td>\n",
              "      <td>[0.07, 0.0995, 0.129, 0.1585, 0.1885, 0.210500...</td>\n",
              "      <td>[-0.1915, -0.1665, -0.14300000000000002, -0.11...</td>\n",
              "      <td>[0.445, 0.4595, 0.47800000000000004, 0.4955, 0...</td>\n",
              "      <td>[-0.07250000000000001, -0.060500000000000005, ...</td>\n",
              "      <td>[1.6095000000000002, 1.629, 1.6465, 1.661, 1.6...</td>\n",
              "      <td>[0.5455, 0.5215000000000001, 0.503, 0.491, 0.4...</td>\n",
              "    </tr>\n",
              "  </tbody>\n",
              "</table>\n",
              "</div>"
            ],
            "text/plain": [
              "                                                     i  ...                                                 vz\n",
              "0    [-0.24450000000000002, -0.24250000000000002, -...  ...  [-0.009000000000000001, -0.01, -0.0085, -0.008...\n",
              "1    [-0.47400000000000003, -0.444, -0.4555, -0.462...  ...  [0.9675, 0.9645, 0.961, 0.963, 0.962, 0.9595, ...\n",
              "2    [0.254, 0.263, 0.2755, 0.28, 0.3035, 0.305, 0....  ...  [0.029, 0.024, 0.0245, 0.0275, 0.028, 0.0205, ...\n",
              "316  [0.031, 0.029, 0.03, 0.0275, 0.029500000000000...  ...  [0.0095, 0.0095, 0.006500000000000001, 0.00750...\n",
              "317  [-0.658, -0.66, -0.6575000000000001, -0.652, -...  ...  [0.5455, 0.5215000000000001, 0.503, 0.491, 0.4...\n",
              "\n",
              "[5 rows x 15 columns]"
            ]
          },
          "metadata": {
            "tags": []
          },
          "execution_count": 82
        }
      ]
    },
    {
      "cell_type": "code",
      "metadata": {
        "id": "I9jwP7n29e5L"
      },
      "source": [
        "#create a new shape of the data\n",
        "temp=[]\n",
        "for i in clean_data.index:    \n",
        "    for k in range(30000):\n",
        "      for name in symbol_names:\n",
        "        temp.append(clean_data[name][i][k])\n",
        "frames=np.array(temp).reshape(clean_data.shape[0],30000,len(symbol_names))"
      ],
      "execution_count": null,
      "outputs": []
    },
    {
      "cell_type": "code",
      "metadata": {
        "id": "MZYMSgwT-zWB"
      },
      "source": [
        "preds=model.model_predict(frames)"
      ],
      "execution_count": null,
      "outputs": []
    },
    {
      "cell_type": "code",
      "metadata": {
        "id": "q1lbMFs9_V5A",
        "outputId": "e3f4c498-3d65-4acc-b165-0fb0de3c95a2",
        "colab": {
          "base_uri": "https://localhost:8080/"
        }
      },
      "source": [
        "np.argmax(preds[0])"
      ],
      "execution_count": null,
      "outputs": [
        {
          "output_type": "execute_result",
          "data": {
            "text/plain": [
              "3"
            ]
          },
          "metadata": {
            "tags": []
          },
          "execution_count": 91
        }
      ]
    }
  ]
}