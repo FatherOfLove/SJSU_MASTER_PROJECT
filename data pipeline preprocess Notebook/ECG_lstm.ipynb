{
  "nbformat": 4,
  "nbformat_minor": 0,
  "metadata": {
    "colab": {
      "name": "ECG_lstm.ipynb",
      "provenance": [],
      "collapsed_sections": [],
      "machine_shape": "hm"
    },
    "kernelspec": {
      "name": "python3",
      "display_name": "Python 3"
    },
    "accelerator": "GPU",
    "widgets": {
      "application/vnd.jupyter.widget-state+json": {
        "5a59b56481e940be8402d6535f1c717f": {
          "model_module": "@jupyter-widgets/controls",
          "model_name": "HBoxModel",
          "state": {
            "_view_name": "HBoxView",
            "_dom_classes": [],
            "_model_name": "HBoxModel",
            "_view_module": "@jupyter-widgets/controls",
            "_model_module_version": "1.5.0",
            "_view_count": null,
            "_view_module_version": "1.5.0",
            "box_style": "",
            "layout": "IPY_MODEL_578df1f3a5f64e0a867059075ba26dec",
            "_model_module": "@jupyter-widgets/controls",
            "children": [
              "IPY_MODEL_be8ccfa36a3e453cb30811203f709ae5",
              "IPY_MODEL_8ade23a541ac4340af6247a3e709ea0c"
            ]
          }
        },
        "578df1f3a5f64e0a867059075ba26dec": {
          "model_module": "@jupyter-widgets/base",
          "model_name": "LayoutModel",
          "state": {
            "_view_name": "LayoutView",
            "grid_template_rows": null,
            "right": null,
            "justify_content": null,
            "_view_module": "@jupyter-widgets/base",
            "overflow": null,
            "_model_module_version": "1.2.0",
            "_view_count": null,
            "flex_flow": null,
            "width": null,
            "min_width": null,
            "border": null,
            "align_items": null,
            "bottom": null,
            "_model_module": "@jupyter-widgets/base",
            "top": null,
            "grid_column": null,
            "overflow_y": null,
            "overflow_x": null,
            "grid_auto_flow": null,
            "grid_area": null,
            "grid_template_columns": null,
            "flex": null,
            "_model_name": "LayoutModel",
            "justify_items": null,
            "grid_row": null,
            "max_height": null,
            "align_content": null,
            "visibility": null,
            "align_self": null,
            "height": null,
            "min_height": null,
            "padding": null,
            "grid_auto_rows": null,
            "grid_gap": null,
            "max_width": null,
            "order": null,
            "_view_module_version": "1.2.0",
            "grid_template_areas": null,
            "object_position": null,
            "object_fit": null,
            "grid_auto_columns": null,
            "margin": null,
            "display": null,
            "left": null
          }
        },
        "be8ccfa36a3e453cb30811203f709ae5": {
          "model_module": "@jupyter-widgets/controls",
          "model_name": "FloatProgressModel",
          "state": {
            "_view_name": "ProgressView",
            "style": "IPY_MODEL_de4db7f7c89946a9b4070010adfd9cad",
            "_dom_classes": [],
            "description": "100%",
            "_model_name": "FloatProgressModel",
            "bar_style": "success",
            "max": 549,
            "_view_module": "@jupyter-widgets/controls",
            "_model_module_version": "1.5.0",
            "value": 549,
            "_view_count": null,
            "_view_module_version": "1.5.0",
            "orientation": "horizontal",
            "min": 0,
            "description_tooltip": null,
            "_model_module": "@jupyter-widgets/controls",
            "layout": "IPY_MODEL_d59620dec0ed466da338d12bc27a6272"
          }
        },
        "8ade23a541ac4340af6247a3e709ea0c": {
          "model_module": "@jupyter-widgets/controls",
          "model_name": "HTMLModel",
          "state": {
            "_view_name": "HTMLView",
            "style": "IPY_MODEL_3413411283bd48bbbf9028b79e46f7f9",
            "_dom_classes": [],
            "description": "",
            "_model_name": "HTMLModel",
            "placeholder": "​",
            "_view_module": "@jupyter-widgets/controls",
            "_model_module_version": "1.5.0",
            "value": " 549/549 [16:22&lt;00:00,  1.79s/it]",
            "_view_count": null,
            "_view_module_version": "1.5.0",
            "description_tooltip": null,
            "_model_module": "@jupyter-widgets/controls",
            "layout": "IPY_MODEL_931bb868fa054cd18727eee57c9f7063"
          }
        },
        "de4db7f7c89946a9b4070010adfd9cad": {
          "model_module": "@jupyter-widgets/controls",
          "model_name": "ProgressStyleModel",
          "state": {
            "_view_name": "StyleView",
            "_model_name": "ProgressStyleModel",
            "description_width": "initial",
            "_view_module": "@jupyter-widgets/base",
            "_model_module_version": "1.5.0",
            "_view_count": null,
            "_view_module_version": "1.2.0",
            "bar_color": null,
            "_model_module": "@jupyter-widgets/controls"
          }
        },
        "d59620dec0ed466da338d12bc27a6272": {
          "model_module": "@jupyter-widgets/base",
          "model_name": "LayoutModel",
          "state": {
            "_view_name": "LayoutView",
            "grid_template_rows": null,
            "right": null,
            "justify_content": null,
            "_view_module": "@jupyter-widgets/base",
            "overflow": null,
            "_model_module_version": "1.2.0",
            "_view_count": null,
            "flex_flow": null,
            "width": null,
            "min_width": null,
            "border": null,
            "align_items": null,
            "bottom": null,
            "_model_module": "@jupyter-widgets/base",
            "top": null,
            "grid_column": null,
            "overflow_y": null,
            "overflow_x": null,
            "grid_auto_flow": null,
            "grid_area": null,
            "grid_template_columns": null,
            "flex": null,
            "_model_name": "LayoutModel",
            "justify_items": null,
            "grid_row": null,
            "max_height": null,
            "align_content": null,
            "visibility": null,
            "align_self": null,
            "height": null,
            "min_height": null,
            "padding": null,
            "grid_auto_rows": null,
            "grid_gap": null,
            "max_width": null,
            "order": null,
            "_view_module_version": "1.2.0",
            "grid_template_areas": null,
            "object_position": null,
            "object_fit": null,
            "grid_auto_columns": null,
            "margin": null,
            "display": null,
            "left": null
          }
        },
        "3413411283bd48bbbf9028b79e46f7f9": {
          "model_module": "@jupyter-widgets/controls",
          "model_name": "DescriptionStyleModel",
          "state": {
            "_view_name": "StyleView",
            "_model_name": "DescriptionStyleModel",
            "description_width": "",
            "_view_module": "@jupyter-widgets/base",
            "_model_module_version": "1.5.0",
            "_view_count": null,
            "_view_module_version": "1.2.0",
            "_model_module": "@jupyter-widgets/controls"
          }
        },
        "931bb868fa054cd18727eee57c9f7063": {
          "model_module": "@jupyter-widgets/base",
          "model_name": "LayoutModel",
          "state": {
            "_view_name": "LayoutView",
            "grid_template_rows": null,
            "right": null,
            "justify_content": null,
            "_view_module": "@jupyter-widgets/base",
            "overflow": null,
            "_model_module_version": "1.2.0",
            "_view_count": null,
            "flex_flow": null,
            "width": null,
            "min_width": null,
            "border": null,
            "align_items": null,
            "bottom": null,
            "_model_module": "@jupyter-widgets/base",
            "top": null,
            "grid_column": null,
            "overflow_y": null,
            "overflow_x": null,
            "grid_auto_flow": null,
            "grid_area": null,
            "grid_template_columns": null,
            "flex": null,
            "_model_name": "LayoutModel",
            "justify_items": null,
            "grid_row": null,
            "max_height": null,
            "align_content": null,
            "visibility": null,
            "align_self": null,
            "height": null,
            "min_height": null,
            "padding": null,
            "grid_auto_rows": null,
            "grid_gap": null,
            "max_width": null,
            "order": null,
            "_view_module_version": "1.2.0",
            "grid_template_areas": null,
            "object_position": null,
            "object_fit": null,
            "grid_auto_columns": null,
            "margin": null,
            "display": null,
            "left": null
          }
        },
        "471b470e8ed64af5a81fa57f1dc7ead3": {
          "model_module": "@jupyter-widgets/controls",
          "model_name": "HBoxModel",
          "state": {
            "_view_name": "HBoxView",
            "_dom_classes": [],
            "_model_name": "HBoxModel",
            "_view_module": "@jupyter-widgets/controls",
            "_model_module_version": "1.5.0",
            "_view_count": null,
            "_view_module_version": "1.5.0",
            "box_style": "",
            "layout": "IPY_MODEL_e28cbb0fb5964bb1a9ad69bc087b203c",
            "_model_module": "@jupyter-widgets/controls",
            "children": [
              "IPY_MODEL_1ae6689e76d44e0db2b847b310259104",
              "IPY_MODEL_f63d08fb75654cbc80c83a2f0ff40cfd"
            ]
          }
        },
        "e28cbb0fb5964bb1a9ad69bc087b203c": {
          "model_module": "@jupyter-widgets/base",
          "model_name": "LayoutModel",
          "state": {
            "_view_name": "LayoutView",
            "grid_template_rows": null,
            "right": null,
            "justify_content": null,
            "_view_module": "@jupyter-widgets/base",
            "overflow": null,
            "_model_module_version": "1.2.0",
            "_view_count": null,
            "flex_flow": null,
            "width": null,
            "min_width": null,
            "border": null,
            "align_items": null,
            "bottom": null,
            "_model_module": "@jupyter-widgets/base",
            "top": null,
            "grid_column": null,
            "overflow_y": null,
            "overflow_x": null,
            "grid_auto_flow": null,
            "grid_area": null,
            "grid_template_columns": null,
            "flex": null,
            "_model_name": "LayoutModel",
            "justify_items": null,
            "grid_row": null,
            "max_height": null,
            "align_content": null,
            "visibility": null,
            "align_self": null,
            "height": null,
            "min_height": null,
            "padding": null,
            "grid_auto_rows": null,
            "grid_gap": null,
            "max_width": null,
            "order": null,
            "_view_module_version": "1.2.0",
            "grid_template_areas": null,
            "object_position": null,
            "object_fit": null,
            "grid_auto_columns": null,
            "margin": null,
            "display": null,
            "left": null
          }
        },
        "1ae6689e76d44e0db2b847b310259104": {
          "model_module": "@jupyter-widgets/controls",
          "model_name": "FloatProgressModel",
          "state": {
            "_view_name": "ProgressView",
            "style": "IPY_MODEL_196bcbc3c94344bb8111873709079e2f",
            "_dom_classes": [],
            "description": "",
            "_model_name": "FloatProgressModel",
            "bar_style": "success",
            "max": 1,
            "_view_module": "@jupyter-widgets/controls",
            "_model_module_version": "1.5.0",
            "value": 1,
            "_view_count": null,
            "_view_module_version": "1.5.0",
            "orientation": "horizontal",
            "min": 0,
            "description_tooltip": null,
            "_model_module": "@jupyter-widgets/controls",
            "layout": "IPY_MODEL_87a1a2d2928f43f895d6df5051618671"
          }
        },
        "f63d08fb75654cbc80c83a2f0ff40cfd": {
          "model_module": "@jupyter-widgets/controls",
          "model_name": "HTMLModel",
          "state": {
            "_view_name": "HTMLView",
            "style": "IPY_MODEL_f8248d7ce36947ce8b6ca8e5ffececdc",
            "_dom_classes": [],
            "description": "",
            "_model_name": "HTMLModel",
            "placeholder": "​",
            "_view_module": "@jupyter-widgets/controls",
            "_model_module_version": "1.5.0",
            "value": " 602/? [00:22&lt;00:00, 27.13it/s]",
            "_view_count": null,
            "_view_module_version": "1.5.0",
            "description_tooltip": null,
            "_model_module": "@jupyter-widgets/controls",
            "layout": "IPY_MODEL_0f136bfb59cb4e339b10d526ef69065d"
          }
        },
        "196bcbc3c94344bb8111873709079e2f": {
          "model_module": "@jupyter-widgets/controls",
          "model_name": "ProgressStyleModel",
          "state": {
            "_view_name": "StyleView",
            "_model_name": "ProgressStyleModel",
            "description_width": "initial",
            "_view_module": "@jupyter-widgets/base",
            "_model_module_version": "1.5.0",
            "_view_count": null,
            "_view_module_version": "1.2.0",
            "bar_color": null,
            "_model_module": "@jupyter-widgets/controls"
          }
        },
        "87a1a2d2928f43f895d6df5051618671": {
          "model_module": "@jupyter-widgets/base",
          "model_name": "LayoutModel",
          "state": {
            "_view_name": "LayoutView",
            "grid_template_rows": null,
            "right": null,
            "justify_content": null,
            "_view_module": "@jupyter-widgets/base",
            "overflow": null,
            "_model_module_version": "1.2.0",
            "_view_count": null,
            "flex_flow": null,
            "width": null,
            "min_width": null,
            "border": null,
            "align_items": null,
            "bottom": null,
            "_model_module": "@jupyter-widgets/base",
            "top": null,
            "grid_column": null,
            "overflow_y": null,
            "overflow_x": null,
            "grid_auto_flow": null,
            "grid_area": null,
            "grid_template_columns": null,
            "flex": null,
            "_model_name": "LayoutModel",
            "justify_items": null,
            "grid_row": null,
            "max_height": null,
            "align_content": null,
            "visibility": null,
            "align_self": null,
            "height": null,
            "min_height": null,
            "padding": null,
            "grid_auto_rows": null,
            "grid_gap": null,
            "max_width": null,
            "order": null,
            "_view_module_version": "1.2.0",
            "grid_template_areas": null,
            "object_position": null,
            "object_fit": null,
            "grid_auto_columns": null,
            "margin": null,
            "display": null,
            "left": null
          }
        },
        "f8248d7ce36947ce8b6ca8e5ffececdc": {
          "model_module": "@jupyter-widgets/controls",
          "model_name": "DescriptionStyleModel",
          "state": {
            "_view_name": "StyleView",
            "_model_name": "DescriptionStyleModel",
            "description_width": "",
            "_view_module": "@jupyter-widgets/base",
            "_model_module_version": "1.5.0",
            "_view_count": null,
            "_view_module_version": "1.2.0",
            "_model_module": "@jupyter-widgets/controls"
          }
        },
        "0f136bfb59cb4e339b10d526ef69065d": {
          "model_module": "@jupyter-widgets/base",
          "model_name": "LayoutModel",
          "state": {
            "_view_name": "LayoutView",
            "grid_template_rows": null,
            "right": null,
            "justify_content": null,
            "_view_module": "@jupyter-widgets/base",
            "overflow": null,
            "_model_module_version": "1.2.0",
            "_view_count": null,
            "flex_flow": null,
            "width": null,
            "min_width": null,
            "border": null,
            "align_items": null,
            "bottom": null,
            "_model_module": "@jupyter-widgets/base",
            "top": null,
            "grid_column": null,
            "overflow_y": null,
            "overflow_x": null,
            "grid_auto_flow": null,
            "grid_area": null,
            "grid_template_columns": null,
            "flex": null,
            "_model_name": "LayoutModel",
            "justify_items": null,
            "grid_row": null,
            "max_height": null,
            "align_content": null,
            "visibility": null,
            "align_self": null,
            "height": null,
            "min_height": null,
            "padding": null,
            "grid_auto_rows": null,
            "grid_gap": null,
            "max_width": null,
            "order": null,
            "_view_module_version": "1.2.0",
            "grid_template_areas": null,
            "object_position": null,
            "object_fit": null,
            "grid_auto_columns": null,
            "margin": null,
            "display": null,
            "left": null
          }
        },
        "0a0862400fad4c6da6b5c5512542d4ec": {
          "model_module": "@jupyter-widgets/controls",
          "model_name": "HBoxModel",
          "state": {
            "_view_name": "HBoxView",
            "_dom_classes": [],
            "_model_name": "HBoxModel",
            "_view_module": "@jupyter-widgets/controls",
            "_model_module_version": "1.5.0",
            "_view_count": null,
            "_view_module_version": "1.5.0",
            "box_style": "",
            "layout": "IPY_MODEL_38bc3c8cb0d64ec78e3360b1b35c23c6",
            "_model_module": "@jupyter-widgets/controls",
            "children": [
              "IPY_MODEL_bbd5e4861a454c928fc1d78516ae6a7d",
              "IPY_MODEL_ae8c1d99ebb34d47909095820cb65f51"
            ]
          }
        },
        "38bc3c8cb0d64ec78e3360b1b35c23c6": {
          "model_module": "@jupyter-widgets/base",
          "model_name": "LayoutModel",
          "state": {
            "_view_name": "LayoutView",
            "grid_template_rows": null,
            "right": null,
            "justify_content": null,
            "_view_module": "@jupyter-widgets/base",
            "overflow": null,
            "_model_module_version": "1.2.0",
            "_view_count": null,
            "flex_flow": null,
            "width": null,
            "min_width": null,
            "border": null,
            "align_items": null,
            "bottom": null,
            "_model_module": "@jupyter-widgets/base",
            "top": null,
            "grid_column": null,
            "overflow_y": null,
            "overflow_x": null,
            "grid_auto_flow": null,
            "grid_area": null,
            "grid_template_columns": null,
            "flex": null,
            "_model_name": "LayoutModel",
            "justify_items": null,
            "grid_row": null,
            "max_height": null,
            "align_content": null,
            "visibility": null,
            "align_self": null,
            "height": null,
            "min_height": null,
            "padding": null,
            "grid_auto_rows": null,
            "grid_gap": null,
            "max_width": null,
            "order": null,
            "_view_module_version": "1.2.0",
            "grid_template_areas": null,
            "object_position": null,
            "object_fit": null,
            "grid_auto_columns": null,
            "margin": null,
            "display": null,
            "left": null
          }
        },
        "bbd5e4861a454c928fc1d78516ae6a7d": {
          "model_module": "@jupyter-widgets/controls",
          "model_name": "FloatProgressModel",
          "state": {
            "_view_name": "ProgressView",
            "style": "IPY_MODEL_39ecccd856ee4fe3b7964f9c635f710f",
            "_dom_classes": [],
            "description": "",
            "_model_name": "FloatProgressModel",
            "bar_style": "success",
            "max": 1,
            "_view_module": "@jupyter-widgets/controls",
            "_model_module_version": "1.5.0",
            "value": 1,
            "_view_count": null,
            "_view_module_version": "1.5.0",
            "orientation": "horizontal",
            "min": 0,
            "description_tooltip": null,
            "_model_module": "@jupyter-widgets/controls",
            "layout": "IPY_MODEL_f9a3521d47c340dc812cd2918aef83b0"
          }
        },
        "ae8c1d99ebb34d47909095820cb65f51": {
          "model_module": "@jupyter-widgets/controls",
          "model_name": "HTMLModel",
          "state": {
            "_view_name": "HTMLView",
            "style": "IPY_MODEL_6d23d4e2aaf24771991041ae51da6458",
            "_dom_classes": [],
            "description": "",
            "_model_name": "HTMLModel",
            "placeholder": "​",
            "_view_module": "@jupyter-widgets/controls",
            "_model_module_version": "1.5.0",
            "value": " 602/? [00:18&lt;00:00, 32.92it/s]",
            "_view_count": null,
            "_view_module_version": "1.5.0",
            "description_tooltip": null,
            "_model_module": "@jupyter-widgets/controls",
            "layout": "IPY_MODEL_a9776b5a62ac49da8ef4a2c5f5d917a4"
          }
        },
        "39ecccd856ee4fe3b7964f9c635f710f": {
          "model_module": "@jupyter-widgets/controls",
          "model_name": "ProgressStyleModel",
          "state": {
            "_view_name": "StyleView",
            "_model_name": "ProgressStyleModel",
            "description_width": "initial",
            "_view_module": "@jupyter-widgets/base",
            "_model_module_version": "1.5.0",
            "_view_count": null,
            "_view_module_version": "1.2.0",
            "bar_color": null,
            "_model_module": "@jupyter-widgets/controls"
          }
        },
        "f9a3521d47c340dc812cd2918aef83b0": {
          "model_module": "@jupyter-widgets/base",
          "model_name": "LayoutModel",
          "state": {
            "_view_name": "LayoutView",
            "grid_template_rows": null,
            "right": null,
            "justify_content": null,
            "_view_module": "@jupyter-widgets/base",
            "overflow": null,
            "_model_module_version": "1.2.0",
            "_view_count": null,
            "flex_flow": null,
            "width": null,
            "min_width": null,
            "border": null,
            "align_items": null,
            "bottom": null,
            "_model_module": "@jupyter-widgets/base",
            "top": null,
            "grid_column": null,
            "overflow_y": null,
            "overflow_x": null,
            "grid_auto_flow": null,
            "grid_area": null,
            "grid_template_columns": null,
            "flex": null,
            "_model_name": "LayoutModel",
            "justify_items": null,
            "grid_row": null,
            "max_height": null,
            "align_content": null,
            "visibility": null,
            "align_self": null,
            "height": null,
            "min_height": null,
            "padding": null,
            "grid_auto_rows": null,
            "grid_gap": null,
            "max_width": null,
            "order": null,
            "_view_module_version": "1.2.0",
            "grid_template_areas": null,
            "object_position": null,
            "object_fit": null,
            "grid_auto_columns": null,
            "margin": null,
            "display": null,
            "left": null
          }
        },
        "6d23d4e2aaf24771991041ae51da6458": {
          "model_module": "@jupyter-widgets/controls",
          "model_name": "DescriptionStyleModel",
          "state": {
            "_view_name": "StyleView",
            "_model_name": "DescriptionStyleModel",
            "description_width": "",
            "_view_module": "@jupyter-widgets/base",
            "_model_module_version": "1.5.0",
            "_view_count": null,
            "_view_module_version": "1.2.0",
            "_model_module": "@jupyter-widgets/controls"
          }
        },
        "a9776b5a62ac49da8ef4a2c5f5d917a4": {
          "model_module": "@jupyter-widgets/base",
          "model_name": "LayoutModel",
          "state": {
            "_view_name": "LayoutView",
            "grid_template_rows": null,
            "right": null,
            "justify_content": null,
            "_view_module": "@jupyter-widgets/base",
            "overflow": null,
            "_model_module_version": "1.2.0",
            "_view_count": null,
            "flex_flow": null,
            "width": null,
            "min_width": null,
            "border": null,
            "align_items": null,
            "bottom": null,
            "_model_module": "@jupyter-widgets/base",
            "top": null,
            "grid_column": null,
            "overflow_y": null,
            "overflow_x": null,
            "grid_auto_flow": null,
            "grid_area": null,
            "grid_template_columns": null,
            "flex": null,
            "_model_name": "LayoutModel",
            "justify_items": null,
            "grid_row": null,
            "max_height": null,
            "align_content": null,
            "visibility": null,
            "align_self": null,
            "height": null,
            "min_height": null,
            "padding": null,
            "grid_auto_rows": null,
            "grid_gap": null,
            "max_width": null,
            "order": null,
            "_view_module_version": "1.2.0",
            "grid_template_areas": null,
            "object_position": null,
            "object_fit": null,
            "grid_auto_columns": null,
            "margin": null,
            "display": null,
            "left": null
          }
        },
        "10bd286a7832417a8b4daa9aa787a946": {
          "model_module": "@jupyter-widgets/controls",
          "model_name": "HBoxModel",
          "state": {
            "_view_name": "HBoxView",
            "_dom_classes": [],
            "_model_name": "HBoxModel",
            "_view_module": "@jupyter-widgets/controls",
            "_model_module_version": "1.5.0",
            "_view_count": null,
            "_view_module_version": "1.5.0",
            "box_style": "",
            "layout": "IPY_MODEL_5309b02a662a4ac6a0432ece0c59b5d0",
            "_model_module": "@jupyter-widgets/controls",
            "children": [
              "IPY_MODEL_a73c4a13204a4d949e2899a9f545bfea",
              "IPY_MODEL_dc0c83c16b9f43cfa7142f361ae71bd0"
            ]
          }
        },
        "5309b02a662a4ac6a0432ece0c59b5d0": {
          "model_module": "@jupyter-widgets/base",
          "model_name": "LayoutModel",
          "state": {
            "_view_name": "LayoutView",
            "grid_template_rows": null,
            "right": null,
            "justify_content": null,
            "_view_module": "@jupyter-widgets/base",
            "overflow": null,
            "_model_module_version": "1.2.0",
            "_view_count": null,
            "flex_flow": null,
            "width": null,
            "min_width": null,
            "border": null,
            "align_items": null,
            "bottom": null,
            "_model_module": "@jupyter-widgets/base",
            "top": null,
            "grid_column": null,
            "overflow_y": null,
            "overflow_x": null,
            "grid_auto_flow": null,
            "grid_area": null,
            "grid_template_columns": null,
            "flex": null,
            "_model_name": "LayoutModel",
            "justify_items": null,
            "grid_row": null,
            "max_height": null,
            "align_content": null,
            "visibility": null,
            "align_self": null,
            "height": null,
            "min_height": null,
            "padding": null,
            "grid_auto_rows": null,
            "grid_gap": null,
            "max_width": null,
            "order": null,
            "_view_module_version": "1.2.0",
            "grid_template_areas": null,
            "object_position": null,
            "object_fit": null,
            "grid_auto_columns": null,
            "margin": null,
            "display": null,
            "left": null
          }
        },
        "a73c4a13204a4d949e2899a9f545bfea": {
          "model_module": "@jupyter-widgets/controls",
          "model_name": "FloatProgressModel",
          "state": {
            "_view_name": "ProgressView",
            "style": "IPY_MODEL_8a6508737be94316a02ef2f22d9f1767",
            "_dom_classes": [],
            "description": "",
            "_model_name": "FloatProgressModel",
            "bar_style": "success",
            "max": 1,
            "_view_module": "@jupyter-widgets/controls",
            "_model_module_version": "1.5.0",
            "value": 1,
            "_view_count": null,
            "_view_module_version": "1.5.0",
            "orientation": "horizontal",
            "min": 0,
            "description_tooltip": null,
            "_model_module": "@jupyter-widgets/controls",
            "layout": "IPY_MODEL_84378476700944feb4297a173e1bd0d4"
          }
        },
        "dc0c83c16b9f43cfa7142f361ae71bd0": {
          "model_module": "@jupyter-widgets/controls",
          "model_name": "HTMLModel",
          "state": {
            "_view_name": "HTMLView",
            "style": "IPY_MODEL_506164e3e0d4410297f6fe4f65b5bcd1",
            "_dom_classes": [],
            "description": "",
            "_model_name": "HTMLModel",
            "placeholder": "​",
            "_view_module": "@jupyter-widgets/controls",
            "_model_module_version": "1.5.0",
            "value": " 134/? [00:57&lt;00:00,  2.32it/s]",
            "_view_count": null,
            "_view_module_version": "1.5.0",
            "description_tooltip": null,
            "_model_module": "@jupyter-widgets/controls",
            "layout": "IPY_MODEL_430d01d516f14dc88a008039817ce510"
          }
        },
        "8a6508737be94316a02ef2f22d9f1767": {
          "model_module": "@jupyter-widgets/controls",
          "model_name": "ProgressStyleModel",
          "state": {
            "_view_name": "StyleView",
            "_model_name": "ProgressStyleModel",
            "description_width": "initial",
            "_view_module": "@jupyter-widgets/base",
            "_model_module_version": "1.5.0",
            "_view_count": null,
            "_view_module_version": "1.2.0",
            "bar_color": null,
            "_model_module": "@jupyter-widgets/controls"
          }
        },
        "84378476700944feb4297a173e1bd0d4": {
          "model_module": "@jupyter-widgets/base",
          "model_name": "LayoutModel",
          "state": {
            "_view_name": "LayoutView",
            "grid_template_rows": null,
            "right": null,
            "justify_content": null,
            "_view_module": "@jupyter-widgets/base",
            "overflow": null,
            "_model_module_version": "1.2.0",
            "_view_count": null,
            "flex_flow": null,
            "width": null,
            "min_width": null,
            "border": null,
            "align_items": null,
            "bottom": null,
            "_model_module": "@jupyter-widgets/base",
            "top": null,
            "grid_column": null,
            "overflow_y": null,
            "overflow_x": null,
            "grid_auto_flow": null,
            "grid_area": null,
            "grid_template_columns": null,
            "flex": null,
            "_model_name": "LayoutModel",
            "justify_items": null,
            "grid_row": null,
            "max_height": null,
            "align_content": null,
            "visibility": null,
            "align_self": null,
            "height": null,
            "min_height": null,
            "padding": null,
            "grid_auto_rows": null,
            "grid_gap": null,
            "max_width": null,
            "order": null,
            "_view_module_version": "1.2.0",
            "grid_template_areas": null,
            "object_position": null,
            "object_fit": null,
            "grid_auto_columns": null,
            "margin": null,
            "display": null,
            "left": null
          }
        },
        "506164e3e0d4410297f6fe4f65b5bcd1": {
          "model_module": "@jupyter-widgets/controls",
          "model_name": "DescriptionStyleModel",
          "state": {
            "_view_name": "StyleView",
            "_model_name": "DescriptionStyleModel",
            "description_width": "",
            "_view_module": "@jupyter-widgets/base",
            "_model_module_version": "1.5.0",
            "_view_count": null,
            "_view_module_version": "1.2.0",
            "_model_module": "@jupyter-widgets/controls"
          }
        },
        "430d01d516f14dc88a008039817ce510": {
          "model_module": "@jupyter-widgets/base",
          "model_name": "LayoutModel",
          "state": {
            "_view_name": "LayoutView",
            "grid_template_rows": null,
            "right": null,
            "justify_content": null,
            "_view_module": "@jupyter-widgets/base",
            "overflow": null,
            "_model_module_version": "1.2.0",
            "_view_count": null,
            "flex_flow": null,
            "width": null,
            "min_width": null,
            "border": null,
            "align_items": null,
            "bottom": null,
            "_model_module": "@jupyter-widgets/base",
            "top": null,
            "grid_column": null,
            "overflow_y": null,
            "overflow_x": null,
            "grid_auto_flow": null,
            "grid_area": null,
            "grid_template_columns": null,
            "flex": null,
            "_model_name": "LayoutModel",
            "justify_items": null,
            "grid_row": null,
            "max_height": null,
            "align_content": null,
            "visibility": null,
            "align_self": null,
            "height": null,
            "min_height": null,
            "padding": null,
            "grid_auto_rows": null,
            "grid_gap": null,
            "max_width": null,
            "order": null,
            "_view_module_version": "1.2.0",
            "grid_template_areas": null,
            "object_position": null,
            "object_fit": null,
            "grid_auto_columns": null,
            "margin": null,
            "display": null,
            "left": null
          }
        },
        "19a1bb71111c4aeba2c7fbe6537c45ed": {
          "model_module": "@jupyter-widgets/controls",
          "model_name": "HBoxModel",
          "state": {
            "_view_name": "HBoxView",
            "_dom_classes": [],
            "_model_name": "HBoxModel",
            "_view_module": "@jupyter-widgets/controls",
            "_model_module_version": "1.5.0",
            "_view_count": null,
            "_view_module_version": "1.5.0",
            "box_style": "",
            "layout": "IPY_MODEL_d82ad24dffcd490f873de9479fbaa3d2",
            "_model_module": "@jupyter-widgets/controls",
            "children": [
              "IPY_MODEL_e582927efe094e2b9fbeed4f77bc4553",
              "IPY_MODEL_9251a6e1934543b7a8180a838d8589c1"
            ]
          }
        },
        "d82ad24dffcd490f873de9479fbaa3d2": {
          "model_module": "@jupyter-widgets/base",
          "model_name": "LayoutModel",
          "state": {
            "_view_name": "LayoutView",
            "grid_template_rows": null,
            "right": null,
            "justify_content": null,
            "_view_module": "@jupyter-widgets/base",
            "overflow": null,
            "_model_module_version": "1.2.0",
            "_view_count": null,
            "flex_flow": null,
            "width": null,
            "min_width": null,
            "border": null,
            "align_items": null,
            "bottom": null,
            "_model_module": "@jupyter-widgets/base",
            "top": null,
            "grid_column": null,
            "overflow_y": null,
            "overflow_x": null,
            "grid_auto_flow": null,
            "grid_area": null,
            "grid_template_columns": null,
            "flex": null,
            "_model_name": "LayoutModel",
            "justify_items": null,
            "grid_row": null,
            "max_height": null,
            "align_content": null,
            "visibility": null,
            "align_self": null,
            "height": null,
            "min_height": null,
            "padding": null,
            "grid_auto_rows": null,
            "grid_gap": null,
            "max_width": null,
            "order": null,
            "_view_module_version": "1.2.0",
            "grid_template_areas": null,
            "object_position": null,
            "object_fit": null,
            "grid_auto_columns": null,
            "margin": null,
            "display": null,
            "left": null
          }
        },
        "e582927efe094e2b9fbeed4f77bc4553": {
          "model_module": "@jupyter-widgets/controls",
          "model_name": "FloatProgressModel",
          "state": {
            "_view_name": "ProgressView",
            "style": "IPY_MODEL_8efa5675d0d94ce187c507de419fc73d",
            "_dom_classes": [],
            "description": "",
            "_model_name": "FloatProgressModel",
            "bar_style": "success",
            "max": 1,
            "_view_module": "@jupyter-widgets/controls",
            "_model_module_version": "1.5.0",
            "value": 1,
            "_view_count": null,
            "_view_module_version": "1.5.0",
            "orientation": "horizontal",
            "min": 0,
            "description_tooltip": null,
            "_model_module": "@jupyter-widgets/controls",
            "layout": "IPY_MODEL_ce7eca9e5961416b9fd0bd41f9921bc8"
          }
        },
        "9251a6e1934543b7a8180a838d8589c1": {
          "model_module": "@jupyter-widgets/controls",
          "model_name": "HTMLModel",
          "state": {
            "_view_name": "HTMLView",
            "style": "IPY_MODEL_0b734cd9c2d34465a89b92943ad7ae91",
            "_dom_classes": [],
            "description": "",
            "_model_name": "HTMLModel",
            "placeholder": "​",
            "_view_module": "@jupyter-widgets/controls",
            "_model_module_version": "1.5.0",
            "value": " 134/? [00:26&lt;00:00,  5.02it/s]",
            "_view_count": null,
            "_view_module_version": "1.5.0",
            "description_tooltip": null,
            "_model_module": "@jupyter-widgets/controls",
            "layout": "IPY_MODEL_302b3a927a6d4e638e0f69fb0207a4ec"
          }
        },
        "8efa5675d0d94ce187c507de419fc73d": {
          "model_module": "@jupyter-widgets/controls",
          "model_name": "ProgressStyleModel",
          "state": {
            "_view_name": "StyleView",
            "_model_name": "ProgressStyleModel",
            "description_width": "initial",
            "_view_module": "@jupyter-widgets/base",
            "_model_module_version": "1.5.0",
            "_view_count": null,
            "_view_module_version": "1.2.0",
            "bar_color": null,
            "_model_module": "@jupyter-widgets/controls"
          }
        },
        "ce7eca9e5961416b9fd0bd41f9921bc8": {
          "model_module": "@jupyter-widgets/base",
          "model_name": "LayoutModel",
          "state": {
            "_view_name": "LayoutView",
            "grid_template_rows": null,
            "right": null,
            "justify_content": null,
            "_view_module": "@jupyter-widgets/base",
            "overflow": null,
            "_model_module_version": "1.2.0",
            "_view_count": null,
            "flex_flow": null,
            "width": null,
            "min_width": null,
            "border": null,
            "align_items": null,
            "bottom": null,
            "_model_module": "@jupyter-widgets/base",
            "top": null,
            "grid_column": null,
            "overflow_y": null,
            "overflow_x": null,
            "grid_auto_flow": null,
            "grid_area": null,
            "grid_template_columns": null,
            "flex": null,
            "_model_name": "LayoutModel",
            "justify_items": null,
            "grid_row": null,
            "max_height": null,
            "align_content": null,
            "visibility": null,
            "align_self": null,
            "height": null,
            "min_height": null,
            "padding": null,
            "grid_auto_rows": null,
            "grid_gap": null,
            "max_width": null,
            "order": null,
            "_view_module_version": "1.2.0",
            "grid_template_areas": null,
            "object_position": null,
            "object_fit": null,
            "grid_auto_columns": null,
            "margin": null,
            "display": null,
            "left": null
          }
        },
        "0b734cd9c2d34465a89b92943ad7ae91": {
          "model_module": "@jupyter-widgets/controls",
          "model_name": "DescriptionStyleModel",
          "state": {
            "_view_name": "StyleView",
            "_model_name": "DescriptionStyleModel",
            "description_width": "",
            "_view_module": "@jupyter-widgets/base",
            "_model_module_version": "1.5.0",
            "_view_count": null,
            "_view_module_version": "1.2.0",
            "_model_module": "@jupyter-widgets/controls"
          }
        },
        "302b3a927a6d4e638e0f69fb0207a4ec": {
          "model_module": "@jupyter-widgets/base",
          "model_name": "LayoutModel",
          "state": {
            "_view_name": "LayoutView",
            "grid_template_rows": null,
            "right": null,
            "justify_content": null,
            "_view_module": "@jupyter-widgets/base",
            "overflow": null,
            "_model_module_version": "1.2.0",
            "_view_count": null,
            "flex_flow": null,
            "width": null,
            "min_width": null,
            "border": null,
            "align_items": null,
            "bottom": null,
            "_model_module": "@jupyter-widgets/base",
            "top": null,
            "grid_column": null,
            "overflow_y": null,
            "overflow_x": null,
            "grid_auto_flow": null,
            "grid_area": null,
            "grid_template_columns": null,
            "flex": null,
            "_model_name": "LayoutModel",
            "justify_items": null,
            "grid_row": null,
            "max_height": null,
            "align_content": null,
            "visibility": null,
            "align_self": null,
            "height": null,
            "min_height": null,
            "padding": null,
            "grid_auto_rows": null,
            "grid_gap": null,
            "max_width": null,
            "order": null,
            "_view_module_version": "1.2.0",
            "grid_template_areas": null,
            "object_position": null,
            "object_fit": null,
            "grid_auto_columns": null,
            "margin": null,
            "display": null,
            "left": null
          }
        }
      }
    }
  },
  "cells": [
    {
      "cell_type": "code",
      "metadata": {
        "colab": {
          "base_uri": "https://localhost:8080/"
        },
        "id": "NCV3Pvp-nP1n",
        "outputId": "aa29f1b6-ac76-413c-c690-892ec9f3c5b7"
      },
      "source": [
        "!pip install wfdb"
      ],
      "execution_count": null,
      "outputs": [
        {
          "output_type": "stream",
          "text": [
            "Collecting wfdb\n",
            "\u001b[?25l  Downloading https://files.pythonhosted.org/packages/f1/99/4b4749925cf4123643b512e27710bfaad4f048eba8b840c581780e2aada9/wfdb-3.2.0-py3-none-any.whl (119kB)\n",
            "\r\u001b[K     |██▊                             | 10kB 21.6MB/s eta 0:00:01\r\u001b[K     |█████▌                          | 20kB 28.6MB/s eta 0:00:01\r\u001b[K     |████████▎                       | 30kB 28.0MB/s eta 0:00:01\r\u001b[K     |███████████                     | 40kB 20.0MB/s eta 0:00:01\r\u001b[K     |█████████████▊                  | 51kB 15.6MB/s eta 0:00:01\r\u001b[K     |████████████████▌               | 61kB 17.8MB/s eta 0:00:01\r\u001b[K     |███████████████████▏            | 71kB 14.4MB/s eta 0:00:01\r\u001b[K     |██████████████████████          | 81kB 15.7MB/s eta 0:00:01\r\u001b[K     |████████████████████████▊       | 92kB 15.8MB/s eta 0:00:01\r\u001b[K     |███████████████████████████▍    | 102kB 14.0MB/s eta 0:00:01\r\u001b[K     |██████████████████████████████▏ | 112kB 14.0MB/s eta 0:00:01\r\u001b[K     |████████████████████████████████| 122kB 14.0MB/s \n",
            "\u001b[?25hRequirement already satisfied: kiwisolver>=1.1.0 in /usr/local/lib/python3.6/dist-packages (from wfdb) (1.3.1)\n",
            "Requirement already satisfied: idna>=2.2 in /usr/local/lib/python3.6/dist-packages (from wfdb) (2.10)\n",
            "Requirement already satisfied: pyparsing>=2.0.4 in /usr/local/lib/python3.6/dist-packages (from wfdb) (2.4.7)\n",
            "Requirement already satisfied: pytz>=2017.2 in /usr/local/lib/python3.6/dist-packages (from wfdb) (2018.9)\n",
            "Requirement already satisfied: matplotlib>=2.0.0 in /usr/local/lib/python3.6/dist-packages (from wfdb) (3.2.2)\n",
            "Requirement already satisfied: urllib3>=1.22 in /usr/local/lib/python3.6/dist-packages (from wfdb) (1.24.3)\n",
            "Requirement already satisfied: certifi>=2016.8.2 in /usr/local/lib/python3.6/dist-packages (from wfdb) (2020.12.5)\n",
            "Requirement already satisfied: numpy>=1.10.1 in /usr/local/lib/python3.6/dist-packages (from wfdb) (1.19.5)\n",
            "Requirement already satisfied: scipy>=0.17.0 in /usr/local/lib/python3.6/dist-packages (from wfdb) (1.4.1)\n",
            "Requirement already satisfied: chardet>=3.0.0 in /usr/local/lib/python3.6/dist-packages (from wfdb) (3.0.4)\n",
            "Requirement already satisfied: requests>=2.8.1 in /usr/local/lib/python3.6/dist-packages (from wfdb) (2.23.0)\n",
            "Requirement already satisfied: pandas>=0.17.0 in /usr/local/lib/python3.6/dist-packages (from wfdb) (1.1.5)\n",
            "Collecting threadpoolctl>=1.0.0\n",
            "  Downloading https://files.pythonhosted.org/packages/f7/12/ec3f2e203afa394a149911729357aa48affc59c20e2c1c8297a60f33f133/threadpoolctl-2.1.0-py3-none-any.whl\n",
            "Requirement already satisfied: joblib>=0.11 in /usr/local/lib/python3.6/dist-packages (from wfdb) (1.0.0)\n",
            "Requirement already satisfied: scikit-learn>=0.18 in /usr/local/lib/python3.6/dist-packages (from wfdb) (0.22.2.post1)\n",
            "Requirement already satisfied: cycler>=0.10.0 in /usr/local/lib/python3.6/dist-packages (from wfdb) (0.10.0)\n",
            "Requirement already satisfied: python-dateutil>=2.4.2 in /usr/local/lib/python3.6/dist-packages (from wfdb) (2.8.1)\n",
            "Requirement already satisfied: six in /usr/local/lib/python3.6/dist-packages (from cycler>=0.10.0->wfdb) (1.15.0)\n",
            "Installing collected packages: threadpoolctl, wfdb\n",
            "Successfully installed threadpoolctl-2.1.0 wfdb-3.2.0\n"
          ],
          "name": "stdout"
        }
      ]
    },
    {
      "cell_type": "code",
      "metadata": {
        "id": "O_amojPqnVSQ"
      },
      "source": [
        "from wfdb import io, plot\n",
        "import wfdb\n",
        "import os\n",
        "import gc\n",
        "import numpy as np\n",
        "import matplotlib.pyplot as plt\n",
        "from tqdm import tqdm_notebook as tqdm\n",
        "#%matplotlib notebook\n",
        "import pandas as pd\n",
        "import math\n",
        "from keras.models import Sequential\n",
        "from keras.layers import Dense\n",
        "from keras.layers import Dropout, Input\n",
        "from keras.layers import LSTM\n",
        "from keras.callbacks import ModelCheckpoint\n",
        "from sklearn.utils import shuffle\n",
        "from sklearn.metrics import confusion_matrix\n",
        "import time\n",
        "import keras\n",
        "from keras.optimizers import RMSprop, Adam\n",
        "import pywt\n",
        "from sklearn.model_selection import train_test_split"
      ],
      "execution_count": null,
      "outputs": []
    },
    {
      "cell_type": "code",
      "metadata": {
        "id": "1Tukt5Xuns2s"
      },
      "source": [
        "import tensorflow as tf\n",
        "from sklearn.utils import resample\n",
        "#tf.compat.v1.keras.layers.CuDNNLSTM"
      ],
      "execution_count": null,
      "outputs": []
    },
    {
      "cell_type": "code",
      "metadata": {
        "id": "94nXdaOpn5Pv"
      },
      "source": [
        "def comments_to_dict(comments):\n",
        "    key_value_pairs = [comment.split(':') for comment in comments]\n",
        "    return {pair[0]: pair[1] for pair in key_value_pairs}"
      ],
      "execution_count": null,
      "outputs": []
    },
    {
      "cell_type": "code",
      "metadata": {
        "colab": {
          "base_uri": "https://localhost:8080/"
        },
        "id": "Fdr8g-MWn9cu",
        "outputId": "9aaadb63-49e6-4679-a503-5b13b9b91c8d"
      },
      "source": [
        "from google.colab import drive\n",
        "#drive.flush_and_unmount()\n",
        "drive.mount('/gdrive')"
      ],
      "execution_count": null,
      "outputs": [
        {
          "output_type": "stream",
          "text": [
            "Mounted at /gdrive\n"
          ],
          "name": "stdout"
        }
      ]
    },
    {
      "cell_type": "code",
      "metadata": {
        "id": "79H65n54sjF3"
      },
      "source": [
        "#load data here\n",
        "data_path='/gdrive/My Drive/Data set/ECG/ecg_dataset'"
      ],
      "execution_count": null,
      "outputs": []
    },
    {
      "cell_type": "code",
      "metadata": {
        "id": "eILMw_SvoAa6"
      },
      "source": [
        "data_folder = 'data'\n",
        "db = 'ptbdb'\n",
        "record_names = io.get_record_list(db)"
      ],
      "execution_count": null,
      "outputs": []
    },
    {
      "cell_type": "code",
      "metadata": {
        "id": "QUbW5ppVo5z7"
      },
      "source": [
        "def record_to_row(record, patient_id):\n",
        "    row = {}\n",
        "    row['patient'] = patient_id\n",
        "    row['name'] = record.record_name\n",
        "    row['label'] = comments_to_dict(record.comments)['Reason for admission'][1:]\n",
        "    row['signals'] = record.p_signal\n",
        "    row['signal_length'] = record.sig_len\n",
        "    channels = record.sig_name\n",
        "    signals = record.p_signal.transpose()\n",
        "    \n",
        "    row['channels'] = channels\n",
        "    \n",
        "    for channel, signal in zip(channels, signals):\n",
        "        row[channel] = signal\n",
        "        \n",
        "    return row"
      ],
      "execution_count": null,
      "outputs": []
    },
    {
      "cell_type": "code",
      "metadata": {
        "colab": {
          "base_uri": "https://localhost:8080/",
          "height": 120,
          "referenced_widgets": [
            "5a59b56481e940be8402d6535f1c717f",
            "578df1f3a5f64e0a867059075ba26dec",
            "be8ccfa36a3e453cb30811203f709ae5",
            "8ade23a541ac4340af6247a3e709ea0c",
            "de4db7f7c89946a9b4070010adfd9cad",
            "d59620dec0ed466da338d12bc27a6272",
            "3413411283bd48bbbf9028b79e46f7f9",
            "931bb868fa054cd18727eee57c9f7063"
          ]
        },
        "id": "RdNMPZP0ss5X",
        "outputId": "acfd7179-a4bd-479b-89bf-8efa90beec67"
      },
      "source": [
        "records = []\n",
        "for record_name in tqdm(record_names):\n",
        "    record = io.rdrecord(record_name=os.path.join(data_path, record_name))\n",
        "    label = comments_to_dict(record.comments)['Reason for admission'][1:]\n",
        "    patient = record_name.split('/')[0]\n",
        "    signal_length = record.sig_len\n",
        "    records.append({'name':record_name, 'label':label, 'patient':patient, 'signal_length':signal_length})\n",
        "    \n",
        "channels = record.sig_name\n",
        "df_records = pd.DataFrame(records)"
      ],
      "execution_count": null,
      "outputs": [
        {
          "output_type": "stream",
          "text": [
            "/usr/local/lib/python3.6/dist-packages/ipykernel_launcher.py:2: TqdmDeprecationWarning: This function will be removed in tqdm==5.0.0\n",
            "Please use `tqdm.notebook.tqdm` instead of `tqdm.tqdm_notebook`\n",
            "  \n"
          ],
          "name": "stderr"
        },
        {
          "output_type": "display_data",
          "data": {
            "application/vnd.jupyter.widget-view+json": {
              "model_id": "5a59b56481e940be8402d6535f1c717f",
              "version_minor": 0,
              "version_major": 2
            },
            "text/plain": [
              "HBox(children=(FloatProgress(value=0.0, max=549.0), HTML(value='')))"
            ]
          },
          "metadata": {
            "tags": []
          }
        },
        {
          "output_type": "stream",
          "text": [
            "\n"
          ],
          "name": "stdout"
        }
      ]
    },
    {
      "cell_type": "code",
      "metadata": {
        "colab": {
          "base_uri": "https://localhost:8080/"
        },
        "id": "RtcJzC8g_o7j",
        "outputId": "b255267d-256e-4efd-c56f-3147dcb518e9"
      },
      "source": [
        "df_records.shape"
      ],
      "execution_count": null,
      "outputs": [
        {
          "output_type": "execute_result",
          "data": {
            "text/plain": [
              "(549, 4)"
            ]
          },
          "metadata": {
            "tags": []
          },
          "execution_count": 10
        }
      ]
    },
    {
      "cell_type": "code",
      "metadata": {
        "id": "nHpgY22_1jkK"
      },
      "source": [
        "selected_labels = [\n",
        "    'Healthy control',\n",
        "    'Myocardial infarction'\n",
        "    ]\n",
        "df_selected = df_records.loc[df_records['label'].isin(selected_labels)]\n",
        "label_map = {label: value for label, value in zip(selected_labels, range(len(selected_labels)))}"
      ],
      "execution_count": null,
      "outputs": []
    },
    {
      "cell_type": "code",
      "metadata": {
        "colab": {
          "base_uri": "https://localhost:8080/"
        },
        "id": "W4wDPlGw_vhz",
        "outputId": "dd11cda4-52d1-4963-b476-231fad2e9fe4"
      },
      "source": [
        "df_selected.shape"
      ],
      "execution_count": null,
      "outputs": [
        {
          "output_type": "execute_result",
          "data": {
            "text/plain": [
              "(448, 4)"
            ]
          },
          "metadata": {
            "tags": []
          },
          "execution_count": 12
        }
      ]
    },
    {
      "cell_type": "code",
      "metadata": {
        "id": "6JIUCHaf1o5l"
      },
      "source": [
        "test_patients = []\n",
        "train_patients = []\n",
        "test_size = 0.2\n",
        "channels\n",
        "for label in selected_labels:\n",
        "    df_selected = df_records.loc[df_records['label'] == label]\n",
        "    patients = df_selected['patient'].unique()\n",
        "    n_test = math.ceil(len(patients)*test_size)\n",
        "    test_patients+=list(np.random.choice(patients, n_test, replace=False))\n",
        "    train_patients+=list(patients[np.isin(patients, test_patients, invert=True)])"
      ],
      "execution_count": null,
      "outputs": []
    },
    {
      "cell_type": "code",
      "metadata": {
        "id": "NxLfxdrw9mY3"
      },
      "source": [
        "def make_whole_set(df_data, channels, label_map, record_id,window_size):\n",
        "    n_windows = df_data.shape[0]\n",
        "    \n",
        "    min_length = df_data['signal_length'].min()\n",
        "\n",
        "    if window_size is None:\n",
        "      window_size = min_length\n",
        "\n",
        "    dataX = np.zeros((n_windows, len(channels), window_size))\n",
        "    dataY = np.zeros((n_windows, len(label_map)))\n",
        "    \n",
        "    record_list = []\n",
        "    \n",
        "    nth_window = 0\n",
        "    for i, (patient, record) in enumerate(tqdm(df_data.iterrows())):\n",
        "        # read the record, get the signal data and transpose it\n",
        "        signal_data = io.rdrecord(os.path.join(data_path, record['name'])).p_signal[0:window_size].transpose()\n",
        "       \n",
        "        dataX[i] = np.array(signal_data)\n",
        "        dataY[i][label_map[record.label]] = 1\n",
        "        \n",
        "        \n",
        "        if record_id:\n",
        "            record_list = [record['name']]\n",
        "        \n",
        "    return dataX, dataY, record_list,window_size"
      ],
      "execution_count": null,
      "outputs": []
    },
    {
      "cell_type": "code",
      "metadata": {
        "id": "vZPOWWLt1stX"
      },
      "source": [
        "def make_set(df_data, channels, label_map, record_id, window_size=1024):\n",
        "    n_windows = 0\n",
        "    \n",
        "    for _, record in tqdm(df_data.iterrows()):\n",
        "        n_windows+= record['signal_length']//window_size\n",
        "\n",
        "    dataX = np.zeros((n_windows, len(channels), window_size))\n",
        "    dataY = np.zeros((n_windows, len(label_map)))\n",
        "    \n",
        "    record_list = []\n",
        "    \n",
        "    nth_window = 0\n",
        "    for i, (patient, record) in enumerate(tqdm(df_data.iterrows())):\n",
        "        # read the record, get the signal data and transpose it\n",
        "        signal_data = io.rdrecord(os.path.join(data_path, record['name'])).p_signal.transpose()\n",
        "        n_rows = signal_data.shape[-1]\n",
        "        n_windows = n_rows//window_size\n",
        "        dataX[nth_window:nth_window+n_windows] = np.array([signal_data[:,i*window_size:(i+1)*window_size] for i in range(n_windows)])\n",
        "        dataY[nth_window:nth_window+n_windows][:, label_map[record.label]] = 1\n",
        "        nth_window+=n_windows\n",
        "        \n",
        "        if record_id:\n",
        "            record_list+= n_windows*[record['name']]\n",
        "        \n",
        "    return dataX, dataY, record_list\n",
        "\n",
        "\n",
        "\n",
        "\n",
        "def denoise(data):\n",
        "    # wavedec\n",
        "    coeffs = pywt.wavedec(data=data, wavelet='db8', level=9)\n",
        "    cA9, cD9, cD8, cD7, cD6, cD5, cD4, cD3, cD2, cD1 = coeffs\n",
        "\n",
        "    # threshold\n",
        "    threshold = (np.median(np.abs(cD1)) / 0.6745) * (np.sqrt(2 * np.log(len(cD1))))\n",
        "    cD1.fill(0)\n",
        "    cD2.fill(0)\n",
        "    for i in range(1, len(coeffs) - 2):\n",
        "        coeffs[i] = pywt.threshold(coeffs[i], threshold)\n",
        "\n",
        "    rdata = pywt.waverec(coeffs=coeffs, wavelet='db8')\n",
        "    return rdata"
      ],
      "execution_count": null,
      "outputs": []
    },
    {
      "cell_type": "code",
      "metadata": {
        "id": "ksa1_3Y41vPw"
      },
      "source": [
        "# df_patient_records = df_records.set_index('patient')\n",
        "# df_train_patients = df_patient_records.loc[train_patients]\n",
        "# df_test_patients = df_patient_records.loc[test_patients]\n",
        "# window_size = 1024#df_records['signal_length'].min()\n",
        "# #trainX, trainY, _ = make_set(df_train_patients, channels, label_map, False, window_size)\n",
        "# testX, testY, record_list = make_set(df_test_patients, channels, label_map, True, window_size)"
      ],
      "execution_count": null,
      "outputs": []
    },
    {
      "cell_type": "code",
      "metadata": {
        "id": "4gvcmjyw1yzk"
      },
      "source": [
        "def make_model(input_shape, output_dim, lstm_layer, dropout=0.2):\n",
        "    print(\"model dim: \", input_shape, output_dim)\n",
        "    model = Sequential()\n",
        "    model.add(lstm_layer(256, return_sequences=True, input_shape=input_shape, batch_size=None))\n",
        "    model.add(Dropout(dropout))\n",
        "    model.add(lstm_layer(128, return_sequences=True))\n",
        "    model.add(Dropout(dropout))\n",
        "    model.add(LSTM(64))\n",
        "    model.add(Dropout(dropout))\n",
        "    model.add(Dense(output_dim, activation='softmax'))\n",
        "    model.compile(loss='binary_crossentropy',metrics=[tf.keras.metrics.BinaryAccuracy()] , optimizer='adam')\n",
        "    \n",
        "    return model"
      ],
      "execution_count": null,
      "outputs": []
    },
    {
      "cell_type": "code",
      "metadata": {
        "id": "ePQ8w-9f3kd5"
      },
      "source": [
        "class TimeHistory(keras.callbacks.Callback):\n",
        "    def on_train_begin(self, logs={}):\n",
        "        self.times = []\n",
        "\n",
        "    def on_epoch_begin(self, batch, logs={}):\n",
        "        self.epoch_time_start = time.time()\n",
        "\n",
        "    def on_epoch_end(self, batch, logs={}):\n",
        "        self.times.append(time.time() - self.epoch_time_start)"
      ],
      "execution_count": null,
      "outputs": []
    },
    {
      "cell_type": "code",
      "metadata": {
        "id": "2cfuW5ks5Z6T"
      },
      "source": [
        "np.random.seed(1337)\n",
        "test_patients = []\n",
        "train_patients = []\n",
        "test_size = 0.2\n",
        "channels\n",
        "for label in selected_labels:\n",
        "    df_selected = df_records.loc[df_records['label'] == label]\n",
        "    patients = df_selected['patient'].unique()\n",
        "    n_test = math.ceil(len(patients)*test_size)\n",
        "    test_patients+=list(np.random.choice(patients, n_test, replace=False))\n",
        "    train_patients+=list(patients[np.isin(patients, test_patients, invert=True)])\n",
        "    \n",
        "df_patient_records = df_records.set_index('patient')\n",
        "df_train_patients = df_patient_records.loc[train_patients]\n",
        "df_test_patients = df_patient_records.loc[test_patients]\n",
        "#df_records['signal_length'].min()"
      ],
      "execution_count": null,
      "outputs": []
    },
    {
      "cell_type": "code",
      "metadata": {
        "colab": {
          "base_uri": "https://localhost:8080/"
        },
        "id": "qtwJ0qaOOBli",
        "outputId": "1fc6e317-102c-493e-e563-8e2483226b6e"
      },
      "source": [
        "df_train_patients.label.value_counts()"
      ],
      "execution_count": null,
      "outputs": [
        {
          "output_type": "execute_result",
          "data": {
            "text/plain": [
              "Myocardial infarction    301\n",
              "Healthy control           64\n",
              "Name: label, dtype: int64"
            ]
          },
          "metadata": {
            "tags": []
          },
          "execution_count": 20
        }
      ]
    },
    {
      "cell_type": "code",
      "metadata": {
        "colab": {
          "base_uri": "https://localhost:8080/"
        },
        "id": "rPXt2y_KORmC",
        "outputId": "028e2992-fc08-4a4b-bf06-59a26631edfb"
      },
      "source": [
        "#up sampling the miniority class of train dataset\n",
        "df_train_majority = df_train_patients[df_train_patients.label==\"Myocardial infarction\"]\n",
        "df_train_minority = df_train_patients[df_train_patients.label==\"Healthy control\"]\n",
        "df_train_minority_upsampled = resample(df_train_minority, \n",
        "                                 replace=True,     # sample with replacement\n",
        "                                 n_samples=301,    # to match majority class\n",
        "                                 random_state=123) # reproducible results\n",
        "df_train_patients = pd.concat([df_train_majority, df_train_minority_upsampled])\n",
        "df_train_patients.label.value_counts()"
      ],
      "execution_count": null,
      "outputs": [
        {
          "output_type": "execute_result",
          "data": {
            "text/plain": [
              "Healthy control          301\n",
              "Myocardial infarction    301\n",
              "Name: label, dtype: int64"
            ]
          },
          "metadata": {
            "tags": []
          },
          "execution_count": 21
        }
      ]
    },
    {
      "cell_type": "code",
      "metadata": {
        "colab": {
          "base_uri": "https://localhost:8080/"
        },
        "id": "fxpsO5XVOM4O",
        "outputId": "c72473ef-dc96-4c4e-981f-3bfc071ef81d"
      },
      "source": [
        "df_test_patients.label.value_counts()"
      ],
      "execution_count": null,
      "outputs": [
        {
          "output_type": "execute_result",
          "data": {
            "text/plain": [
              "Myocardial infarction    67\n",
              "Healthy control          16\n",
              "Name: label, dtype: int64"
            ]
          },
          "metadata": {
            "tags": []
          },
          "execution_count": 22
        }
      ]
    },
    {
      "cell_type": "code",
      "metadata": {
        "colab": {
          "base_uri": "https://localhost:8080/"
        },
        "id": "gbSHJyP_PRs-",
        "outputId": "c53f9d3f-000a-4d7e-af0a-0d235d1629a4"
      },
      "source": [
        "#up sampling the miniority class of test dataset\n",
        "df_test_majority = df_test_patients[df_test_patients.label==\"Myocardial infarction\"]\n",
        "df_test_minority = df_test_patients[df_test_patients.label==\"Healthy control\"]\n",
        "df_test_minority_upsampled = resample(df_test_minority, \n",
        "                                 replace=True,     # sample with replacement\n",
        "                                 n_samples=67,    # to match majority class\n",
        "                                 random_state=123) # reproducible results\n",
        "df_test_patients = pd.concat([df_test_majority, df_test_minority_upsampled])\n",
        "df_test_patients.label.value_counts()"
      ],
      "execution_count": null,
      "outputs": [
        {
          "output_type": "execute_result",
          "data": {
            "text/plain": [
              "Myocardial infarction    67\n",
              "Healthy control          67\n",
              "Name: label, dtype: int64"
            ]
          },
          "metadata": {
            "tags": []
          },
          "execution_count": 23
        }
      ]
    },
    {
      "cell_type": "code",
      "metadata": {
        "colab": {
          "base_uri": "https://localhost:8080/",
          "height": 322,
          "referenced_widgets": [
            "471b470e8ed64af5a81fa57f1dc7ead3",
            "e28cbb0fb5964bb1a9ad69bc087b203c",
            "1ae6689e76d44e0db2b847b310259104",
            "f63d08fb75654cbc80c83a2f0ff40cfd",
            "196bcbc3c94344bb8111873709079e2f",
            "87a1a2d2928f43f895d6df5051618671",
            "f8248d7ce36947ce8b6ca8e5ffececdc",
            "0f136bfb59cb4e339b10d526ef69065d",
            "0a0862400fad4c6da6b5c5512542d4ec",
            "38bc3c8cb0d64ec78e3360b1b35c23c6",
            "bbd5e4861a454c928fc1d78516ae6a7d",
            "ae8c1d99ebb34d47909095820cb65f51",
            "39ecccd856ee4fe3b7964f9c635f710f",
            "f9a3521d47c340dc812cd2918aef83b0",
            "6d23d4e2aaf24771991041ae51da6458",
            "a9776b5a62ac49da8ef4a2c5f5d917a4",
            "10bd286a7832417a8b4daa9aa787a946",
            "5309b02a662a4ac6a0432ece0c59b5d0",
            "a73c4a13204a4d949e2899a9f545bfea",
            "dc0c83c16b9f43cfa7142f361ae71bd0",
            "8a6508737be94316a02ef2f22d9f1767",
            "84378476700944feb4297a173e1bd0d4",
            "506164e3e0d4410297f6fe4f65b5bcd1",
            "430d01d516f14dc88a008039817ce510",
            "19a1bb71111c4aeba2c7fbe6537c45ed",
            "d82ad24dffcd490f873de9479fbaa3d2",
            "e582927efe094e2b9fbeed4f77bc4553",
            "9251a6e1934543b7a8180a838d8589c1",
            "8efa5675d0d94ce187c507de419fc73d",
            "ce7eca9e5961416b9fd0bd41f9921bc8",
            "0b734cd9c2d34465a89b92943ad7ae91",
            "302b3a927a6d4e638e0f69fb0207a4ec"
          ]
        },
        "id": "qq3K80hRN_s9",
        "outputId": "8bbc94c9-5186-4643-85fe-6ebd4816d8a2"
      },
      "source": [
        "# trainX, trainY, _,window_size = make_whole_set(df_train_patients, channels, label_map, False, None)\n",
        "\n",
        "# testX, testY, record_list,_ = make_whole_set(df_test_patients, channels, label_map, True, window_size)\n",
        "window_size = 1024\n",
        "trainX, trainY, _ = make_set(df_train_patients, channels, label_map, False, window_size)\n",
        "testX, testY, record_list = make_set(df_test_patients, channels, label_map, True,window_size)\n",
        "\n",
        "#split validation set\n",
        "trainX, valX, trainY, valY = train_test_split(trainX, trainY, test_size=0.25, random_state=1)\n",
        "\n",
        "#Shuffle order of train set\n",
        "trainX, trainY = shuffle(trainX, trainY)\n",
        "\n",
        "#Since we have a large class inbalance we need to udjust the weights for it.\n",
        "fractions = 1-trainY.sum(axis=0)/len(trainY)\n",
        "weights = fractions[trainY.argmax(axis=1)]"
      ],
      "execution_count": null,
      "outputs": [
        {
          "output_type": "stream",
          "text": [
            "/usr/local/lib/python3.6/dist-packages/ipykernel_launcher.py:4: TqdmDeprecationWarning: This function will be removed in tqdm==5.0.0\n",
            "Please use `tqdm.notebook.tqdm` instead of `tqdm.tqdm_notebook`\n",
            "  after removing the cwd from sys.path.\n"
          ],
          "name": "stderr"
        },
        {
          "output_type": "display_data",
          "data": {
            "application/vnd.jupyter.widget-view+json": {
              "model_id": "471b470e8ed64af5a81fa57f1dc7ead3",
              "version_minor": 0,
              "version_major": 2
            },
            "text/plain": [
              "HBox(children=(FloatProgress(value=1.0, bar_style='info', max=1.0), HTML(value='')))"
            ]
          },
          "metadata": {
            "tags": []
          }
        },
        {
          "output_type": "stream",
          "text": [
            "\n"
          ],
          "name": "stdout"
        },
        {
          "output_type": "stream",
          "text": [
            "/usr/local/lib/python3.6/dist-packages/ipykernel_launcher.py:13: TqdmDeprecationWarning: This function will be removed in tqdm==5.0.0\n",
            "Please use `tqdm.notebook.tqdm` instead of `tqdm.tqdm_notebook`\n",
            "  del sys.path[0]\n"
          ],
          "name": "stderr"
        },
        {
          "output_type": "display_data",
          "data": {
            "application/vnd.jupyter.widget-view+json": {
              "model_id": "0a0862400fad4c6da6b5c5512542d4ec",
              "version_minor": 0,
              "version_major": 2
            },
            "text/plain": [
              "HBox(children=(FloatProgress(value=1.0, bar_style='info', max=1.0), HTML(value='')))"
            ]
          },
          "metadata": {
            "tags": []
          }
        },
        {
          "output_type": "stream",
          "text": [
            "\n"
          ],
          "name": "stdout"
        },
        {
          "output_type": "display_data",
          "data": {
            "application/vnd.jupyter.widget-view+json": {
              "model_id": "10bd286a7832417a8b4daa9aa787a946",
              "version_minor": 0,
              "version_major": 2
            },
            "text/plain": [
              "HBox(children=(FloatProgress(value=1.0, bar_style='info', max=1.0), HTML(value='')))"
            ]
          },
          "metadata": {
            "tags": []
          }
        },
        {
          "output_type": "stream",
          "text": [
            "\n"
          ],
          "name": "stdout"
        },
        {
          "output_type": "display_data",
          "data": {
            "application/vnd.jupyter.widget-view+json": {
              "model_id": "19a1bb71111c4aeba2c7fbe6537c45ed",
              "version_minor": 0,
              "version_major": 2
            },
            "text/plain": [
              "HBox(children=(FloatProgress(value=1.0, bar_style='info', max=1.0), HTML(value='')))"
            ]
          },
          "metadata": {
            "tags": []
          }
        },
        {
          "output_type": "stream",
          "text": [
            "\n"
          ],
          "name": "stdout"
        }
      ]
    },
    {
      "cell_type": "code",
      "metadata": {
        "colab": {
          "base_uri": "https://localhost:8080/"
        },
        "id": "kBxzrOnoa5jF",
        "outputId": "3e5ee133-47c2-44de-e7ff-5c414ab7c08e"
      },
      "source": [
        "# trainX, valX, trainY, valY = train_test_split(trainX, trainY, test_size=0.25, random_state=1)\n",
        "# #Since we have a large class inbalance we need to udjust the weights for it.\n",
        "# fractions = 1-trainY.sum(axis=0)/len(trainY)\n",
        "# weights = fractions[trainY.argmax(axis=1)]\n",
        "valX.shape"
      ],
      "execution_count": null,
      "outputs": [
        {
          "output_type": "execute_result",
          "data": {
            "text/plain": [
              "(16813, 15, 1024)"
            ]
          },
          "metadata": {
            "tags": []
          },
          "execution_count": 25
        }
      ]
    },
    {
      "cell_type": "code",
      "metadata": {
        "colab": {
          "base_uri": "https://localhost:8080/"
        },
        "id": "G3RBdaHVB-zU",
        "outputId": "8d5d84c2-0412-4d6c-9dff-ace9bdd04a42"
      },
      "source": [
        "testX.shape"
      ],
      "execution_count": null,
      "outputs": [
        {
          "output_type": "execute_result",
          "data": {
            "text/plain": [
              "(15095, 15, 1024)"
            ]
          },
          "metadata": {
            "tags": []
          },
          "execution_count": 26
        }
      ]
    },
    {
      "cell_type": "code",
      "metadata": {
        "colab": {
          "base_uri": "https://localhost:8080/"
        },
        "id": "3nsfJQV3RfNx",
        "outputId": "f446082c-6f4c-4782-93d5-e5d0d30b26d7"
      },
      "source": [
        "trainX.shape"
      ],
      "execution_count": null,
      "outputs": [
        {
          "output_type": "execute_result",
          "data": {
            "text/plain": [
              "(50438, 15, 1024)"
            ]
          },
          "metadata": {
            "tags": []
          },
          "execution_count": 27
        }
      ]
    },
    {
      "cell_type": "code",
      "metadata": {
        "colab": {
          "base_uri": "https://localhost:8080/"
        },
        "id": "l_vL3dsylSDM",
        "outputId": "920bc068-5801-483c-b524-a62fe7b8c766"
      },
      "source": [
        "trainY.shape"
      ],
      "execution_count": null,
      "outputs": [
        {
          "output_type": "execute_result",
          "data": {
            "text/plain": [
              "(50438, 2)"
            ]
          },
          "metadata": {
            "tags": []
          },
          "execution_count": 29
        }
      ]
    },
    {
      "cell_type": "code",
      "metadata": {
        "colab": {
          "base_uri": "https://localhost:8080/"
        },
        "id": "jhBpkOXlqNdX",
        "outputId": "1ae88fe9-743a-44ee-e20e-33149cf8a5e8"
      },
      "source": [
        "len(weights)"
      ],
      "execution_count": null,
      "outputs": [
        {
          "output_type": "execute_result",
          "data": {
            "text/plain": [
              "50438"
            ]
          },
          "metadata": {
            "tags": []
          },
          "execution_count": 31
        }
      ]
    },
    {
      "cell_type": "code",
      "metadata": {
        "colab": {
          "base_uri": "https://localhost:8080/"
        },
        "id": "hx8Mfhv2IwvC",
        "outputId": "cc4cc775-564f-4c81-e511-e098c66c1468"
      },
      "source": [
        "for i in range(len(trainX)):\n",
        "  for j in range(0,14):\n",
        "    trainX[i][j] = denoise(trainX[i][j])"
      ],
      "execution_count": null,
      "outputs": [
        {
          "output_type": "stream",
          "text": [
            "/usr/local/lib/python3.6/dist-packages/pywt/_multilevel.py:45: UserWarning: Level value of 9 is too high: all coefficients will experience boundary effects.\n",
            "  \"boundary effects.\").format(level))\n"
          ],
          "name": "stderr"
        }
      ]
    },
    {
      "cell_type": "code",
      "metadata": {
        "colab": {
          "base_uri": "https://localhost:8080/"
        },
        "id": "oapbnvJVRWv3",
        "outputId": "fd35fd4f-d4fd-4c77-c408-8d01f330428f"
      },
      "source": [
        "for i in range(len(testX)):\n",
        "  for j in range(0,14):\n",
        "    trainX[i][j] = denoise(trainX[i][j])"
      ],
      "execution_count": null,
      "outputs": [
        {
          "output_type": "stream",
          "text": [
            "/usr/local/lib/python3.6/dist-packages/pywt/_multilevel.py:45: UserWarning: Level value of 9 is too high: all coefficients will experience boundary effects.\n",
            "  \"boundary effects.\").format(level))\n"
          ],
          "name": "stderr"
        }
      ]
    },
    {
      "cell_type": "code",
      "metadata": {
        "colab": {
          "base_uri": "https://localhost:8080/"
        },
        "id": "LAT4-nxauwsp",
        "outputId": "b0066e50-06f6-437d-8c2a-0ecee685dac0"
      },
      "source": [
        "for i in range(len(valX)):\n",
        "  for j in range(0,14):\n",
        "    valX[i][j] = denoise(valX[i][j])"
      ],
      "execution_count": null,
      "outputs": [
        {
          "output_type": "stream",
          "text": [
            "/usr/local/lib/python3.6/dist-packages/pywt/_multilevel.py:45: UserWarning: Level value of 9 is too high: all coefficients will experience boundary effects.\n",
            "  \"boundary effects.\").format(level))\n"
          ],
          "name": "stderr"
        }
      ]
    },
    {
      "cell_type": "code",
      "metadata": {
        "colab": {
          "base_uri": "https://localhost:8080/",
          "height": 374
        },
        "id": "y_iw5t2v-hb7",
        "outputId": "204d3ce3-ac21-44f5-9f04-0a71115f8b36"
      },
      "source": [
        " import matplotlib.pyplot as plt2\n",
        "plt2.figure(figsize=(20,6)) \n",
        "plt2.plot(valX[7][0])\n",
        "plt2.show()\n",
        "#plt2.savefig(\"/gdrive/My Drive/model_output/first_4096.png\")"
      ],
      "execution_count": null,
      "outputs": [
        {
          "output_type": "display_data",
          "data": {
            "image/png": "[encoded data removed]",
            "text/plain": [
              "<Figure size 1440x432 with 1 Axes>"
            ]
          },
          "metadata": {
            "tags": [],
            "needs_background": "light"
          }
        }
      ]
    },
    {
      "cell_type": "code",
      "metadata": {
        "colab": {
          "base_uri": "https://localhost:8080/"
        },
        "id": "7z9cQDFh5gbg",
        "outputId": "d3c126cd-9c12-4e95-a3a6-daa07c76dc33"
      },
      "source": [
        "#  weights = 50438\n",
        "%load_ext tensorboard\n",
        "model_Path = '/gdrive/My Drive/model_output'\n",
        "\n",
        "filepath = os.path.join(model_Path, \"weights-improvement-{epoch:02d}-bigger.hdf5\")\n",
        "checkpoint = ModelCheckpoint(filepath, monitor='loss', verbose=1, save_best_only=True, mode='min')\n",
        "\n",
        "model_name = 'two_classes'\n",
        "model_folder = os.path.join(model_Path,'tensorlogs/'+ model_name + \"-logs/\")\n",
        "\n",
        "if not os.path.isdir(model_folder):\n",
        "    n_logs = 0\n",
        "else:\n",
        "    n_logs = len(os.listdir(model_folder))\n",
        "    \n",
        "tensorboard_logs = os.path.join(model_folder, \"%inth_run\"%n_logs)\n",
        "tensorboard_callback = keras.callbacks.TensorBoard(log_dir=tensorboard_logs, write_graph=False)\n",
        "time_callback = TimeHistory()\n",
        "callbacks = [checkpoint, tensorboard_callback, time_callback]\n",
        "\n",
        "model = make_model((trainX.shape[1], trainX.shape[2]), trainY.shape[-1], LSTM)\n",
        "\n",
        "model.fit(trainX, trainY, validation_data = (valX,valY), epochs=100, batch_size=256,sample_weight=weights, callbacks=callbacks)"
      ],
      "execution_count": null,
      "outputs": [
        {
          "output_type": "stream",
          "text": [
            "The tensorboard extension is already loaded. To reload it, use:\n",
            "  %reload_ext tensorboard\n",
            "model dim:  (15, 1024) 2\n",
            "Epoch 1/100\n",
            "  3/198 [..............................] - ETA: 26s - loss: 0.3464 - binary_accuracy: 0.5035  WARNING:tensorflow:Callback method `on_train_batch_end` is slow compared to the batch time (batch time: 0.0148s vs `on_train_batch_end` time: 0.0400s). Check your callbacks.\n",
            "198/198 [==============================] - 8s 26ms/step - loss: 0.2738 - binary_accuracy: 0.6975 - val_loss: 0.3155 - val_binary_accuracy: 0.8641\n",
            "\n",
            "Epoch 00001: loss improved from inf to 0.22032, saving model to /gdrive/My Drive/model_output/weights-improvement-01-bigger.hdf5\n",
            "Epoch 2/100\n",
            "198/198 [==============================] - 4s 18ms/step - loss: 0.1232 - binary_accuracy: 0.8981 - val_loss: 0.2206 - val_binary_accuracy: 0.9092\n",
            "\n",
            "Epoch 00002: loss improved from 0.22032 to 0.11066, saving model to /gdrive/My Drive/model_output/weights-improvement-02-bigger.hdf5\n",
            "Epoch 3/100\n",
            "198/198 [==============================] - 4s 18ms/step - loss: 0.0776 - binary_accuracy: 0.9377 - val_loss: 0.1747 - val_binary_accuracy: 0.9324\n",
            "\n",
            "Epoch 00003: loss improved from 0.11066 to 0.07086, saving model to /gdrive/My Drive/model_output/weights-improvement-03-bigger.hdf5\n",
            "Epoch 4/100\n",
            "198/198 [==============================] - 4s 18ms/step - loss: 0.0679 - binary_accuracy: 0.9476 - val_loss: 0.1154 - val_binary_accuracy: 0.9577\n",
            "\n",
            "Epoch 00004: loss improved from 0.07086 to 0.05775, saving model to /gdrive/My Drive/model_output/weights-improvement-04-bigger.hdf5\n",
            "Epoch 5/100\n",
            "198/198 [==============================] - 4s 18ms/step - loss: 0.0354 - binary_accuracy: 0.9728 - val_loss: 0.0857 - val_binary_accuracy: 0.9685\n",
            "\n",
            "Epoch 00005: loss improved from 0.05775 to 0.03533, saving model to /gdrive/My Drive/model_output/weights-improvement-05-bigger.hdf5\n",
            "Epoch 6/100\n",
            "198/198 [==============================] - 4s 18ms/step - loss: 0.0287 - binary_accuracy: 0.9784 - val_loss: 0.0882 - val_binary_accuracy: 0.9744\n",
            "\n",
            "Epoch 00006: loss improved from 0.03533 to 0.02962, saving model to /gdrive/My Drive/model_output/weights-improvement-06-bigger.hdf5\n",
            "Epoch 7/100\n",
            "198/198 [==============================] - 4s 18ms/step - loss: 0.0188 - binary_accuracy: 0.9861 - val_loss: 0.0758 - val_binary_accuracy: 0.9756\n",
            "\n",
            "Epoch 00007: loss improved from 0.02962 to 0.02015, saving model to /gdrive/My Drive/model_output/weights-improvement-07-bigger.hdf5\n",
            "Epoch 8/100\n",
            "198/198 [==============================] - 4s 18ms/step - loss: 0.0168 - binary_accuracy: 0.9877 - val_loss: 0.0717 - val_binary_accuracy: 0.9764\n",
            "\n",
            "Epoch 00008: loss improved from 0.02015 to 0.01806, saving model to /gdrive/My Drive/model_output/weights-improvement-08-bigger.hdf5\n",
            "Epoch 9/100\n",
            "198/198 [==============================] - 4s 18ms/step - loss: 0.0168 - binary_accuracy: 0.9882 - val_loss: 0.0839 - val_binary_accuracy: 0.9772\n",
            "\n",
            "Epoch 00009: loss improved from 0.01806 to 0.01708, saving model to /gdrive/My Drive/model_output/weights-improvement-09-bigger.hdf5\n",
            "Epoch 10/100\n",
            "198/198 [==============================] - 4s 18ms/step - loss: 0.0181 - binary_accuracy: 0.9872 - val_loss: 0.0601 - val_binary_accuracy: 0.9827\n",
            "\n",
            "Epoch 00010: loss improved from 0.01708 to 0.01577, saving model to /gdrive/My Drive/model_output/weights-improvement-10-bigger.hdf5\n",
            "Epoch 11/100\n",
            "198/198 [==============================] - 4s 18ms/step - loss: 0.0128 - binary_accuracy: 0.9907 - val_loss: 0.0801 - val_binary_accuracy: 0.9783\n",
            "\n",
            "Epoch 00011: loss improved from 0.01577 to 0.01291, saving model to /gdrive/My Drive/model_output/weights-improvement-11-bigger.hdf5\n",
            "Epoch 12/100\n",
            "198/198 [==============================] - 4s 19ms/step - loss: 0.0100 - binary_accuracy: 0.9928 - val_loss: 0.0681 - val_binary_accuracy: 0.9823\n",
            "\n",
            "Epoch 00012: loss improved from 0.01291 to 0.01076, saving model to /gdrive/My Drive/model_output/weights-improvement-12-bigger.hdf5\n",
            "Epoch 13/100\n",
            "198/198 [==============================] - 4s 19ms/step - loss: 0.0081 - binary_accuracy: 0.9947 - val_loss: 0.0612 - val_binary_accuracy: 0.9835\n",
            "\n",
            "Epoch 00013: loss improved from 0.01076 to 0.00824, saving model to /gdrive/My Drive/model_output/weights-improvement-13-bigger.hdf5\n",
            "Epoch 14/100\n",
            "198/198 [==============================] - 4s 19ms/step - loss: 0.0092 - binary_accuracy: 0.9936 - val_loss: 0.0841 - val_binary_accuracy: 0.9791\n",
            "\n",
            "Epoch 00014: loss did not improve from 0.00824\n",
            "Epoch 15/100\n",
            "198/198 [==============================] - 4s 19ms/step - loss: 0.0078 - binary_accuracy: 0.9949 - val_loss: 0.0452 - val_binary_accuracy: 0.9873\n",
            "\n",
            "Epoch 00015: loss improved from 0.00824 to 0.00733, saving model to /gdrive/My Drive/model_output/weights-improvement-15-bigger.hdf5\n",
            "Epoch 16/100\n",
            "198/198 [==============================] - 4s 18ms/step - loss: 0.0067 - binary_accuracy: 0.9952 - val_loss: 0.0540 - val_binary_accuracy: 0.9850\n",
            "\n",
            "Epoch 00016: loss did not improve from 0.00733\n",
            "Epoch 17/100\n",
            "198/198 [==============================] - 4s 18ms/step - loss: 0.0074 - binary_accuracy: 0.9948 - val_loss: 0.0482 - val_binary_accuracy: 0.9874\n",
            "\n",
            "Epoch 00017: loss did not improve from 0.00733\n",
            "Epoch 18/100\n",
            "198/198 [==============================] - 4s 18ms/step - loss: 0.0076 - binary_accuracy: 0.9943 - val_loss: 0.0638 - val_binary_accuracy: 0.9830\n",
            "\n",
            "Epoch 00018: loss did not improve from 0.00733\n",
            "Epoch 19/100\n",
            "198/198 [==============================] - 4s 18ms/step - loss: 0.0104 - binary_accuracy: 0.9929 - val_loss: 0.0605 - val_binary_accuracy: 0.9835\n",
            "\n",
            "Epoch 00019: loss did not improve from 0.00733\n",
            "Epoch 20/100\n",
            "198/198 [==============================] - 4s 18ms/step - loss: 0.0062 - binary_accuracy: 0.9955 - val_loss: 0.0450 - val_binary_accuracy: 0.9880\n",
            "\n",
            "Epoch 00020: loss improved from 0.00733 to 0.00616, saving model to /gdrive/My Drive/model_output/weights-improvement-20-bigger.hdf5\n",
            "Epoch 21/100\n",
            "198/198 [==============================] - 4s 18ms/step - loss: 0.0049 - binary_accuracy: 0.9965 - val_loss: 0.0679 - val_binary_accuracy: 0.9836\n",
            "\n",
            "Epoch 00021: loss improved from 0.00616 to 0.00599, saving model to /gdrive/My Drive/model_output/weights-improvement-21-bigger.hdf5\n",
            "Epoch 22/100\n",
            "198/198 [==============================] - 4s 18ms/step - loss: 0.0073 - binary_accuracy: 0.9955 - val_loss: 0.0592 - val_binary_accuracy: 0.9855\n",
            "\n",
            "Epoch 00022: loss did not improve from 0.00599\n",
            "Epoch 23/100\n",
            "198/198 [==============================] - 4s 18ms/step - loss: 0.0069 - binary_accuracy: 0.9954 - val_loss: 0.0619 - val_binary_accuracy: 0.9838\n",
            "\n",
            "Epoch 00023: loss did not improve from 0.00599\n",
            "Epoch 24/100\n",
            "198/198 [==============================] - 4s 18ms/step - loss: 0.0056 - binary_accuracy: 0.9965 - val_loss: 0.0556 - val_binary_accuracy: 0.9877\n",
            "\n",
            "Epoch 00024: loss improved from 0.00599 to 0.00556, saving model to /gdrive/My Drive/model_output/weights-improvement-24-bigger.hdf5\n",
            "Epoch 25/100\n",
            "198/198 [==============================] - 4s 18ms/step - loss: 0.0046 - binary_accuracy: 0.9969 - val_loss: 0.0605 - val_binary_accuracy: 0.9844\n",
            "\n",
            "Epoch 00025: loss improved from 0.00556 to 0.00506, saving model to /gdrive/My Drive/model_output/weights-improvement-25-bigger.hdf5\n",
            "Epoch 26/100\n",
            "198/198 [==============================] - 4s 19ms/step - loss: 0.0045 - binary_accuracy: 0.9967 - val_loss: 0.0842 - val_binary_accuracy: 0.9816\n",
            "\n",
            "Epoch 00026: loss did not improve from 0.00506\n",
            "Epoch 27/100\n",
            "198/198 [==============================] - 4s 19ms/step - loss: 0.0054 - binary_accuracy: 0.9968 - val_loss: 0.0525 - val_binary_accuracy: 0.9868\n",
            "\n",
            "Epoch 00027: loss improved from 0.00506 to 0.00497, saving model to /gdrive/My Drive/model_output/weights-improvement-27-bigger.hdf5\n",
            "Epoch 28/100\n",
            "198/198 [==============================] - 4s 18ms/step - loss: 0.0036 - binary_accuracy: 0.9974 - val_loss: 0.0335 - val_binary_accuracy: 0.9905\n",
            "\n",
            "Epoch 00028: loss improved from 0.00497 to 0.00423, saving model to /gdrive/My Drive/model_output/weights-improvement-28-bigger.hdf5\n",
            "Epoch 29/100\n",
            "198/198 [==============================] - 4s 19ms/step - loss: 0.0036 - binary_accuracy: 0.9977 - val_loss: 0.0484 - val_binary_accuracy: 0.9868\n",
            "\n",
            "Epoch 00029: loss did not improve from 0.00423\n",
            "Epoch 30/100\n",
            "198/198 [==============================] - 4s 19ms/step - loss: 0.0048 - binary_accuracy: 0.9964 - val_loss: 0.0533 - val_binary_accuracy: 0.9876\n",
            "\n",
            "Epoch 00030: loss did not improve from 0.00423\n",
            "Epoch 31/100\n",
            "198/198 [==============================] - 4s 18ms/step - loss: 0.0035 - binary_accuracy: 0.9977 - val_loss: 0.0693 - val_binary_accuracy: 0.9819\n",
            "\n",
            "Epoch 00031: loss did not improve from 0.00423\n",
            "Epoch 32/100\n",
            "198/198 [==============================] - 4s 18ms/step - loss: 0.0043 - binary_accuracy: 0.9976 - val_loss: 0.0506 - val_binary_accuracy: 0.9864\n",
            "\n",
            "Epoch 00032: loss did not improve from 0.00423\n",
            "Epoch 33/100\n",
            "198/198 [==============================] - 4s 18ms/step - loss: 0.0041 - binary_accuracy: 0.9969 - val_loss: 0.0542 - val_binary_accuracy: 0.9876\n",
            "\n",
            "Epoch 00033: loss did not improve from 0.00423\n",
            "Epoch 34/100\n",
            "198/198 [==============================] - 4s 19ms/step - loss: 0.0053 - binary_accuracy: 0.9967 - val_loss: 0.0401 - val_binary_accuracy: 0.9890\n",
            "\n",
            "Epoch 00034: loss did not improve from 0.00423\n",
            "Epoch 35/100\n",
            "198/198 [==============================] - 4s 18ms/step - loss: 0.0044 - binary_accuracy: 0.9972 - val_loss: 0.0620 - val_binary_accuracy: 0.9836\n",
            "\n",
            "Epoch 00035: loss did not improve from 0.00423\n",
            "Epoch 36/100\n",
            "198/198 [==============================] - 4s 18ms/step - loss: 0.0051 - binary_accuracy: 0.9968 - val_loss: 0.0430 - val_binary_accuracy: 0.9908\n",
            "\n",
            "Epoch 00036: loss improved from 0.00423 to 0.00372, saving model to /gdrive/My Drive/model_output/weights-improvement-36-bigger.hdf5\n",
            "Epoch 37/100\n",
            "198/198 [==============================] - 4s 18ms/step - loss: 0.0035 - binary_accuracy: 0.9974 - val_loss: 0.0519 - val_binary_accuracy: 0.9875\n",
            "\n",
            "Epoch 00037: loss did not improve from 0.00372\n",
            "Epoch 38/100\n",
            "198/198 [==============================] - 4s 18ms/step - loss: 0.0048 - binary_accuracy: 0.9965 - val_loss: 0.0388 - val_binary_accuracy: 0.9911\n",
            "\n",
            "Epoch 00038: loss did not improve from 0.00372\n",
            "Epoch 39/100\n",
            "198/198 [==============================] - 4s 19ms/step - loss: 0.0023 - binary_accuracy: 0.9984 - val_loss: 0.0481 - val_binary_accuracy: 0.9896\n",
            "\n",
            "Epoch 00039: loss improved from 0.00372 to 0.00321, saving model to /gdrive/My Drive/model_output/weights-improvement-39-bigger.hdf5\n",
            "Epoch 40/100\n",
            "198/198 [==============================] - 4s 19ms/step - loss: 0.0030 - binary_accuracy: 0.9978 - val_loss: 0.0426 - val_binary_accuracy: 0.9905\n",
            "\n",
            "Epoch 00040: loss did not improve from 0.00321\n",
            "Epoch 41/100\n",
            "198/198 [==============================] - 4s 19ms/step - loss: 0.0038 - binary_accuracy: 0.9975 - val_loss: 0.0480 - val_binary_accuracy: 0.9877\n",
            "\n",
            "Epoch 00041: loss did not improve from 0.00321\n",
            "Epoch 42/100\n",
            "198/198 [==============================] - 4s 19ms/step - loss: 0.0048 - binary_accuracy: 0.9969 - val_loss: 0.0374 - val_binary_accuracy: 0.9908\n",
            "\n",
            "Epoch 00042: loss did not improve from 0.00321\n",
            "Epoch 43/100\n",
            "198/198 [==============================] - 4s 19ms/step - loss: 0.0028 - binary_accuracy: 0.9981 - val_loss: 0.0399 - val_binary_accuracy: 0.9912\n",
            "\n",
            "Epoch 00043: loss improved from 0.00321 to 0.00252, saving model to /gdrive/My Drive/model_output/weights-improvement-43-bigger.hdf5\n",
            "Epoch 44/100\n",
            "198/198 [==============================] - 4s 19ms/step - loss: 0.0033 - binary_accuracy: 0.9978 - val_loss: 0.0501 - val_binary_accuracy: 0.9883\n",
            "\n",
            "Epoch 00044: loss did not improve from 0.00252\n",
            "Epoch 45/100\n",
            "198/198 [==============================] - 4s 19ms/step - loss: 0.0034 - binary_accuracy: 0.9976 - val_loss: 0.0426 - val_binary_accuracy: 0.9896\n",
            "\n",
            "Epoch 00045: loss did not improve from 0.00252\n",
            "Epoch 46/100\n",
            "198/198 [==============================] - 4s 19ms/step - loss: 0.0034 - binary_accuracy: 0.9978 - val_loss: 0.0662 - val_binary_accuracy: 0.9841\n",
            "\n",
            "Epoch 00046: loss did not improve from 0.00252\n",
            "Epoch 47/100\n",
            "198/198 [==============================] - 4s 19ms/step - loss: 0.0025 - binary_accuracy: 0.9983 - val_loss: 0.0563 - val_binary_accuracy: 0.9878\n",
            "\n",
            "Epoch 00047: loss improved from 0.00252 to 0.00250, saving model to /gdrive/My Drive/model_output/weights-improvement-47-bigger.hdf5\n",
            "Epoch 48/100\n",
            "198/198 [==============================] - 4s 19ms/step - loss: 0.0048 - binary_accuracy: 0.9967 - val_loss: 0.0451 - val_binary_accuracy: 0.9897\n",
            "\n",
            "Epoch 00048: loss did not improve from 0.00250\n",
            "Epoch 49/100\n",
            "198/198 [==============================] - 4s 19ms/step - loss: 0.0036 - binary_accuracy: 0.9978 - val_loss: 0.0482 - val_binary_accuracy: 0.9892\n",
            "\n",
            "Epoch 00049: loss did not improve from 0.00250\n",
            "Epoch 50/100\n",
            "198/198 [==============================] - 4s 19ms/step - loss: 0.0025 - binary_accuracy: 0.9982 - val_loss: 0.0738 - val_binary_accuracy: 0.9850\n",
            "\n",
            "Epoch 00050: loss did not improve from 0.00250\n",
            "Epoch 51/100\n",
            "198/198 [==============================] - 4s 19ms/step - loss: 0.0046 - binary_accuracy: 0.9965 - val_loss: 0.0641 - val_binary_accuracy: 0.9848\n",
            "\n",
            "Epoch 00051: loss did not improve from 0.00250\n",
            "Epoch 52/100\n",
            "198/198 [==============================] - 4s 19ms/step - loss: 0.0035 - binary_accuracy: 0.9980 - val_loss: 0.0437 - val_binary_accuracy: 0.9907\n",
            "\n",
            "Epoch 00052: loss did not improve from 0.00250\n",
            "Epoch 53/100\n",
            "198/198 [==============================] - 4s 19ms/step - loss: 0.0022 - binary_accuracy: 0.9987 - val_loss: 0.0544 - val_binary_accuracy: 0.9882\n",
            "\n",
            "Epoch 00053: loss improved from 0.00250 to 0.00199, saving model to /gdrive/My Drive/model_output/weights-improvement-53-bigger.hdf5\n",
            "Epoch 54/100\n",
            "198/198 [==============================] - 4s 19ms/step - loss: 0.0031 - binary_accuracy: 0.9979 - val_loss: 0.0347 - val_binary_accuracy: 0.9909\n",
            "\n",
            "Epoch 00054: loss did not improve from 0.00199\n",
            "Epoch 55/100\n",
            "198/198 [==============================] - 4s 19ms/step - loss: 0.0028 - binary_accuracy: 0.9983 - val_loss: 0.0573 - val_binary_accuracy: 0.9872\n",
            "\n",
            "Epoch 00055: loss did not improve from 0.00199\n",
            "Epoch 56/100\n",
            "198/198 [==============================] - 4s 19ms/step - loss: 0.0028 - binary_accuracy: 0.9981 - val_loss: 0.0484 - val_binary_accuracy: 0.9890\n",
            "\n",
            "Epoch 00056: loss did not improve from 0.00199\n",
            "Epoch 57/100\n",
            "198/198 [==============================] - 4s 19ms/step - loss: 0.0031 - binary_accuracy: 0.9980 - val_loss: 0.0588 - val_binary_accuracy: 0.9869\n",
            "\n",
            "Epoch 00057: loss did not improve from 0.00199\n",
            "Epoch 58/100\n",
            "198/198 [==============================] - 4s 19ms/step - loss: 0.0036 - binary_accuracy: 0.9973 - val_loss: 0.0497 - val_binary_accuracy: 0.9892\n",
            "\n",
            "Epoch 00058: loss did not improve from 0.00199\n",
            "Epoch 59/100\n",
            "198/198 [==============================] - 4s 19ms/step - loss: 0.0036 - binary_accuracy: 0.9973 - val_loss: 0.0300 - val_binary_accuracy: 0.9924\n",
            "\n",
            "Epoch 00059: loss did not improve from 0.00199\n",
            "Epoch 60/100\n",
            "198/198 [==============================] - 4s 19ms/step - loss: 0.0019 - binary_accuracy: 0.9988 - val_loss: 0.0405 - val_binary_accuracy: 0.9900\n",
            "\n",
            "Epoch 00060: loss did not improve from 0.00199\n",
            "Epoch 61/100\n",
            "198/198 [==============================] - 4s 19ms/step - loss: 0.0018 - binary_accuracy: 0.9991 - val_loss: 0.0550 - val_binary_accuracy: 0.9884\n",
            "\n",
            "Epoch 00061: loss improved from 0.00199 to 0.00173, saving model to /gdrive/My Drive/model_output/weights-improvement-61-bigger.hdf5\n",
            "Epoch 62/100\n",
            "198/198 [==============================] - 4s 19ms/step - loss: 0.0018 - binary_accuracy: 0.9989 - val_loss: 0.0495 - val_binary_accuracy: 0.9886\n",
            "\n",
            "Epoch 00062: loss did not improve from 0.00173\n",
            "Epoch 63/100\n",
            "198/198 [==============================] - 4s 19ms/step - loss: 0.0075 - binary_accuracy: 0.9950 - val_loss: 0.0419 - val_binary_accuracy: 0.9905\n",
            "\n",
            "Epoch 00063: loss did not improve from 0.00173\n",
            "Epoch 64/100\n",
            "198/198 [==============================] - 4s 19ms/step - loss: 0.0022 - binary_accuracy: 0.9987 - val_loss: 0.0593 - val_binary_accuracy: 0.9888\n",
            "\n",
            "Epoch 00064: loss did not improve from 0.00173\n",
            "Epoch 65/100\n",
            "198/198 [==============================] - 4s 19ms/step - loss: 0.0028 - binary_accuracy: 0.9983 - val_loss: 0.0487 - val_binary_accuracy: 0.9890\n",
            "\n",
            "Epoch 00065: loss did not improve from 0.00173\n",
            "Epoch 66/100\n",
            "198/198 [==============================] - 4s 19ms/step - loss: 0.0024 - binary_accuracy: 0.9985 - val_loss: 0.0454 - val_binary_accuracy: 0.9891\n",
            "\n",
            "Epoch 00066: loss did not improve from 0.00173\n",
            "Epoch 67/100\n",
            "198/198 [==============================] - 4s 19ms/step - loss: 0.0021 - binary_accuracy: 0.9985 - val_loss: 0.0556 - val_binary_accuracy: 0.9892\n",
            "\n",
            "Epoch 00067: loss did not improve from 0.00173\n",
            "Epoch 68/100\n",
            "198/198 [==============================] - 4s 19ms/step - loss: 0.0031 - binary_accuracy: 0.9978 - val_loss: 0.0565 - val_binary_accuracy: 0.9876\n",
            "\n",
            "Epoch 00068: loss did not improve from 0.00173\n",
            "Epoch 69/100\n",
            "198/198 [==============================] - 4s 18ms/step - loss: 0.0033 - binary_accuracy: 0.9980 - val_loss: 0.0531 - val_binary_accuracy: 0.9883\n",
            "\n",
            "Epoch 00069: loss did not improve from 0.00173\n",
            "Epoch 70/100\n",
            "198/198 [==============================] - 4s 19ms/step - loss: 0.0024 - binary_accuracy: 0.9983 - val_loss: 0.0392 - val_binary_accuracy: 0.9912\n",
            "\n",
            "Epoch 00070: loss did not improve from 0.00173\n",
            "Epoch 71/100\n",
            "198/198 [==============================] - 4s 19ms/step - loss: 0.0026 - binary_accuracy: 0.9982 - val_loss: 0.0442 - val_binary_accuracy: 0.9905\n",
            "\n",
            "Epoch 00071: loss did not improve from 0.00173\n",
            "Epoch 72/100\n",
            "198/198 [==============================] - 4s 18ms/step - loss: 0.0016 - binary_accuracy: 0.9991 - val_loss: 0.0693 - val_binary_accuracy: 0.9867\n",
            "\n",
            "Epoch 00072: loss did not improve from 0.00173\n",
            "Epoch 73/100\n",
            "198/198 [==============================] - 4s 19ms/step - loss: 0.0019 - binary_accuracy: 0.9985 - val_loss: 0.0491 - val_binary_accuracy: 0.9888\n",
            "\n",
            "Epoch 00073: loss did not improve from 0.00173\n",
            "Epoch 74/100\n",
            "198/198 [==============================] - 4s 19ms/step - loss: 0.0024 - binary_accuracy: 0.9982 - val_loss: 0.0520 - val_binary_accuracy: 0.9886\n",
            "\n",
            "Epoch 00074: loss did not improve from 0.00173\n",
            "Epoch 75/100\n",
            "198/198 [==============================] - 4s 19ms/step - loss: 0.0013 - binary_accuracy: 0.9992 - val_loss: 0.0496 - val_binary_accuracy: 0.9888\n",
            "\n",
            "Epoch 00075: loss did not improve from 0.00173\n",
            "Epoch 76/100\n",
            "198/198 [==============================] - 4s 19ms/step - loss: 0.0033 - binary_accuracy: 0.9980 - val_loss: 0.0588 - val_binary_accuracy: 0.9883\n",
            "\n",
            "Epoch 00076: loss did not improve from 0.00173\n",
            "Epoch 77/100\n",
            "198/198 [==============================] - 4s 19ms/step - loss: 0.0023 - binary_accuracy: 0.9985 - val_loss: 0.0488 - val_binary_accuracy: 0.9898\n",
            "\n",
            "Epoch 00077: loss did not improve from 0.00173\n",
            "Epoch 78/100\n",
            "198/198 [==============================] - 4s 18ms/step - loss: 0.0015 - binary_accuracy: 0.9991 - val_loss: 0.0477 - val_binary_accuracy: 0.9902\n",
            "\n",
            "Epoch 00078: loss improved from 0.00173 to 0.00173, saving model to /gdrive/My Drive/model_output/weights-improvement-78-bigger.hdf5\n",
            "Epoch 79/100\n",
            "198/198 [==============================] - 4s 19ms/step - loss: 0.0024 - binary_accuracy: 0.9984 - val_loss: 0.0303 - val_binary_accuracy: 0.9928\n",
            "\n",
            "Epoch 00079: loss did not improve from 0.00173\n",
            "Epoch 80/100\n",
            "198/198 [==============================] - 4s 19ms/step - loss: 0.0023 - binary_accuracy: 0.9984 - val_loss: 0.0561 - val_binary_accuracy: 0.9886\n",
            "\n",
            "Epoch 00080: loss did not improve from 0.00173\n",
            "Epoch 81/100\n",
            "198/198 [==============================] - 4s 19ms/step - loss: 0.0028 - binary_accuracy: 0.9981 - val_loss: 0.0365 - val_binary_accuracy: 0.9920\n",
            "\n",
            "Epoch 00081: loss did not improve from 0.00173\n",
            "Epoch 82/100\n",
            "198/198 [==============================] - 4s 19ms/step - loss: 0.0017 - binary_accuracy: 0.9987 - val_loss: 0.0484 - val_binary_accuracy: 0.9899\n",
            "\n",
            "Epoch 00082: loss did not improve from 0.00173\n",
            "Epoch 83/100\n",
            "198/198 [==============================] - 4s 18ms/step - loss: 0.0012 - binary_accuracy: 0.9992 - val_loss: 0.0441 - val_binary_accuracy: 0.9908\n",
            "\n",
            "Epoch 00083: loss improved from 0.00173 to 0.00132, saving model to /gdrive/My Drive/model_output/weights-improvement-83-bigger.hdf5\n",
            "Epoch 84/100\n",
            "198/198 [==============================] - 4s 18ms/step - loss: 0.0020 - binary_accuracy: 0.9987 - val_loss: 0.0550 - val_binary_accuracy: 0.9890\n",
            "\n",
            "Epoch 00084: loss did not improve from 0.00132\n",
            "Epoch 85/100\n",
            "198/198 [==============================] - 4s 18ms/step - loss: 0.0023 - binary_accuracy: 0.9983 - val_loss: 0.0468 - val_binary_accuracy: 0.9904\n",
            "\n",
            "Epoch 00085: loss did not improve from 0.00132\n",
            "Epoch 86/100\n",
            "198/198 [==============================] - 4s 19ms/step - loss: 0.0024 - binary_accuracy: 0.9986 - val_loss: 0.0488 - val_binary_accuracy: 0.9895\n",
            "\n",
            "Epoch 00086: loss did not improve from 0.00132\n",
            "Epoch 87/100\n",
            "198/198 [==============================] - 4s 19ms/step - loss: 0.0025 - binary_accuracy: 0.9984 - val_loss: 0.0415 - val_binary_accuracy: 0.9910\n",
            "\n",
            "Epoch 00087: loss did not improve from 0.00132\n",
            "Epoch 88/100\n",
            "198/198 [==============================] - 4s 19ms/step - loss: 0.0023 - binary_accuracy: 0.9984 - val_loss: 0.0415 - val_binary_accuracy: 0.9923\n",
            "\n",
            "Epoch 00088: loss did not improve from 0.00132\n",
            "Epoch 89/100\n",
            "198/198 [==============================] - 4s 18ms/step - loss: 0.0015 - binary_accuracy: 0.9989 - val_loss: 0.0469 - val_binary_accuracy: 0.9896\n",
            "\n",
            "Epoch 00089: loss did not improve from 0.00132\n",
            "Epoch 90/100\n",
            "198/198 [==============================] - 4s 18ms/step - loss: 0.0014 - binary_accuracy: 0.9995 - val_loss: 0.0422 - val_binary_accuracy: 0.9919\n",
            "\n",
            "Epoch 00090: loss improved from 0.00132 to 0.00119, saving model to /gdrive/My Drive/model_output/weights-improvement-90-bigger.hdf5\n",
            "Epoch 91/100\n",
            "198/198 [==============================] - 4s 19ms/step - loss: 0.0012 - binary_accuracy: 0.9992 - val_loss: 0.0602 - val_binary_accuracy: 0.9885\n",
            "\n",
            "Epoch 00091: loss did not improve from 0.00119\n",
            "Epoch 92/100\n",
            "198/198 [==============================] - 4s 19ms/step - loss: 0.0029 - binary_accuracy: 0.9978 - val_loss: 0.0400 - val_binary_accuracy: 0.9912\n",
            "\n",
            "Epoch 00092: loss did not improve from 0.00119\n",
            "Epoch 93/100\n",
            "198/198 [==============================] - 4s 18ms/step - loss: 0.0025 - binary_accuracy: 0.9983 - val_loss: 0.0401 - val_binary_accuracy: 0.9917\n",
            "\n",
            "Epoch 00093: loss did not improve from 0.00119\n",
            "Epoch 94/100\n",
            "198/198 [==============================] - 4s 19ms/step - loss: 8.9071e-04 - binary_accuracy: 0.9995 - val_loss: 0.0588 - val_binary_accuracy: 0.9880\n",
            "\n",
            "Epoch 00094: loss did not improve from 0.00119\n",
            "Epoch 95/100\n",
            "198/198 [==============================] - 4s 19ms/step - loss: 0.0023 - binary_accuracy: 0.9984 - val_loss: 0.0452 - val_binary_accuracy: 0.9909\n",
            "\n",
            "Epoch 00095: loss did not improve from 0.00119\n",
            "Epoch 96/100\n",
            "198/198 [==============================] - 4s 19ms/step - loss: 0.0026 - binary_accuracy: 0.9982 - val_loss: 0.0482 - val_binary_accuracy: 0.9901\n",
            "\n",
            "Epoch 00096: loss did not improve from 0.00119\n",
            "Epoch 97/100\n",
            "198/198 [==============================] - 4s 18ms/step - loss: 0.0024 - binary_accuracy: 0.9982 - val_loss: 0.0532 - val_binary_accuracy: 0.9889\n",
            "\n",
            "Epoch 00097: loss did not improve from 0.00119\n",
            "Epoch 98/100\n",
            "198/198 [==============================] - 4s 19ms/step - loss: 0.0020 - binary_accuracy: 0.9987 - val_loss: 0.0478 - val_binary_accuracy: 0.9908\n",
            "\n",
            "Epoch 00098: loss did not improve from 0.00119\n",
            "Epoch 99/100\n",
            "198/198 [==============================] - 4s 18ms/step - loss: 0.0012 - binary_accuracy: 0.9992 - val_loss: 0.0424 - val_binary_accuracy: 0.9916\n",
            "\n",
            "Epoch 00099: loss did not improve from 0.00119\n",
            "Epoch 100/100\n",
            "198/198 [==============================] - 4s 18ms/step - loss: 0.0017 - binary_accuracy: 0.9989 - val_loss: 0.0460 - val_binary_accuracy: 0.9914\n",
            "\n",
            "Epoch 00100: loss did not improve from 0.00119\n"
          ],
          "name": "stdout"
        },
        {
          "output_type": "execute_result",
          "data": {
            "text/plain": [
              "<tensorflow.python.keras.callbacks.History at 0x7f0bbd43d160>"
            ]
          },
          "metadata": {
            "tags": []
          },
          "execution_count": 66
        }
      ]
    },
    {
      "cell_type": "code",
      "metadata": {
        "colab": {
          "base_uri": "https://localhost:8080/",
          "height": 35
        },
        "id": "2UBCrfCiDbh4",
        "outputId": "67dd8672-1105-4b3e-d401-ab1c2fd814b0"
      },
      "source": [
        "tensorboard_logs"
      ],
      "execution_count": null,
      "outputs": [
        {
          "output_type": "execute_result",
          "data": {
            "application/vnd.google.colaboratory.intrinsic+json": {
              "type": "string"
            },
            "text/plain": [
              "'/gdrive/My Drive/model_output/tensorlogs/two_classes-logs/3nth_run'"
            ]
          },
          "metadata": {
            "tags": []
          },
          "execution_count": 67
        }
      ]
    },
    {
      "cell_type": "code",
      "metadata": {
        "id": "_hHvY6RnF_uv",
        "colab": {
          "base_uri": "https://localhost:8080/"
        },
        "outputId": "46b2b767-e340-46a2-de57-b5a14413620c"
      },
      "source": [
        "model.summary()"
      ],
      "execution_count": null,
      "outputs": [
        {
          "output_type": "stream",
          "text": [
            "Model: \"sequential\"\n",
            "_________________________________________________________________\n",
            "Layer (type)                 Output Shape              Param #   \n",
            "=================================================================\n",
            "lstm (LSTM)                  (None, 15, 256)           1311744   \n",
            "_________________________________________________________________\n",
            "dropout (Dropout)            (None, 15, 256)           0         \n",
            "_________________________________________________________________\n",
            "lstm_1 (LSTM)                (None, 15, 128)           197120    \n",
            "_________________________________________________________________\n",
            "dropout_1 (Dropout)          (None, 15, 128)           0         \n",
            "_________________________________________________________________\n",
            "lstm_2 (LSTM)                (None, 64)                49408     \n",
            "_________________________________________________________________\n",
            "dropout_2 (Dropout)          (None, 64)                0         \n",
            "_________________________________________________________________\n",
            "dense (Dense)                (None, 2)                 130       \n",
            "=================================================================\n",
            "Total params: 1,558,402\n",
            "Trainable params: 1,558,402\n",
            "Non-trainable params: 0\n",
            "_________________________________________________________________\n"
          ],
          "name": "stdout"
        }
      ]
    },
    {
      "cell_type": "code",
      "metadata": {
        "colab": {
          "base_uri": "https://localhost:8080/"
        },
        "id": "Wy03l1BF5q8l",
        "outputId": "adca8913-316c-4f65-e133-5d0e1547457b"
      },
      "source": [
        "!tensorboard dev upload \\\n",
        "  --logdir /gdrive/My\\ Drive/model_output/tensorlogs/two_classes-logs/3nth_run \\\n",
        "  --name \" 1024 with denoise\" \\\n",
        "  --description \"n_batch = 256,n_epochs = 100,validation\" \\\n",
        "  --one_shot"
      ],
      "execution_count": null,
      "outputs": [
        {
          "output_type": "stream",
          "text": [
            "2021-02-11 06:39:06.676112: I tensorflow/stream_executor/platform/default/dso_loader.cc:49] Successfully opened dynamic library libcudart.so.10.1\n",
            "\n",
            "New experiment created. View your TensorBoard at: https://tensorboard.dev/experiment/coJpqmJ9QeOpwGx2U13N3g/\n",
            "\n",
            "\u001b[1m[2021-02-11T06:39:08]\u001b[0m Started scanning logdir.\n",
            "\u001b[1m[2021-02-11T06:39:09]\u001b[0m Total uploaded: 400 scalars, 0 tensors, 0 binary objects\n",
            "\u001b[1m[2021-02-11T06:39:09]\u001b[0m Done scanning logdir.\n",
            "\n",
            "\n",
            "Done. View your TensorBoard at https://tensorboard.dev/experiment/coJpqmJ9QeOpwGx2U13N3g/\n"
          ],
          "name": "stdout"
        }
      ]
    },
    {
      "cell_type": "code",
      "metadata": {
        "colab": {
          "base_uri": "https://localhost:8080/"
        },
        "id": "SbFqV4mCCoBD",
        "outputId": "c140b3ba-a314-4ddc-90b8-bc77470bdaf5"
      },
      "source": [
        "testX.shape"
      ],
      "execution_count": null,
      "outputs": [
        {
          "output_type": "execute_result",
          "data": {
            "text/plain": [
              "(15095, 15, 1024)"
            ]
          },
          "metadata": {
            "tags": []
          },
          "execution_count": 69
        }
      ]
    },
    {
      "cell_type": "code",
      "metadata": {
        "colab": {
          "base_uri": "https://localhost:8080/"
        },
        "id": "nuhUnnEMEo4w",
        "outputId": "bbbd2365-47ae-4946-9bec-d704ee720d14"
      },
      "source": [
        "output = model.predict_classes(testX)\n",
        "output"
      ],
      "execution_count": null,
      "outputs": [
        {
          "output_type": "stream",
          "text": [
            "/usr/local/lib/python3.6/dist-packages/tensorflow/python/keras/engine/sequential.py:450: UserWarning: `model.predict_classes()` is deprecated and will be removed after 2021-01-01. Please use instead:* `np.argmax(model.predict(x), axis=-1)`,   if your model does multi-class classification   (e.g. if it uses a `softmax` last-layer activation).* `(model.predict(x) > 0.5).astype(\"int32\")`,   if your model does binary classification   (e.g. if it uses a `sigmoid` last-layer activation).\n",
            "  warnings.warn('`model.predict_classes()` is deprecated and '\n"
          ],
          "name": "stderr"
        },
        {
          "output_type": "execute_result",
          "data": {
            "text/plain": [
              "array([1, 1, 1, ..., 0, 0, 0])"
            ]
          },
          "metadata": {
            "tags": []
          },
          "execution_count": 70
        }
      ]
    },
    {
      "cell_type": "code",
      "metadata": {
        "colab": {
          "base_uri": "https://localhost:8080/"
        },
        "id": "G8apJq7DE_mY",
        "outputId": "b7a9f455-dbbf-440d-96af-4ce53507bb79"
      },
      "source": [
        "confusion_matrix(testY.argmax(axis=1), output)"
      ],
      "execution_count": null,
      "outputs": [
        {
          "output_type": "execute_result",
          "data": {
            "text/plain": [
              "array([[5432, 2151],\n",
              "       [ 635, 6877]])"
            ]
          },
          "metadata": {
            "tags": []
          },
          "execution_count": 71
        }
      ]
    },
    {
      "cell_type": "code",
      "metadata": {
        "colab": {
          "base_uri": "https://localhost:8080/"
        },
        "id": "J94Nx-_4OPkV",
        "outputId": "57d7a0bc-065c-435a-ede1-db74d7448530"
      },
      "source": [
        "y_pred = output\n",
        "y_pred"
      ],
      "execution_count": null,
      "outputs": [
        {
          "output_type": "execute_result",
          "data": {
            "text/plain": [
              "array([1, 1, 1, ..., 0, 0, 0])"
            ]
          },
          "metadata": {
            "tags": []
          },
          "execution_count": 72
        }
      ]
    },
    {
      "cell_type": "code",
      "metadata": {
        "colab": {
          "base_uri": "https://localhost:8080/"
        },
        "id": "R_RxrdZUaU_Q",
        "outputId": "2d8f7163-603b-4911-b059-db380a48cdb9"
      },
      "source": [
        "y_true = testY.argmax(axis=1)\n",
        "y_true"
      ],
      "execution_count": null,
      "outputs": [
        {
          "output_type": "execute_result",
          "data": {
            "text/plain": [
              "array([1, 1, 1, ..., 0, 0, 0])"
            ]
          },
          "metadata": {
            "tags": []
          },
          "execution_count": 73
        }
      ]
    },
    {
      "cell_type": "code",
      "metadata": {
        "colab": {
          "base_uri": "https://localhost:8080/"
        },
        "id": "qE3te0brNLFo",
        "outputId": "9c361950-36d5-4f60-c402-464c8a488100"
      },
      "source": [
        "from sklearn.metrics import classification_report\n",
        "print(classification_report(y_true, y_pred, labels=[0,1]))"
      ],
      "execution_count": null,
      "outputs": [
        {
          "output_type": "stream",
          "text": [
            "              precision    recall  f1-score   support\n",
            "\n",
            "           0       0.90      0.72      0.80      7583\n",
            "           1       0.76      0.92      0.83      7512\n",
            "\n",
            "    accuracy                           0.82     15095\n",
            "   macro avg       0.83      0.82      0.81     15095\n",
            "weighted avg       0.83      0.82      0.81     15095\n",
            "\n"
          ],
          "name": "stdout"
        }
      ]
    },
    {
      "cell_type": "code",
      "metadata": {
        "colab": {
          "base_uri": "https://localhost:8080/"
        },
        "id": "udTiQvRHLiKG",
        "outputId": "2eed9675-5465-473a-f8f7-6d16ed0e0706"
      },
      "source": [
        "testY"
      ],
      "execution_count": null,
      "outputs": [
        {
          "output_type": "execute_result",
          "data": {
            "text/plain": [
              "array([[0., 1.],\n",
              "       [0., 1.],\n",
              "       [0., 1.],\n",
              "       ...,\n",
              "       [1., 0.],\n",
              "       [1., 0.],\n",
              "       [1., 0.]])"
            ]
          },
          "metadata": {
            "tags": []
          },
          "execution_count": 75
        }
      ]
    },
    {
      "cell_type": "code",
      "metadata": {
        "colab": {
          "base_uri": "https://localhost:8080/"
        },
        "id": "Fbju440yFDnN",
        "outputId": "bf962be9-c00b-417f-f211-01cdca4c02ad"
      },
      "source": [
        "(output == testY.argmax(axis=1)).sum()/len(output)"
      ],
      "execution_count": null,
      "outputs": [
        {
          "output_type": "execute_result",
          "data": {
            "text/plain": [
              "0.8154355746936072"
            ]
          },
          "metadata": {
            "tags": []
          },
          "execution_count": 76
        }
      ]
    },
    {
      "cell_type": "code",
      "metadata": {
        "colab": {
          "base_uri": "https://localhost:8080/"
        },
        "id": "OsgCygylFGpK",
        "outputId": "82229d18-9d81-45d4-c00c-ebbb5391385a"
      },
      "source": [
        "summed = pd.DataFrame({'record':record_list, 'predictions':output, 'label':testY.argmax(axis=1)}).groupby('record').mean()\n",
        "control = summed.loc[summed['label'] == 0]\n",
        "#print(control)\n",
        "print(\"Healthy control accuracy: \"+  str((control['predictions'] <= 0.5).sum()/control.shape[0]))\n",
        "\n",
        "infarct = summed.loc[summed['label'] == 1]\n",
        "#print(infarct)\n",
        "print(\"Myocardial infarction accuracy: \"+  str((infarct['predictions'] > 0.5).sum()/infarct.shape[0]))"
      ],
      "execution_count": null,
      "outputs": [
        {
          "output_type": "stream",
          "text": [
            "Healthy control accuracy: 0.8125\n",
            "Myocardial infarction accuracy: 0.9552238805970149\n"
          ],
          "name": "stdout"
        }
      ]
    },
    {
      "cell_type": "code",
      "metadata": {
        "id": "MomraNrVFQWI"
      },
      "source": [
        ""
      ],
      "execution_count": null,
      "outputs": []
    }
  ]
}