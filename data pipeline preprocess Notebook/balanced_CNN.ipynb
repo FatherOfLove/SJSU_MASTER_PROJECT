{
  "nbformat": 4,
  "nbformat_minor": 0,
  "metadata": {
    "colab": {
      "name": "balanced_CNN.ipynb",
      "provenance": [],
      "collapsed_sections": [],
      "machine_shape": "hm"
    },
    "kernelspec": {
      "name": "python3",
      "display_name": "Python 3"
    },
    "accelerator": "GPU",
    "widgets": {
      "application/vnd.jupyter.widget-state+json": {
        "253f8a004df244c6a90d843b56d5af00": {
          "model_module": "@jupyter-widgets/controls",
          "model_name": "HBoxModel",
          "state": {
            "_view_name": "HBoxView",
            "_dom_classes": [],
            "_model_name": "HBoxModel",
            "_view_module": "@jupyter-widgets/controls",
            "_model_module_version": "1.5.0",
            "_view_count": null,
            "_view_module_version": "1.5.0",
            "box_style": "",
            "layout": "IPY_MODEL_c7bb6d21ed1d4fe0a4d6ffd390102902",
            "_model_module": "@jupyter-widgets/controls",
            "children": [
              "IPY_MODEL_531574b864934872a220b784fd95da6e",
              "IPY_MODEL_aad11eb060e34fe89ee929beee28f4a4"
            ]
          }
        },
        "c7bb6d21ed1d4fe0a4d6ffd390102902": {
          "model_module": "@jupyter-widgets/base",
          "model_name": "LayoutModel",
          "state": {
            "_view_name": "LayoutView",
            "grid_template_rows": null,
            "right": null,
            "justify_content": null,
            "_view_module": "@jupyter-widgets/base",
            "overflow": null,
            "_model_module_version": "1.2.0",
            "_view_count": null,
            "flex_flow": null,
            "width": null,
            "min_width": null,
            "border": null,
            "align_items": null,
            "bottom": null,
            "_model_module": "@jupyter-widgets/base",
            "top": null,
            "grid_column": null,
            "overflow_y": null,
            "overflow_x": null,
            "grid_auto_flow": null,
            "grid_area": null,
            "grid_template_columns": null,
            "flex": null,
            "_model_name": "LayoutModel",
            "justify_items": null,
            "grid_row": null,
            "max_height": null,
            "align_content": null,
            "visibility": null,
            "align_self": null,
            "height": null,
            "min_height": null,
            "padding": null,
            "grid_auto_rows": null,
            "grid_gap": null,
            "max_width": null,
            "order": null,
            "_view_module_version": "1.2.0",
            "grid_template_areas": null,
            "object_position": null,
            "object_fit": null,
            "grid_auto_columns": null,
            "margin": null,
            "display": null,
            "left": null
          }
        },
        "531574b864934872a220b784fd95da6e": {
          "model_module": "@jupyter-widgets/controls",
          "model_name": "FloatProgressModel",
          "state": {
            "_view_name": "ProgressView",
            "style": "IPY_MODEL_7ac306ebb65844a1b8029bc487092a2a",
            "_dom_classes": [],
            "description": "100%",
            "_model_name": "FloatProgressModel",
            "bar_style": "success",
            "max": 549,
            "_view_module": "@jupyter-widgets/controls",
            "_model_module_version": "1.5.0",
            "value": 549,
            "_view_count": null,
            "_view_module_version": "1.5.0",
            "orientation": "horizontal",
            "min": 0,
            "description_tooltip": null,
            "_model_module": "@jupyter-widgets/controls",
            "layout": "IPY_MODEL_2cce0a59fc034af7b1b2fede562b0117"
          }
        },
        "aad11eb060e34fe89ee929beee28f4a4": {
          "model_module": "@jupyter-widgets/controls",
          "model_name": "HTMLModel",
          "state": {
            "_view_name": "HTMLView",
            "style": "IPY_MODEL_c69156ff8fe24cec8149d3593a0e3af4",
            "_dom_classes": [],
            "description": "",
            "_model_name": "HTMLModel",
            "placeholder": "​",
            "_view_module": "@jupyter-widgets/controls",
            "_model_module_version": "1.5.0",
            "value": " 549/549 [18:28&lt;00:00,  2.02s/it]",
            "_view_count": null,
            "_view_module_version": "1.5.0",
            "description_tooltip": null,
            "_model_module": "@jupyter-widgets/controls",
            "layout": "IPY_MODEL_9db6f325225d4c9898a5ac67f9fa95fb"
          }
        },
        "7ac306ebb65844a1b8029bc487092a2a": {
          "model_module": "@jupyter-widgets/controls",
          "model_name": "ProgressStyleModel",
          "state": {
            "_view_name": "StyleView",
            "_model_name": "ProgressStyleModel",
            "description_width": "initial",
            "_view_module": "@jupyter-widgets/base",
            "_model_module_version": "1.5.0",
            "_view_count": null,
            "_view_module_version": "1.2.0",
            "bar_color": null,
            "_model_module": "@jupyter-widgets/controls"
          }
        },
        "2cce0a59fc034af7b1b2fede562b0117": {
          "model_module": "@jupyter-widgets/base",
          "model_name": "LayoutModel",
          "state": {
            "_view_name": "LayoutView",
            "grid_template_rows": null,
            "right": null,
            "justify_content": null,
            "_view_module": "@jupyter-widgets/base",
            "overflow": null,
            "_model_module_version": "1.2.0",
            "_view_count": null,
            "flex_flow": null,
            "width": null,
            "min_width": null,
            "border": null,
            "align_items": null,
            "bottom": null,
            "_model_module": "@jupyter-widgets/base",
            "top": null,
            "grid_column": null,
            "overflow_y": null,
            "overflow_x": null,
            "grid_auto_flow": null,
            "grid_area": null,
            "grid_template_columns": null,
            "flex": null,
            "_model_name": "LayoutModel",
            "justify_items": null,
            "grid_row": null,
            "max_height": null,
            "align_content": null,
            "visibility": null,
            "align_self": null,
            "height": null,
            "min_height": null,
            "padding": null,
            "grid_auto_rows": null,
            "grid_gap": null,
            "max_width": null,
            "order": null,
            "_view_module_version": "1.2.0",
            "grid_template_areas": null,
            "object_position": null,
            "object_fit": null,
            "grid_auto_columns": null,
            "margin": null,
            "display": null,
            "left": null
          }
        },
        "c69156ff8fe24cec8149d3593a0e3af4": {
          "model_module": "@jupyter-widgets/controls",
          "model_name": "DescriptionStyleModel",
          "state": {
            "_view_name": "StyleView",
            "_model_name": "DescriptionStyleModel",
            "description_width": "",
            "_view_module": "@jupyter-widgets/base",
            "_model_module_version": "1.5.0",
            "_view_count": null,
            "_view_module_version": "1.2.0",
            "_model_module": "@jupyter-widgets/controls"
          }
        },
        "9db6f325225d4c9898a5ac67f9fa95fb": {
          "model_module": "@jupyter-widgets/base",
          "model_name": "LayoutModel",
          "state": {
            "_view_name": "LayoutView",
            "grid_template_rows": null,
            "right": null,
            "justify_content": null,
            "_view_module": "@jupyter-widgets/base",
            "overflow": null,
            "_model_module_version": "1.2.0",
            "_view_count": null,
            "flex_flow": null,
            "width": null,
            "min_width": null,
            "border": null,
            "align_items": null,
            "bottom": null,
            "_model_module": "@jupyter-widgets/base",
            "top": null,
            "grid_column": null,
            "overflow_y": null,
            "overflow_x": null,
            "grid_auto_flow": null,
            "grid_area": null,
            "grid_template_columns": null,
            "flex": null,
            "_model_name": "LayoutModel",
            "justify_items": null,
            "grid_row": null,
            "max_height": null,
            "align_content": null,
            "visibility": null,
            "align_self": null,
            "height": null,
            "min_height": null,
            "padding": null,
            "grid_auto_rows": null,
            "grid_gap": null,
            "max_width": null,
            "order": null,
            "_view_module_version": "1.2.0",
            "grid_template_areas": null,
            "object_position": null,
            "object_fit": null,
            "grid_auto_columns": null,
            "margin": null,
            "display": null,
            "left": null
          }
        },
        "4f0697e78b2d47a4a586361b76a8438f": {
          "model_module": "@jupyter-widgets/controls",
          "model_name": "HBoxModel",
          "state": {
            "_view_name": "HBoxView",
            "_dom_classes": [],
            "_model_name": "HBoxModel",
            "_view_module": "@jupyter-widgets/controls",
            "_model_module_version": "1.5.0",
            "_view_count": null,
            "_view_module_version": "1.5.0",
            "box_style": "",
            "layout": "IPY_MODEL_2bae84fde7d44c9f982022fb10a4f411",
            "_model_module": "@jupyter-widgets/controls",
            "children": [
              "IPY_MODEL_df2d929ca78d49a9b6f482abdc3cb747",
              "IPY_MODEL_c2673f9f4e4e497185bdd88e5571f9a4"
            ]
          }
        },
        "2bae84fde7d44c9f982022fb10a4f411": {
          "model_module": "@jupyter-widgets/base",
          "model_name": "LayoutModel",
          "state": {
            "_view_name": "LayoutView",
            "grid_template_rows": null,
            "right": null,
            "justify_content": null,
            "_view_module": "@jupyter-widgets/base",
            "overflow": null,
            "_model_module_version": "1.2.0",
            "_view_count": null,
            "flex_flow": null,
            "width": null,
            "min_width": null,
            "border": null,
            "align_items": null,
            "bottom": null,
            "_model_module": "@jupyter-widgets/base",
            "top": null,
            "grid_column": null,
            "overflow_y": null,
            "overflow_x": null,
            "grid_auto_flow": null,
            "grid_area": null,
            "grid_template_columns": null,
            "flex": null,
            "_model_name": "LayoutModel",
            "justify_items": null,
            "grid_row": null,
            "max_height": null,
            "align_content": null,
            "visibility": null,
            "align_self": null,
            "height": null,
            "min_height": null,
            "padding": null,
            "grid_auto_rows": null,
            "grid_gap": null,
            "max_width": null,
            "order": null,
            "_view_module_version": "1.2.0",
            "grid_template_areas": null,
            "object_position": null,
            "object_fit": null,
            "grid_auto_columns": null,
            "margin": null,
            "display": null,
            "left": null
          }
        },
        "df2d929ca78d49a9b6f482abdc3cb747": {
          "model_module": "@jupyter-widgets/controls",
          "model_name": "FloatProgressModel",
          "state": {
            "_view_name": "ProgressView",
            "style": "IPY_MODEL_faec4c00f1454840961a4a810bfb280b",
            "_dom_classes": [],
            "description": "",
            "_model_name": "FloatProgressModel",
            "bar_style": "success",
            "max": 1,
            "_view_module": "@jupyter-widgets/controls",
            "_model_module_version": "1.5.0",
            "value": 1,
            "_view_count": null,
            "_view_module_version": "1.5.0",
            "orientation": "horizontal",
            "min": 0,
            "description_tooltip": null,
            "_model_module": "@jupyter-widgets/controls",
            "layout": "IPY_MODEL_4cecc6433ab04d9bb2f076e59198645d"
          }
        },
        "c2673f9f4e4e497185bdd88e5571f9a4": {
          "model_module": "@jupyter-widgets/controls",
          "model_name": "HTMLModel",
          "state": {
            "_view_name": "HTMLView",
            "style": "IPY_MODEL_f565d65f4f874b90813c49945a8199d0",
            "_dom_classes": [],
            "description": "",
            "_model_name": "HTMLModel",
            "placeholder": "​",
            "_view_module": "@jupyter-widgets/controls",
            "_model_module_version": "1.5.0",
            "value": " 602/? [00:15&lt;00:00, 37.93it/s]",
            "_view_count": null,
            "_view_module_version": "1.5.0",
            "description_tooltip": null,
            "_model_module": "@jupyter-widgets/controls",
            "layout": "IPY_MODEL_9fff664a24f346a694d052475b59fe0c"
          }
        },
        "faec4c00f1454840961a4a810bfb280b": {
          "model_module": "@jupyter-widgets/controls",
          "model_name": "ProgressStyleModel",
          "state": {
            "_view_name": "StyleView",
            "_model_name": "ProgressStyleModel",
            "description_width": "initial",
            "_view_module": "@jupyter-widgets/base",
            "_model_module_version": "1.5.0",
            "_view_count": null,
            "_view_module_version": "1.2.0",
            "bar_color": null,
            "_model_module": "@jupyter-widgets/controls"
          }
        },
        "4cecc6433ab04d9bb2f076e59198645d": {
          "model_module": "@jupyter-widgets/base",
          "model_name": "LayoutModel",
          "state": {
            "_view_name": "LayoutView",
            "grid_template_rows": null,
            "right": null,
            "justify_content": null,
            "_view_module": "@jupyter-widgets/base",
            "overflow": null,
            "_model_module_version": "1.2.0",
            "_view_count": null,
            "flex_flow": null,
            "width": null,
            "min_width": null,
            "border": null,
            "align_items": null,
            "bottom": null,
            "_model_module": "@jupyter-widgets/base",
            "top": null,
            "grid_column": null,
            "overflow_y": null,
            "overflow_x": null,
            "grid_auto_flow": null,
            "grid_area": null,
            "grid_template_columns": null,
            "flex": null,
            "_model_name": "LayoutModel",
            "justify_items": null,
            "grid_row": null,
            "max_height": null,
            "align_content": null,
            "visibility": null,
            "align_self": null,
            "height": null,
            "min_height": null,
            "padding": null,
            "grid_auto_rows": null,
            "grid_gap": null,
            "max_width": null,
            "order": null,
            "_view_module_version": "1.2.0",
            "grid_template_areas": null,
            "object_position": null,
            "object_fit": null,
            "grid_auto_columns": null,
            "margin": null,
            "display": null,
            "left": null
          }
        },
        "f565d65f4f874b90813c49945a8199d0": {
          "model_module": "@jupyter-widgets/controls",
          "model_name": "DescriptionStyleModel",
          "state": {
            "_view_name": "StyleView",
            "_model_name": "DescriptionStyleModel",
            "description_width": "",
            "_view_module": "@jupyter-widgets/base",
            "_model_module_version": "1.5.0",
            "_view_count": null,
            "_view_module_version": "1.2.0",
            "_model_module": "@jupyter-widgets/controls"
          }
        },
        "9fff664a24f346a694d052475b59fe0c": {
          "model_module": "@jupyter-widgets/base",
          "model_name": "LayoutModel",
          "state": {
            "_view_name": "LayoutView",
            "grid_template_rows": null,
            "right": null,
            "justify_content": null,
            "_view_module": "@jupyter-widgets/base",
            "overflow": null,
            "_model_module_version": "1.2.0",
            "_view_count": null,
            "flex_flow": null,
            "width": null,
            "min_width": null,
            "border": null,
            "align_items": null,
            "bottom": null,
            "_model_module": "@jupyter-widgets/base",
            "top": null,
            "grid_column": null,
            "overflow_y": null,
            "overflow_x": null,
            "grid_auto_flow": null,
            "grid_area": null,
            "grid_template_columns": null,
            "flex": null,
            "_model_name": "LayoutModel",
            "justify_items": null,
            "grid_row": null,
            "max_height": null,
            "align_content": null,
            "visibility": null,
            "align_self": null,
            "height": null,
            "min_height": null,
            "padding": null,
            "grid_auto_rows": null,
            "grid_gap": null,
            "max_width": null,
            "order": null,
            "_view_module_version": "1.2.0",
            "grid_template_areas": null,
            "object_position": null,
            "object_fit": null,
            "grid_auto_columns": null,
            "margin": null,
            "display": null,
            "left": null
          }
        },
        "a2f8f791c5944d208aeec49d57efc8c0": {
          "model_module": "@jupyter-widgets/controls",
          "model_name": "HBoxModel",
          "state": {
            "_view_name": "HBoxView",
            "_dom_classes": [],
            "_model_name": "HBoxModel",
            "_view_module": "@jupyter-widgets/controls",
            "_model_module_version": "1.5.0",
            "_view_count": null,
            "_view_module_version": "1.5.0",
            "box_style": "",
            "layout": "IPY_MODEL_1cf742253612477b87444a011661777e",
            "_model_module": "@jupyter-widgets/controls",
            "children": [
              "IPY_MODEL_9fd021c4b0694e2195eb306a9b4e05f0",
              "IPY_MODEL_5a68e860f046489b817352f8e2c27153"
            ]
          }
        },
        "1cf742253612477b87444a011661777e": {
          "model_module": "@jupyter-widgets/base",
          "model_name": "LayoutModel",
          "state": {
            "_view_name": "LayoutView",
            "grid_template_rows": null,
            "right": null,
            "justify_content": null,
            "_view_module": "@jupyter-widgets/base",
            "overflow": null,
            "_model_module_version": "1.2.0",
            "_view_count": null,
            "flex_flow": null,
            "width": null,
            "min_width": null,
            "border": null,
            "align_items": null,
            "bottom": null,
            "_model_module": "@jupyter-widgets/base",
            "top": null,
            "grid_column": null,
            "overflow_y": null,
            "overflow_x": null,
            "grid_auto_flow": null,
            "grid_area": null,
            "grid_template_columns": null,
            "flex": null,
            "_model_name": "LayoutModel",
            "justify_items": null,
            "grid_row": null,
            "max_height": null,
            "align_content": null,
            "visibility": null,
            "align_self": null,
            "height": null,
            "min_height": null,
            "padding": null,
            "grid_auto_rows": null,
            "grid_gap": null,
            "max_width": null,
            "order": null,
            "_view_module_version": "1.2.0",
            "grid_template_areas": null,
            "object_position": null,
            "object_fit": null,
            "grid_auto_columns": null,
            "margin": null,
            "display": null,
            "left": null
          }
        },
        "9fd021c4b0694e2195eb306a9b4e05f0": {
          "model_module": "@jupyter-widgets/controls",
          "model_name": "FloatProgressModel",
          "state": {
            "_view_name": "ProgressView",
            "style": "IPY_MODEL_20a54eba36284826abcb9b69c63bc529",
            "_dom_classes": [],
            "description": "",
            "_model_name": "FloatProgressModel",
            "bar_style": "success",
            "max": 1,
            "_view_module": "@jupyter-widgets/controls",
            "_model_module_version": "1.5.0",
            "value": 1,
            "_view_count": null,
            "_view_module_version": "1.5.0",
            "orientation": "horizontal",
            "min": 0,
            "description_tooltip": null,
            "_model_module": "@jupyter-widgets/controls",
            "layout": "IPY_MODEL_f9222b23156e4c0db9786ef97f3239ea"
          }
        },
        "5a68e860f046489b817352f8e2c27153": {
          "model_module": "@jupyter-widgets/controls",
          "model_name": "HTMLModel",
          "state": {
            "_view_name": "HTMLView",
            "style": "IPY_MODEL_200da325daee40d8bc728e312430ad28",
            "_dom_classes": [],
            "description": "",
            "_model_name": "HTMLModel",
            "placeholder": "​",
            "_view_module": "@jupyter-widgets/controls",
            "_model_module_version": "1.5.0",
            "value": " 134/? [00:27&lt;00:00,  4.82it/s]",
            "_view_count": null,
            "_view_module_version": "1.5.0",
            "description_tooltip": null,
            "_model_module": "@jupyter-widgets/controls",
            "layout": "IPY_MODEL_e34faeaec61645768b2503ccc03ab663"
          }
        },
        "20a54eba36284826abcb9b69c63bc529": {
          "model_module": "@jupyter-widgets/controls",
          "model_name": "ProgressStyleModel",
          "state": {
            "_view_name": "StyleView",
            "_model_name": "ProgressStyleModel",
            "description_width": "initial",
            "_view_module": "@jupyter-widgets/base",
            "_model_module_version": "1.5.0",
            "_view_count": null,
            "_view_module_version": "1.2.0",
            "bar_color": null,
            "_model_module": "@jupyter-widgets/controls"
          }
        },
        "f9222b23156e4c0db9786ef97f3239ea": {
          "model_module": "@jupyter-widgets/base",
          "model_name": "LayoutModel",
          "state": {
            "_view_name": "LayoutView",
            "grid_template_rows": null,
            "right": null,
            "justify_content": null,
            "_view_module": "@jupyter-widgets/base",
            "overflow": null,
            "_model_module_version": "1.2.0",
            "_view_count": null,
            "flex_flow": null,
            "width": null,
            "min_width": null,
            "border": null,
            "align_items": null,
            "bottom": null,
            "_model_module": "@jupyter-widgets/base",
            "top": null,
            "grid_column": null,
            "overflow_y": null,
            "overflow_x": null,
            "grid_auto_flow": null,
            "grid_area": null,
            "grid_template_columns": null,
            "flex": null,
            "_model_name": "LayoutModel",
            "justify_items": null,
            "grid_row": null,
            "max_height": null,
            "align_content": null,
            "visibility": null,
            "align_self": null,
            "height": null,
            "min_height": null,
            "padding": null,
            "grid_auto_rows": null,
            "grid_gap": null,
            "max_width": null,
            "order": null,
            "_view_module_version": "1.2.0",
            "grid_template_areas": null,
            "object_position": null,
            "object_fit": null,
            "grid_auto_columns": null,
            "margin": null,
            "display": null,
            "left": null
          }
        },
        "200da325daee40d8bc728e312430ad28": {
          "model_module": "@jupyter-widgets/controls",
          "model_name": "DescriptionStyleModel",
          "state": {
            "_view_name": "StyleView",
            "_model_name": "DescriptionStyleModel",
            "description_width": "",
            "_view_module": "@jupyter-widgets/base",
            "_model_module_version": "1.5.0",
            "_view_count": null,
            "_view_module_version": "1.2.0",
            "_model_module": "@jupyter-widgets/controls"
          }
        },
        "e34faeaec61645768b2503ccc03ab663": {
          "model_module": "@jupyter-widgets/base",
          "model_name": "LayoutModel",
          "state": {
            "_view_name": "LayoutView",
            "grid_template_rows": null,
            "right": null,
            "justify_content": null,
            "_view_module": "@jupyter-widgets/base",
            "overflow": null,
            "_model_module_version": "1.2.0",
            "_view_count": null,
            "flex_flow": null,
            "width": null,
            "min_width": null,
            "border": null,
            "align_items": null,
            "bottom": null,
            "_model_module": "@jupyter-widgets/base",
            "top": null,
            "grid_column": null,
            "overflow_y": null,
            "overflow_x": null,
            "grid_auto_flow": null,
            "grid_area": null,
            "grid_template_columns": null,
            "flex": null,
            "_model_name": "LayoutModel",
            "justify_items": null,
            "grid_row": null,
            "max_height": null,
            "align_content": null,
            "visibility": null,
            "align_self": null,
            "height": null,
            "min_height": null,
            "padding": null,
            "grid_auto_rows": null,
            "grid_gap": null,
            "max_width": null,
            "order": null,
            "_view_module_version": "1.2.0",
            "grid_template_areas": null,
            "object_position": null,
            "object_fit": null,
            "grid_auto_columns": null,
            "margin": null,
            "display": null,
            "left": null
          }
        }
      }
    }
  },
  "cells": [
    {
      "cell_type": "code",
      "metadata": {
        "colab": {
          "base_uri": "https://localhost:8080/"
        },
        "id": "NCV3Pvp-nP1n",
        "outputId": "cc1bbf7c-0834-40cc-8281-e4772a7120df"
      },
      "source": [
        "!pip install wfdb"
      ],
      "execution_count": null,
      "outputs": [
        {
          "output_type": "stream",
          "text": [
            "Collecting wfdb\n",
            "\u001b[?25l  Downloading https://files.pythonhosted.org/packages/f1/99/4b4749925cf4123643b512e27710bfaad4f048eba8b840c581780e2aada9/wfdb-3.2.0-py3-none-any.whl (119kB)\n",
            "\r\u001b[K     |██▊                             | 10kB 19.8MB/s eta 0:00:01\r\u001b[K     |█████▌                          | 20kB 26.8MB/s eta 0:00:01\r\u001b[K     |████████▎                       | 30kB 26.3MB/s eta 0:00:01\r\u001b[K     |███████████                     | 40kB 19.8MB/s eta 0:00:01\r\u001b[K     |█████████████▊                  | 51kB 15.5MB/s eta 0:00:01\r\u001b[K     |████████████████▌               | 61kB 14.4MB/s eta 0:00:01\r\u001b[K     |███████████████████▏            | 71kB 14.0MB/s eta 0:00:01\r\u001b[K     |██████████████████████          | 81kB 15.3MB/s eta 0:00:01\r\u001b[K     |████████████████████████▊       | 92kB 15.3MB/s eta 0:00:01\r\u001b[K     |███████████████████████████▍    | 102kB 12.6MB/s eta 0:00:01\r\u001b[K     |██████████████████████████████▏ | 112kB 12.6MB/s eta 0:00:01\r\u001b[K     |████████████████████████████████| 122kB 12.6MB/s \n",
            "\u001b[?25hRequirement already satisfied: pytz>=2017.2 in /usr/local/lib/python3.6/dist-packages (from wfdb) (2018.9)\n",
            "Requirement already satisfied: urllib3>=1.22 in /usr/local/lib/python3.6/dist-packages (from wfdb) (1.24.3)\n",
            "Requirement already satisfied: pandas>=0.17.0 in /usr/local/lib/python3.6/dist-packages (from wfdb) (1.1.5)\n",
            "Requirement already satisfied: scikit-learn>=0.18 in /usr/local/lib/python3.6/dist-packages (from wfdb) (0.22.2.post1)\n",
            "Requirement already satisfied: matplotlib>=2.0.0 in /usr/local/lib/python3.6/dist-packages (from wfdb) (3.2.2)\n",
            "Requirement already satisfied: idna>=2.2 in /usr/local/lib/python3.6/dist-packages (from wfdb) (2.10)\n",
            "Requirement already satisfied: cycler>=0.10.0 in /usr/local/lib/python3.6/dist-packages (from wfdb) (0.10.0)\n",
            "Requirement already satisfied: certifi>=2016.8.2 in /usr/local/lib/python3.6/dist-packages (from wfdb) (2020.12.5)\n",
            "Requirement already satisfied: kiwisolver>=1.1.0 in /usr/local/lib/python3.6/dist-packages (from wfdb) (1.3.1)\n",
            "Requirement already satisfied: numpy>=1.10.1 in /usr/local/lib/python3.6/dist-packages (from wfdb) (1.19.5)\n",
            "Requirement already satisfied: joblib>=0.11 in /usr/local/lib/python3.6/dist-packages (from wfdb) (1.0.0)\n",
            "Requirement already satisfied: pyparsing>=2.0.4 in /usr/local/lib/python3.6/dist-packages (from wfdb) (2.4.7)\n",
            "Requirement already satisfied: requests>=2.8.1 in /usr/local/lib/python3.6/dist-packages (from wfdb) (2.23.0)\n",
            "Requirement already satisfied: python-dateutil>=2.4.2 in /usr/local/lib/python3.6/dist-packages (from wfdb) (2.8.1)\n",
            "Requirement already satisfied: chardet>=3.0.0 in /usr/local/lib/python3.6/dist-packages (from wfdb) (3.0.4)\n",
            "Requirement already satisfied: scipy>=0.17.0 in /usr/local/lib/python3.6/dist-packages (from wfdb) (1.4.1)\n",
            "Collecting threadpoolctl>=1.0.0\n",
            "  Downloading https://files.pythonhosted.org/packages/f7/12/ec3f2e203afa394a149911729357aa48affc59c20e2c1c8297a60f33f133/threadpoolctl-2.1.0-py3-none-any.whl\n",
            "Requirement already satisfied: six in /usr/local/lib/python3.6/dist-packages (from cycler>=0.10.0->wfdb) (1.15.0)\n",
            "Installing collected packages: threadpoolctl, wfdb\n",
            "Successfully installed threadpoolctl-2.1.0 wfdb-3.2.0\n"
          ],
          "name": "stdout"
        }
      ]
    },
    {
      "cell_type": "code",
      "metadata": {
        "id": "O_amojPqnVSQ"
      },
      "source": [
        "from wfdb import io, plot\n",
        "import wfdb\n",
        "import os\n",
        "import gc\n",
        "import numpy as np\n",
        "import matplotlib.pyplot as plt\n",
        "from tqdm import tqdm_notebook as tqdm\n",
        "#%matplotlib notebook\n",
        "import pandas as pd\n",
        "import math\n",
        "from keras.models import Sequential\n",
        "from keras.layers import Dense\n",
        "from keras.layers import Dropout, Input\n",
        "from keras.layers import LSTM\n",
        "from keras.callbacks import ModelCheckpoint\n",
        "from sklearn.utils import shuffle\n",
        "from sklearn.metrics import confusion_matrix\n",
        "import time\n",
        "import keras\n",
        "from keras.optimizers import RMSprop, Adam\n",
        "import pywt\n",
        "from sklearn.model_selection import train_test_split"
      ],
      "execution_count": null,
      "outputs": []
    },
    {
      "cell_type": "code",
      "metadata": {
        "id": "1Tukt5Xuns2s"
      },
      "source": [
        "import tensorflow as tf\n",
        "from sklearn.utils import resample\n",
        "#tf.compat.v1.keras.layers.CuDNNLSTM"
      ],
      "execution_count": null,
      "outputs": []
    },
    {
      "cell_type": "code",
      "metadata": {
        "id": "94nXdaOpn5Pv"
      },
      "source": [
        "def comments_to_dict(comments):\n",
        "    key_value_pairs = [comment.split(':') for comment in comments]\n",
        "    return {pair[0]: pair[1] for pair in key_value_pairs}"
      ],
      "execution_count": null,
      "outputs": []
    },
    {
      "cell_type": "code",
      "metadata": {
        "colab": {
          "base_uri": "https://localhost:8080/"
        },
        "id": "Fdr8g-MWn9cu",
        "outputId": "f33080dc-ebc5-443f-aa97-ec9ea370b2c3"
      },
      "source": [
        "from google.colab import drive\n",
        "#drive.flush_and_unmount()\n",
        "drive.mount('/gdrive')"
      ],
      "execution_count": null,
      "outputs": [
        {
          "output_type": "stream",
          "text": [
            "Mounted at /gdrive\n"
          ],
          "name": "stdout"
        }
      ]
    },
    {
      "cell_type": "code",
      "metadata": {
        "id": "79H65n54sjF3"
      },
      "source": [
        "#load data here\n",
        "data_path='/gdrive/My Drive/Data set/ECG/ecg_dataset'"
      ],
      "execution_count": null,
      "outputs": []
    },
    {
      "cell_type": "code",
      "metadata": {
        "id": "eILMw_SvoAa6"
      },
      "source": [
        "data_folder = 'data'\n",
        "db = 'ptbdb'\n",
        "record_names = io.get_record_list(db)"
      ],
      "execution_count": null,
      "outputs": []
    },
    {
      "cell_type": "code",
      "metadata": {
        "id": "QUbW5ppVo5z7"
      },
      "source": [
        "def record_to_row(record, patient_id):\n",
        "    row = {}\n",
        "    row['patient'] = patient_id\n",
        "    row['name'] = record.record_name\n",
        "    row['label'] = comments_to_dict(record.comments)['Reason for admission'][1:]\n",
        "    row['signals'] = record.p_signal\n",
        "    row['signal_length'] = record.sig_len\n",
        "    channels = record.sig_name\n",
        "    signals = record.p_signal.transpose()\n",
        "    \n",
        "    row['channels'] = channels\n",
        "    \n",
        "    for channel, signal in zip(channels, signals):\n",
        "        row[channel] = signal\n",
        "        \n",
        "    return row"
      ],
      "execution_count": null,
      "outputs": []
    },
    {
      "cell_type": "code",
      "metadata": {
        "colab": {
          "base_uri": "https://localhost:8080/",
          "height": 120,
          "referenced_widgets": [
            "253f8a004df244c6a90d843b56d5af00",
            "c7bb6d21ed1d4fe0a4d6ffd390102902",
            "531574b864934872a220b784fd95da6e",
            "aad11eb060e34fe89ee929beee28f4a4",
            "7ac306ebb65844a1b8029bc487092a2a",
            "2cce0a59fc034af7b1b2fede562b0117",
            "c69156ff8fe24cec8149d3593a0e3af4",
            "9db6f325225d4c9898a5ac67f9fa95fb"
          ]
        },
        "id": "RdNMPZP0ss5X",
        "outputId": "0046294c-0219-40e8-fd2c-69a444e02ef1"
      },
      "source": [
        "records = []\n",
        "for record_name in tqdm(record_names):\n",
        "    record = io.rdrecord(record_name=os.path.join(data_path, record_name))\n",
        "    label = comments_to_dict(record.comments)['Reason for admission'][1:]\n",
        "    patient = record_name.split('/')[0]\n",
        "    signal_length = record.sig_len\n",
        "    records.append({'name':record_name, 'label':label, 'patient':patient, 'signal_length':signal_length})\n",
        "    \n",
        "channels = record.sig_name\n",
        "df_records = pd.DataFrame(records)"
      ],
      "execution_count": null,
      "outputs": [
        {
          "output_type": "stream",
          "text": [
            "/usr/local/lib/python3.6/dist-packages/ipykernel_launcher.py:2: TqdmDeprecationWarning: This function will be removed in tqdm==5.0.0\n",
            "Please use `tqdm.notebook.tqdm` instead of `tqdm.tqdm_notebook`\n",
            "  \n"
          ],
          "name": "stderr"
        },
        {
          "output_type": "display_data",
          "data": {
            "application/vnd.jupyter.widget-view+json": {
              "model_id": "253f8a004df244c6a90d843b56d5af00",
              "version_minor": 0,
              "version_major": 2
            },
            "text/plain": [
              "HBox(children=(FloatProgress(value=0.0, max=549.0), HTML(value='')))"
            ]
          },
          "metadata": {
            "tags": []
          }
        },
        {
          "output_type": "stream",
          "text": [
            "\n"
          ],
          "name": "stdout"
        }
      ]
    },
    {
      "cell_type": "code",
      "metadata": {
        "colab": {
          "base_uri": "https://localhost:8080/"
        },
        "id": "RtcJzC8g_o7j",
        "outputId": "a43e3a0f-0d98-478d-d4cf-1f4a04ba23d9"
      },
      "source": [
        "df_records.shape"
      ],
      "execution_count": null,
      "outputs": [
        {
          "output_type": "execute_result",
          "data": {
            "text/plain": [
              "(549, 4)"
            ]
          },
          "metadata": {
            "tags": []
          },
          "execution_count": 10
        }
      ]
    },
    {
      "cell_type": "code",
      "metadata": {
        "id": "nHpgY22_1jkK"
      },
      "source": [
        "selected_labels = [\n",
        "    'Healthy control',\n",
        "    'Myocardial infarction'\n",
        "    ]\n",
        "df_selected = df_records.loc[df_records['label'].isin(selected_labels)]\n",
        "label_map = {label: value for label, value in zip(selected_labels, range(len(selected_labels)))}"
      ],
      "execution_count": null,
      "outputs": []
    },
    {
      "cell_type": "code",
      "metadata": {
        "colab": {
          "base_uri": "https://localhost:8080/"
        },
        "id": "W4wDPlGw_vhz",
        "outputId": "4b76045a-302c-4219-9c0c-39e73a1e6930"
      },
      "source": [
        "df_selected.shape"
      ],
      "execution_count": null,
      "outputs": [
        {
          "output_type": "execute_result",
          "data": {
            "text/plain": [
              "(448, 4)"
            ]
          },
          "metadata": {
            "tags": []
          },
          "execution_count": 12
        }
      ]
    },
    {
      "cell_type": "code",
      "metadata": {
        "id": "6JIUCHaf1o5l"
      },
      "source": [
        "test_patients = []\n",
        "train_patients = []\n",
        "test_size = 0.2\n",
        "channels\n",
        "for label in selected_labels:\n",
        "    df_selected = df_records.loc[df_records['label'] == label]\n",
        "    patients = df_selected['patient'].unique()\n",
        "    n_test = math.ceil(len(patients)*test_size)\n",
        "    test_patients+=list(np.random.choice(patients, n_test, replace=False))\n",
        "    train_patients+=list(patients[np.isin(patients, test_patients, invert=True)])"
      ],
      "execution_count": null,
      "outputs": []
    },
    {
      "cell_type": "code",
      "metadata": {
        "id": "NxLfxdrw9mY3"
      },
      "source": [
        "def make_whole_set(df_data, channels, label_map, record_id,window_size):\n",
        "    n_windows = df_data.shape[0]\n",
        "    \n",
        "    min_length = df_data['signal_length'].min()\n",
        "\n",
        "    if window_size is None:\n",
        "      window_size = min_length\n",
        "\n",
        "    dataX = np.zeros((n_windows, len(channels), window_size))\n",
        "    dataY = np.zeros((n_windows, len(label_map)))\n",
        "    \n",
        "    record_list = []\n",
        "    \n",
        "    nth_window = 0\n",
        "    for i, (patient, record) in enumerate(tqdm(df_data.iterrows())):\n",
        "        # read the record, get the signal data and transpose it\n",
        "        signal_data = io.rdrecord(os.path.join(data_path, record['name'])).p_signal[0:window_size].transpose()\n",
        "       \n",
        "        dataX[i] = np.array(signal_data)\n",
        "        dataY[i][label_map[record.label]] = 1\n",
        "        \n",
        "        \n",
        "        if record_id:\n",
        "            record_list = [record['name']]\n",
        "        \n",
        "    return dataX, dataY, record_list,window_size"
      ],
      "execution_count": null,
      "outputs": []
    },
    {
      "cell_type": "code",
      "metadata": {
        "id": "vZPOWWLt1stX"
      },
      "source": [
        "def make_set(df_data, channels, label_map, record_id, window_size=1024):\n",
        "    n_windows = 0\n",
        "    \n",
        "    for _, record in tqdm(df_data.iterrows()):\n",
        "        n_windows+= record['signal_length']//window_size\n",
        "\n",
        "    dataX = np.zeros((n_windows, len(channels), window_size))\n",
        "    dataY = np.zeros((n_windows, len(label_map)))\n",
        "    \n",
        "    record_list = []\n",
        "    \n",
        "    nth_window = 0\n",
        "    for i, (patient, record) in enumerate(tqdm(df_data.iterrows())):\n",
        "        # read the record, get the signal data and transpose it\n",
        "        signal_data = io.rdrecord(os.path.join(data_path, record['name'])).p_signal.transpose()\n",
        "        n_rows = signal_data.shape[-1]\n",
        "        n_windows = n_rows//window_size\n",
        "        dataX[nth_window:nth_window+n_windows] = np.array([signal_data[:,i*window_size:(i+1)*window_size] for i in range(n_windows)])\n",
        "        dataY[nth_window:nth_window+n_windows][:, label_map[record.label]] = 1\n",
        "        nth_window+=n_windows\n",
        "        \n",
        "        if record_id:\n",
        "            record_list+= n_windows*[record['name']]\n",
        "        \n",
        "    return dataX, dataY, record_list\n",
        "\n",
        "\n",
        "\n",
        "\n",
        "def denoise(data):\n",
        "    # wavedec\n",
        "    coeffs = pywt.wavedec(data=data, wavelet='db8', level=9)\n",
        "    cA9, cD9, cD8, cD7, cD6, cD5, cD4, cD3, cD2, cD1 = coeffs\n",
        "\n",
        "    # threshold\n",
        "    threshold = (np.median(np.abs(cD1)) / 0.6745) * (np.sqrt(2 * np.log(len(cD1))))\n",
        "    cD1.fill(0)\n",
        "    cD2.fill(0)\n",
        "    for i in range(1, len(coeffs) - 2):\n",
        "        coeffs[i] = pywt.threshold(coeffs[i], threshold)\n",
        "\n",
        "    rdata = pywt.waverec(coeffs=coeffs, wavelet='db8')\n",
        "    return rdata"
      ],
      "execution_count": null,
      "outputs": []
    },
    {
      "cell_type": "code",
      "metadata": {
        "id": "ksa1_3Y41vPw"
      },
      "source": [
        "# df_patient_records = df_records.set_index('patient')\n",
        "# df_train_patients = df_patient_records.loc[train_patients]\n",
        "# df_test_patients = df_patient_records.loc[test_patients]\n",
        "# window_size = 1024#df_records['signal_length'].min()\n",
        "# #trainX, trainY, _ = make_set(df_train_patients, channels, label_map, False, window_size)\n",
        "# testX, testY, record_list = make_set(df_test_patients, channels, label_map, True, window_size)"
      ],
      "execution_count": null,
      "outputs": []
    },
    {
      "cell_type": "code",
      "metadata": {
        "id": "4gvcmjyw1yzk"
      },
      "source": [
        "# def make_model(input_shape, output_dim, lstm_layer, dropout=0.2):\n",
        "#     print(\"model dim: \", input_shape, output_dim)\n",
        "#     model = Sequential()\n",
        "#     model.add(lstm_layer(256, return_sequences=True, input_shape=input_shape, batch_size=None))\n",
        "#     model.add(Dropout(dropout))\n",
        "#     model.add(lstm_layer(128, return_sequences=True))\n",
        "#     model.add(Dropout(dropout))\n",
        "#     model.add(LSTM(64))\n",
        "#     model.add(Dropout(dropout))\n",
        "#     model.add(Dense(output_dim, activation='softmax'))\n",
        "#     model.compile(loss='binary_crossentropy',metrics=[tf.keras.metrics.BinaryAccuracy()] , optimizer='adam')\n",
        "    \n",
        "#     return model"
      ],
      "execution_count": null,
      "outputs": []
    },
    {
      "cell_type": "code",
      "metadata": {
        "id": "ePQ8w-9f3kd5"
      },
      "source": [
        "# class TimeHistory(keras.callbacks.Callback):\n",
        "#     def on_train_begin(self, logs={}):\n",
        "#         self.times = []\n",
        "\n",
        "#     def on_epoch_begin(self, batch, logs={}):\n",
        "#         self.epoch_time_start = time.time()\n",
        "\n",
        "#     def on_epoch_end(self, batch, logs={}):\n",
        "#         self.times.append(time.time() - self.epoch_time_start)"
      ],
      "execution_count": null,
      "outputs": []
    },
    {
      "cell_type": "code",
      "metadata": {
        "id": "2cfuW5ks5Z6T"
      },
      "source": [
        "np.random.seed(1337)\n",
        "test_patients = []\n",
        "train_patients = []\n",
        "test_size = 0.2\n",
        "channels\n",
        "for label in selected_labels:\n",
        "    df_selected = df_records.loc[df_records['label'] == label]\n",
        "    patients = df_selected['patient'].unique()\n",
        "    n_test = math.ceil(len(patients)*test_size)\n",
        "    test_patients+=list(np.random.choice(patients, n_test, replace=False))\n",
        "    train_patients+=list(patients[np.isin(patients, test_patients, invert=True)])\n",
        "    \n",
        "df_patient_records = df_records.set_index('patient')\n",
        "df_train_patients = df_patient_records.loc[train_patients]\n",
        "df_test_patients = df_patient_records.loc[test_patients]\n",
        "#df_records['signal_length'].min()"
      ],
      "execution_count": null,
      "outputs": []
    },
    {
      "cell_type": "code",
      "metadata": {
        "colab": {
          "base_uri": "https://localhost:8080/"
        },
        "id": "qtwJ0qaOOBli",
        "outputId": "5913fc83-006b-4ab4-bb60-c47db5998d22"
      },
      "source": [
        "df_train_patients.label.value_counts()"
      ],
      "execution_count": null,
      "outputs": [
        {
          "output_type": "execute_result",
          "data": {
            "text/plain": [
              "Myocardial infarction    301\n",
              "Healthy control           64\n",
              "Name: label, dtype: int64"
            ]
          },
          "metadata": {
            "tags": []
          },
          "execution_count": 20
        }
      ]
    },
    {
      "cell_type": "code",
      "metadata": {
        "colab": {
          "base_uri": "https://localhost:8080/"
        },
        "id": "rPXt2y_KORmC",
        "outputId": "c057de23-2a5c-468a-970d-9cab2350de0e"
      },
      "source": [
        "#up sampling the miniority class of train dataset\n",
        "df_train_majority = df_train_patients[df_train_patients.label==\"Myocardial infarction\"]\n",
        "df_train_minority = df_train_patients[df_train_patients.label==\"Healthy control\"]\n",
        "df_train_minority_upsampled = resample(df_train_minority, \n",
        "                                 replace=True,     # sample with replacement\n",
        "                                 n_samples=301,    # to match majority class\n",
        "                                 random_state=123) # reproducible results\n",
        "df_train_patients = pd.concat([df_train_majority, df_train_minority_upsampled])\n",
        "df_train_patients.label.value_counts()"
      ],
      "execution_count": null,
      "outputs": [
        {
          "output_type": "execute_result",
          "data": {
            "text/plain": [
              "Myocardial infarction    301\n",
              "Healthy control          301\n",
              "Name: label, dtype: int64"
            ]
          },
          "metadata": {
            "tags": []
          },
          "execution_count": 21
        }
      ]
    },
    {
      "cell_type": "code",
      "metadata": {
        "colab": {
          "base_uri": "https://localhost:8080/"
        },
        "id": "fxpsO5XVOM4O",
        "outputId": "8390d137-a23e-427e-dc98-04ecd3a0d715"
      },
      "source": [
        "df_test_patients.label.value_counts()"
      ],
      "execution_count": null,
      "outputs": [
        {
          "output_type": "execute_result",
          "data": {
            "text/plain": [
              "Myocardial infarction    67\n",
              "Healthy control          16\n",
              "Name: label, dtype: int64"
            ]
          },
          "metadata": {
            "tags": []
          },
          "execution_count": 22
        }
      ]
    },
    {
      "cell_type": "code",
      "metadata": {
        "colab": {
          "base_uri": "https://localhost:8080/"
        },
        "id": "gbSHJyP_PRs-",
        "outputId": "5cfefa06-bc75-499f-d519-b264574b7ab8"
      },
      "source": [
        "#up sampling the miniority class of test dataset\n",
        "df_test_majority = df_test_patients[df_test_patients.label==\"Myocardial infarction\"]\n",
        "df_test_minority = df_test_patients[df_test_patients.label==\"Healthy control\"]\n",
        "df_test_minority_upsampled = resample(df_test_minority, \n",
        "                                 replace=True,     # sample with replacement\n",
        "                                 n_samples=67,    # to match majority class\n",
        "                                 random_state=123) # reproducible results\n",
        "df_test_patients = pd.concat([df_test_majority, df_test_minority_upsampled])\n",
        "df_test_patients.label.value_counts()"
      ],
      "execution_count": null,
      "outputs": [
        {
          "output_type": "execute_result",
          "data": {
            "text/plain": [
              "Myocardial infarction    67\n",
              "Healthy control          67\n",
              "Name: label, dtype: int64"
            ]
          },
          "metadata": {
            "tags": []
          },
          "execution_count": 23
        }
      ]
    },
    {
      "cell_type": "code",
      "metadata": {
        "colab": {
          "base_uri": "https://localhost:8080/",
          "height": 170,
          "referenced_widgets": [
            "4f0697e78b2d47a4a586361b76a8438f",
            "2bae84fde7d44c9f982022fb10a4f411",
            "df2d929ca78d49a9b6f482abdc3cb747",
            "c2673f9f4e4e497185bdd88e5571f9a4",
            "faec4c00f1454840961a4a810bfb280b",
            "4cecc6433ab04d9bb2f076e59198645d",
            "f565d65f4f874b90813c49945a8199d0",
            "9fff664a24f346a694d052475b59fe0c",
            "a2f8f791c5944d208aeec49d57efc8c0",
            "1cf742253612477b87444a011661777e",
            "9fd021c4b0694e2195eb306a9b4e05f0",
            "5a68e860f046489b817352f8e2c27153",
            "20a54eba36284826abcb9b69c63bc529",
            "f9222b23156e4c0db9786ef97f3239ea",
            "200da325daee40d8bc728e312430ad28",
            "e34faeaec61645768b2503ccc03ab663"
          ]
        },
        "id": "qq3K80hRN_s9",
        "outputId": "513860d1-deb1-4c2c-8574-32cae5681049"
      },
      "source": [
        "trainX, trainY, _,window_size = make_whole_set(df_train_patients, channels, label_map, False, None)\n",
        "\n",
        "testX, testY, record_list,_ = make_whole_set(df_test_patients, channels, label_map, True, window_size)\n",
        "# window_size = 1024\n",
        "# trainX, trainY, _ = make_set(df_train_patients, channels, label_map, False, window_size)\n",
        "# testX, testY, record_list = make_set(df_test_patients, channels, label_map, True,window_size)\n",
        "\n",
        "#split validation set\n",
        "testX, valX, testY, valY = train_test_split(testX, testY, test_size=0.25, random_state=1)\n",
        "\n",
        "#Shuffle order of train set\n",
        "trainX, trainY = shuffle(trainX, trainY)\n",
        "\n",
        "#Since we have a large class inbalance we need to udjust the weights for it.\n",
        "fractions = 1-trainY.sum(axis=0)/len(trainY)\n",
        "weights = fractions[trainY.argmax(axis=1)]"
      ],
      "execution_count": null,
      "outputs": [
        {
          "output_type": "stream",
          "text": [
            "/usr/local/lib/python3.6/dist-packages/ipykernel_launcher.py:15: TqdmDeprecationWarning: This function will be removed in tqdm==5.0.0\n",
            "Please use `tqdm.notebook.tqdm` instead of `tqdm.tqdm_notebook`\n",
            "  from ipykernel import kernelapp as app\n"
          ],
          "name": "stderr"
        },
        {
          "output_type": "display_data",
          "data": {
            "application/vnd.jupyter.widget-view+json": {
              "model_id": "4f0697e78b2d47a4a586361b76a8438f",
              "version_minor": 0,
              "version_major": 2
            },
            "text/plain": [
              "HBox(children=(FloatProgress(value=1.0, bar_style='info', max=1.0), HTML(value='')))"
            ]
          },
          "metadata": {
            "tags": []
          }
        },
        {
          "output_type": "stream",
          "text": [
            "\n"
          ],
          "name": "stdout"
        },
        {
          "output_type": "display_data",
          "data": {
            "application/vnd.jupyter.widget-view+json": {
              "model_id": "a2f8f791c5944d208aeec49d57efc8c0",
              "version_minor": 0,
              "version_major": 2
            },
            "text/plain": [
              "HBox(children=(FloatProgress(value=1.0, bar_style='info', max=1.0), HTML(value='')))"
            ]
          },
          "metadata": {
            "tags": []
          }
        },
        {
          "output_type": "stream",
          "text": [
            "\n"
          ],
          "name": "stdout"
        }
      ]
    },
    {
      "cell_type": "code",
      "metadata": {
        "colab": {
          "base_uri": "https://localhost:8080/"
        },
        "id": "kBxzrOnoa5jF",
        "outputId": "70e9a2c5-f6c2-4f62-b111-3a2ec3f7cf59"
      },
      "source": [
        "# trainX, valX, trainY, valY = train_test_split(trainX, trainY, test_size=0.25, random_state=1)\n",
        "# #Since we have a large class inbalance we need to udjust the weights for it.\n",
        "# fractions = 1-trainY.sum(axis=0)/len(trainY)\n",
        "# weights = fractions[trainY.argmax(axis=1)]\n",
        "valX.shape"
      ],
      "execution_count": null,
      "outputs": [
        {
          "output_type": "execute_result",
          "data": {
            "text/plain": [
              "(34, 15, 32000)"
            ]
          },
          "metadata": {
            "tags": []
          },
          "execution_count": 26
        }
      ]
    },
    {
      "cell_type": "code",
      "metadata": {
        "colab": {
          "base_uri": "https://localhost:8080/"
        },
        "id": "G3RBdaHVB-zU",
        "outputId": "644297ea-1eab-4df9-ee55-49b93580909f"
      },
      "source": [
        "testX.shape"
      ],
      "execution_count": null,
      "outputs": [
        {
          "output_type": "execute_result",
          "data": {
            "text/plain": [
              "(100, 15, 32000)"
            ]
          },
          "metadata": {
            "tags": []
          },
          "execution_count": 27
        }
      ]
    },
    {
      "cell_type": "code",
      "metadata": {
        "colab": {
          "base_uri": "https://localhost:8080/"
        },
        "id": "3nsfJQV3RfNx",
        "outputId": "42525bbf-2210-402a-c2bd-e816d32f9ba3"
      },
      "source": [
        "trainX.shape"
      ],
      "execution_count": null,
      "outputs": [
        {
          "output_type": "execute_result",
          "data": {
            "text/plain": [
              "(602, 15, 32000)"
            ]
          },
          "metadata": {
            "tags": []
          },
          "execution_count": 28
        }
      ]
    },
    {
      "cell_type": "code",
      "metadata": {
        "colab": {
          "base_uri": "https://localhost:8080/"
        },
        "id": "l_vL3dsylSDM",
        "outputId": "f6c3e40d-aca4-4093-aeb0-77a9de85f0ae"
      },
      "source": [
        "trainY.shape"
      ],
      "execution_count": null,
      "outputs": [
        {
          "output_type": "execute_result",
          "data": {
            "text/plain": [
              "(602, 2)"
            ]
          },
          "metadata": {
            "tags": []
          },
          "execution_count": 29
        }
      ]
    },
    {
      "cell_type": "code",
      "metadata": {
        "colab": {
          "base_uri": "https://localhost:8080/"
        },
        "id": "jhBpkOXlqNdX",
        "outputId": "ccce4d02-2219-4a67-eb32-c977fc973962"
      },
      "source": [
        "len(weights)"
      ],
      "execution_count": null,
      "outputs": [
        {
          "output_type": "execute_result",
          "data": {
            "text/plain": [
              "602"
            ]
          },
          "metadata": {
            "tags": []
          },
          "execution_count": 30
        }
      ]
    },
    {
      "cell_type": "code",
      "metadata": {
        "id": "hx8Mfhv2IwvC"
      },
      "source": [
        "for i in range(len(trainX)):\n",
        "  for j in range(0,14):\n",
        "    trainX[i][j] = denoise(trainX[i][j])"
      ],
      "execution_count": null,
      "outputs": []
    },
    {
      "cell_type": "code",
      "metadata": {
        "id": "oapbnvJVRWv3"
      },
      "source": [
        "for i in range(len(testX)):\n",
        "  for j in range(0,14):\n",
        "    trainX[i][j] = denoise(trainX[i][j])"
      ],
      "execution_count": null,
      "outputs": []
    },
    {
      "cell_type": "code",
      "metadata": {
        "id": "LAT4-nxauwsp"
      },
      "source": [
        "for i in range(len(valX)):\n",
        "  for j in range(0,14):\n",
        "    valX[i][j] = denoise(valX[i][j])"
      ],
      "execution_count": null,
      "outputs": []
    },
    {
      "cell_type": "code",
      "metadata": {
        "colab": {
          "base_uri": "https://localhost:8080/",
          "height": 374
        },
        "id": "y_iw5t2v-hb7",
        "outputId": "ef6cd912-557e-49df-ae86-4ef28eac36e4"
      },
      "source": [
        "import matplotlib.pyplot as plt2\n",
        "plt2.figure(figsize=(20,6)) \n",
        "plt2.plot(valX[7][0])\n",
        "plt2.show()\n",
        "#plt2.savefig(\"/gdrive/My Drive/model_output/first_4096.png\")"
      ],
      "execution_count": null,
      "outputs": [
        {
          "output_type": "display_data",
          "data": {
            "image/png": "[encoded data removed]",
            "text/plain": [
              "<Figure size 1440x432 with 1 Axes>"
            ]
          },
          "metadata": {
            "tags": [],
            "needs_background": "light"
          }
        }
      ]
    },
    {
      "cell_type": "code",
      "metadata": {
        "id": "x4_rl7s6cFZW"
      },
      "source": [
        "def buildModel():\n",
        "\n",
        "    newModel = tf.keras.models.Sequential([\n",
        "                                           \n",
        "        tf.keras.layers.InputLayer(input_shape=(15,32000)),\n",
        "\n",
        "        tf.keras.layers.Conv1D(filters=4, kernel_size=21, strides=1, padding='SAME', activation='relu'),\n",
        "       \n",
        "        tf.keras.layers.AvgPool1D(pool_size=1, strides=4, padding='SAME'),\n",
        "        \n",
        "        tf.keras.layers.Conv1D(filters=16, kernel_size=23, strides=1, padding='SAME', activation='relu'),\n",
        "        \n",
        "        tf.keras.layers.AvgPool1D(pool_size=1, strides=4, padding='SAME'),\n",
        "       \n",
        "        tf.keras.layers.Conv1D(filters=32, kernel_size=25, strides=1, padding='SAME', activation='elu'),\n",
        "       \n",
        "        tf.keras.layers.AvgPool1D(pool_size=1, strides=8, padding='SAME'),\n",
        "       \n",
        "        tf.keras.layers.Conv1D(filters=64, kernel_size=27, strides=1, padding='SAME', activation='relu'),\n",
        "       \n",
        "        tf.keras.layers.Flatten(),\n",
        "       \n",
        "        tf.keras.layers.Dense(128, activation='relu'),\n",
        "       \n",
        "        tf.keras.layers.Dropout(rate=0.2),\n",
        "       \n",
        "        tf.keras.layers.Dense(2, activation='softmax')\n",
        "    ])\n",
        "\n",
        "    return newModel"
      ],
      "execution_count": null,
      "outputs": []
    },
    {
      "cell_type": "code",
      "metadata": {
        "colab": {
          "base_uri": "https://localhost:8080/"
        },
        "id": "2tm27IQRcItV",
        "outputId": "84e83e18-60d6-4bb2-ffae-61529c46ff28"
      },
      "source": [
        "model_test2 = buildModel()\n",
        "model_test2.summary()"
      ],
      "execution_count": null,
      "outputs": [
        {
          "output_type": "stream",
          "text": [
            "Model: \"sequential_2\"\n",
            "_________________________________________________________________\n",
            "Layer (type)                 Output Shape              Param #   \n",
            "=================================================================\n",
            "conv1d_8 (Conv1D)            (None, 15, 4)             2688004   \n",
            "_________________________________________________________________\n",
            "average_pooling1d_6 (Average (None, 4, 4)              0         \n",
            "_________________________________________________________________\n",
            "conv1d_9 (Conv1D)            (None, 4, 16)             1488      \n",
            "_________________________________________________________________\n",
            "average_pooling1d_7 (Average (None, 1, 16)             0         \n",
            "_________________________________________________________________\n",
            "conv1d_10 (Conv1D)           (None, 1, 32)             12832     \n",
            "_________________________________________________________________\n",
            "average_pooling1d_8 (Average (None, 1, 32)             0         \n",
            "_________________________________________________________________\n",
            "conv1d_11 (Conv1D)           (None, 1, 64)             55360     \n",
            "_________________________________________________________________\n",
            "flatten_2 (Flatten)          (None, 64)                0         \n",
            "_________________________________________________________________\n",
            "dense_4 (Dense)              (None, 128)               8320      \n",
            "_________________________________________________________________\n",
            "dropout_2 (Dropout)          (None, 128)               0         \n",
            "_________________________________________________________________\n",
            "dense_5 (Dense)              (None, 2)                 258       \n",
            "=================================================================\n",
            "Total params: 2,766,262\n",
            "Trainable params: 2,766,262\n",
            "Non-trainable params: 0\n",
            "_________________________________________________________________\n"
          ],
          "name": "stdout"
        }
      ]
    },
    {
      "cell_type": "code",
      "metadata": {
        "colab": {
          "base_uri": "https://localhost:8080/"
        },
        "id": "tQl3s8I0cFdB",
        "outputId": "0b12d079-98e6-465a-aa1b-96f413c27fcd"
      },
      "source": [
        "  import datetime\n",
        "  #tbcb = keras.callbacks.TensorBoard(log_dir='./Graph', histogram_freq=0,  write_graph=True, write_images=True)\n",
        "  %load_ext tensorboard\n",
        "  model_test2.compile(optimizer = Adam(lr=0.0000001, epsilon=1e-08, decay=0.0) , \n",
        "                  loss = \"binary_crossentropy\", metrics=[\"accuracy\"])\n",
        "\n",
        "  log_dir = \"logs/fit_dec8/\" + datetime.datetime.now().strftime(\"%Y%m%d-%H%M%S\")\n",
        "  tensorboard_callback = tf.keras.callbacks.TensorBoard(log_dir=log_dir)\n",
        "\n",
        "  model_test2.fit(trainX, trainY, validation_data=(valX, valY),validation_batch_size = 4, epochs=500,\n",
        "                    batch_size=4 ,callbacks = [tensorboard_callback]\n",
        "                  )"
      ],
      "execution_count": null,
      "outputs": [
        {
          "output_type": "stream",
          "text": [
            "The tensorboard extension is already loaded. To reload it, use:\n",
            "  %reload_ext tensorboard\n",
            "Epoch 1/500\n",
            "151/151 [==============================] - 2s 12ms/step - loss: 0.6931 - accuracy: 0.4824 - val_loss: 0.6932 - val_accuracy: 0.5000\n",
            "Epoch 2/500\n",
            "151/151 [==============================] - 2s 11ms/step - loss: 0.6930 - accuracy: 0.5834 - val_loss: 0.6932 - val_accuracy: 0.4412\n",
            "Epoch 3/500\n",
            "151/151 [==============================] - 2s 10ms/step - loss: 0.6929 - accuracy: 0.5880 - val_loss: 0.6932 - val_accuracy: 0.4412\n",
            "Epoch 4/500\n",
            "151/151 [==============================] - 2s 10ms/step - loss: 0.6929 - accuracy: 0.6077 - val_loss: 0.6932 - val_accuracy: 0.4412\n",
            "Epoch 5/500\n",
            "151/151 [==============================] - 2s 10ms/step - loss: 0.6929 - accuracy: 0.5992 - val_loss: 0.6932 - val_accuracy: 0.4706\n",
            "Epoch 6/500\n",
            "151/151 [==============================] - 2s 11ms/step - loss: 0.6928 - accuracy: 0.6055 - val_loss: 0.6932 - val_accuracy: 0.4706\n",
            "Epoch 7/500\n",
            "151/151 [==============================] - 2s 10ms/step - loss: 0.6928 - accuracy: 0.5661 - val_loss: 0.6932 - val_accuracy: 0.4706\n",
            "Epoch 8/500\n",
            "151/151 [==============================] - 2s 11ms/step - loss: 0.6927 - accuracy: 0.6134 - val_loss: 0.6931 - val_accuracy: 0.4706\n",
            "Epoch 9/500\n",
            "151/151 [==============================] - 2s 11ms/step - loss: 0.6927 - accuracy: 0.6131 - val_loss: 0.6932 - val_accuracy: 0.4706\n",
            "Epoch 10/500\n",
            "151/151 [==============================] - 2s 11ms/step - loss: 0.6927 - accuracy: 0.6563 - val_loss: 0.6932 - val_accuracy: 0.4412\n",
            "Epoch 11/500\n",
            "151/151 [==============================] - 2s 11ms/step - loss: 0.6929 - accuracy: 0.5959 - val_loss: 0.6932 - val_accuracy: 0.4412\n",
            "Epoch 12/500\n",
            "151/151 [==============================] - 2s 10ms/step - loss: 0.6928 - accuracy: 0.6066 - val_loss: 0.6931 - val_accuracy: 0.4412\n",
            "Epoch 13/500\n",
            "151/151 [==============================] - 2s 10ms/step - loss: 0.6927 - accuracy: 0.6273 - val_loss: 0.6932 - val_accuracy: 0.4412\n",
            "Epoch 14/500\n",
            "151/151 [==============================] - 2s 11ms/step - loss: 0.6926 - accuracy: 0.6387 - val_loss: 0.6932 - val_accuracy: 0.4412\n",
            "Epoch 15/500\n",
            "151/151 [==============================] - 2s 11ms/step - loss: 0.6926 - accuracy: 0.6238 - val_loss: 0.6932 - val_accuracy: 0.4412\n",
            "Epoch 16/500\n",
            "151/151 [==============================] - 2s 10ms/step - loss: 0.6926 - accuracy: 0.6750 - val_loss: 0.6931 - val_accuracy: 0.4412\n",
            "Epoch 17/500\n",
            "151/151 [==============================] - 2s 11ms/step - loss: 0.6924 - accuracy: 0.6492 - val_loss: 0.6932 - val_accuracy: 0.4412\n",
            "Epoch 18/500\n",
            "151/151 [==============================] - 2s 10ms/step - loss: 0.6926 - accuracy: 0.6665 - val_loss: 0.6932 - val_accuracy: 0.4412\n",
            "Epoch 19/500\n",
            "151/151 [==============================] - 2s 11ms/step - loss: 0.6925 - accuracy: 0.6365 - val_loss: 0.6932 - val_accuracy: 0.4412\n",
            "Epoch 20/500\n",
            "151/151 [==============================] - 2s 10ms/step - loss: 0.6923 - accuracy: 0.6525 - val_loss: 0.6931 - val_accuracy: 0.4412\n",
            "Epoch 21/500\n",
            "151/151 [==============================] - 2s 11ms/step - loss: 0.6923 - accuracy: 0.6537 - val_loss: 0.6932 - val_accuracy: 0.4412\n",
            "Epoch 22/500\n",
            "151/151 [==============================] - 2s 10ms/step - loss: 0.6922 - accuracy: 0.6253 - val_loss: 0.6932 - val_accuracy: 0.4412\n",
            "Epoch 23/500\n",
            "151/151 [==============================] - 2s 10ms/step - loss: 0.6924 - accuracy: 0.6850 - val_loss: 0.6932 - val_accuracy: 0.3824\n",
            "Epoch 24/500\n",
            "151/151 [==============================] - 2s 10ms/step - loss: 0.6923 - accuracy: 0.7015 - val_loss: 0.6931 - val_accuracy: 0.3824\n",
            "Epoch 25/500\n",
            "151/151 [==============================] - 2s 11ms/step - loss: 0.6919 - accuracy: 0.6856 - val_loss: 0.6931 - val_accuracy: 0.3824\n",
            "Epoch 26/500\n",
            "151/151 [==============================] - 2s 11ms/step - loss: 0.6921 - accuracy: 0.6793 - val_loss: 0.6931 - val_accuracy: 0.3824\n",
            "Epoch 27/500\n",
            "151/151 [==============================] - 2s 10ms/step - loss: 0.6918 - accuracy: 0.6526 - val_loss: 0.6932 - val_accuracy: 0.3824\n",
            "Epoch 28/500\n",
            "151/151 [==============================] - 2s 10ms/step - loss: 0.6921 - accuracy: 0.6132 - val_loss: 0.6932 - val_accuracy: 0.3824\n",
            "Epoch 29/500\n",
            "151/151 [==============================] - 2s 11ms/step - loss: 0.6918 - accuracy: 0.6563 - val_loss: 0.6931 - val_accuracy: 0.3824\n",
            "Epoch 30/500\n",
            "151/151 [==============================] - 2s 10ms/step - loss: 0.6916 - accuracy: 0.6531 - val_loss: 0.6931 - val_accuracy: 0.3824\n",
            "Epoch 31/500\n",
            "151/151 [==============================] - 2s 11ms/step - loss: 0.6922 - accuracy: 0.6238 - val_loss: 0.6931 - val_accuracy: 0.3824\n",
            "Epoch 32/500\n",
            "151/151 [==============================] - 2s 11ms/step - loss: 0.6920 - accuracy: 0.6538 - val_loss: 0.6931 - val_accuracy: 0.3824\n",
            "Epoch 33/500\n",
            "151/151 [==============================] - 2s 11ms/step - loss: 0.6920 - accuracy: 0.6543 - val_loss: 0.6931 - val_accuracy: 0.3824\n",
            "Epoch 34/500\n",
            "151/151 [==============================] - 2s 10ms/step - loss: 0.6918 - accuracy: 0.6403 - val_loss: 0.6931 - val_accuracy: 0.3824\n",
            "Epoch 35/500\n",
            "151/151 [==============================] - 2s 11ms/step - loss: 0.6914 - accuracy: 0.7140 - val_loss: 0.6931 - val_accuracy: 0.3824\n",
            "Epoch 36/500\n",
            "151/151 [==============================] - 2s 10ms/step - loss: 0.6920 - accuracy: 0.6284 - val_loss: 0.6932 - val_accuracy: 0.3824\n",
            "Epoch 37/500\n",
            "151/151 [==============================] - 2s 12ms/step - loss: 0.6918 - accuracy: 0.6599 - val_loss: 0.6931 - val_accuracy: 0.3824\n",
            "Epoch 38/500\n",
            "151/151 [==============================] - 2s 11ms/step - loss: 0.6918 - accuracy: 0.7104 - val_loss: 0.6931 - val_accuracy: 0.3824\n",
            "Epoch 39/500\n",
            "151/151 [==============================] - 2s 11ms/step - loss: 0.6914 - accuracy: 0.6317 - val_loss: 0.6931 - val_accuracy: 0.3824\n",
            "Epoch 40/500\n",
            "151/151 [==============================] - 2s 11ms/step - loss: 0.6911 - accuracy: 0.6911 - val_loss: 0.6931 - val_accuracy: 0.3824\n",
            "Epoch 41/500\n",
            "151/151 [==============================] - 2s 11ms/step - loss: 0.6917 - accuracy: 0.7013 - val_loss: 0.6931 - val_accuracy: 0.3824\n",
            "Epoch 42/500\n",
            "151/151 [==============================] - 2s 11ms/step - loss: 0.6918 - accuracy: 0.6318 - val_loss: 0.6931 - val_accuracy: 0.3824\n",
            "Epoch 43/500\n",
            "151/151 [==============================] - 2s 11ms/step - loss: 0.6916 - accuracy: 0.6643 - val_loss: 0.6931 - val_accuracy: 0.3824\n",
            "Epoch 44/500\n",
            "151/151 [==============================] - 2s 11ms/step - loss: 0.6917 - accuracy: 0.6333 - val_loss: 0.6931 - val_accuracy: 0.3824\n",
            "Epoch 45/500\n",
            "151/151 [==============================] - 2s 11ms/step - loss: 0.6910 - accuracy: 0.6854 - val_loss: 0.6930 - val_accuracy: 0.3824\n",
            "Epoch 46/500\n",
            "151/151 [==============================] - 2s 10ms/step - loss: 0.6910 - accuracy: 0.7193 - val_loss: 0.6930 - val_accuracy: 0.3824\n",
            "Epoch 47/500\n",
            "151/151 [==============================] - 2s 11ms/step - loss: 0.6912 - accuracy: 0.6603 - val_loss: 0.6930 - val_accuracy: 0.3824\n",
            "Epoch 48/500\n",
            "151/151 [==============================] - 2s 11ms/step - loss: 0.6913 - accuracy: 0.6640 - val_loss: 0.6931 - val_accuracy: 0.3824\n",
            "Epoch 49/500\n",
            "151/151 [==============================] - 2s 11ms/step - loss: 0.6913 - accuracy: 0.6861 - val_loss: 0.6930 - val_accuracy: 0.3824\n",
            "Epoch 50/500\n",
            "151/151 [==============================] - 2s 10ms/step - loss: 0.6911 - accuracy: 0.6595 - val_loss: 0.6930 - val_accuracy: 0.3824\n",
            "Epoch 51/500\n",
            "151/151 [==============================] - 2s 11ms/step - loss: 0.6913 - accuracy: 0.6681 - val_loss: 0.6930 - val_accuracy: 0.3824\n",
            "Epoch 52/500\n",
            "151/151 [==============================] - 2s 11ms/step - loss: 0.6910 - accuracy: 0.6937 - val_loss: 0.6930 - val_accuracy: 0.3824\n",
            "Epoch 53/500\n",
            "151/151 [==============================] - 2s 11ms/step - loss: 0.6909 - accuracy: 0.6788 - val_loss: 0.6930 - val_accuracy: 0.3824\n",
            "Epoch 54/500\n",
            "151/151 [==============================] - 2s 11ms/step - loss: 0.6911 - accuracy: 0.6900 - val_loss: 0.6930 - val_accuracy: 0.3824\n",
            "Epoch 55/500\n",
            "151/151 [==============================] - 2s 10ms/step - loss: 0.6909 - accuracy: 0.6476 - val_loss: 0.6930 - val_accuracy: 0.3824\n",
            "Epoch 56/500\n",
            "151/151 [==============================] - 2s 11ms/step - loss: 0.6909 - accuracy: 0.6854 - val_loss: 0.6930 - val_accuracy: 0.3824\n",
            "Epoch 57/500\n",
            "151/151 [==============================] - 2s 11ms/step - loss: 0.6904 - accuracy: 0.7022 - val_loss: 0.6930 - val_accuracy: 0.3824\n",
            "Epoch 58/500\n",
            "151/151 [==============================] - 2s 11ms/step - loss: 0.6907 - accuracy: 0.6932 - val_loss: 0.6930 - val_accuracy: 0.3824\n",
            "Epoch 59/500\n",
            "151/151 [==============================] - 2s 11ms/step - loss: 0.6908 - accuracy: 0.6807 - val_loss: 0.6929 - val_accuracy: 0.3824\n",
            "Epoch 60/500\n",
            "151/151 [==============================] - 2s 11ms/step - loss: 0.6901 - accuracy: 0.6933 - val_loss: 0.6929 - val_accuracy: 0.3824\n",
            "Epoch 61/500\n",
            "151/151 [==============================] - 2s 11ms/step - loss: 0.6899 - accuracy: 0.7239 - val_loss: 0.6929 - val_accuracy: 0.3824\n",
            "Epoch 62/500\n",
            "151/151 [==============================] - 2s 11ms/step - loss: 0.6904 - accuracy: 0.6898 - val_loss: 0.6929 - val_accuracy: 0.3824\n",
            "Epoch 63/500\n",
            "151/151 [==============================] - 2s 11ms/step - loss: 0.6906 - accuracy: 0.6911 - val_loss: 0.6928 - val_accuracy: 0.4118\n",
            "Epoch 64/500\n",
            "151/151 [==============================] - 2s 11ms/step - loss: 0.6906 - accuracy: 0.6755 - val_loss: 0.6928 - val_accuracy: 0.4118\n",
            "Epoch 65/500\n",
            "151/151 [==============================] - 2s 10ms/step - loss: 0.6907 - accuracy: 0.6733 - val_loss: 0.6929 - val_accuracy: 0.4118\n",
            "Epoch 66/500\n",
            "151/151 [==============================] - 2s 11ms/step - loss: 0.6911 - accuracy: 0.6676 - val_loss: 0.6928 - val_accuracy: 0.4118\n",
            "Epoch 67/500\n",
            "151/151 [==============================] - 2s 11ms/step - loss: 0.6899 - accuracy: 0.6866 - val_loss: 0.6929 - val_accuracy: 0.3824\n",
            "Epoch 68/500\n",
            "151/151 [==============================] - 2s 11ms/step - loss: 0.6900 - accuracy: 0.7163 - val_loss: 0.6928 - val_accuracy: 0.4118\n",
            "Epoch 69/500\n",
            "151/151 [==============================] - 2s 10ms/step - loss: 0.6904 - accuracy: 0.6826 - val_loss: 0.6928 - val_accuracy: 0.4118\n",
            "Epoch 70/500\n",
            "151/151 [==============================] - 2s 10ms/step - loss: 0.6899 - accuracy: 0.6970 - val_loss: 0.6928 - val_accuracy: 0.4118\n",
            "Epoch 71/500\n",
            "151/151 [==============================] - 2s 11ms/step - loss: 0.6902 - accuracy: 0.6529 - val_loss: 0.6928 - val_accuracy: 0.4118\n",
            "Epoch 72/500\n",
            "151/151 [==============================] - 2s 11ms/step - loss: 0.6904 - accuracy: 0.6851 - val_loss: 0.6928 - val_accuracy: 0.4118\n",
            "Epoch 73/500\n",
            "151/151 [==============================] - 2s 11ms/step - loss: 0.6903 - accuracy: 0.6858 - val_loss: 0.6928 - val_accuracy: 0.4118\n",
            "Epoch 74/500\n",
            "151/151 [==============================] - 2s 11ms/step - loss: 0.6900 - accuracy: 0.6799 - val_loss: 0.6928 - val_accuracy: 0.4118\n",
            "Epoch 75/500\n",
            "151/151 [==============================] - 2s 10ms/step - loss: 0.6896 - accuracy: 0.6763 - val_loss: 0.6928 - val_accuracy: 0.4118\n",
            "Epoch 76/500\n",
            "151/151 [==============================] - 2s 11ms/step - loss: 0.6906 - accuracy: 0.6775 - val_loss: 0.6928 - val_accuracy: 0.4118\n",
            "Epoch 77/500\n",
            "151/151 [==============================] - 2s 11ms/step - loss: 0.6907 - accuracy: 0.6872 - val_loss: 0.6928 - val_accuracy: 0.4118\n",
            "Epoch 78/500\n",
            "151/151 [==============================] - 2s 11ms/step - loss: 0.6903 - accuracy: 0.7251 - val_loss: 0.6927 - val_accuracy: 0.4118\n",
            "Epoch 79/500\n",
            "151/151 [==============================] - 2s 11ms/step - loss: 0.6895 - accuracy: 0.6891 - val_loss: 0.6927 - val_accuracy: 0.4118\n",
            "Epoch 80/500\n",
            "151/151 [==============================] - 2s 11ms/step - loss: 0.6894 - accuracy: 0.6886 - val_loss: 0.6927 - val_accuracy: 0.4118\n",
            "Epoch 81/500\n",
            "151/151 [==============================] - 2s 11ms/step - loss: 0.6900 - accuracy: 0.6858 - val_loss: 0.6927 - val_accuracy: 0.4118\n",
            "Epoch 82/500\n",
            "151/151 [==============================] - 2s 11ms/step - loss: 0.6900 - accuracy: 0.6967 - val_loss: 0.6927 - val_accuracy: 0.4118\n",
            "Epoch 83/500\n",
            "151/151 [==============================] - 2s 12ms/step - loss: 0.6890 - accuracy: 0.7166 - val_loss: 0.6927 - val_accuracy: 0.4118\n",
            "Epoch 84/500\n",
            "151/151 [==============================] - 2s 11ms/step - loss: 0.6889 - accuracy: 0.6938 - val_loss: 0.6926 - val_accuracy: 0.4118\n",
            "Epoch 85/500\n",
            "151/151 [==============================] - 2s 11ms/step - loss: 0.6887 - accuracy: 0.7055 - val_loss: 0.6926 - val_accuracy: 0.4118\n",
            "Epoch 86/500\n",
            "151/151 [==============================] - 2s 11ms/step - loss: 0.6888 - accuracy: 0.7140 - val_loss: 0.6926 - val_accuracy: 0.4118\n",
            "Epoch 87/500\n",
            "151/151 [==============================] - 2s 10ms/step - loss: 0.6896 - accuracy: 0.6923 - val_loss: 0.6926 - val_accuracy: 0.4118\n",
            "Epoch 88/500\n",
            "151/151 [==============================] - 2s 11ms/step - loss: 0.6889 - accuracy: 0.6979 - val_loss: 0.6926 - val_accuracy: 0.4118\n",
            "Epoch 89/500\n",
            "151/151 [==============================] - 2s 10ms/step - loss: 0.6890 - accuracy: 0.7175 - val_loss: 0.6926 - val_accuracy: 0.4118\n",
            "Epoch 90/500\n",
            "151/151 [==============================] - 2s 10ms/step - loss: 0.6891 - accuracy: 0.7335 - val_loss: 0.6925 - val_accuracy: 0.4118\n",
            "Epoch 91/500\n",
            "151/151 [==============================] - 2s 11ms/step - loss: 0.6894 - accuracy: 0.7069 - val_loss: 0.6925 - val_accuracy: 0.4412\n",
            "Epoch 92/500\n",
            "151/151 [==============================] - 2s 11ms/step - loss: 0.6885 - accuracy: 0.7110 - val_loss: 0.6925 - val_accuracy: 0.4118\n",
            "Epoch 93/500\n",
            "151/151 [==============================] - 2s 10ms/step - loss: 0.6890 - accuracy: 0.7248 - val_loss: 0.6925 - val_accuracy: 0.4118\n",
            "Epoch 94/500\n",
            "151/151 [==============================] - 2s 11ms/step - loss: 0.6884 - accuracy: 0.6918 - val_loss: 0.6925 - val_accuracy: 0.4118\n",
            "Epoch 95/500\n",
            "151/151 [==============================] - 2s 11ms/step - loss: 0.6887 - accuracy: 0.7204 - val_loss: 0.6925 - val_accuracy: 0.4118\n",
            "Epoch 96/500\n",
            "151/151 [==============================] - 2s 11ms/step - loss: 0.6898 - accuracy: 0.6658 - val_loss: 0.6925 - val_accuracy: 0.4118\n",
            "Epoch 97/500\n",
            "151/151 [==============================] - 2s 11ms/step - loss: 0.6888 - accuracy: 0.6984 - val_loss: 0.6925 - val_accuracy: 0.4412\n",
            "Epoch 98/500\n",
            "151/151 [==============================] - 2s 10ms/step - loss: 0.6883 - accuracy: 0.6753 - val_loss: 0.6924 - val_accuracy: 0.4118\n",
            "Epoch 99/500\n",
            "151/151 [==============================] - 2s 11ms/step - loss: 0.6890 - accuracy: 0.7032 - val_loss: 0.6924 - val_accuracy: 0.4118\n",
            "Epoch 100/500\n",
            "151/151 [==============================] - 2s 11ms/step - loss: 0.6890 - accuracy: 0.6909 - val_loss: 0.6924 - val_accuracy: 0.4118\n",
            "Epoch 101/500\n",
            "151/151 [==============================] - 2s 10ms/step - loss: 0.6885 - accuracy: 0.7146 - val_loss: 0.6924 - val_accuracy: 0.4118\n",
            "Epoch 102/500\n",
            "151/151 [==============================] - 2s 11ms/step - loss: 0.6882 - accuracy: 0.7197 - val_loss: 0.6924 - val_accuracy: 0.4118\n",
            "Epoch 103/500\n",
            "151/151 [==============================] - 2s 11ms/step - loss: 0.6889 - accuracy: 0.6995 - val_loss: 0.6924 - val_accuracy: 0.4118\n",
            "Epoch 104/500\n",
            "151/151 [==============================] - 2s 11ms/step - loss: 0.6890 - accuracy: 0.6782 - val_loss: 0.6924 - val_accuracy: 0.4118\n",
            "Epoch 105/500\n",
            "151/151 [==============================] - 2s 11ms/step - loss: 0.6886 - accuracy: 0.7129 - val_loss: 0.6923 - val_accuracy: 0.4118\n",
            "Epoch 106/500\n",
            "151/151 [==============================] - 2s 11ms/step - loss: 0.6882 - accuracy: 0.7102 - val_loss: 0.6923 - val_accuracy: 0.4118\n",
            "Epoch 107/500\n",
            "151/151 [==============================] - 2s 11ms/step - loss: 0.6887 - accuracy: 0.7034 - val_loss: 0.6923 - val_accuracy: 0.4118\n",
            "Epoch 108/500\n",
            "151/151 [==============================] - 2s 10ms/step - loss: 0.6876 - accuracy: 0.6840 - val_loss: 0.6923 - val_accuracy: 0.4118\n",
            "Epoch 109/500\n",
            "151/151 [==============================] - 2s 11ms/step - loss: 0.6880 - accuracy: 0.6965 - val_loss: 0.6923 - val_accuracy: 0.4118\n",
            "Epoch 110/500\n",
            "151/151 [==============================] - 2s 11ms/step - loss: 0.6886 - accuracy: 0.7168 - val_loss: 0.6922 - val_accuracy: 0.4118\n",
            "Epoch 111/500\n",
            "151/151 [==============================] - 2s 11ms/step - loss: 0.6886 - accuracy: 0.6566 - val_loss: 0.6923 - val_accuracy: 0.4118\n",
            "Epoch 112/500\n",
            "151/151 [==============================] - 2s 11ms/step - loss: 0.6882 - accuracy: 0.7117 - val_loss: 0.6923 - val_accuracy: 0.4118\n",
            "Epoch 113/500\n",
            "151/151 [==============================] - 2s 11ms/step - loss: 0.6866 - accuracy: 0.7257 - val_loss: 0.6922 - val_accuracy: 0.4118\n",
            "Epoch 114/500\n",
            "151/151 [==============================] - 2s 11ms/step - loss: 0.6861 - accuracy: 0.7190 - val_loss: 0.6922 - val_accuracy: 0.4118\n",
            "Epoch 115/500\n",
            "151/151 [==============================] - 2s 11ms/step - loss: 0.6871 - accuracy: 0.7519 - val_loss: 0.6921 - val_accuracy: 0.4118\n",
            "Epoch 116/500\n",
            "151/151 [==============================] - 2s 11ms/step - loss: 0.6892 - accuracy: 0.6587 - val_loss: 0.6921 - val_accuracy: 0.4118\n",
            "Epoch 117/500\n",
            "151/151 [==============================] - 2s 10ms/step - loss: 0.6872 - accuracy: 0.7066 - val_loss: 0.6921 - val_accuracy: 0.4118\n",
            "Epoch 118/500\n",
            "151/151 [==============================] - 2s 10ms/step - loss: 0.6883 - accuracy: 0.7238 - val_loss: 0.6921 - val_accuracy: 0.4118\n",
            "Epoch 119/500\n",
            "151/151 [==============================] - 2s 11ms/step - loss: 0.6879 - accuracy: 0.7195 - val_loss: 0.6921 - val_accuracy: 0.4118\n",
            "Epoch 120/500\n",
            "151/151 [==============================] - 2s 11ms/step - loss: 0.6870 - accuracy: 0.7282 - val_loss: 0.6920 - val_accuracy: 0.4118\n",
            "Epoch 121/500\n",
            "151/151 [==============================] - 2s 11ms/step - loss: 0.6872 - accuracy: 0.7222 - val_loss: 0.6921 - val_accuracy: 0.4118\n",
            "Epoch 122/500\n",
            "151/151 [==============================] - 2s 10ms/step - loss: 0.6868 - accuracy: 0.7378 - val_loss: 0.6920 - val_accuracy: 0.4118\n",
            "Epoch 123/500\n",
            "151/151 [==============================] - 2s 11ms/step - loss: 0.6865 - accuracy: 0.7337 - val_loss: 0.6920 - val_accuracy: 0.4118\n",
            "Epoch 124/500\n",
            "151/151 [==============================] - 2s 10ms/step - loss: 0.6867 - accuracy: 0.6837 - val_loss: 0.6920 - val_accuracy: 0.4412\n",
            "Epoch 125/500\n",
            "151/151 [==============================] - 2s 11ms/step - loss: 0.6879 - accuracy: 0.7008 - val_loss: 0.6920 - val_accuracy: 0.4412\n",
            "Epoch 126/500\n",
            "151/151 [==============================] - 2s 11ms/step - loss: 0.6866 - accuracy: 0.7552 - val_loss: 0.6920 - val_accuracy: 0.4412\n",
            "Epoch 127/500\n",
            "151/151 [==============================] - 2s 10ms/step - loss: 0.6875 - accuracy: 0.7437 - val_loss: 0.6920 - val_accuracy: 0.4412\n",
            "Epoch 128/500\n",
            "151/151 [==============================] - 2s 10ms/step - loss: 0.6873 - accuracy: 0.7123 - val_loss: 0.6919 - val_accuracy: 0.4412\n",
            "Epoch 129/500\n",
            "151/151 [==============================] - 2s 11ms/step - loss: 0.6874 - accuracy: 0.7130 - val_loss: 0.6919 - val_accuracy: 0.4412\n",
            "Epoch 130/500\n",
            "151/151 [==============================] - 2s 11ms/step - loss: 0.6864 - accuracy: 0.7279 - val_loss: 0.6919 - val_accuracy: 0.4412\n",
            "Epoch 131/500\n",
            "151/151 [==============================] - 2s 11ms/step - loss: 0.6863 - accuracy: 0.7039 - val_loss: 0.6919 - val_accuracy: 0.4412\n",
            "Epoch 132/500\n",
            "151/151 [==============================] - 2s 11ms/step - loss: 0.6862 - accuracy: 0.7421 - val_loss: 0.6919 - val_accuracy: 0.4412\n",
            "Epoch 133/500\n",
            "151/151 [==============================] - 2s 11ms/step - loss: 0.6863 - accuracy: 0.7320 - val_loss: 0.6919 - val_accuracy: 0.4412\n",
            "Epoch 134/500\n",
            "151/151 [==============================] - 2s 11ms/step - loss: 0.6868 - accuracy: 0.7054 - val_loss: 0.6918 - val_accuracy: 0.4412\n",
            "Epoch 135/500\n",
            "151/151 [==============================] - 2s 11ms/step - loss: 0.6861 - accuracy: 0.7332 - val_loss: 0.6918 - val_accuracy: 0.4412\n",
            "Epoch 136/500\n",
            "151/151 [==============================] - 2s 11ms/step - loss: 0.6867 - accuracy: 0.7256 - val_loss: 0.6918 - val_accuracy: 0.4412\n",
            "Epoch 137/500\n",
            "151/151 [==============================] - 2s 11ms/step - loss: 0.6867 - accuracy: 0.7181 - val_loss: 0.6918 - val_accuracy: 0.4412\n",
            "Epoch 138/500\n",
            "151/151 [==============================] - 2s 11ms/step - loss: 0.6861 - accuracy: 0.7591 - val_loss: 0.6918 - val_accuracy: 0.4412\n",
            "Epoch 139/500\n",
            "151/151 [==============================] - 2s 10ms/step - loss: 0.6864 - accuracy: 0.7127 - val_loss: 0.6918 - val_accuracy: 0.4412\n",
            "Epoch 140/500\n",
            "151/151 [==============================] - 2s 11ms/step - loss: 0.6867 - accuracy: 0.7194 - val_loss: 0.6917 - val_accuracy: 0.4412\n",
            "Epoch 141/500\n",
            "151/151 [==============================] - 2s 10ms/step - loss: 0.6860 - accuracy: 0.7319 - val_loss: 0.6917 - val_accuracy: 0.4412\n",
            "Epoch 142/500\n",
            "151/151 [==============================] - 2s 11ms/step - loss: 0.6875 - accuracy: 0.7380 - val_loss: 0.6917 - val_accuracy: 0.4412\n",
            "Epoch 143/500\n",
            "151/151 [==============================] - 2s 11ms/step - loss: 0.6853 - accuracy: 0.7220 - val_loss: 0.6917 - val_accuracy: 0.4412\n",
            "Epoch 144/500\n",
            "151/151 [==============================] - 2s 11ms/step - loss: 0.6857 - accuracy: 0.7404 - val_loss: 0.6917 - val_accuracy: 0.4412\n",
            "Epoch 145/500\n",
            "151/151 [==============================] - 2s 11ms/step - loss: 0.6867 - accuracy: 0.7012 - val_loss: 0.6916 - val_accuracy: 0.4412\n",
            "Epoch 146/500\n",
            "151/151 [==============================] - 2s 11ms/step - loss: 0.6855 - accuracy: 0.7298 - val_loss: 0.6916 - val_accuracy: 0.4412\n",
            "Epoch 147/500\n",
            "151/151 [==============================] - 2s 11ms/step - loss: 0.6867 - accuracy: 0.6887 - val_loss: 0.6916 - val_accuracy: 0.4412\n",
            "Epoch 148/500\n",
            "151/151 [==============================] - 2s 11ms/step - loss: 0.6856 - accuracy: 0.7012 - val_loss: 0.6916 - val_accuracy: 0.4412\n",
            "Epoch 149/500\n",
            "151/151 [==============================] - 2s 11ms/step - loss: 0.6855 - accuracy: 0.7043 - val_loss: 0.6916 - val_accuracy: 0.4412\n",
            "Epoch 150/500\n",
            "151/151 [==============================] - 2s 11ms/step - loss: 0.6858 - accuracy: 0.7168 - val_loss: 0.6916 - val_accuracy: 0.4412\n",
            "Epoch 151/500\n",
            "151/151 [==============================] - 2s 11ms/step - loss: 0.6864 - accuracy: 0.6974 - val_loss: 0.6916 - val_accuracy: 0.4412\n",
            "Epoch 152/500\n",
            "151/151 [==============================] - 2s 11ms/step - loss: 0.6860 - accuracy: 0.7262 - val_loss: 0.6915 - val_accuracy: 0.4412\n",
            "Epoch 153/500\n",
            "151/151 [==============================] - 2s 10ms/step - loss: 0.6858 - accuracy: 0.7097 - val_loss: 0.6915 - val_accuracy: 0.4412\n",
            "Epoch 154/500\n",
            "151/151 [==============================] - 2s 11ms/step - loss: 0.6855 - accuracy: 0.7154 - val_loss: 0.6915 - val_accuracy: 0.4412\n",
            "Epoch 155/500\n",
            "151/151 [==============================] - 2s 10ms/step - loss: 0.6837 - accuracy: 0.7274 - val_loss: 0.6915 - val_accuracy: 0.4412\n",
            "Epoch 156/500\n",
            "151/151 [==============================] - 2s 11ms/step - loss: 0.6847 - accuracy: 0.7179 - val_loss: 0.6915 - val_accuracy: 0.4412\n",
            "Epoch 157/500\n",
            "151/151 [==============================] - 2s 11ms/step - loss: 0.6851 - accuracy: 0.7255 - val_loss: 0.6915 - val_accuracy: 0.4412\n",
            "Epoch 158/500\n",
            "151/151 [==============================] - 2s 11ms/step - loss: 0.6860 - accuracy: 0.7192 - val_loss: 0.6914 - val_accuracy: 0.4412\n",
            "Epoch 159/500\n",
            "151/151 [==============================] - 2s 11ms/step - loss: 0.6849 - accuracy: 0.7020 - val_loss: 0.6914 - val_accuracy: 0.4412\n",
            "Epoch 160/500\n",
            "151/151 [==============================] - 2s 11ms/step - loss: 0.6852 - accuracy: 0.7300 - val_loss: 0.6914 - val_accuracy: 0.4706\n",
            "Epoch 161/500\n",
            "151/151 [==============================] - 2s 10ms/step - loss: 0.6827 - accuracy: 0.7481 - val_loss: 0.6913 - val_accuracy: 0.4706\n",
            "Epoch 162/500\n",
            "151/151 [==============================] - 2s 11ms/step - loss: 0.6868 - accuracy: 0.7154 - val_loss: 0.6913 - val_accuracy: 0.4706\n",
            "Epoch 163/500\n",
            "151/151 [==============================] - 2s 11ms/step - loss: 0.6857 - accuracy: 0.6965 - val_loss: 0.6913 - val_accuracy: 0.4706\n",
            "Epoch 164/500\n",
            "151/151 [==============================] - 2s 11ms/step - loss: 0.6837 - accuracy: 0.7399 - val_loss: 0.6913 - val_accuracy: 0.4706\n",
            "Epoch 165/500\n",
            "151/151 [==============================] - 2s 10ms/step - loss: 0.6856 - accuracy: 0.7330 - val_loss: 0.6913 - val_accuracy: 0.4706\n",
            "Epoch 166/500\n",
            "151/151 [==============================] - 2s 11ms/step - loss: 0.6856 - accuracy: 0.6878 - val_loss: 0.6912 - val_accuracy: 0.4706\n",
            "Epoch 167/500\n",
            "151/151 [==============================] - 2s 11ms/step - loss: 0.6850 - accuracy: 0.7079 - val_loss: 0.6912 - val_accuracy: 0.4706\n",
            "Epoch 168/500\n",
            "151/151 [==============================] - 2s 11ms/step - loss: 0.6850 - accuracy: 0.7303 - val_loss: 0.6912 - val_accuracy: 0.4706\n",
            "Epoch 169/500\n",
            "151/151 [==============================] - 2s 11ms/step - loss: 0.6857 - accuracy: 0.7096 - val_loss: 0.6912 - val_accuracy: 0.4706\n",
            "Epoch 170/500\n",
            "151/151 [==============================] - 2s 11ms/step - loss: 0.6849 - accuracy: 0.6918 - val_loss: 0.6911 - val_accuracy: 0.4706\n",
            "Epoch 171/500\n",
            "151/151 [==============================] - 2s 11ms/step - loss: 0.6843 - accuracy: 0.7036 - val_loss: 0.6912 - val_accuracy: 0.4706\n",
            "Epoch 172/500\n",
            "151/151 [==============================] - 2s 11ms/step - loss: 0.6844 - accuracy: 0.7320 - val_loss: 0.6911 - val_accuracy: 0.4706\n",
            "Epoch 173/500\n",
            "151/151 [==============================] - 2s 11ms/step - loss: 0.6840 - accuracy: 0.7119 - val_loss: 0.6911 - val_accuracy: 0.4706\n",
            "Epoch 174/500\n",
            "151/151 [==============================] - 2s 11ms/step - loss: 0.6846 - accuracy: 0.7098 - val_loss: 0.6911 - val_accuracy: 0.4706\n",
            "Epoch 175/500\n",
            "151/151 [==============================] - 2s 11ms/step - loss: 0.6830 - accuracy: 0.7494 - val_loss: 0.6911 - val_accuracy: 0.4706\n",
            "Epoch 176/500\n",
            "151/151 [==============================] - 2s 11ms/step - loss: 0.6849 - accuracy: 0.7201 - val_loss: 0.6911 - val_accuracy: 0.4706\n",
            "Epoch 177/500\n",
            "151/151 [==============================] - 2s 11ms/step - loss: 0.6836 - accuracy: 0.6845 - val_loss: 0.6910 - val_accuracy: 0.4706\n",
            "Epoch 178/500\n",
            "151/151 [==============================] - 2s 11ms/step - loss: 0.6858 - accuracy: 0.7309 - val_loss: 0.6910 - val_accuracy: 0.4706\n",
            "Epoch 179/500\n",
            "151/151 [==============================] - 2s 11ms/step - loss: 0.6830 - accuracy: 0.7147 - val_loss: 0.6910 - val_accuracy: 0.4706\n",
            "Epoch 180/500\n",
            "151/151 [==============================] - 2s 11ms/step - loss: 0.6850 - accuracy: 0.7183 - val_loss: 0.6910 - val_accuracy: 0.4706\n",
            "Epoch 181/500\n",
            "151/151 [==============================] - 2s 11ms/step - loss: 0.6833 - accuracy: 0.7302 - val_loss: 0.6909 - val_accuracy: 0.4706\n",
            "Epoch 182/500\n",
            "151/151 [==============================] - 2s 11ms/step - loss: 0.6830 - accuracy: 0.7431 - val_loss: 0.6909 - val_accuracy: 0.4706\n",
            "Epoch 183/500\n",
            "151/151 [==============================] - 2s 11ms/step - loss: 0.6848 - accuracy: 0.7358 - val_loss: 0.6909 - val_accuracy: 0.4706\n",
            "Epoch 184/500\n",
            "151/151 [==============================] - 2s 11ms/step - loss: 0.6836 - accuracy: 0.7232 - val_loss: 0.6909 - val_accuracy: 0.4706\n",
            "Epoch 185/500\n",
            "151/151 [==============================] - 2s 11ms/step - loss: 0.6817 - accuracy: 0.7622 - val_loss: 0.6908 - val_accuracy: 0.4706\n",
            "Epoch 186/500\n",
            "151/151 [==============================] - 2s 11ms/step - loss: 0.6828 - accuracy: 0.7452 - val_loss: 0.6908 - val_accuracy: 0.4706\n",
            "Epoch 187/500\n",
            "151/151 [==============================] - 2s 11ms/step - loss: 0.6850 - accuracy: 0.7018 - val_loss: 0.6908 - val_accuracy: 0.4706\n",
            "Epoch 188/500\n",
            "151/151 [==============================] - 2s 11ms/step - loss: 0.6825 - accuracy: 0.7254 - val_loss: 0.6908 - val_accuracy: 0.4706\n",
            "Epoch 189/500\n",
            "151/151 [==============================] - 2s 11ms/step - loss: 0.6841 - accuracy: 0.7459 - val_loss: 0.6908 - val_accuracy: 0.4706\n",
            "Epoch 190/500\n",
            "151/151 [==============================] - 2s 11ms/step - loss: 0.6841 - accuracy: 0.7416 - val_loss: 0.6907 - val_accuracy: 0.4706\n",
            "Epoch 191/500\n",
            "151/151 [==============================] - 2s 11ms/step - loss: 0.6820 - accuracy: 0.7424 - val_loss: 0.6907 - val_accuracy: 0.4706\n",
            "Epoch 192/500\n",
            "151/151 [==============================] - 2s 11ms/step - loss: 0.6829 - accuracy: 0.7400 - val_loss: 0.6907 - val_accuracy: 0.4706\n",
            "Epoch 193/500\n",
            "151/151 [==============================] - 2s 11ms/step - loss: 0.6839 - accuracy: 0.7205 - val_loss: 0.6907 - val_accuracy: 0.4706\n",
            "Epoch 194/500\n",
            "151/151 [==============================] - 2s 11ms/step - loss: 0.6834 - accuracy: 0.7162 - val_loss: 0.6907 - val_accuracy: 0.4706\n",
            "Epoch 195/500\n",
            "151/151 [==============================] - 2s 11ms/step - loss: 0.6831 - accuracy: 0.7319 - val_loss: 0.6907 - val_accuracy: 0.4706\n",
            "Epoch 196/500\n",
            "151/151 [==============================] - 2s 11ms/step - loss: 0.6839 - accuracy: 0.7203 - val_loss: 0.6906 - val_accuracy: 0.4706\n",
            "Epoch 197/500\n",
            "151/151 [==============================] - 2s 11ms/step - loss: 0.6841 - accuracy: 0.7105 - val_loss: 0.6906 - val_accuracy: 0.4706\n",
            "Epoch 198/500\n",
            "151/151 [==============================] - 2s 11ms/step - loss: 0.6836 - accuracy: 0.6966 - val_loss: 0.6906 - val_accuracy: 0.4706\n",
            "Epoch 199/500\n",
            "151/151 [==============================] - 2s 11ms/step - loss: 0.6817 - accuracy: 0.7345 - val_loss: 0.6906 - val_accuracy: 0.4706\n",
            "Epoch 200/500\n",
            "151/151 [==============================] - 2s 11ms/step - loss: 0.6840 - accuracy: 0.7200 - val_loss: 0.6905 - val_accuracy: 0.4706\n",
            "Epoch 201/500\n",
            "151/151 [==============================] - 2s 11ms/step - loss: 0.6822 - accuracy: 0.7121 - val_loss: 0.6905 - val_accuracy: 0.4706\n",
            "Epoch 202/500\n",
            "151/151 [==============================] - 2s 11ms/step - loss: 0.6822 - accuracy: 0.7419 - val_loss: 0.6905 - val_accuracy: 0.4706\n",
            "Epoch 203/500\n",
            "151/151 [==============================] - 2s 11ms/step - loss: 0.6823 - accuracy: 0.7269 - val_loss: 0.6904 - val_accuracy: 0.4706\n",
            "Epoch 204/500\n",
            "151/151 [==============================] - 2s 11ms/step - loss: 0.6831 - accuracy: 0.7198 - val_loss: 0.6904 - val_accuracy: 0.4706\n",
            "Epoch 205/500\n",
            "151/151 [==============================] - 2s 10ms/step - loss: 0.6807 - accuracy: 0.7273 - val_loss: 0.6904 - val_accuracy: 0.4706\n",
            "Epoch 206/500\n",
            "151/151 [==============================] - 2s 11ms/step - loss: 0.6817 - accuracy: 0.7239 - val_loss: 0.6904 - val_accuracy: 0.4706\n",
            "Epoch 207/500\n",
            "151/151 [==============================] - 2s 11ms/step - loss: 0.6824 - accuracy: 0.7219 - val_loss: 0.6903 - val_accuracy: 0.4706\n",
            "Epoch 208/500\n",
            "151/151 [==============================] - 2s 11ms/step - loss: 0.6823 - accuracy: 0.6993 - val_loss: 0.6903 - val_accuracy: 0.4706\n",
            "Epoch 209/500\n",
            "151/151 [==============================] - 2s 11ms/step - loss: 0.6805 - accuracy: 0.7528 - val_loss: 0.6903 - val_accuracy: 0.4706\n",
            "Epoch 210/500\n",
            "151/151 [==============================] - 2s 11ms/step - loss: 0.6819 - accuracy: 0.7099 - val_loss: 0.6902 - val_accuracy: 0.4706\n",
            "Epoch 211/500\n",
            "151/151 [==============================] - 2s 11ms/step - loss: 0.6811 - accuracy: 0.7445 - val_loss: 0.6902 - val_accuracy: 0.4706\n",
            "Epoch 212/500\n",
            "151/151 [==============================] - 2s 10ms/step - loss: 0.6837 - accuracy: 0.6943 - val_loss: 0.6902 - val_accuracy: 0.4706\n",
            "Epoch 213/500\n",
            "151/151 [==============================] - 2s 11ms/step - loss: 0.6839 - accuracy: 0.7038 - val_loss: 0.6902 - val_accuracy: 0.4706\n",
            "Epoch 214/500\n",
            "151/151 [==============================] - 2s 11ms/step - loss: 0.6816 - accuracy: 0.7427 - val_loss: 0.6901 - val_accuracy: 0.4706\n",
            "Epoch 215/500\n",
            "151/151 [==============================] - 2s 10ms/step - loss: 0.6833 - accuracy: 0.7272 - val_loss: 0.6901 - val_accuracy: 0.4706\n",
            "Epoch 216/500\n",
            "151/151 [==============================] - 2s 11ms/step - loss: 0.6816 - accuracy: 0.7370 - val_loss: 0.6901 - val_accuracy: 0.4706\n",
            "Epoch 217/500\n",
            "151/151 [==============================] - 2s 11ms/step - loss: 0.6829 - accuracy: 0.7446 - val_loss: 0.6900 - val_accuracy: 0.4706\n",
            "Epoch 218/500\n",
            "151/151 [==============================] - 2s 11ms/step - loss: 0.6796 - accuracy: 0.7453 - val_loss: 0.6900 - val_accuracy: 0.4706\n",
            "Epoch 219/500\n",
            "151/151 [==============================] - 2s 11ms/step - loss: 0.6808 - accuracy: 0.7304 - val_loss: 0.6900 - val_accuracy: 0.4706\n",
            "Epoch 220/500\n",
            "151/151 [==============================] - 2s 10ms/step - loss: 0.6812 - accuracy: 0.7577 - val_loss: 0.6900 - val_accuracy: 0.4706\n",
            "Epoch 221/500\n",
            "151/151 [==============================] - 2s 11ms/step - loss: 0.6816 - accuracy: 0.7233 - val_loss: 0.6899 - val_accuracy: 0.4706\n",
            "Epoch 222/500\n",
            "151/151 [==============================] - 2s 11ms/step - loss: 0.6810 - accuracy: 0.7346 - val_loss: 0.6899 - val_accuracy: 0.4706\n",
            "Epoch 223/500\n",
            "151/151 [==============================] - 2s 11ms/step - loss: 0.6823 - accuracy: 0.7325 - val_loss: 0.6899 - val_accuracy: 0.4706\n",
            "Epoch 224/500\n",
            "151/151 [==============================] - 2s 11ms/step - loss: 0.6789 - accuracy: 0.7164 - val_loss: 0.6899 - val_accuracy: 0.4706\n",
            "Epoch 225/500\n",
            "151/151 [==============================] - 2s 11ms/step - loss: 0.6815 - accuracy: 0.7157 - val_loss: 0.6899 - val_accuracy: 0.4706\n",
            "Epoch 226/500\n",
            "151/151 [==============================] - 2s 11ms/step - loss: 0.6838 - accuracy: 0.7115 - val_loss: 0.6898 - val_accuracy: 0.4706\n",
            "Epoch 227/500\n",
            "151/151 [==============================] - 2s 11ms/step - loss: 0.6803 - accuracy: 0.7040 - val_loss: 0.6898 - val_accuracy: 0.4706\n",
            "Epoch 228/500\n",
            "151/151 [==============================] - 2s 11ms/step - loss: 0.6782 - accuracy: 0.7248 - val_loss: 0.6898 - val_accuracy: 0.4706\n",
            "Epoch 229/500\n",
            "151/151 [==============================] - 2s 11ms/step - loss: 0.6801 - accuracy: 0.7223 - val_loss: 0.6897 - val_accuracy: 0.4706\n",
            "Epoch 230/500\n",
            "151/151 [==============================] - 2s 11ms/step - loss: 0.6792 - accuracy: 0.7441 - val_loss: 0.6897 - val_accuracy: 0.4706\n",
            "Epoch 231/500\n",
            "151/151 [==============================] - 2s 11ms/step - loss: 0.6810 - accuracy: 0.7000 - val_loss: 0.6897 - val_accuracy: 0.4706\n",
            "Epoch 232/500\n",
            "151/151 [==============================] - 2s 11ms/step - loss: 0.6812 - accuracy: 0.7511 - val_loss: 0.6897 - val_accuracy: 0.5000\n",
            "Epoch 233/500\n",
            "151/151 [==============================] - 2s 11ms/step - loss: 0.6804 - accuracy: 0.7097 - val_loss: 0.6897 - val_accuracy: 0.5000\n",
            "Epoch 234/500\n",
            "151/151 [==============================] - 2s 11ms/step - loss: 0.6805 - accuracy: 0.7176 - val_loss: 0.6897 - val_accuracy: 0.5000\n",
            "Epoch 235/500\n",
            "151/151 [==============================] - 2s 11ms/step - loss: 0.6802 - accuracy: 0.7639 - val_loss: 0.6897 - val_accuracy: 0.5000\n",
            "Epoch 236/500\n",
            "151/151 [==============================] - 2s 11ms/step - loss: 0.6780 - accuracy: 0.7670 - val_loss: 0.6896 - val_accuracy: 0.5000\n",
            "Epoch 237/500\n",
            "151/151 [==============================] - 2s 11ms/step - loss: 0.6794 - accuracy: 0.7454 - val_loss: 0.6897 - val_accuracy: 0.5000\n",
            "Epoch 238/500\n",
            "151/151 [==============================] - 2s 11ms/step - loss: 0.6787 - accuracy: 0.7321 - val_loss: 0.6896 - val_accuracy: 0.5000\n",
            "Epoch 239/500\n",
            "151/151 [==============================] - 2s 11ms/step - loss: 0.6776 - accuracy: 0.7027 - val_loss: 0.6896 - val_accuracy: 0.5000\n",
            "Epoch 240/500\n",
            "151/151 [==============================] - 2s 11ms/step - loss: 0.6797 - accuracy: 0.7069 - val_loss: 0.6896 - val_accuracy: 0.5000\n",
            "Epoch 241/500\n",
            "151/151 [==============================] - 2s 11ms/step - loss: 0.6791 - accuracy: 0.7512 - val_loss: 0.6896 - val_accuracy: 0.5000\n",
            "Epoch 242/500\n",
            "151/151 [==============================] - 2s 11ms/step - loss: 0.6805 - accuracy: 0.7210 - val_loss: 0.6895 - val_accuracy: 0.5000\n",
            "Epoch 243/500\n",
            "151/151 [==============================] - 2s 11ms/step - loss: 0.6784 - accuracy: 0.7234 - val_loss: 0.6895 - val_accuracy: 0.5000\n",
            "Epoch 244/500\n",
            "151/151 [==============================] - 2s 11ms/step - loss: 0.6789 - accuracy: 0.7113 - val_loss: 0.6895 - val_accuracy: 0.5000\n",
            "Epoch 245/500\n",
            "151/151 [==============================] - 2s 10ms/step - loss: 0.6796 - accuracy: 0.7416 - val_loss: 0.6895 - val_accuracy: 0.5000\n",
            "Epoch 246/500\n",
            "151/151 [==============================] - 2s 11ms/step - loss: 0.6801 - accuracy: 0.7431 - val_loss: 0.6894 - val_accuracy: 0.5000\n",
            "Epoch 247/500\n",
            "151/151 [==============================] - 2s 11ms/step - loss: 0.6784 - accuracy: 0.7749 - val_loss: 0.6894 - val_accuracy: 0.5000\n",
            "Epoch 248/500\n",
            "151/151 [==============================] - 2s 11ms/step - loss: 0.6795 - accuracy: 0.7463 - val_loss: 0.6894 - val_accuracy: 0.5000\n",
            "Epoch 249/500\n",
            "151/151 [==============================] - 2s 11ms/step - loss: 0.6788 - accuracy: 0.7263 - val_loss: 0.6894 - val_accuracy: 0.5000\n",
            "Epoch 250/500\n",
            "151/151 [==============================] - 2s 11ms/step - loss: 0.6791 - accuracy: 0.7179 - val_loss: 0.6894 - val_accuracy: 0.5000\n",
            "Epoch 251/500\n",
            "151/151 [==============================] - 2s 11ms/step - loss: 0.6776 - accuracy: 0.7703 - val_loss: 0.6893 - val_accuracy: 0.5000\n",
            "Epoch 252/500\n",
            "151/151 [==============================] - 2s 11ms/step - loss: 0.6794 - accuracy: 0.7220 - val_loss: 0.6893 - val_accuracy: 0.5000\n",
            "Epoch 253/500\n",
            "151/151 [==============================] - 2s 11ms/step - loss: 0.6778 - accuracy: 0.7242 - val_loss: 0.6893 - val_accuracy: 0.5000\n",
            "Epoch 254/500\n",
            "151/151 [==============================] - 2s 11ms/step - loss: 0.6785 - accuracy: 0.7241 - val_loss: 0.6893 - val_accuracy: 0.5000\n",
            "Epoch 255/500\n",
            "151/151 [==============================] - 2s 11ms/step - loss: 0.6777 - accuracy: 0.7711 - val_loss: 0.6893 - val_accuracy: 0.5000\n",
            "Epoch 256/500\n",
            "151/151 [==============================] - 2s 11ms/step - loss: 0.6797 - accuracy: 0.7151 - val_loss: 0.6892 - val_accuracy: 0.5000\n",
            "Epoch 257/500\n",
            "151/151 [==============================] - 2s 11ms/step - loss: 0.6788 - accuracy: 0.7357 - val_loss: 0.6892 - val_accuracy: 0.5000\n",
            "Epoch 258/500\n",
            "151/151 [==============================] - 2s 11ms/step - loss: 0.6764 - accuracy: 0.7336 - val_loss: 0.6891 - val_accuracy: 0.5000\n",
            "Epoch 259/500\n",
            "151/151 [==============================] - 2s 11ms/step - loss: 0.6802 - accuracy: 0.7082 - val_loss: 0.6891 - val_accuracy: 0.5000\n",
            "Epoch 260/500\n",
            "151/151 [==============================] - 2s 11ms/step - loss: 0.6813 - accuracy: 0.7094 - val_loss: 0.6891 - val_accuracy: 0.5000\n",
            "Epoch 261/500\n",
            "151/151 [==============================] - 2s 11ms/step - loss: 0.6794 - accuracy: 0.7075 - val_loss: 0.6891 - val_accuracy: 0.5000\n",
            "Epoch 262/500\n",
            "151/151 [==============================] - 2s 11ms/step - loss: 0.6788 - accuracy: 0.7254 - val_loss: 0.6890 - val_accuracy: 0.5000\n",
            "Epoch 263/500\n",
            "151/151 [==============================] - 2s 11ms/step - loss: 0.6788 - accuracy: 0.7227 - val_loss: 0.6891 - val_accuracy: 0.5000\n",
            "Epoch 264/500\n",
            "151/151 [==============================] - 2s 11ms/step - loss: 0.6794 - accuracy: 0.7144 - val_loss: 0.6890 - val_accuracy: 0.5000\n",
            "Epoch 265/500\n",
            "151/151 [==============================] - 2s 11ms/step - loss: 0.6798 - accuracy: 0.7490 - val_loss: 0.6890 - val_accuracy: 0.5000\n",
            "Epoch 266/500\n",
            "151/151 [==============================] - 2s 11ms/step - loss: 0.6786 - accuracy: 0.7348 - val_loss: 0.6890 - val_accuracy: 0.5000\n",
            "Epoch 267/500\n",
            "151/151 [==============================] - 2s 11ms/step - loss: 0.6758 - accuracy: 0.7729 - val_loss: 0.6889 - val_accuracy: 0.5000\n",
            "Epoch 268/500\n",
            "151/151 [==============================] - 2s 11ms/step - loss: 0.6768 - accuracy: 0.7482 - val_loss: 0.6889 - val_accuracy: 0.5000\n",
            "Epoch 269/500\n",
            "151/151 [==============================] - 2s 11ms/step - loss: 0.6780 - accuracy: 0.7345 - val_loss: 0.6889 - val_accuracy: 0.5000\n",
            "Epoch 270/500\n",
            "151/151 [==============================] - 2s 11ms/step - loss: 0.6765 - accuracy: 0.7436 - val_loss: 0.6889 - val_accuracy: 0.5000\n",
            "Epoch 271/500\n",
            "151/151 [==============================] - 2s 11ms/step - loss: 0.6766 - accuracy: 0.7273 - val_loss: 0.6889 - val_accuracy: 0.5000\n",
            "Epoch 272/500\n",
            "151/151 [==============================] - 2s 11ms/step - loss: 0.6779 - accuracy: 0.7066 - val_loss: 0.6888 - val_accuracy: 0.5000\n",
            "Epoch 273/500\n",
            "151/151 [==============================] - 2s 11ms/step - loss: 0.6791 - accuracy: 0.7134 - val_loss: 0.6887 - val_accuracy: 0.5000\n",
            "Epoch 274/500\n",
            "151/151 [==============================] - 2s 11ms/step - loss: 0.6770 - accuracy: 0.7447 - val_loss: 0.6887 - val_accuracy: 0.5000\n",
            "Epoch 275/500\n",
            "151/151 [==============================] - 2s 11ms/step - loss: 0.6785 - accuracy: 0.7101 - val_loss: 0.6887 - val_accuracy: 0.5000\n",
            "Epoch 276/500\n",
            "151/151 [==============================] - 2s 11ms/step - loss: 0.6776 - accuracy: 0.7272 - val_loss: 0.6887 - val_accuracy: 0.5000\n",
            "Epoch 277/500\n",
            "151/151 [==============================] - 2s 11ms/step - loss: 0.6778 - accuracy: 0.7219 - val_loss: 0.6887 - val_accuracy: 0.5000\n",
            "Epoch 278/500\n",
            "151/151 [==============================] - 2s 11ms/step - loss: 0.6758 - accuracy: 0.7445 - val_loss: 0.6887 - val_accuracy: 0.5000\n",
            "Epoch 279/500\n",
            "151/151 [==============================] - 2s 11ms/step - loss: 0.6774 - accuracy: 0.7536 - val_loss: 0.6887 - val_accuracy: 0.5000\n",
            "Epoch 280/500\n",
            "151/151 [==============================] - 2s 11ms/step - loss: 0.6784 - accuracy: 0.7479 - val_loss: 0.6887 - val_accuracy: 0.5000\n",
            "Epoch 281/500\n",
            "151/151 [==============================] - 2s 11ms/step - loss: 0.6775 - accuracy: 0.7375 - val_loss: 0.6886 - val_accuracy: 0.5000\n",
            "Epoch 282/500\n",
            "151/151 [==============================] - 2s 11ms/step - loss: 0.6782 - accuracy: 0.7115 - val_loss: 0.6886 - val_accuracy: 0.5000\n",
            "Epoch 283/500\n",
            "151/151 [==============================] - 2s 11ms/step - loss: 0.6728 - accuracy: 0.7486 - val_loss: 0.6886 - val_accuracy: 0.5000\n",
            "Epoch 284/500\n",
            "151/151 [==============================] - 2s 11ms/step - loss: 0.6783 - accuracy: 0.7065 - val_loss: 0.6886 - val_accuracy: 0.5000\n",
            "Epoch 285/500\n",
            "151/151 [==============================] - 2s 11ms/step - loss: 0.6736 - accuracy: 0.7745 - val_loss: 0.6885 - val_accuracy: 0.5000\n",
            "Epoch 286/500\n",
            "151/151 [==============================] - 2s 10ms/step - loss: 0.6777 - accuracy: 0.7512 - val_loss: 0.6885 - val_accuracy: 0.5000\n",
            "Epoch 287/500\n",
            "151/151 [==============================] - 2s 11ms/step - loss: 0.6753 - accuracy: 0.7119 - val_loss: 0.6885 - val_accuracy: 0.5000\n",
            "Epoch 288/500\n",
            "151/151 [==============================] - 2s 11ms/step - loss: 0.6779 - accuracy: 0.7471 - val_loss: 0.6885 - val_accuracy: 0.5000\n",
            "Epoch 289/500\n",
            "151/151 [==============================] - 2s 11ms/step - loss: 0.6774 - accuracy: 0.7438 - val_loss: 0.6885 - val_accuracy: 0.5000\n",
            "Epoch 290/500\n",
            "151/151 [==============================] - 2s 11ms/step - loss: 0.6745 - accuracy: 0.7269 - val_loss: 0.6884 - val_accuracy: 0.5000\n",
            "Epoch 291/500\n",
            "151/151 [==============================] - 2s 11ms/step - loss: 0.6726 - accuracy: 0.7306 - val_loss: 0.6884 - val_accuracy: 0.5000\n",
            "Epoch 292/500\n",
            "151/151 [==============================] - 2s 11ms/step - loss: 0.6774 - accuracy: 0.7346 - val_loss: 0.6884 - val_accuracy: 0.5000\n",
            "Epoch 293/500\n",
            "151/151 [==============================] - 2s 11ms/step - loss: 0.6759 - accuracy: 0.7133 - val_loss: 0.6883 - val_accuracy: 0.5000\n",
            "Epoch 294/500\n",
            "151/151 [==============================] - 2s 11ms/step - loss: 0.6760 - accuracy: 0.7178 - val_loss: 0.6883 - val_accuracy: 0.5000\n",
            "Epoch 295/500\n",
            "151/151 [==============================] - 2s 11ms/step - loss: 0.6745 - accuracy: 0.7244 - val_loss: 0.6883 - val_accuracy: 0.5000\n",
            "Epoch 296/500\n",
            "151/151 [==============================] - 2s 11ms/step - loss: 0.6790 - accuracy: 0.6983 - val_loss: 0.6882 - val_accuracy: 0.5000\n",
            "Epoch 297/500\n",
            "151/151 [==============================] - 2s 11ms/step - loss: 0.6771 - accuracy: 0.7124 - val_loss: 0.6882 - val_accuracy: 0.5000\n",
            "Epoch 298/500\n",
            "151/151 [==============================] - 2s 11ms/step - loss: 0.6763 - accuracy: 0.7398 - val_loss: 0.6881 - val_accuracy: 0.5000\n",
            "Epoch 299/500\n",
            "151/151 [==============================] - 2s 11ms/step - loss: 0.6753 - accuracy: 0.7238 - val_loss: 0.6882 - val_accuracy: 0.5000\n",
            "Epoch 300/500\n",
            "151/151 [==============================] - 2s 11ms/step - loss: 0.6771 - accuracy: 0.6903 - val_loss: 0.6882 - val_accuracy: 0.5000\n",
            "Epoch 301/500\n",
            "151/151 [==============================] - 2s 11ms/step - loss: 0.6719 - accuracy: 0.7653 - val_loss: 0.6881 - val_accuracy: 0.5000\n",
            "Epoch 302/500\n",
            "151/151 [==============================] - 2s 11ms/step - loss: 0.6742 - accuracy: 0.7318 - val_loss: 0.6880 - val_accuracy: 0.5000\n",
            "Epoch 303/500\n",
            "151/151 [==============================] - 2s 11ms/step - loss: 0.6737 - accuracy: 0.7241 - val_loss: 0.6880 - val_accuracy: 0.5000\n",
            "Epoch 304/500\n",
            "151/151 [==============================] - 2s 11ms/step - loss: 0.6779 - accuracy: 0.7152 - val_loss: 0.6880 - val_accuracy: 0.5000\n",
            "Epoch 305/500\n",
            "151/151 [==============================] - 2s 11ms/step - loss: 0.6762 - accuracy: 0.7250 - val_loss: 0.6880 - val_accuracy: 0.5000\n",
            "Epoch 306/500\n",
            "151/151 [==============================] - 2s 11ms/step - loss: 0.6785 - accuracy: 0.7047 - val_loss: 0.6879 - val_accuracy: 0.5000\n",
            "Epoch 307/500\n",
            "151/151 [==============================] - 2s 11ms/step - loss: 0.6727 - accuracy: 0.7664 - val_loss: 0.6880 - val_accuracy: 0.5000\n",
            "Epoch 308/500\n",
            "151/151 [==============================] - 2s 11ms/step - loss: 0.6750 - accuracy: 0.7449 - val_loss: 0.6879 - val_accuracy: 0.5000\n",
            "Epoch 309/500\n",
            "151/151 [==============================] - 2s 11ms/step - loss: 0.6741 - accuracy: 0.7269 - val_loss: 0.6878 - val_accuracy: 0.5000\n",
            "Epoch 310/500\n",
            "151/151 [==============================] - 2s 11ms/step - loss: 0.6752 - accuracy: 0.7239 - val_loss: 0.6878 - val_accuracy: 0.5000\n",
            "Epoch 311/500\n",
            "151/151 [==============================] - 2s 11ms/step - loss: 0.6724 - accuracy: 0.7313 - val_loss: 0.6878 - val_accuracy: 0.5000\n",
            "Epoch 312/500\n",
            "151/151 [==============================] - 2s 11ms/step - loss: 0.6723 - accuracy: 0.7209 - val_loss: 0.6878 - val_accuracy: 0.5000\n",
            "Epoch 313/500\n",
            "151/151 [==============================] - 2s 11ms/step - loss: 0.6738 - accuracy: 0.7325 - val_loss: 0.6877 - val_accuracy: 0.5000\n",
            "Epoch 314/500\n",
            "151/151 [==============================] - 2s 10ms/step - loss: 0.6728 - accuracy: 0.7546 - val_loss: 0.6878 - val_accuracy: 0.5000\n",
            "Epoch 315/500\n",
            "151/151 [==============================] - 2s 11ms/step - loss: 0.6743 - accuracy: 0.7336 - val_loss: 0.6877 - val_accuracy: 0.5000\n",
            "Epoch 316/500\n",
            "151/151 [==============================] - 2s 11ms/step - loss: 0.6765 - accuracy: 0.7167 - val_loss: 0.6877 - val_accuracy: 0.5000\n",
            "Epoch 317/500\n",
            "151/151 [==============================] - 2s 11ms/step - loss: 0.6749 - accuracy: 0.7348 - val_loss: 0.6877 - val_accuracy: 0.5000\n",
            "Epoch 318/500\n",
            "151/151 [==============================] - 2s 11ms/step - loss: 0.6719 - accuracy: 0.7758 - val_loss: 0.6876 - val_accuracy: 0.5000\n",
            "Epoch 319/500\n",
            "151/151 [==============================] - 2s 11ms/step - loss: 0.6737 - accuracy: 0.7346 - val_loss: 0.6876 - val_accuracy: 0.5000\n",
            "Epoch 320/500\n",
            "151/151 [==============================] - 2s 11ms/step - loss: 0.6726 - accuracy: 0.7485 - val_loss: 0.6876 - val_accuracy: 0.5000\n",
            "Epoch 321/500\n",
            "151/151 [==============================] - 2s 10ms/step - loss: 0.6747 - accuracy: 0.7337 - val_loss: 0.6876 - val_accuracy: 0.5000\n",
            "Epoch 322/500\n",
            "151/151 [==============================] - 2s 11ms/step - loss: 0.6728 - accuracy: 0.7192 - val_loss: 0.6875 - val_accuracy: 0.5000\n",
            "Epoch 323/500\n",
            "151/151 [==============================] - 2s 11ms/step - loss: 0.6719 - accuracy: 0.7090 - val_loss: 0.6875 - val_accuracy: 0.5000\n",
            "Epoch 324/500\n",
            "151/151 [==============================] - 2s 10ms/step - loss: 0.6755 - accuracy: 0.7504 - val_loss: 0.6875 - val_accuracy: 0.5000\n",
            "Epoch 325/500\n",
            "151/151 [==============================] - 2s 11ms/step - loss: 0.6741 - accuracy: 0.7445 - val_loss: 0.6875 - val_accuracy: 0.5000\n",
            "Epoch 326/500\n",
            "151/151 [==============================] - 2s 11ms/step - loss: 0.6733 - accuracy: 0.7347 - val_loss: 0.6875 - val_accuracy: 0.5000\n",
            "Epoch 327/500\n",
            "151/151 [==============================] - 2s 11ms/step - loss: 0.6727 - accuracy: 0.7283 - val_loss: 0.6874 - val_accuracy: 0.5000\n",
            "Epoch 328/500\n",
            "151/151 [==============================] - 2s 11ms/step - loss: 0.6693 - accuracy: 0.7659 - val_loss: 0.6875 - val_accuracy: 0.5000\n",
            "Epoch 329/500\n",
            "151/151 [==============================] - 2s 11ms/step - loss: 0.6753 - accuracy: 0.7289 - val_loss: 0.6874 - val_accuracy: 0.5000\n",
            "Epoch 330/500\n",
            "151/151 [==============================] - 2s 11ms/step - loss: 0.6730 - accuracy: 0.7435 - val_loss: 0.6874 - val_accuracy: 0.5000\n",
            "Epoch 331/500\n",
            "151/151 [==============================] - 2s 11ms/step - loss: 0.6738 - accuracy: 0.7149 - val_loss: 0.6873 - val_accuracy: 0.5000\n",
            "Epoch 332/500\n",
            "151/151 [==============================] - 2s 11ms/step - loss: 0.6723 - accuracy: 0.7412 - val_loss: 0.6873 - val_accuracy: 0.5000\n",
            "Epoch 333/500\n",
            "151/151 [==============================] - 2s 11ms/step - loss: 0.6731 - accuracy: 0.7237 - val_loss: 0.6873 - val_accuracy: 0.5000\n",
            "Epoch 334/500\n",
            "151/151 [==============================] - 2s 11ms/step - loss: 0.6742 - accuracy: 0.7211 - val_loss: 0.6873 - val_accuracy: 0.5000\n",
            "Epoch 335/500\n",
            "151/151 [==============================] - 2s 11ms/step - loss: 0.6711 - accuracy: 0.7271 - val_loss: 0.6872 - val_accuracy: 0.5000\n",
            "Epoch 336/500\n",
            "151/151 [==============================] - 2s 11ms/step - loss: 0.6722 - accuracy: 0.7322 - val_loss: 0.6872 - val_accuracy: 0.5000\n",
            "Epoch 337/500\n",
            "151/151 [==============================] - 2s 11ms/step - loss: 0.6708 - accuracy: 0.7707 - val_loss: 0.6872 - val_accuracy: 0.5000\n",
            "Epoch 338/500\n",
            "151/151 [==============================] - 2s 11ms/step - loss: 0.6700 - accuracy: 0.7516 - val_loss: 0.6872 - val_accuracy: 0.5000\n",
            "Epoch 339/500\n",
            "151/151 [==============================] - 2s 11ms/step - loss: 0.6717 - accuracy: 0.7681 - val_loss: 0.6871 - val_accuracy: 0.5000\n",
            "Epoch 340/500\n",
            "151/151 [==============================] - 2s 12ms/step - loss: 0.6725 - accuracy: 0.7420 - val_loss: 0.6871 - val_accuracy: 0.5000\n",
            "Epoch 341/500\n",
            "151/151 [==============================] - 2s 11ms/step - loss: 0.6694 - accuracy: 0.7585 - val_loss: 0.6871 - val_accuracy: 0.5000\n",
            "Epoch 342/500\n",
            "151/151 [==============================] - 2s 11ms/step - loss: 0.6700 - accuracy: 0.7228 - val_loss: 0.6871 - val_accuracy: 0.5000\n",
            "Epoch 343/500\n",
            "151/151 [==============================] - 2s 11ms/step - loss: 0.6734 - accuracy: 0.7478 - val_loss: 0.6871 - val_accuracy: 0.5000\n",
            "Epoch 344/500\n",
            "151/151 [==============================] - 2s 11ms/step - loss: 0.6735 - accuracy: 0.7446 - val_loss: 0.6870 - val_accuracy: 0.5000\n",
            "Epoch 345/500\n",
            "151/151 [==============================] - 2s 11ms/step - loss: 0.6721 - accuracy: 0.7577 - val_loss: 0.6870 - val_accuracy: 0.5000\n",
            "Epoch 346/500\n",
            "151/151 [==============================] - 2s 11ms/step - loss: 0.6722 - accuracy: 0.7466 - val_loss: 0.6870 - val_accuracy: 0.5000\n",
            "Epoch 347/500\n",
            "151/151 [==============================] - 2s 11ms/step - loss: 0.6737 - accuracy: 0.7159 - val_loss: 0.6869 - val_accuracy: 0.5000\n",
            "Epoch 348/500\n",
            "151/151 [==============================] - 2s 11ms/step - loss: 0.6713 - accuracy: 0.7190 - val_loss: 0.6868 - val_accuracy: 0.5000\n",
            "Epoch 349/500\n",
            "151/151 [==============================] - 2s 11ms/step - loss: 0.6726 - accuracy: 0.7185 - val_loss: 0.6868 - val_accuracy: 0.5000\n",
            "Epoch 350/500\n",
            "151/151 [==============================] - 2s 11ms/step - loss: 0.6723 - accuracy: 0.7405 - val_loss: 0.6868 - val_accuracy: 0.5000\n",
            "Epoch 351/500\n",
            "151/151 [==============================] - 2s 11ms/step - loss: 0.6760 - accuracy: 0.6922 - val_loss: 0.6868 - val_accuracy: 0.5000\n",
            "Epoch 352/500\n",
            "151/151 [==============================] - 2s 11ms/step - loss: 0.6769 - accuracy: 0.7226 - val_loss: 0.6867 - val_accuracy: 0.5000\n",
            "Epoch 353/500\n",
            "151/151 [==============================] - 2s 11ms/step - loss: 0.6709 - accuracy: 0.7301 - val_loss: 0.6867 - val_accuracy: 0.5000\n",
            "Epoch 354/500\n",
            "151/151 [==============================] - 2s 11ms/step - loss: 0.6693 - accuracy: 0.7554 - val_loss: 0.6867 - val_accuracy: 0.5000\n",
            "Epoch 355/500\n",
            "151/151 [==============================] - 2s 11ms/step - loss: 0.6715 - accuracy: 0.7493 - val_loss: 0.6867 - val_accuracy: 0.5000\n",
            "Epoch 356/500\n",
            "151/151 [==============================] - 2s 11ms/step - loss: 0.6715 - accuracy: 0.7507 - val_loss: 0.6866 - val_accuracy: 0.5000\n",
            "Epoch 357/500\n",
            "151/151 [==============================] - 2s 11ms/step - loss: 0.6720 - accuracy: 0.7538 - val_loss: 0.6866 - val_accuracy: 0.5000\n",
            "Epoch 358/500\n",
            "151/151 [==============================] - 2s 11ms/step - loss: 0.6679 - accuracy: 0.7467 - val_loss: 0.6865 - val_accuracy: 0.5000\n",
            "Epoch 359/500\n",
            "151/151 [==============================] - 2s 11ms/step - loss: 0.6681 - accuracy: 0.7589 - val_loss: 0.6865 - val_accuracy: 0.5000\n",
            "Epoch 360/500\n",
            "151/151 [==============================] - 2s 11ms/step - loss: 0.6725 - accuracy: 0.7455 - val_loss: 0.6865 - val_accuracy: 0.5000\n",
            "Epoch 361/500\n",
            "151/151 [==============================] - 2s 11ms/step - loss: 0.6739 - accuracy: 0.7353 - val_loss: 0.6865 - val_accuracy: 0.5000\n",
            "Epoch 362/500\n",
            "151/151 [==============================] - 2s 11ms/step - loss: 0.6701 - accuracy: 0.7171 - val_loss: 0.6864 - val_accuracy: 0.5000\n",
            "Epoch 363/500\n",
            "151/151 [==============================] - 2s 11ms/step - loss: 0.6699 - accuracy: 0.7561 - val_loss: 0.6864 - val_accuracy: 0.5000\n",
            "Epoch 364/500\n",
            "151/151 [==============================] - 2s 11ms/step - loss: 0.6720 - accuracy: 0.7400 - val_loss: 0.6863 - val_accuracy: 0.5000\n",
            "Epoch 365/500\n",
            "151/151 [==============================] - 2s 11ms/step - loss: 0.6670 - accuracy: 0.7664 - val_loss: 0.6864 - val_accuracy: 0.5000\n",
            "Epoch 366/500\n",
            "151/151 [==============================] - 2s 11ms/step - loss: 0.6739 - accuracy: 0.7484 - val_loss: 0.6863 - val_accuracy: 0.5000\n",
            "Epoch 367/500\n",
            "151/151 [==============================] - 2s 11ms/step - loss: 0.6717 - accuracy: 0.7270 - val_loss: 0.6863 - val_accuracy: 0.5000\n",
            "Epoch 368/500\n",
            "151/151 [==============================] - 2s 11ms/step - loss: 0.6684 - accuracy: 0.7575 - val_loss: 0.6863 - val_accuracy: 0.5000\n",
            "Epoch 369/500\n",
            "151/151 [==============================] - 2s 10ms/step - loss: 0.6705 - accuracy: 0.7380 - val_loss: 0.6862 - val_accuracy: 0.5000\n",
            "Epoch 370/500\n",
            "151/151 [==============================] - 2s 11ms/step - loss: 0.6709 - accuracy: 0.7241 - val_loss: 0.6862 - val_accuracy: 0.5000\n",
            "Epoch 371/500\n",
            "151/151 [==============================] - 2s 11ms/step - loss: 0.6686 - accuracy: 0.7547 - val_loss: 0.6862 - val_accuracy: 0.5000\n",
            "Epoch 372/500\n",
            "151/151 [==============================] - 2s 11ms/step - loss: 0.6693 - accuracy: 0.6979 - val_loss: 0.6862 - val_accuracy: 0.5000\n",
            "Epoch 373/500\n",
            "151/151 [==============================] - 2s 11ms/step - loss: 0.6730 - accuracy: 0.7307 - val_loss: 0.6861 - val_accuracy: 0.5000\n",
            "Epoch 374/500\n",
            "151/151 [==============================] - 2s 11ms/step - loss: 0.6697 - accuracy: 0.7389 - val_loss: 0.6861 - val_accuracy: 0.5000\n",
            "Epoch 375/500\n",
            "151/151 [==============================] - 2s 11ms/step - loss: 0.6700 - accuracy: 0.7389 - val_loss: 0.6860 - val_accuracy: 0.5000\n",
            "Epoch 376/500\n",
            "151/151 [==============================] - 2s 11ms/step - loss: 0.6694 - accuracy: 0.6971 - val_loss: 0.6860 - val_accuracy: 0.5000\n",
            "Epoch 377/500\n",
            "151/151 [==============================] - 2s 11ms/step - loss: 0.6726 - accuracy: 0.7428 - val_loss: 0.6860 - val_accuracy: 0.5000\n",
            "Epoch 378/500\n",
            "151/151 [==============================] - 2s 11ms/step - loss: 0.6680 - accuracy: 0.7428 - val_loss: 0.6859 - val_accuracy: 0.5000\n",
            "Epoch 379/500\n",
            "151/151 [==============================] - 2s 11ms/step - loss: 0.6682 - accuracy: 0.7362 - val_loss: 0.6859 - val_accuracy: 0.5000\n",
            "Epoch 380/500\n",
            "151/151 [==============================] - 2s 10ms/step - loss: 0.6710 - accuracy: 0.7338 - val_loss: 0.6859 - val_accuracy: 0.5000\n",
            "Epoch 381/500\n",
            "151/151 [==============================] - 2s 11ms/step - loss: 0.6714 - accuracy: 0.7318 - val_loss: 0.6858 - val_accuracy: 0.5000\n",
            "Epoch 382/500\n",
            "151/151 [==============================] - 2s 11ms/step - loss: 0.6689 - accuracy: 0.7337 - val_loss: 0.6858 - val_accuracy: 0.5000\n",
            "Epoch 383/500\n",
            "151/151 [==============================] - 2s 11ms/step - loss: 0.6674 - accuracy: 0.7352 - val_loss: 0.6858 - val_accuracy: 0.5000\n",
            "Epoch 384/500\n",
            "151/151 [==============================] - 2s 11ms/step - loss: 0.6666 - accuracy: 0.7477 - val_loss: 0.6857 - val_accuracy: 0.5000\n",
            "Epoch 385/500\n",
            "151/151 [==============================] - 2s 11ms/step - loss: 0.6684 - accuracy: 0.7354 - val_loss: 0.6857 - val_accuracy: 0.5000\n",
            "Epoch 386/500\n",
            "151/151 [==============================] - 2s 11ms/step - loss: 0.6737 - accuracy: 0.7125 - val_loss: 0.6857 - val_accuracy: 0.5000\n",
            "Epoch 387/500\n",
            "151/151 [==============================] - 2s 11ms/step - loss: 0.6742 - accuracy: 0.7209 - val_loss: 0.6856 - val_accuracy: 0.5000\n",
            "Epoch 388/500\n",
            "151/151 [==============================] - 2s 11ms/step - loss: 0.6730 - accuracy: 0.7101 - val_loss: 0.6856 - val_accuracy: 0.5000\n",
            "Epoch 389/500\n",
            "151/151 [==============================] - 2s 11ms/step - loss: 0.6711 - accuracy: 0.7356 - val_loss: 0.6856 - val_accuracy: 0.5000\n",
            "Epoch 390/500\n",
            "151/151 [==============================] - 2s 11ms/step - loss: 0.6675 - accuracy: 0.7528 - val_loss: 0.6855 - val_accuracy: 0.5000\n",
            "Epoch 391/500\n",
            "151/151 [==============================] - 2s 11ms/step - loss: 0.6672 - accuracy: 0.7361 - val_loss: 0.6856 - val_accuracy: 0.5000\n",
            "Epoch 392/500\n",
            "151/151 [==============================] - 2s 11ms/step - loss: 0.6676 - accuracy: 0.7360 - val_loss: 0.6855 - val_accuracy: 0.5000\n",
            "Epoch 393/500\n",
            "151/151 [==============================] - 2s 11ms/step - loss: 0.6710 - accuracy: 0.7489 - val_loss: 0.6855 - val_accuracy: 0.5000\n",
            "Epoch 394/500\n",
            "151/151 [==============================] - 2s 11ms/step - loss: 0.6707 - accuracy: 0.7069 - val_loss: 0.6855 - val_accuracy: 0.5000\n",
            "Epoch 395/500\n",
            "151/151 [==============================] - 2s 11ms/step - loss: 0.6680 - accuracy: 0.7670 - val_loss: 0.6854 - val_accuracy: 0.5000\n",
            "Epoch 396/500\n",
            "151/151 [==============================] - 2s 11ms/step - loss: 0.6690 - accuracy: 0.7515 - val_loss: 0.6854 - val_accuracy: 0.5000\n",
            "Epoch 397/500\n",
            "151/151 [==============================] - 2s 11ms/step - loss: 0.6730 - accuracy: 0.7088 - val_loss: 0.6854 - val_accuracy: 0.5000\n",
            "Epoch 398/500\n",
            "151/151 [==============================] - 2s 11ms/step - loss: 0.6711 - accuracy: 0.7261 - val_loss: 0.6854 - val_accuracy: 0.5000\n",
            "Epoch 399/500\n",
            "151/151 [==============================] - 2s 11ms/step - loss: 0.6681 - accuracy: 0.7395 - val_loss: 0.6853 - val_accuracy: 0.5000\n",
            "Epoch 400/500\n",
            "151/151 [==============================] - 2s 11ms/step - loss: 0.6675 - accuracy: 0.7234 - val_loss: 0.6852 - val_accuracy: 0.5000\n",
            "Epoch 401/500\n",
            "151/151 [==============================] - 2s 11ms/step - loss: 0.6692 - accuracy: 0.7117 - val_loss: 0.6852 - val_accuracy: 0.5000\n",
            "Epoch 402/500\n",
            "151/151 [==============================] - 2s 11ms/step - loss: 0.6682 - accuracy: 0.7898 - val_loss: 0.6852 - val_accuracy: 0.5000\n",
            "Epoch 403/500\n",
            "151/151 [==============================] - 2s 11ms/step - loss: 0.6657 - accuracy: 0.7557 - val_loss: 0.6851 - val_accuracy: 0.5000\n",
            "Epoch 404/500\n",
            "151/151 [==============================] - 2s 11ms/step - loss: 0.6662 - accuracy: 0.7380 - val_loss: 0.6850 - val_accuracy: 0.5000\n",
            "Epoch 405/500\n",
            "151/151 [==============================] - 2s 11ms/step - loss: 0.6678 - accuracy: 0.7460 - val_loss: 0.6850 - val_accuracy: 0.5000\n",
            "Epoch 406/500\n",
            "151/151 [==============================] - 2s 11ms/step - loss: 0.6643 - accuracy: 0.7467 - val_loss: 0.6850 - val_accuracy: 0.5000\n",
            "Epoch 407/500\n",
            "151/151 [==============================] - 2s 11ms/step - loss: 0.6719 - accuracy: 0.7268 - val_loss: 0.6850 - val_accuracy: 0.5000\n",
            "Epoch 408/500\n",
            "151/151 [==============================] - 2s 11ms/step - loss: 0.6682 - accuracy: 0.7305 - val_loss: 0.6849 - val_accuracy: 0.5000\n",
            "Epoch 409/500\n",
            "151/151 [==============================] - 2s 11ms/step - loss: 0.6708 - accuracy: 0.7529 - val_loss: 0.6849 - val_accuracy: 0.5000\n",
            "Epoch 410/500\n",
            "151/151 [==============================] - 2s 11ms/step - loss: 0.6635 - accuracy: 0.7684 - val_loss: 0.6849 - val_accuracy: 0.5000\n",
            "Epoch 411/500\n",
            "151/151 [==============================] - 2s 10ms/step - loss: 0.6643 - accuracy: 0.7488 - val_loss: 0.6848 - val_accuracy: 0.5000\n",
            "Epoch 412/500\n",
            "151/151 [==============================] - 2s 11ms/step - loss: 0.6690 - accuracy: 0.7440 - val_loss: 0.6847 - val_accuracy: 0.5000\n",
            "Epoch 413/500\n",
            "151/151 [==============================] - 2s 11ms/step - loss: 0.6716 - accuracy: 0.7551 - val_loss: 0.6847 - val_accuracy: 0.5000\n",
            "Epoch 414/500\n",
            "151/151 [==============================] - 2s 11ms/step - loss: 0.6680 - accuracy: 0.7561 - val_loss: 0.6847 - val_accuracy: 0.5000\n",
            "Epoch 415/500\n",
            "151/151 [==============================] - 2s 11ms/step - loss: 0.6657 - accuracy: 0.7589 - val_loss: 0.6847 - val_accuracy: 0.5000\n",
            "Epoch 416/500\n",
            "151/151 [==============================] - 2s 11ms/step - loss: 0.6683 - accuracy: 0.7361 - val_loss: 0.6846 - val_accuracy: 0.5000\n",
            "Epoch 417/500\n",
            "151/151 [==============================] - 2s 11ms/step - loss: 0.6672 - accuracy: 0.7580 - val_loss: 0.6846 - val_accuracy: 0.5000\n",
            "Epoch 418/500\n",
            "151/151 [==============================] - 2s 11ms/step - loss: 0.6636 - accuracy: 0.7530 - val_loss: 0.6846 - val_accuracy: 0.5000\n",
            "Epoch 419/500\n",
            "151/151 [==============================] - 2s 11ms/step - loss: 0.6693 - accuracy: 0.7246 - val_loss: 0.6846 - val_accuracy: 0.5000\n",
            "Epoch 420/500\n",
            "151/151 [==============================] - 2s 11ms/step - loss: 0.6624 - accuracy: 0.7581 - val_loss: 0.6845 - val_accuracy: 0.5000\n",
            "Epoch 421/500\n",
            "151/151 [==============================] - 2s 11ms/step - loss: 0.6661 - accuracy: 0.7587 - val_loss: 0.6845 - val_accuracy: 0.5000\n",
            "Epoch 422/500\n",
            "151/151 [==============================] - 2s 11ms/step - loss: 0.6655 - accuracy: 0.7411 - val_loss: 0.6844 - val_accuracy: 0.5000\n",
            "Epoch 423/500\n",
            "151/151 [==============================] - 2s 11ms/step - loss: 0.6689 - accuracy: 0.7283 - val_loss: 0.6845 - val_accuracy: 0.5000\n",
            "Epoch 424/500\n",
            "151/151 [==============================] - 2s 11ms/step - loss: 0.6682 - accuracy: 0.6921 - val_loss: 0.6844 - val_accuracy: 0.5000\n",
            "Epoch 425/500\n",
            "151/151 [==============================] - 2s 11ms/step - loss: 0.6698 - accuracy: 0.7349 - val_loss: 0.6843 - val_accuracy: 0.5000\n",
            "Epoch 426/500\n",
            "151/151 [==============================] - 2s 11ms/step - loss: 0.6654 - accuracy: 0.7589 - val_loss: 0.6843 - val_accuracy: 0.5000\n",
            "Epoch 427/500\n",
            "151/151 [==============================] - 2s 11ms/step - loss: 0.6622 - accuracy: 0.7610 - val_loss: 0.6842 - val_accuracy: 0.5000\n",
            "Epoch 428/500\n",
            "151/151 [==============================] - 2s 11ms/step - loss: 0.6637 - accuracy: 0.7532 - val_loss: 0.6842 - val_accuracy: 0.5000\n",
            "Epoch 429/500\n",
            "151/151 [==============================] - 2s 11ms/step - loss: 0.6642 - accuracy: 0.7438 - val_loss: 0.6842 - val_accuracy: 0.5000\n",
            "Epoch 430/500\n",
            "151/151 [==============================] - 2s 11ms/step - loss: 0.6667 - accuracy: 0.7348 - val_loss: 0.6842 - val_accuracy: 0.5000\n",
            "Epoch 431/500\n",
            "151/151 [==============================] - 2s 11ms/step - loss: 0.6670 - accuracy: 0.7484 - val_loss: 0.6841 - val_accuracy: 0.5000\n",
            "Epoch 432/500\n",
            "151/151 [==============================] - 2s 11ms/step - loss: 0.6668 - accuracy: 0.7124 - val_loss: 0.6840 - val_accuracy: 0.5000\n",
            "Epoch 433/500\n",
            "151/151 [==============================] - 2s 11ms/step - loss: 0.6593 - accuracy: 0.7701 - val_loss: 0.6840 - val_accuracy: 0.5000\n",
            "Epoch 434/500\n",
            "151/151 [==============================] - 2s 11ms/step - loss: 0.6621 - accuracy: 0.7673 - val_loss: 0.6840 - val_accuracy: 0.5000\n",
            "Epoch 435/500\n",
            "151/151 [==============================] - 2s 11ms/step - loss: 0.6670 - accuracy: 0.7506 - val_loss: 0.6839 - val_accuracy: 0.5000\n",
            "Epoch 436/500\n",
            "151/151 [==============================] - 2s 11ms/step - loss: 0.6599 - accuracy: 0.7614 - val_loss: 0.6838 - val_accuracy: 0.5000\n",
            "Epoch 437/500\n",
            "151/151 [==============================] - 2s 11ms/step - loss: 0.6653 - accuracy: 0.7337 - val_loss: 0.6838 - val_accuracy: 0.5000\n",
            "Epoch 438/500\n",
            "151/151 [==============================] - 2s 11ms/step - loss: 0.6670 - accuracy: 0.7445 - val_loss: 0.6838 - val_accuracy: 0.5000\n",
            "Epoch 439/500\n",
            "151/151 [==============================] - 2s 11ms/step - loss: 0.6672 - accuracy: 0.7416 - val_loss: 0.6838 - val_accuracy: 0.5000\n",
            "Epoch 440/500\n",
            "151/151 [==============================] - 2s 11ms/step - loss: 0.6621 - accuracy: 0.7634 - val_loss: 0.6837 - val_accuracy: 0.5000\n",
            "Epoch 441/500\n",
            "151/151 [==============================] - 2s 11ms/step - loss: 0.6615 - accuracy: 0.7746 - val_loss: 0.6836 - val_accuracy: 0.5000\n",
            "Epoch 442/500\n",
            "151/151 [==============================] - 2s 11ms/step - loss: 0.6603 - accuracy: 0.7709 - val_loss: 0.6837 - val_accuracy: 0.5000\n",
            "Epoch 443/500\n",
            "151/151 [==============================] - 2s 11ms/step - loss: 0.6609 - accuracy: 0.7644 - val_loss: 0.6836 - val_accuracy: 0.5000\n",
            "Epoch 444/500\n",
            "151/151 [==============================] - 2s 11ms/step - loss: 0.6648 - accuracy: 0.7360 - val_loss: 0.6835 - val_accuracy: 0.5000\n",
            "Epoch 445/500\n",
            "151/151 [==============================] - 2s 11ms/step - loss: 0.6684 - accuracy: 0.7274 - val_loss: 0.6836 - val_accuracy: 0.5000\n",
            "Epoch 446/500\n",
            "151/151 [==============================] - 2s 11ms/step - loss: 0.6625 - accuracy: 0.7645 - val_loss: 0.6835 - val_accuracy: 0.5000\n",
            "Epoch 447/500\n",
            "151/151 [==============================] - 2s 11ms/step - loss: 0.6684 - accuracy: 0.6991 - val_loss: 0.6835 - val_accuracy: 0.5000\n",
            "Epoch 448/500\n",
            "151/151 [==============================] - 2s 11ms/step - loss: 0.6616 - accuracy: 0.7561 - val_loss: 0.6834 - val_accuracy: 0.5000\n",
            "Epoch 449/500\n",
            "151/151 [==============================] - 2s 11ms/step - loss: 0.6620 - accuracy: 0.7700 - val_loss: 0.6834 - val_accuracy: 0.5000\n",
            "Epoch 450/500\n",
            "151/151 [==============================] - 2s 11ms/step - loss: 0.6652 - accuracy: 0.7443 - val_loss: 0.6834 - val_accuracy: 0.5000\n",
            "Epoch 451/500\n",
            "151/151 [==============================] - 2s 11ms/step - loss: 0.6606 - accuracy: 0.7566 - val_loss: 0.6833 - val_accuracy: 0.5000\n",
            "Epoch 452/500\n",
            "151/151 [==============================] - 2s 11ms/step - loss: 0.6638 - accuracy: 0.7526 - val_loss: 0.6833 - val_accuracy: 0.5000\n",
            "Epoch 453/500\n",
            "151/151 [==============================] - 2s 11ms/step - loss: 0.6657 - accuracy: 0.7524 - val_loss: 0.6832 - val_accuracy: 0.5000\n",
            "Epoch 454/500\n",
            "151/151 [==============================] - 2s 11ms/step - loss: 0.6649 - accuracy: 0.7479 - val_loss: 0.6832 - val_accuracy: 0.5000\n",
            "Epoch 455/500\n",
            "151/151 [==============================] - 2s 11ms/step - loss: 0.6668 - accuracy: 0.7340 - val_loss: 0.6832 - val_accuracy: 0.5000\n",
            "Epoch 456/500\n",
            "151/151 [==============================] - 2s 11ms/step - loss: 0.6666 - accuracy: 0.7311 - val_loss: 0.6832 - val_accuracy: 0.5000\n",
            "Epoch 457/500\n",
            "151/151 [==============================] - 2s 11ms/step - loss: 0.6649 - accuracy: 0.7606 - val_loss: 0.6832 - val_accuracy: 0.5000\n",
            "Epoch 458/500\n",
            "151/151 [==============================] - 2s 11ms/step - loss: 0.6702 - accuracy: 0.7483 - val_loss: 0.6831 - val_accuracy: 0.5000\n",
            "Epoch 459/500\n",
            "151/151 [==============================] - 2s 11ms/step - loss: 0.6630 - accuracy: 0.7744 - val_loss: 0.6830 - val_accuracy: 0.5000\n",
            "Epoch 460/500\n",
            "151/151 [==============================] - 2s 11ms/step - loss: 0.6617 - accuracy: 0.7499 - val_loss: 0.6830 - val_accuracy: 0.5000\n",
            "Epoch 461/500\n",
            "151/151 [==============================] - 2s 11ms/step - loss: 0.6664 - accuracy: 0.7269 - val_loss: 0.6829 - val_accuracy: 0.5000\n",
            "Epoch 462/500\n",
            "151/151 [==============================] - 2s 11ms/step - loss: 0.6616 - accuracy: 0.7369 - val_loss: 0.6829 - val_accuracy: 0.5000\n",
            "Epoch 463/500\n",
            "151/151 [==============================] - 2s 11ms/step - loss: 0.6649 - accuracy: 0.7467 - val_loss: 0.6828 - val_accuracy: 0.5000\n",
            "Epoch 464/500\n",
            "151/151 [==============================] - 2s 11ms/step - loss: 0.6631 - accuracy: 0.7314 - val_loss: 0.6828 - val_accuracy: 0.5000\n",
            "Epoch 465/500\n",
            "151/151 [==============================] - 2s 11ms/step - loss: 0.6671 - accuracy: 0.7295 - val_loss: 0.6828 - val_accuracy: 0.5000\n",
            "Epoch 466/500\n",
            "151/151 [==============================] - 2s 11ms/step - loss: 0.6625 - accuracy: 0.7657 - val_loss: 0.6828 - val_accuracy: 0.5000\n",
            "Epoch 467/500\n",
            "151/151 [==============================] - 2s 11ms/step - loss: 0.6615 - accuracy: 0.7567 - val_loss: 0.6827 - val_accuracy: 0.5000\n",
            "Epoch 468/500\n",
            "151/151 [==============================] - 2s 11ms/step - loss: 0.6624 - accuracy: 0.7337 - val_loss: 0.6827 - val_accuracy: 0.5000\n",
            "Epoch 469/500\n",
            "151/151 [==============================] - 2s 11ms/step - loss: 0.6593 - accuracy: 0.7576 - val_loss: 0.6827 - val_accuracy: 0.5000\n",
            "Epoch 470/500\n",
            "151/151 [==============================] - 2s 11ms/step - loss: 0.6605 - accuracy: 0.7430 - val_loss: 0.6827 - val_accuracy: 0.5000\n",
            "Epoch 471/500\n",
            "151/151 [==============================] - 2s 11ms/step - loss: 0.6640 - accuracy: 0.7411 - val_loss: 0.6827 - val_accuracy: 0.5000\n",
            "Epoch 472/500\n",
            "151/151 [==============================] - 2s 11ms/step - loss: 0.6572 - accuracy: 0.7669 - val_loss: 0.6826 - val_accuracy: 0.5000\n",
            "Epoch 473/500\n",
            "151/151 [==============================] - 2s 11ms/step - loss: 0.6579 - accuracy: 0.7492 - val_loss: 0.6827 - val_accuracy: 0.5000\n",
            "Epoch 474/500\n",
            "151/151 [==============================] - 2s 11ms/step - loss: 0.6633 - accuracy: 0.7504 - val_loss: 0.6825 - val_accuracy: 0.5000\n",
            "Epoch 475/500\n",
            "151/151 [==============================] - 2s 11ms/step - loss: 0.6573 - accuracy: 0.7655 - val_loss: 0.6825 - val_accuracy: 0.5000\n",
            "Epoch 476/500\n",
            "151/151 [==============================] - 2s 11ms/step - loss: 0.6594 - accuracy: 0.7690 - val_loss: 0.6824 - val_accuracy: 0.5000\n",
            "Epoch 477/500\n",
            "151/151 [==============================] - 2s 11ms/step - loss: 0.6596 - accuracy: 0.7829 - val_loss: 0.6824 - val_accuracy: 0.5000\n",
            "Epoch 478/500\n",
            "151/151 [==============================] - 2s 11ms/step - loss: 0.6557 - accuracy: 0.7435 - val_loss: 0.6824 - val_accuracy: 0.5000\n",
            "Epoch 479/500\n",
            "151/151 [==============================] - 2s 11ms/step - loss: 0.6588 - accuracy: 0.7719 - val_loss: 0.6823 - val_accuracy: 0.5000\n",
            "Epoch 480/500\n",
            "151/151 [==============================] - 2s 11ms/step - loss: 0.6570 - accuracy: 0.7626 - val_loss: 0.6822 - val_accuracy: 0.5000\n",
            "Epoch 481/500\n",
            "151/151 [==============================] - 2s 11ms/step - loss: 0.6673 - accuracy: 0.7181 - val_loss: 0.6822 - val_accuracy: 0.5000\n",
            "Epoch 482/500\n",
            "151/151 [==============================] - 2s 11ms/step - loss: 0.6602 - accuracy: 0.7520 - val_loss: 0.6822 - val_accuracy: 0.5000\n",
            "Epoch 483/500\n",
            "151/151 [==============================] - 2s 11ms/step - loss: 0.6641 - accuracy: 0.7453 - val_loss: 0.6821 - val_accuracy: 0.5000\n",
            "Epoch 484/500\n",
            "151/151 [==============================] - 2s 11ms/step - loss: 0.6613 - accuracy: 0.7410 - val_loss: 0.6821 - val_accuracy: 0.5000\n",
            "Epoch 485/500\n",
            "151/151 [==============================] - 2s 11ms/step - loss: 0.6580 - accuracy: 0.7479 - val_loss: 0.6821 - val_accuracy: 0.5000\n",
            "Epoch 486/500\n",
            "151/151 [==============================] - 2s 11ms/step - loss: 0.6617 - accuracy: 0.7353 - val_loss: 0.6821 - val_accuracy: 0.5000\n",
            "Epoch 487/500\n",
            "151/151 [==============================] - 2s 11ms/step - loss: 0.6599 - accuracy: 0.7331 - val_loss: 0.6820 - val_accuracy: 0.5000\n",
            "Epoch 488/500\n",
            "151/151 [==============================] - 2s 11ms/step - loss: 0.6565 - accuracy: 0.7569 - val_loss: 0.6820 - val_accuracy: 0.5000\n",
            "Epoch 489/500\n",
            "151/151 [==============================] - 2s 11ms/step - loss: 0.6599 - accuracy: 0.7531 - val_loss: 0.6819 - val_accuracy: 0.5000\n",
            "Epoch 490/500\n",
            "151/151 [==============================] - 2s 11ms/step - loss: 0.6629 - accuracy: 0.7397 - val_loss: 0.6818 - val_accuracy: 0.5000\n",
            "Epoch 491/500\n",
            "151/151 [==============================] - 2s 11ms/step - loss: 0.6524 - accuracy: 0.7836 - val_loss: 0.6818 - val_accuracy: 0.5000\n",
            "Epoch 492/500\n",
            "151/151 [==============================] - 2s 11ms/step - loss: 0.6568 - accuracy: 0.7583 - val_loss: 0.6817 - val_accuracy: 0.5000\n",
            "Epoch 493/500\n",
            "151/151 [==============================] - 2s 11ms/step - loss: 0.6634 - accuracy: 0.7553 - val_loss: 0.6816 - val_accuracy: 0.5000\n",
            "Epoch 494/500\n",
            "151/151 [==============================] - 2s 11ms/step - loss: 0.6591 - accuracy: 0.7423 - val_loss: 0.6816 - val_accuracy: 0.5000\n",
            "Epoch 495/500\n",
            "151/151 [==============================] - 2s 11ms/step - loss: 0.6602 - accuracy: 0.7535 - val_loss: 0.6816 - val_accuracy: 0.5000\n",
            "Epoch 496/500\n",
            "151/151 [==============================] - 2s 11ms/step - loss: 0.6579 - accuracy: 0.7531 - val_loss: 0.6815 - val_accuracy: 0.5000\n",
            "Epoch 497/500\n",
            "151/151 [==============================] - 2s 11ms/step - loss: 0.6585 - accuracy: 0.7599 - val_loss: 0.6815 - val_accuracy: 0.5000\n",
            "Epoch 498/500\n",
            "151/151 [==============================] - 2s 11ms/step - loss: 0.6607 - accuracy: 0.7691 - val_loss: 0.6814 - val_accuracy: 0.5000\n",
            "Epoch 499/500\n",
            "151/151 [==============================] - 2s 11ms/step - loss: 0.6533 - accuracy: 0.7411 - val_loss: 0.6814 - val_accuracy: 0.5000\n",
            "Epoch 500/500\n",
            "151/151 [==============================] - 2s 10ms/step - loss: 0.6546 - accuracy: 0.7462 - val_loss: 0.6814 - val_accuracy: 0.5000\n"
          ],
          "name": "stdout"
        },
        {
          "output_type": "execute_result",
          "data": {
            "text/plain": [
              "<tensorflow.python.keras.callbacks.History at 0x7f26726bd588>"
            ]
          },
          "metadata": {
            "tags": []
          },
          "execution_count": 42
        }
      ]
    },
    {
      "cell_type": "code",
      "metadata": {
        "id": "7z9cQDFh5gbg"
      },
      "source": [
        "# #  weights = 50438\n",
        "# %load_ext tensorboard\n",
        "# model_Path = '/gdrive/My Drive/model_output'\n",
        "\n",
        "# filepath = os.path.join(model_Path, \"weights-improvement-{epoch:02d}-bigger.hdf5\")\n",
        "# checkpoint = ModelCheckpoint(filepath, monitor='loss', verbose=1, save_best_only=True, mode='min')\n",
        "\n",
        "# model_name = 'two_classes'\n",
        "# model_folder = os.path.join(model_Path,'tensorlogs/'+ model_name + \"-logs/\")\n",
        "\n",
        "# if not os.path.isdir(model_folder):\n",
        "#     n_logs = 0\n",
        "# else:\n",
        "#     n_logs = len(os.listdir(model_folder))\n",
        "    \n",
        "# tensorboard_logs = os.path.join(model_folder, \"%inth_run\"%n_logs)\n",
        "# tensorboard_callback = keras.callbacks.TensorBoard(log_dir=tensorboard_logs, write_graph=False)\n",
        "# time_callback = TimeHistory()\n",
        "# callbacks = [checkpoint, tensorboard_callback, time_callback]\n",
        "\n",
        "# model = make_model((trainX.shape[1], trainX.shape[2]), trainY.shape[-1], LSTM)\n",
        "\n",
        "# model.fit(trainX, trainY, validation_data = (valX,valY), epochs=100, batch_size=256,sample_weight=weights, callbacks=callbacks)"
      ],
      "execution_count": null,
      "outputs": []
    },
    {
      "cell_type": "code",
      "metadata": {
        "colab": {
          "base_uri": "https://localhost:8080/"
        },
        "id": "SbFqV4mCCoBD",
        "outputId": "e8c6722b-42cc-41c7-d4ff-80540760a182"
      },
      "source": [
        "testX.shape"
      ],
      "execution_count": null,
      "outputs": [
        {
          "output_type": "execute_result",
          "data": {
            "text/plain": [
              "(100, 15, 32000)"
            ]
          },
          "metadata": {
            "tags": []
          },
          "execution_count": 43
        }
      ]
    },
    {
      "cell_type": "code",
      "metadata": {
        "colab": {
          "base_uri": "https://localhost:8080/"
        },
        "id": "SBKeSrMQjHFJ",
        "outputId": "0fc714e0-5f48-47ab-cf15-7605ed00a511"
      },
      "source": [
        "model_test2.evaluate(testX,testY,batch_size=1)"
      ],
      "execution_count": null,
      "outputs": [
        {
          "output_type": "stream",
          "text": [
            "100/100 [==============================] - 1s 3ms/step - loss: 0.6707 - accuracy: 0.6000\n"
          ],
          "name": "stdout"
        },
        {
          "output_type": "execute_result",
          "data": {
            "text/plain": [
              "[0.6707008481025696, 0.6000000238418579]"
            ]
          },
          "metadata": {
            "tags": []
          },
          "execution_count": 44
        }
      ]
    },
    {
      "cell_type": "code",
      "metadata": {
        "colab": {
          "base_uri": "https://localhost:8080/"
        },
        "id": "nuhUnnEMEo4w",
        "outputId": "2ccb63ae-c5a5-44b8-e863-695dd24ee729"
      },
      "source": [
        "output = model_test2.predict_classes(testX)\n",
        "output"
      ],
      "execution_count": null,
      "outputs": [
        {
          "output_type": "stream",
          "text": [
            "/usr/local/lib/python3.6/dist-packages/tensorflow/python/keras/engine/sequential.py:450: UserWarning: `model.predict_classes()` is deprecated and will be removed after 2021-01-01. Please use instead:* `np.argmax(model.predict(x), axis=-1)`,   if your model does multi-class classification   (e.g. if it uses a `softmax` last-layer activation).* `(model.predict(x) > 0.5).astype(\"int32\")`,   if your model does binary classification   (e.g. if it uses a `sigmoid` last-layer activation).\n",
            "  warnings.warn('`model.predict_classes()` is deprecated and '\n"
          ],
          "name": "stderr"
        },
        {
          "output_type": "execute_result",
          "data": {
            "text/plain": [
              "array([1, 1, 1, 0, 0, 0, 0, 0, 0, 0, 1, 1, 1, 1, 1, 1, 1, 1, 0, 0, 0, 0,\n",
              "       0, 0, 0, 1, 0, 0, 1, 1, 1, 1, 1, 1, 1, 1, 1, 0, 0, 0, 1, 0, 0, 0,\n",
              "       0, 1, 1, 1, 0, 0, 0, 0, 0, 0, 1, 0, 0, 0, 0, 1, 0, 0, 0, 0, 0, 1,\n",
              "       0, 1, 1, 0, 1, 0, 0, 1, 1, 0, 0, 0, 0, 0, 0, 1, 1, 1, 1, 1, 1, 0,\n",
              "       0, 0, 0, 0, 1, 0, 0, 1, 0, 0, 0, 1])"
            ]
          },
          "metadata": {
            "tags": []
          },
          "execution_count": 45
        }
      ]
    },
    {
      "cell_type": "code",
      "metadata": {
        "colab": {
          "base_uri": "https://localhost:8080/"
        },
        "id": "G8apJq7DE_mY",
        "outputId": "a9764224-b631-4727-83ab-42d0b2373e2b"
      },
      "source": [
        "confusion_matrix(testY.argmax(axis=1), output)"
      ],
      "execution_count": null,
      "outputs": [
        {
          "output_type": "execute_result",
          "data": {
            "text/plain": [
              "array([[35, 17],\n",
              "       [23, 25]])"
            ]
          },
          "metadata": {
            "tags": []
          },
          "execution_count": 46
        }
      ]
    },
    {
      "cell_type": "code",
      "metadata": {
        "colab": {
          "base_uri": "https://localhost:8080/"
        },
        "id": "J94Nx-_4OPkV",
        "outputId": "4070529f-a6d9-4eb9-cc71-8b0cc15223a5"
      },
      "source": [
        "y_pred = output\n",
        "y_pred"
      ],
      "execution_count": null,
      "outputs": [
        {
          "output_type": "execute_result",
          "data": {
            "text/plain": [
              "array([1, 1, 1, 0, 0, 0, 0, 0, 0, 0, 1, 1, 1, 1, 1, 1, 1, 1, 0, 0, 0, 0,\n",
              "       0, 0, 0, 1, 0, 0, 1, 1, 1, 1, 1, 1, 1, 1, 1, 0, 0, 0, 1, 0, 0, 0,\n",
              "       0, 1, 1, 1, 0, 0, 0, 0, 0, 0, 1, 0, 0, 0, 0, 1, 0, 0, 0, 0, 0, 1,\n",
              "       0, 1, 1, 0, 1, 0, 0, 1, 1, 0, 0, 0, 0, 0, 0, 1, 1, 1, 1, 1, 1, 0,\n",
              "       0, 0, 0, 0, 1, 0, 0, 1, 0, 0, 0, 1])"
            ]
          },
          "metadata": {
            "tags": []
          },
          "execution_count": 47
        }
      ]
    },
    {
      "cell_type": "code",
      "metadata": {
        "colab": {
          "base_uri": "https://localhost:8080/"
        },
        "id": "R_RxrdZUaU_Q",
        "outputId": "d2e023f9-50f3-43bb-d1a5-2cb1aabf174d"
      },
      "source": [
        "y_true = testY.argmax(axis=1)\n",
        "y_true"
      ],
      "execution_count": null,
      "outputs": [
        {
          "output_type": "execute_result",
          "data": {
            "text/plain": [
              "array([1, 1, 1, 1, 0, 1, 0, 0, 0, 0, 0, 1, 0, 0, 1, 1, 0, 1, 0, 0, 0, 0,\n",
              "       0, 0, 1, 1, 1, 0, 1, 1, 0, 0, 1, 1, 0, 0, 0, 0, 0, 0, 0, 0, 1, 1,\n",
              "       1, 1, 1, 0, 1, 1, 0, 0, 0, 1, 1, 0, 1, 0, 1, 0, 1, 0, 0, 1, 0, 1,\n",
              "       1, 1, 1, 1, 1, 1, 1, 1, 0, 1, 0, 0, 0, 0, 0, 0, 0, 0, 1, 1, 1, 0,\n",
              "       1, 0, 1, 0, 1, 1, 1, 0, 0, 0, 0, 1])"
            ]
          },
          "metadata": {
            "tags": []
          },
          "execution_count": 48
        }
      ]
    },
    {
      "cell_type": "code",
      "metadata": {
        "colab": {
          "base_uri": "https://localhost:8080/"
        },
        "id": "qE3te0brNLFo",
        "outputId": "e0f4339e-2f93-4bab-87f8-6375eafbd093"
      },
      "source": [
        "from sklearn.metrics import classification_report\n",
        "print(classification_report(y_true, y_pred, labels=[0,1]))"
      ],
      "execution_count": null,
      "outputs": [
        {
          "output_type": "stream",
          "text": [
            "              precision    recall  f1-score   support\n",
            "\n",
            "           0       0.60      0.67      0.64        52\n",
            "           1       0.60      0.52      0.56        48\n",
            "\n",
            "    accuracy                           0.60       100\n",
            "   macro avg       0.60      0.60      0.60       100\n",
            "weighted avg       0.60      0.60      0.60       100\n",
            "\n"
          ],
          "name": "stdout"
        }
      ]
    },
    {
      "cell_type": "code",
      "metadata": {
        "colab": {
          "base_uri": "https://localhost:8080/"
        },
        "id": "Fbju440yFDnN",
        "outputId": "13402ebe-e153-48f8-c358-e36a7fdc71ff"
      },
      "source": [
        "(output == testY.argmax(axis=1)).sum()/len(output)"
      ],
      "execution_count": null,
      "outputs": [
        {
          "output_type": "execute_result",
          "data": {
            "text/plain": [
              "0.6"
            ]
          },
          "metadata": {
            "tags": []
          },
          "execution_count": 50
        }
      ]
    },
    {
      "cell_type": "code",
      "metadata": {
        "id": "MomraNrVFQWI"
      },
      "source": [
        ""
      ],
      "execution_count": null,
      "outputs": []
    }
  ]
}