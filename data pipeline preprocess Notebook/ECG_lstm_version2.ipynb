{
  "nbformat": 4,
  "nbformat_minor": 0,
  "metadata": {
    "colab": {
      "name": "ECG_lstm.ipynb",
      "provenance": [],
      "collapsed_sections": [],
      "machine_shape": "hm"
    },
    "kernelspec": {
      "name": "python3",
      "display_name": "Python 3"
    },
    "accelerator": "GPU",
    "widgets": {
      "application/vnd.jupyter.widget-state+json": {
        "ceb7cde93f834fb1982d453da0ba9025": {
          "model_module": "@jupyter-widgets/controls",
          "model_name": "HBoxModel",
          "state": {
            "_view_name": "HBoxView",
            "_dom_classes": [],
            "_model_name": "HBoxModel",
            "_view_module": "@jupyter-widgets/controls",
            "_model_module_version": "1.5.0",
            "_view_count": null,
            "_view_module_version": "1.5.0",
            "box_style": "",
            "layout": "IPY_MODEL_099de3a8f69749a8840a70a94672964e",
            "_model_module": "@jupyter-widgets/controls",
            "children": [
              "IPY_MODEL_bf8c7a1395054ae2912b35085a3a4cd0",
              "IPY_MODEL_e934d7c1b7c94d9b94c33afa55292805"
            ]
          }
        },
        "099de3a8f69749a8840a70a94672964e": {
          "model_module": "@jupyter-widgets/base",
          "model_name": "LayoutModel",
          "state": {
            "_view_name": "LayoutView",
            "grid_template_rows": null,
            "right": null,
            "justify_content": null,
            "_view_module": "@jupyter-widgets/base",
            "overflow": null,
            "_model_module_version": "1.2.0",
            "_view_count": null,
            "flex_flow": null,
            "width": null,
            "min_width": null,
            "border": null,
            "align_items": null,
            "bottom": null,
            "_model_module": "@jupyter-widgets/base",
            "top": null,
            "grid_column": null,
            "overflow_y": null,
            "overflow_x": null,
            "grid_auto_flow": null,
            "grid_area": null,
            "grid_template_columns": null,
            "flex": null,
            "_model_name": "LayoutModel",
            "justify_items": null,
            "grid_row": null,
            "max_height": null,
            "align_content": null,
            "visibility": null,
            "align_self": null,
            "height": null,
            "min_height": null,
            "padding": null,
            "grid_auto_rows": null,
            "grid_gap": null,
            "max_width": null,
            "order": null,
            "_view_module_version": "1.2.0",
            "grid_template_areas": null,
            "object_position": null,
            "object_fit": null,
            "grid_auto_columns": null,
            "margin": null,
            "display": null,
            "left": null
          }
        },
        "bf8c7a1395054ae2912b35085a3a4cd0": {
          "model_module": "@jupyter-widgets/controls",
          "model_name": "FloatProgressModel",
          "state": {
            "_view_name": "ProgressView",
            "style": "IPY_MODEL_5f90d70f3c2241fcb7da7f508afb351b",
            "_dom_classes": [],
            "description": "100%",
            "_model_name": "FloatProgressModel",
            "bar_style": "success",
            "max": 549,
            "_view_module": "@jupyter-widgets/controls",
            "_model_module_version": "1.5.0",
            "value": 549,
            "_view_count": null,
            "_view_module_version": "1.5.0",
            "orientation": "horizontal",
            "min": 0,
            "description_tooltip": null,
            "_model_module": "@jupyter-widgets/controls",
            "layout": "IPY_MODEL_c6d99b14471942c5a4ff141ebb2d19a8"
          }
        },
        "e934d7c1b7c94d9b94c33afa55292805": {
          "model_module": "@jupyter-widgets/controls",
          "model_name": "HTMLModel",
          "state": {
            "_view_name": "HTMLView",
            "style": "IPY_MODEL_dbed2fded97e413cb272295d8549d2ea",
            "_dom_classes": [],
            "description": "",
            "_model_name": "HTMLModel",
            "placeholder": "​",
            "_view_module": "@jupyter-widgets/controls",
            "_model_module_version": "1.5.0",
            "value": " 549/549 [38:45&lt;00:00,  4.24s/it]",
            "_view_count": null,
            "_view_module_version": "1.5.0",
            "description_tooltip": null,
            "_model_module": "@jupyter-widgets/controls",
            "layout": "IPY_MODEL_2f43bff2ade7474da53634515a848ec1"
          }
        },
        "5f90d70f3c2241fcb7da7f508afb351b": {
          "model_module": "@jupyter-widgets/controls",
          "model_name": "ProgressStyleModel",
          "state": {
            "_view_name": "StyleView",
            "_model_name": "ProgressStyleModel",
            "description_width": "initial",
            "_view_module": "@jupyter-widgets/base",
            "_model_module_version": "1.5.0",
            "_view_count": null,
            "_view_module_version": "1.2.0",
            "bar_color": null,
            "_model_module": "@jupyter-widgets/controls"
          }
        },
        "c6d99b14471942c5a4ff141ebb2d19a8": {
          "model_module": "@jupyter-widgets/base",
          "model_name": "LayoutModel",
          "state": {
            "_view_name": "LayoutView",
            "grid_template_rows": null,
            "right": null,
            "justify_content": null,
            "_view_module": "@jupyter-widgets/base",
            "overflow": null,
            "_model_module_version": "1.2.0",
            "_view_count": null,
            "flex_flow": null,
            "width": null,
            "min_width": null,
            "border": null,
            "align_items": null,
            "bottom": null,
            "_model_module": "@jupyter-widgets/base",
            "top": null,
            "grid_column": null,
            "overflow_y": null,
            "overflow_x": null,
            "grid_auto_flow": null,
            "grid_area": null,
            "grid_template_columns": null,
            "flex": null,
            "_model_name": "LayoutModel",
            "justify_items": null,
            "grid_row": null,
            "max_height": null,
            "align_content": null,
            "visibility": null,
            "align_self": null,
            "height": null,
            "min_height": null,
            "padding": null,
            "grid_auto_rows": null,
            "grid_gap": null,
            "max_width": null,
            "order": null,
            "_view_module_version": "1.2.0",
            "grid_template_areas": null,
            "object_position": null,
            "object_fit": null,
            "grid_auto_columns": null,
            "margin": null,
            "display": null,
            "left": null
          }
        },
        "dbed2fded97e413cb272295d8549d2ea": {
          "model_module": "@jupyter-widgets/controls",
          "model_name": "DescriptionStyleModel",
          "state": {
            "_view_name": "StyleView",
            "_model_name": "DescriptionStyleModel",
            "description_width": "",
            "_view_module": "@jupyter-widgets/base",
            "_model_module_version": "1.5.0",
            "_view_count": null,
            "_view_module_version": "1.2.0",
            "_model_module": "@jupyter-widgets/controls"
          }
        },
        "2f43bff2ade7474da53634515a848ec1": {
          "model_module": "@jupyter-widgets/base",
          "model_name": "LayoutModel",
          "state": {
            "_view_name": "LayoutView",
            "grid_template_rows": null,
            "right": null,
            "justify_content": null,
            "_view_module": "@jupyter-widgets/base",
            "overflow": null,
            "_model_module_version": "1.2.0",
            "_view_count": null,
            "flex_flow": null,
            "width": null,
            "min_width": null,
            "border": null,
            "align_items": null,
            "bottom": null,
            "_model_module": "@jupyter-widgets/base",
            "top": null,
            "grid_column": null,
            "overflow_y": null,
            "overflow_x": null,
            "grid_auto_flow": null,
            "grid_area": null,
            "grid_template_columns": null,
            "flex": null,
            "_model_name": "LayoutModel",
            "justify_items": null,
            "grid_row": null,
            "max_height": null,
            "align_content": null,
            "visibility": null,
            "align_self": null,
            "height": null,
            "min_height": null,
            "padding": null,
            "grid_auto_rows": null,
            "grid_gap": null,
            "max_width": null,
            "order": null,
            "_view_module_version": "1.2.0",
            "grid_template_areas": null,
            "object_position": null,
            "object_fit": null,
            "grid_auto_columns": null,
            "margin": null,
            "display": null,
            "left": null
          }
        },
        "8e6227130f1b4bdb8c16833f7616ec4a": {
          "model_module": "@jupyter-widgets/controls",
          "model_name": "HBoxModel",
          "state": {
            "_view_name": "HBoxView",
            "_dom_classes": [],
            "_model_name": "HBoxModel",
            "_view_module": "@jupyter-widgets/controls",
            "_model_module_version": "1.5.0",
            "_view_count": null,
            "_view_module_version": "1.5.0",
            "box_style": "",
            "layout": "IPY_MODEL_1deeb8422b3e444fb8a4349a055b7a64",
            "_model_module": "@jupyter-widgets/controls",
            "children": [
              "IPY_MODEL_e81fc09694fe4f8c855c681e816c2c3a",
              "IPY_MODEL_c5da4f77ae5443a1b3643a542116729b"
            ]
          }
        },
        "1deeb8422b3e444fb8a4349a055b7a64": {
          "model_module": "@jupyter-widgets/base",
          "model_name": "LayoutModel",
          "state": {
            "_view_name": "LayoutView",
            "grid_template_rows": null,
            "right": null,
            "justify_content": null,
            "_view_module": "@jupyter-widgets/base",
            "overflow": null,
            "_model_module_version": "1.2.0",
            "_view_count": null,
            "flex_flow": null,
            "width": null,
            "min_width": null,
            "border": null,
            "align_items": null,
            "bottom": null,
            "_model_module": "@jupyter-widgets/base",
            "top": null,
            "grid_column": null,
            "overflow_y": null,
            "overflow_x": null,
            "grid_auto_flow": null,
            "grid_area": null,
            "grid_template_columns": null,
            "flex": null,
            "_model_name": "LayoutModel",
            "justify_items": null,
            "grid_row": null,
            "max_height": null,
            "align_content": null,
            "visibility": null,
            "align_self": null,
            "height": null,
            "min_height": null,
            "padding": null,
            "grid_auto_rows": null,
            "grid_gap": null,
            "max_width": null,
            "order": null,
            "_view_module_version": "1.2.0",
            "grid_template_areas": null,
            "object_position": null,
            "object_fit": null,
            "grid_auto_columns": null,
            "margin": null,
            "display": null,
            "left": null
          }
        },
        "e81fc09694fe4f8c855c681e816c2c3a": {
          "model_module": "@jupyter-widgets/controls",
          "model_name": "FloatProgressModel",
          "state": {
            "_view_name": "ProgressView",
            "style": "IPY_MODEL_ad0791d893ea448ea8d3b23a2432628e",
            "_dom_classes": [],
            "description": "",
            "_model_name": "FloatProgressModel",
            "bar_style": "success",
            "max": 1,
            "_view_module": "@jupyter-widgets/controls",
            "_model_module_version": "1.5.0",
            "value": 1,
            "_view_count": null,
            "_view_module_version": "1.5.0",
            "orientation": "horizontal",
            "min": 0,
            "description_tooltip": null,
            "_model_module": "@jupyter-widgets/controls",
            "layout": "IPY_MODEL_e9cbbf2e658f440abfb35b8b86019716"
          }
        },
        "c5da4f77ae5443a1b3643a542116729b": {
          "model_module": "@jupyter-widgets/controls",
          "model_name": "HTMLModel",
          "state": {
            "_view_name": "HTMLView",
            "style": "IPY_MODEL_7f62b4e37d394b6788a0cc5842db28d2",
            "_dom_classes": [],
            "description": "",
            "_model_name": "HTMLModel",
            "placeholder": "​",
            "_view_module": "@jupyter-widgets/controls",
            "_model_module_version": "1.5.0",
            "value": " 602/? [00:04&lt;00:00, 145.84it/s]",
            "_view_count": null,
            "_view_module_version": "1.5.0",
            "description_tooltip": null,
            "_model_module": "@jupyter-widgets/controls",
            "layout": "IPY_MODEL_41879c3b0fd94674b9678f31c1f870e5"
          }
        },
        "ad0791d893ea448ea8d3b23a2432628e": {
          "model_module": "@jupyter-widgets/controls",
          "model_name": "ProgressStyleModel",
          "state": {
            "_view_name": "StyleView",
            "_model_name": "ProgressStyleModel",
            "description_width": "initial",
            "_view_module": "@jupyter-widgets/base",
            "_model_module_version": "1.5.0",
            "_view_count": null,
            "_view_module_version": "1.2.0",
            "bar_color": null,
            "_model_module": "@jupyter-widgets/controls"
          }
        },
        "e9cbbf2e658f440abfb35b8b86019716": {
          "model_module": "@jupyter-widgets/base",
          "model_name": "LayoutModel",
          "state": {
            "_view_name": "LayoutView",
            "grid_template_rows": null,
            "right": null,
            "justify_content": null,
            "_view_module": "@jupyter-widgets/base",
            "overflow": null,
            "_model_module_version": "1.2.0",
            "_view_count": null,
            "flex_flow": null,
            "width": null,
            "min_width": null,
            "border": null,
            "align_items": null,
            "bottom": null,
            "_model_module": "@jupyter-widgets/base",
            "top": null,
            "grid_column": null,
            "overflow_y": null,
            "overflow_x": null,
            "grid_auto_flow": null,
            "grid_area": null,
            "grid_template_columns": null,
            "flex": null,
            "_model_name": "LayoutModel",
            "justify_items": null,
            "grid_row": null,
            "max_height": null,
            "align_content": null,
            "visibility": null,
            "align_self": null,
            "height": null,
            "min_height": null,
            "padding": null,
            "grid_auto_rows": null,
            "grid_gap": null,
            "max_width": null,
            "order": null,
            "_view_module_version": "1.2.0",
            "grid_template_areas": null,
            "object_position": null,
            "object_fit": null,
            "grid_auto_columns": null,
            "margin": null,
            "display": null,
            "left": null
          }
        },
        "7f62b4e37d394b6788a0cc5842db28d2": {
          "model_module": "@jupyter-widgets/controls",
          "model_name": "DescriptionStyleModel",
          "state": {
            "_view_name": "StyleView",
            "_model_name": "DescriptionStyleModel",
            "description_width": "",
            "_view_module": "@jupyter-widgets/base",
            "_model_module_version": "1.5.0",
            "_view_count": null,
            "_view_module_version": "1.2.0",
            "_model_module": "@jupyter-widgets/controls"
          }
        },
        "41879c3b0fd94674b9678f31c1f870e5": {
          "model_module": "@jupyter-widgets/base",
          "model_name": "LayoutModel",
          "state": {
            "_view_name": "LayoutView",
            "grid_template_rows": null,
            "right": null,
            "justify_content": null,
            "_view_module": "@jupyter-widgets/base",
            "overflow": null,
            "_model_module_version": "1.2.0",
            "_view_count": null,
            "flex_flow": null,
            "width": null,
            "min_width": null,
            "border": null,
            "align_items": null,
            "bottom": null,
            "_model_module": "@jupyter-widgets/base",
            "top": null,
            "grid_column": null,
            "overflow_y": null,
            "overflow_x": null,
            "grid_auto_flow": null,
            "grid_area": null,
            "grid_template_columns": null,
            "flex": null,
            "_model_name": "LayoutModel",
            "justify_items": null,
            "grid_row": null,
            "max_height": null,
            "align_content": null,
            "visibility": null,
            "align_self": null,
            "height": null,
            "min_height": null,
            "padding": null,
            "grid_auto_rows": null,
            "grid_gap": null,
            "max_width": null,
            "order": null,
            "_view_module_version": "1.2.0",
            "grid_template_areas": null,
            "object_position": null,
            "object_fit": null,
            "grid_auto_columns": null,
            "margin": null,
            "display": null,
            "left": null
          }
        },
        "42c219376a3848ad8565d0b05c8ce029": {
          "model_module": "@jupyter-widgets/controls",
          "model_name": "HBoxModel",
          "state": {
            "_view_name": "HBoxView",
            "_dom_classes": [],
            "_model_name": "HBoxModel",
            "_view_module": "@jupyter-widgets/controls",
            "_model_module_version": "1.5.0",
            "_view_count": null,
            "_view_module_version": "1.5.0",
            "box_style": "",
            "layout": "IPY_MODEL_ede7bcba06df46ab9a663942270f7b9f",
            "_model_module": "@jupyter-widgets/controls",
            "children": [
              "IPY_MODEL_e9e5292da7ec4152b0fe113ea608484b",
              "IPY_MODEL_f93c033b35e744e5bcef103ce85b8e91"
            ]
          }
        },
        "ede7bcba06df46ab9a663942270f7b9f": {
          "model_module": "@jupyter-widgets/base",
          "model_name": "LayoutModel",
          "state": {
            "_view_name": "LayoutView",
            "grid_template_rows": null,
            "right": null,
            "justify_content": null,
            "_view_module": "@jupyter-widgets/base",
            "overflow": null,
            "_model_module_version": "1.2.0",
            "_view_count": null,
            "flex_flow": null,
            "width": null,
            "min_width": null,
            "border": null,
            "align_items": null,
            "bottom": null,
            "_model_module": "@jupyter-widgets/base",
            "top": null,
            "grid_column": null,
            "overflow_y": null,
            "overflow_x": null,
            "grid_auto_flow": null,
            "grid_area": null,
            "grid_template_columns": null,
            "flex": null,
            "_model_name": "LayoutModel",
            "justify_items": null,
            "grid_row": null,
            "max_height": null,
            "align_content": null,
            "visibility": null,
            "align_self": null,
            "height": null,
            "min_height": null,
            "padding": null,
            "grid_auto_rows": null,
            "grid_gap": null,
            "max_width": null,
            "order": null,
            "_view_module_version": "1.2.0",
            "grid_template_areas": null,
            "object_position": null,
            "object_fit": null,
            "grid_auto_columns": null,
            "margin": null,
            "display": null,
            "left": null
          }
        },
        "e9e5292da7ec4152b0fe113ea608484b": {
          "model_module": "@jupyter-widgets/controls",
          "model_name": "FloatProgressModel",
          "state": {
            "_view_name": "ProgressView",
            "style": "IPY_MODEL_b1dbac455e634290bae7dfbcfb5dbf13",
            "_dom_classes": [],
            "description": "",
            "_model_name": "FloatProgressModel",
            "bar_style": "success",
            "max": 1,
            "_view_module": "@jupyter-widgets/controls",
            "_model_module_version": "1.5.0",
            "value": 1,
            "_view_count": null,
            "_view_module_version": "1.5.0",
            "orientation": "horizontal",
            "min": 0,
            "description_tooltip": null,
            "_model_module": "@jupyter-widgets/controls",
            "layout": "IPY_MODEL_ca1de6774b5541c4ab09146048a4108d"
          }
        },
        "f93c033b35e744e5bcef103ce85b8e91": {
          "model_module": "@jupyter-widgets/controls",
          "model_name": "HTMLModel",
          "state": {
            "_view_name": "HTMLView",
            "style": "IPY_MODEL_18dbe5be33d34f839e66374efeb46d32",
            "_dom_classes": [],
            "description": "",
            "_model_name": "HTMLModel",
            "placeholder": "​",
            "_view_module": "@jupyter-widgets/controls",
            "_model_module_version": "1.5.0",
            "value": " 602/? [16:26&lt;00:00,  1.64s/it]",
            "_view_count": null,
            "_view_module_version": "1.5.0",
            "description_tooltip": null,
            "_model_module": "@jupyter-widgets/controls",
            "layout": "IPY_MODEL_a8371949d15f4129aa4bb7df5a55bf2e"
          }
        },
        "b1dbac455e634290bae7dfbcfb5dbf13": {
          "model_module": "@jupyter-widgets/controls",
          "model_name": "ProgressStyleModel",
          "state": {
            "_view_name": "StyleView",
            "_model_name": "ProgressStyleModel",
            "description_width": "initial",
            "_view_module": "@jupyter-widgets/base",
            "_model_module_version": "1.5.0",
            "_view_count": null,
            "_view_module_version": "1.2.0",
            "bar_color": null,
            "_model_module": "@jupyter-widgets/controls"
          }
        },
        "ca1de6774b5541c4ab09146048a4108d": {
          "model_module": "@jupyter-widgets/base",
          "model_name": "LayoutModel",
          "state": {
            "_view_name": "LayoutView",
            "grid_template_rows": null,
            "right": null,
            "justify_content": null,
            "_view_module": "@jupyter-widgets/base",
            "overflow": null,
            "_model_module_version": "1.2.0",
            "_view_count": null,
            "flex_flow": null,
            "width": null,
            "min_width": null,
            "border": null,
            "align_items": null,
            "bottom": null,
            "_model_module": "@jupyter-widgets/base",
            "top": null,
            "grid_column": null,
            "overflow_y": null,
            "overflow_x": null,
            "grid_auto_flow": null,
            "grid_area": null,
            "grid_template_columns": null,
            "flex": null,
            "_model_name": "LayoutModel",
            "justify_items": null,
            "grid_row": null,
            "max_height": null,
            "align_content": null,
            "visibility": null,
            "align_self": null,
            "height": null,
            "min_height": null,
            "padding": null,
            "grid_auto_rows": null,
            "grid_gap": null,
            "max_width": null,
            "order": null,
            "_view_module_version": "1.2.0",
            "grid_template_areas": null,
            "object_position": null,
            "object_fit": null,
            "grid_auto_columns": null,
            "margin": null,
            "display": null,
            "left": null
          }
        },
        "18dbe5be33d34f839e66374efeb46d32": {
          "model_module": "@jupyter-widgets/controls",
          "model_name": "DescriptionStyleModel",
          "state": {
            "_view_name": "StyleView",
            "_model_name": "DescriptionStyleModel",
            "description_width": "",
            "_view_module": "@jupyter-widgets/base",
            "_model_module_version": "1.5.0",
            "_view_count": null,
            "_view_module_version": "1.2.0",
            "_model_module": "@jupyter-widgets/controls"
          }
        },
        "a8371949d15f4129aa4bb7df5a55bf2e": {
          "model_module": "@jupyter-widgets/base",
          "model_name": "LayoutModel",
          "state": {
            "_view_name": "LayoutView",
            "grid_template_rows": null,
            "right": null,
            "justify_content": null,
            "_view_module": "@jupyter-widgets/base",
            "overflow": null,
            "_model_module_version": "1.2.0",
            "_view_count": null,
            "flex_flow": null,
            "width": null,
            "min_width": null,
            "border": null,
            "align_items": null,
            "bottom": null,
            "_model_module": "@jupyter-widgets/base",
            "top": null,
            "grid_column": null,
            "overflow_y": null,
            "overflow_x": null,
            "grid_auto_flow": null,
            "grid_area": null,
            "grid_template_columns": null,
            "flex": null,
            "_model_name": "LayoutModel",
            "justify_items": null,
            "grid_row": null,
            "max_height": null,
            "align_content": null,
            "visibility": null,
            "align_self": null,
            "height": null,
            "min_height": null,
            "padding": null,
            "grid_auto_rows": null,
            "grid_gap": null,
            "max_width": null,
            "order": null,
            "_view_module_version": "1.2.0",
            "grid_template_areas": null,
            "object_position": null,
            "object_fit": null,
            "grid_auto_columns": null,
            "margin": null,
            "display": null,
            "left": null
          }
        },
        "487cf3c801fb4396a0f7f61b98cb4a0a": {
          "model_module": "@jupyter-widgets/controls",
          "model_name": "HBoxModel",
          "state": {
            "_view_name": "HBoxView",
            "_dom_classes": [],
            "_model_name": "HBoxModel",
            "_view_module": "@jupyter-widgets/controls",
            "_model_module_version": "1.5.0",
            "_view_count": null,
            "_view_module_version": "1.5.0",
            "box_style": "",
            "layout": "IPY_MODEL_9ef6503cb2604e4c90da198be75934e9",
            "_model_module": "@jupyter-widgets/controls",
            "children": [
              "IPY_MODEL_e90e216d1bb54b1fb311965d8901e938",
              "IPY_MODEL_f987dedcef1b40a294e9daa1f731f621"
            ]
          }
        },
        "9ef6503cb2604e4c90da198be75934e9": {
          "model_module": "@jupyter-widgets/base",
          "model_name": "LayoutModel",
          "state": {
            "_view_name": "LayoutView",
            "grid_template_rows": null,
            "right": null,
            "justify_content": null,
            "_view_module": "@jupyter-widgets/base",
            "overflow": null,
            "_model_module_version": "1.2.0",
            "_view_count": null,
            "flex_flow": null,
            "width": null,
            "min_width": null,
            "border": null,
            "align_items": null,
            "bottom": null,
            "_model_module": "@jupyter-widgets/base",
            "top": null,
            "grid_column": null,
            "overflow_y": null,
            "overflow_x": null,
            "grid_auto_flow": null,
            "grid_area": null,
            "grid_template_columns": null,
            "flex": null,
            "_model_name": "LayoutModel",
            "justify_items": null,
            "grid_row": null,
            "max_height": null,
            "align_content": null,
            "visibility": null,
            "align_self": null,
            "height": null,
            "min_height": null,
            "padding": null,
            "grid_auto_rows": null,
            "grid_gap": null,
            "max_width": null,
            "order": null,
            "_view_module_version": "1.2.0",
            "grid_template_areas": null,
            "object_position": null,
            "object_fit": null,
            "grid_auto_columns": null,
            "margin": null,
            "display": null,
            "left": null
          }
        },
        "e90e216d1bb54b1fb311965d8901e938": {
          "model_module": "@jupyter-widgets/controls",
          "model_name": "FloatProgressModel",
          "state": {
            "_view_name": "ProgressView",
            "style": "IPY_MODEL_7204c49f713148f183e93391f22d7b07",
            "_dom_classes": [],
            "description": "",
            "_model_name": "FloatProgressModel",
            "bar_style": "success",
            "max": 1,
            "_view_module": "@jupyter-widgets/controls",
            "_model_module_version": "1.5.0",
            "value": 1,
            "_view_count": null,
            "_view_module_version": "1.5.0",
            "orientation": "horizontal",
            "min": 0,
            "description_tooltip": null,
            "_model_module": "@jupyter-widgets/controls",
            "layout": "IPY_MODEL_bc3dba84f8264f66bb6227ba2e5e4f6c"
          }
        },
        "f987dedcef1b40a294e9daa1f731f621": {
          "model_module": "@jupyter-widgets/controls",
          "model_name": "HTMLModel",
          "state": {
            "_view_name": "HTMLView",
            "style": "IPY_MODEL_2bb8c8a5039844bd84ea41dbb2b5f0c6",
            "_dom_classes": [],
            "description": "",
            "_model_name": "HTMLModel",
            "placeholder": "​",
            "_view_module": "@jupyter-widgets/controls",
            "_model_module_version": "1.5.0",
            "value": " 134/? [00:41&lt;00:00,  3.23it/s]",
            "_view_count": null,
            "_view_module_version": "1.5.0",
            "description_tooltip": null,
            "_model_module": "@jupyter-widgets/controls",
            "layout": "IPY_MODEL_96a846ce299e495b8c2768c2d06cee42"
          }
        },
        "7204c49f713148f183e93391f22d7b07": {
          "model_module": "@jupyter-widgets/controls",
          "model_name": "ProgressStyleModel",
          "state": {
            "_view_name": "StyleView",
            "_model_name": "ProgressStyleModel",
            "description_width": "initial",
            "_view_module": "@jupyter-widgets/base",
            "_model_module_version": "1.5.0",
            "_view_count": null,
            "_view_module_version": "1.2.0",
            "bar_color": null,
            "_model_module": "@jupyter-widgets/controls"
          }
        },
        "bc3dba84f8264f66bb6227ba2e5e4f6c": {
          "model_module": "@jupyter-widgets/base",
          "model_name": "LayoutModel",
          "state": {
            "_view_name": "LayoutView",
            "grid_template_rows": null,
            "right": null,
            "justify_content": null,
            "_view_module": "@jupyter-widgets/base",
            "overflow": null,
            "_model_module_version": "1.2.0",
            "_view_count": null,
            "flex_flow": null,
            "width": null,
            "min_width": null,
            "border": null,
            "align_items": null,
            "bottom": null,
            "_model_module": "@jupyter-widgets/base",
            "top": null,
            "grid_column": null,
            "overflow_y": null,
            "overflow_x": null,
            "grid_auto_flow": null,
            "grid_area": null,
            "grid_template_columns": null,
            "flex": null,
            "_model_name": "LayoutModel",
            "justify_items": null,
            "grid_row": null,
            "max_height": null,
            "align_content": null,
            "visibility": null,
            "align_self": null,
            "height": null,
            "min_height": null,
            "padding": null,
            "grid_auto_rows": null,
            "grid_gap": null,
            "max_width": null,
            "order": null,
            "_view_module_version": "1.2.0",
            "grid_template_areas": null,
            "object_position": null,
            "object_fit": null,
            "grid_auto_columns": null,
            "margin": null,
            "display": null,
            "left": null
          }
        },
        "2bb8c8a5039844bd84ea41dbb2b5f0c6": {
          "model_module": "@jupyter-widgets/controls",
          "model_name": "DescriptionStyleModel",
          "state": {
            "_view_name": "StyleView",
            "_model_name": "DescriptionStyleModel",
            "description_width": "",
            "_view_module": "@jupyter-widgets/base",
            "_model_module_version": "1.5.0",
            "_view_count": null,
            "_view_module_version": "1.2.0",
            "_model_module": "@jupyter-widgets/controls"
          }
        },
        "96a846ce299e495b8c2768c2d06cee42": {
          "model_module": "@jupyter-widgets/base",
          "model_name": "LayoutModel",
          "state": {
            "_view_name": "LayoutView",
            "grid_template_rows": null,
            "right": null,
            "justify_content": null,
            "_view_module": "@jupyter-widgets/base",
            "overflow": null,
            "_model_module_version": "1.2.0",
            "_view_count": null,
            "flex_flow": null,
            "width": null,
            "min_width": null,
            "border": null,
            "align_items": null,
            "bottom": null,
            "_model_module": "@jupyter-widgets/base",
            "top": null,
            "grid_column": null,
            "overflow_y": null,
            "overflow_x": null,
            "grid_auto_flow": null,
            "grid_area": null,
            "grid_template_columns": null,
            "flex": null,
            "_model_name": "LayoutModel",
            "justify_items": null,
            "grid_row": null,
            "max_height": null,
            "align_content": null,
            "visibility": null,
            "align_self": null,
            "height": null,
            "min_height": null,
            "padding": null,
            "grid_auto_rows": null,
            "grid_gap": null,
            "max_width": null,
            "order": null,
            "_view_module_version": "1.2.0",
            "grid_template_areas": null,
            "object_position": null,
            "object_fit": null,
            "grid_auto_columns": null,
            "margin": null,
            "display": null,
            "left": null
          }
        },
        "dca311eb6c3e44e9b137bf4f9e8ca98b": {
          "model_module": "@jupyter-widgets/controls",
          "model_name": "HBoxModel",
          "state": {
            "_view_name": "HBoxView",
            "_dom_classes": [],
            "_model_name": "HBoxModel",
            "_view_module": "@jupyter-widgets/controls",
            "_model_module_version": "1.5.0",
            "_view_count": null,
            "_view_module_version": "1.5.0",
            "box_style": "",
            "layout": "IPY_MODEL_a883c73b5c624347a868d0ca90aaa743",
            "_model_module": "@jupyter-widgets/controls",
            "children": [
              "IPY_MODEL_8078fd67443346e7878a4ccf046c5992",
              "IPY_MODEL_5a189c4efe994c43ac3bb3c29d8bc988"
            ]
          }
        },
        "a883c73b5c624347a868d0ca90aaa743": {
          "model_module": "@jupyter-widgets/base",
          "model_name": "LayoutModel",
          "state": {
            "_view_name": "LayoutView",
            "grid_template_rows": null,
            "right": null,
            "justify_content": null,
            "_view_module": "@jupyter-widgets/base",
            "overflow": null,
            "_model_module_version": "1.2.0",
            "_view_count": null,
            "flex_flow": null,
            "width": null,
            "min_width": null,
            "border": null,
            "align_items": null,
            "bottom": null,
            "_model_module": "@jupyter-widgets/base",
            "top": null,
            "grid_column": null,
            "overflow_y": null,
            "overflow_x": null,
            "grid_auto_flow": null,
            "grid_area": null,
            "grid_template_columns": null,
            "flex": null,
            "_model_name": "LayoutModel",
            "justify_items": null,
            "grid_row": null,
            "max_height": null,
            "align_content": null,
            "visibility": null,
            "align_self": null,
            "height": null,
            "min_height": null,
            "padding": null,
            "grid_auto_rows": null,
            "grid_gap": null,
            "max_width": null,
            "order": null,
            "_view_module_version": "1.2.0",
            "grid_template_areas": null,
            "object_position": null,
            "object_fit": null,
            "grid_auto_columns": null,
            "margin": null,
            "display": null,
            "left": null
          }
        },
        "8078fd67443346e7878a4ccf046c5992": {
          "model_module": "@jupyter-widgets/controls",
          "model_name": "FloatProgressModel",
          "state": {
            "_view_name": "ProgressView",
            "style": "IPY_MODEL_142c3f0b57ac4c85a0587a64304dca53",
            "_dom_classes": [],
            "description": "",
            "_model_name": "FloatProgressModel",
            "bar_style": "success",
            "max": 1,
            "_view_module": "@jupyter-widgets/controls",
            "_model_module_version": "1.5.0",
            "value": 1,
            "_view_count": null,
            "_view_module_version": "1.5.0",
            "orientation": "horizontal",
            "min": 0,
            "description_tooltip": null,
            "_model_module": "@jupyter-widgets/controls",
            "layout": "IPY_MODEL_586dad585e3b40309ccd268b4d10a43c"
          }
        },
        "5a189c4efe994c43ac3bb3c29d8bc988": {
          "model_module": "@jupyter-widgets/controls",
          "model_name": "HTMLModel",
          "state": {
            "_view_name": "HTMLView",
            "style": "IPY_MODEL_9fccb43715104d1cb7a6983f4f049073",
            "_dom_classes": [],
            "description": "",
            "_model_name": "HTMLModel",
            "placeholder": "​",
            "_view_module": "@jupyter-widgets/controls",
            "_model_module_version": "1.5.0",
            "value": " 134/? [00:40&lt;00:00,  3.30it/s]",
            "_view_count": null,
            "_view_module_version": "1.5.0",
            "description_tooltip": null,
            "_model_module": "@jupyter-widgets/controls",
            "layout": "IPY_MODEL_f90fdacd29574690a0237bef745287b7"
          }
        },
        "142c3f0b57ac4c85a0587a64304dca53": {
          "model_module": "@jupyter-widgets/controls",
          "model_name": "ProgressStyleModel",
          "state": {
            "_view_name": "StyleView",
            "_model_name": "ProgressStyleModel",
            "description_width": "initial",
            "_view_module": "@jupyter-widgets/base",
            "_model_module_version": "1.5.0",
            "_view_count": null,
            "_view_module_version": "1.2.0",
            "bar_color": null,
            "_model_module": "@jupyter-widgets/controls"
          }
        },
        "586dad585e3b40309ccd268b4d10a43c": {
          "model_module": "@jupyter-widgets/base",
          "model_name": "LayoutModel",
          "state": {
            "_view_name": "LayoutView",
            "grid_template_rows": null,
            "right": null,
            "justify_content": null,
            "_view_module": "@jupyter-widgets/base",
            "overflow": null,
            "_model_module_version": "1.2.0",
            "_view_count": null,
            "flex_flow": null,
            "width": null,
            "min_width": null,
            "border": null,
            "align_items": null,
            "bottom": null,
            "_model_module": "@jupyter-widgets/base",
            "top": null,
            "grid_column": null,
            "overflow_y": null,
            "overflow_x": null,
            "grid_auto_flow": null,
            "grid_area": null,
            "grid_template_columns": null,
            "flex": null,
            "_model_name": "LayoutModel",
            "justify_items": null,
            "grid_row": null,
            "max_height": null,
            "align_content": null,
            "visibility": null,
            "align_self": null,
            "height": null,
            "min_height": null,
            "padding": null,
            "grid_auto_rows": null,
            "grid_gap": null,
            "max_width": null,
            "order": null,
            "_view_module_version": "1.2.0",
            "grid_template_areas": null,
            "object_position": null,
            "object_fit": null,
            "grid_auto_columns": null,
            "margin": null,
            "display": null,
            "left": null
          }
        },
        "9fccb43715104d1cb7a6983f4f049073": {
          "model_module": "@jupyter-widgets/controls",
          "model_name": "DescriptionStyleModel",
          "state": {
            "_view_name": "StyleView",
            "_model_name": "DescriptionStyleModel",
            "description_width": "",
            "_view_module": "@jupyter-widgets/base",
            "_model_module_version": "1.5.0",
            "_view_count": null,
            "_view_module_version": "1.2.0",
            "_model_module": "@jupyter-widgets/controls"
          }
        },
        "f90fdacd29574690a0237bef745287b7": {
          "model_module": "@jupyter-widgets/base",
          "model_name": "LayoutModel",
          "state": {
            "_view_name": "LayoutView",
            "grid_template_rows": null,
            "right": null,
            "justify_content": null,
            "_view_module": "@jupyter-widgets/base",
            "overflow": null,
            "_model_module_version": "1.2.0",
            "_view_count": null,
            "flex_flow": null,
            "width": null,
            "min_width": null,
            "border": null,
            "align_items": null,
            "bottom": null,
            "_model_module": "@jupyter-widgets/base",
            "top": null,
            "grid_column": null,
            "overflow_y": null,
            "overflow_x": null,
            "grid_auto_flow": null,
            "grid_area": null,
            "grid_template_columns": null,
            "flex": null,
            "_model_name": "LayoutModel",
            "justify_items": null,
            "grid_row": null,
            "max_height": null,
            "align_content": null,
            "visibility": null,
            "align_self": null,
            "height": null,
            "min_height": null,
            "padding": null,
            "grid_auto_rows": null,
            "grid_gap": null,
            "max_width": null,
            "order": null,
            "_view_module_version": "1.2.0",
            "grid_template_areas": null,
            "object_position": null,
            "object_fit": null,
            "grid_auto_columns": null,
            "margin": null,
            "display": null,
            "left": null
          }
        }
      }
    }
  },
  "cells": [
    {
      "cell_type": "code",
      "metadata": {
        "colab": {
          "base_uri": "https://localhost:8080/"
        },
        "id": "NCV3Pvp-nP1n",
        "outputId": "b4263464-d3f6-4208-d7a0-ed1f69e46926"
      },
      "source": [
        "!pip install wfdb"
      ],
      "execution_count": null,
      "outputs": [
        {
          "output_type": "stream",
          "text": [
            "Collecting wfdb\n",
            "\u001b[?25l  Downloading https://files.pythonhosted.org/packages/f1/99/4b4749925cf4123643b512e27710bfaad4f048eba8b840c581780e2aada9/wfdb-3.2.0-py3-none-any.whl (119kB)\n",
            "\r\u001b[K     |██▊                             | 10kB 17.2MB/s eta 0:00:01\r\u001b[K     |█████▌                          | 20kB 18.0MB/s eta 0:00:01\r\u001b[K     |████████▎                       | 30kB 14.4MB/s eta 0:00:01\r\u001b[K     |███████████                     | 40kB 12.8MB/s eta 0:00:01\r\u001b[K     |█████████████▊                  | 51kB 11.2MB/s eta 0:00:01\r\u001b[K     |████████████████▌               | 61kB 10.8MB/s eta 0:00:01\r\u001b[K     |███████████████████▏            | 71kB 11.4MB/s eta 0:00:01\r\u001b[K     |██████████████████████          | 81kB 12.2MB/s eta 0:00:01\r\u001b[K     |████████████████████████▊       | 92kB 11.2MB/s eta 0:00:01\r\u001b[K     |███████████████████████████▍    | 102kB 10.8MB/s eta 0:00:01\r\u001b[K     |██████████████████████████████▏ | 112kB 10.8MB/s eta 0:00:01\r\u001b[K     |████████████████████████████████| 122kB 10.8MB/s \n",
            "\u001b[?25hRequirement already satisfied: scipy>=0.17.0 in /usr/local/lib/python3.6/dist-packages (from wfdb) (1.4.1)\n",
            "Requirement already satisfied: joblib>=0.11 in /usr/local/lib/python3.6/dist-packages (from wfdb) (1.0.0)\n",
            "Requirement already satisfied: python-dateutil>=2.4.2 in /usr/local/lib/python3.6/dist-packages (from wfdb) (2.8.1)\n",
            "Requirement already satisfied: matplotlib>=2.0.0 in /usr/local/lib/python3.6/dist-packages (from wfdb) (3.2.2)\n",
            "Requirement already satisfied: scikit-learn>=0.18 in /usr/local/lib/python3.6/dist-packages (from wfdb) (0.22.2.post1)\n",
            "Requirement already satisfied: urllib3>=1.22 in /usr/local/lib/python3.6/dist-packages (from wfdb) (1.24.3)\n",
            "Requirement already satisfied: idna>=2.2 in /usr/local/lib/python3.6/dist-packages (from wfdb) (2.10)\n",
            "Requirement already satisfied: pytz>=2017.2 in /usr/local/lib/python3.6/dist-packages (from wfdb) (2018.9)\n",
            "Requirement already satisfied: numpy>=1.10.1 in /usr/local/lib/python3.6/dist-packages (from wfdb) (1.19.5)\n",
            "Requirement already satisfied: requests>=2.8.1 in /usr/local/lib/python3.6/dist-packages (from wfdb) (2.23.0)\n",
            "Requirement already satisfied: pyparsing>=2.0.4 in /usr/local/lib/python3.6/dist-packages (from wfdb) (2.4.7)\n",
            "Collecting threadpoolctl>=1.0.0\n",
            "  Downloading https://files.pythonhosted.org/packages/f7/12/ec3f2e203afa394a149911729357aa48affc59c20e2c1c8297a60f33f133/threadpoolctl-2.1.0-py3-none-any.whl\n",
            "Requirement already satisfied: pandas>=0.17.0 in /usr/local/lib/python3.6/dist-packages (from wfdb) (1.1.5)\n",
            "Requirement already satisfied: cycler>=0.10.0 in /usr/local/lib/python3.6/dist-packages (from wfdb) (0.10.0)\n",
            "Requirement already satisfied: chardet>=3.0.0 in /usr/local/lib/python3.6/dist-packages (from wfdb) (3.0.4)\n",
            "Requirement already satisfied: certifi>=2016.8.2 in /usr/local/lib/python3.6/dist-packages (from wfdb) (2020.12.5)\n",
            "Requirement already satisfied: kiwisolver>=1.1.0 in /usr/local/lib/python3.6/dist-packages (from wfdb) (1.3.1)\n",
            "Requirement already satisfied: six>=1.5 in /usr/local/lib/python3.6/dist-packages (from python-dateutil>=2.4.2->wfdb) (1.15.0)\n",
            "Installing collected packages: threadpoolctl, wfdb\n",
            "Successfully installed threadpoolctl-2.1.0 wfdb-3.2.0\n"
          ],
          "name": "stdout"
        }
      ]
    },
    {
      "cell_type": "code",
      "metadata": {
        "id": "O_amojPqnVSQ"
      },
      "source": [
        "from wfdb import io, plot\n",
        "import wfdb\n",
        "import os\n",
        "import gc\n",
        "import numpy as np\n",
        "import matplotlib.pyplot as plt\n",
        "from tqdm import tqdm_notebook as tqdm\n",
        "#%matplotlib notebook\n",
        "import pandas as pd\n",
        "import math\n",
        "from keras.models import Sequential\n",
        "from keras.layers import Dense\n",
        "from keras.layers import Dropout, Input\n",
        "from keras.layers import LSTM\n",
        "from keras.callbacks import ModelCheckpoint\n",
        "from sklearn.utils import shuffle\n",
        "from sklearn.metrics import confusion_matrix\n",
        "import time\n",
        "import keras\n",
        "from keras.optimizers import RMSprop, Adam\n",
        "import pywt\n",
        "from sklearn.model_selection import train_test_split"
      ],
      "execution_count": null,
      "outputs": []
    },
    {
      "cell_type": "code",
      "metadata": {
        "id": "1Tukt5Xuns2s"
      },
      "source": [
        "import tensorflow as tf\n",
        "from sklearn.utils import resample\n",
        "#tf.compat.v1.keras.layers.CuDNNLSTM"
      ],
      "execution_count": null,
      "outputs": []
    },
    {
      "cell_type": "code",
      "metadata": {
        "id": "94nXdaOpn5Pv"
      },
      "source": [
        "def comments_to_dict(comments):\n",
        "    key_value_pairs = [comment.split(':') for comment in comments]\n",
        "    return {pair[0]: pair[1] for pair in key_value_pairs}"
      ],
      "execution_count": null,
      "outputs": []
    },
    {
      "cell_type": "code",
      "metadata": {
        "colab": {
          "base_uri": "https://localhost:8080/"
        },
        "id": "Fdr8g-MWn9cu",
        "outputId": "34c72f29-ae17-4d28-ed3a-a469254e4248"
      },
      "source": [
        "from google.colab import drive\n",
        "#drive.flush_and_unmount()\n",
        "drive.mount('/gdrive')"
      ],
      "execution_count": null,
      "outputs": [
        {
          "output_type": "stream",
          "text": [
            "Mounted at /gdrive\n"
          ],
          "name": "stdout"
        }
      ]
    },
    {
      "cell_type": "code",
      "metadata": {
        "id": "79H65n54sjF3"
      },
      "source": [
        "#load data here\n",
        "data_path='/gdrive/My Drive/Data set/ECG/ecg_dataset'"
      ],
      "execution_count": null,
      "outputs": []
    },
    {
      "cell_type": "code",
      "metadata": {
        "id": "eILMw_SvoAa6"
      },
      "source": [
        "data_folder = 'data'\n",
        "db = 'ptbdb'\n",
        "record_names = io.get_record_list(db)"
      ],
      "execution_count": null,
      "outputs": []
    },
    {
      "cell_type": "code",
      "metadata": {
        "id": "QUbW5ppVo5z7"
      },
      "source": [
        "def record_to_row(record, patient_id):\n",
        "    row = {}\n",
        "    row['patient'] = patient_id\n",
        "    row['name'] = record.record_name\n",
        "    row['label'] = comments_to_dict(record.comments)['Reason for admission'][1:]\n",
        "    row['signals'] = record.p_signal\n",
        "    row['signal_length'] = record.sig_len\n",
        "    channels = record.sig_name\n",
        "    signals = record.p_signal.transpose()\n",
        "    row['channels'] = channels\n",
        "    \n",
        "    for channel, signal in zip(channels, signals):\n",
        "        row[channel] = signal\n",
        "        \n",
        "    return row"
      ],
      "execution_count": null,
      "outputs": []
    },
    {
      "cell_type": "code",
      "metadata": {
        "colab": {
          "base_uri": "https://localhost:8080/",
          "height": 120,
          "referenced_widgets": [
            "ceb7cde93f834fb1982d453da0ba9025",
            "099de3a8f69749a8840a70a94672964e",
            "bf8c7a1395054ae2912b35085a3a4cd0",
            "e934d7c1b7c94d9b94c33afa55292805",
            "5f90d70f3c2241fcb7da7f508afb351b",
            "c6d99b14471942c5a4ff141ebb2d19a8",
            "dbed2fded97e413cb272295d8549d2ea",
            "2f43bff2ade7474da53634515a848ec1"
          ]
        },
        "id": "RdNMPZP0ss5X",
        "outputId": "73d5ff58-4618-43f1-aef3-a78b03a167df"
      },
      "source": [
        "records = []\n",
        "for record_name in tqdm(record_names):\n",
        "    record = io.rdrecord(record_name=os.path.join(data_path, record_name))\n",
        "    label = comments_to_dict(record.comments)['Reason for admission'][1:]\n",
        "    patient = record_name.split('/')[0]\n",
        "    signal_length = record.sig_len\n",
        "    records.append({'name':record_name, 'label':label, 'patient':patient, 'signal_length':signal_length})\n",
        "    \n",
        "channels = record.sig_name\n",
        "df_records = pd.DataFrame(records)"
      ],
      "execution_count": null,
      "outputs": [
        {
          "output_type": "stream",
          "text": [
            "/usr/local/lib/python3.6/dist-packages/ipykernel_launcher.py:2: TqdmDeprecationWarning: This function will be removed in tqdm==5.0.0\n",
            "Please use `tqdm.notebook.tqdm` instead of `tqdm.tqdm_notebook`\n",
            "  \n"
          ],
          "name": "stderr"
        },
        {
          "output_type": "display_data",
          "data": {
            "application/vnd.jupyter.widget-view+json": {
              "model_id": "ceb7cde93f834fb1982d453da0ba9025",
              "version_minor": 0,
              "version_major": 2
            },
            "text/plain": [
              "HBox(children=(FloatProgress(value=0.0, max=549.0), HTML(value='')))"
            ]
          },
          "metadata": {
            "tags": []
          }
        },
        {
          "output_type": "stream",
          "text": [
            "\n"
          ],
          "name": "stdout"
        }
      ]
    },
    {
      "cell_type": "code",
      "metadata": {
        "colab": {
          "base_uri": "https://localhost:8080/"
        },
        "id": "RtcJzC8g_o7j",
        "outputId": "5ed327ad-2319-4bac-f51b-1fc2bf820cb3"
      },
      "source": [
        "df_records.shape"
      ],
      "execution_count": null,
      "outputs": [
        {
          "output_type": "execute_result",
          "data": {
            "text/plain": [
              "(549, 4)"
            ]
          },
          "metadata": {
            "tags": []
          },
          "execution_count": 10
        }
      ]
    },
    {
      "cell_type": "code",
      "metadata": {
        "id": "nHpgY22_1jkK"
      },
      "source": [
        "selected_labels = [\n",
        "    'Healthy control',\n",
        "    'Myocardial infarction'\n",
        "    ]\n",
        "df_selected = df_records.loc[df_records['label'].isin(selected_labels)]\n",
        "label_map = {label: value for label, value in zip(selected_labels, range(len(selected_labels)))}"
      ],
      "execution_count": null,
      "outputs": []
    },
    {
      "cell_type": "code",
      "metadata": {
        "colab": {
          "base_uri": "https://localhost:8080/"
        },
        "id": "W4wDPlGw_vhz",
        "outputId": "7fe48a10-68f6-49ba-d1f4-f759e7fbd02b"
      },
      "source": [
        "df_selected.shape"
      ],
      "execution_count": null,
      "outputs": [
        {
          "output_type": "execute_result",
          "data": {
            "text/plain": [
              "(448, 4)"
            ]
          },
          "metadata": {
            "tags": []
          },
          "execution_count": 12
        }
      ]
    },
    {
      "cell_type": "code",
      "metadata": {
        "id": "6JIUCHaf1o5l"
      },
      "source": [
        "test_patients = []\n",
        "train_patients = []\n",
        "test_size = 0.2\n",
        "channels\n",
        "for label in selected_labels:\n",
        "    df_selected = df_records.loc[df_records['label'] == label]\n",
        "    patients = df_selected['patient'].unique()\n",
        "    n_test = math.ceil(len(patients)*test_size)\n",
        "    test_patients+=list(np.random.choice(patients, n_test, replace=False))\n",
        "    train_patients+=list(patients[np.isin(patients, test_patients, invert=True)])"
      ],
      "execution_count": null,
      "outputs": []
    },
    {
      "cell_type": "code",
      "metadata": {
        "id": "NxLfxdrw9mY3"
      },
      "source": [
        "def make_whole_set(df_data, channels, label_map, record_id,window_size):\n",
        "    n_windows = df_data.shape[0]\n",
        "    \n",
        "    min_length = df_data['signal_length'].min()\n",
        "\n",
        "    if window_size is None:\n",
        "      window_size = min_length\n",
        "\n",
        "    dataX = np.zeros((n_windows, len(channels), window_size))\n",
        "    dataY = np.zeros((n_windows, len(label_map)))\n",
        "    \n",
        "    record_list = []\n",
        "    \n",
        "    nth_window = 0\n",
        "    for i, (patient, record) in enumerate(tqdm(df_data.iterrows())):\n",
        "        # read the record, get the signal data and transpose it\n",
        "        signal_data = io.rdrecord(os.path.join(data_path, record['name'])).p_signal[0:window_size].transpose()\n",
        "       \n",
        "        dataX[i] = np.array(signal_data)\n",
        "        dataY[i][label_map[record.label]] = 1\n",
        "        \n",
        "        \n",
        "        if record_id:\n",
        "            record_list = [record['name']]\n",
        "        \n",
        "    return dataX, dataY, record_list,window_size"
      ],
      "execution_count": null,
      "outputs": []
    },
    {
      "cell_type": "code",
      "metadata": {
        "id": "vZPOWWLt1stX"
      },
      "source": [
        "def make_set(df_data, channels, label_map, record_id, window_size=1024):\n",
        "    n_windows = 0\n",
        "    \n",
        "    for _, record in tqdm(df_data.iterrows()):\n",
        "        n_windows+= record['signal_length']//window_size\n",
        "\n",
        "    dataX = np.zeros((n_windows, len(channels), window_size))\n",
        "    dataY = np.zeros((n_windows, len(label_map)))\n",
        "    record_list = []\n",
        "    \n",
        "    nth_window = 0\n",
        "    for i, (patient, record) in enumerate(tqdm(df_data.iterrows())):\n",
        "        # read the record, get the signal data and transpose it\n",
        "        signal_data = io.rdrecord(os.path.join(data_path, record['name'])).p_signal.transpose()\n",
        "        n_rows = signal_data.shape[-1]\n",
        "        n_windows = n_rows//window_size\n",
        "        dataX[nth_window:nth_window+n_windows] = np.array([signal_data[:,i*window_size:(i+1)*window_size] for i in range(n_windows)])\n",
        "        dataY[nth_window:nth_window+n_windows][:, label_map[record.label]] = 1\n",
        "        nth_window+=n_windows\n",
        "        \n",
        "        if record_id:\n",
        "            record_list+= n_windows*[record['name']]\n",
        "        \n",
        "    return dataX, dataY, record_list\n",
        "\n",
        "\n",
        "def denoise(data):\n",
        "    # wavedec\n",
        "    coeffs = pywt.wavedec(data=data, wavelet='db8', level=9)\n",
        "    cA9, cD9, cD8, cD7, cD6, cD5, cD4, cD3, cD2, cD1 = coeffs\n",
        "\n",
        "    # threshold\n",
        "    threshold = (np.median(np.abs(cD1)) / 0.6745) * (np.sqrt(2 * np.log(len(cD1))))\n",
        "    cD1.fill(0)\n",
        "    cD2.fill(0)\n",
        "    for i in range(1, len(coeffs) - 2):\n",
        "        coeffs[i] = pywt.threshold(coeffs[i], threshold)\n",
        "\n",
        "    rdata = pywt.waverec(coeffs=coeffs, wavelet='db8')\n",
        "    return rdata"
      ],
      "execution_count": null,
      "outputs": []
    },
    {
      "cell_type": "code",
      "metadata": {
        "id": "ksa1_3Y41vPw"
      },
      "source": [
        "# df_patient_records = df_records.set_index('patient')\n",
        "# df_train_patients = df_patient_records.loc[train_patients]\n",
        "# df_test_patients = df_patient_records.loc[test_patients]\n",
        "# window_size = 1024#df_records['signal_length'].min()\n",
        "# #trainX, trainY, _ = make_set(df_train_patients, channels, label_map, False, window_size)\n",
        "# testX, testY, record_list = make_set(df_test_patients, channels, label_map, True, window_size)"
      ],
      "execution_count": null,
      "outputs": []
    },
    {
      "cell_type": "code",
      "metadata": {
        "id": "4gvcmjyw1yzk"
      },
      "source": [
        "def make_model(input_shape, output_dim, lstm_layer, dropout=0.2):\n",
        "    print(\"model dim: \", input_shape, output_dim)\n",
        "    model = Sequential()\n",
        "    model.add(lstm_layer(256, return_sequences=True, input_shape=input_shape, batch_size=None))\n",
        "    model.add(Dropout(dropout))\n",
        "    model.add(lstm_layer(128, return_sequences=True))\n",
        "    model.add(Dropout(dropout))\n",
        "    model.add(LSTM(64))\n",
        "    model.add(Dropout(dropout))\n",
        "    model.add(Dense(output_dim, activation='softmax'))\n",
        "    model.compile(loss='binary_crossentropy',metrics=[tf.keras.metrics.BinaryAccuracy()] , optimizer='adam')\n",
        "    \n",
        "    return model"
      ],
      "execution_count": null,
      "outputs": []
    },
    {
      "cell_type": "code",
      "metadata": {
        "id": "ePQ8w-9f3kd5"
      },
      "source": [
        "class TimeHistory(keras.callbacks.Callback):\n",
        "    def on_train_begin(self, logs={}):\n",
        "        self.times = []\n",
        "\n",
        "    def on_epoch_begin(self, batch, logs={}):\n",
        "        self.epoch_time_start = time.time()\n",
        "\n",
        "    def on_epoch_end(self, batch, logs={}):\n",
        "        self.times.append(time.time() - self.epoch_time_start)"
      ],
      "execution_count": null,
      "outputs": []
    },
    {
      "cell_type": "code",
      "metadata": {
        "id": "2cfuW5ks5Z6T"
      },
      "source": [
        "np.random.seed(1337)\n",
        "test_patients = []\n",
        "train_patients = []\n",
        "test_size = 0.2\n",
        "channels\n",
        "for label in selected_labels:\n",
        "    df_selected = df_records.loc[df_records['label'] == label]\n",
        "    patients = df_selected['patient'].unique()\n",
        "    n_test = math.ceil(len(patients)*test_size)\n",
        "    test_patients+=list(np.random.choice(patients, n_test, replace=False))\n",
        "    train_patients+=list(patients[np.isin(patients, test_patients, invert=True)])\n",
        "    \n",
        "df_patient_records = df_records.set_index('patient')\n",
        "df_train_patients = df_patient_records.loc[train_patients]\n",
        "df_test_patients = df_patient_records.loc[test_patients]\n",
        "#df_records['signal_length'].min()"
      ],
      "execution_count": null,
      "outputs": []
    },
    {
      "cell_type": "code",
      "metadata": {
        "colab": {
          "base_uri": "https://localhost:8080/"
        },
        "id": "qtwJ0qaOOBli",
        "outputId": "57ebf4f2-24c1-4eef-f146-d4b7e3c0d720"
      },
      "source": [
        "df_train_patients.label.value_counts()"
      ],
      "execution_count": null,
      "outputs": [
        {
          "output_type": "execute_result",
          "data": {
            "text/plain": [
              "Myocardial infarction    301\n",
              "Healthy control           64\n",
              "Name: label, dtype: int64"
            ]
          },
          "metadata": {
            "tags": []
          },
          "execution_count": 20
        }
      ]
    },
    {
      "cell_type": "code",
      "metadata": {
        "colab": {
          "base_uri": "https://localhost:8080/"
        },
        "id": "rPXt2y_KORmC",
        "outputId": "b685e634-ee12-4bcf-a75e-e488526a4359"
      },
      "source": [
        "#up sampling the miniority class of train dataset\n",
        "df_train_majority = df_train_patients[df_train_patients.label==\"Myocardial infarction\"]\n",
        "df_train_minority = df_train_patients[df_train_patients.label==\"Healthy control\"]\n",
        "df_train_minority_upsampled = resample(df_train_minority, \n",
        "                                 replace=True,     # sample with replacement\n",
        "                                 n_samples=301,    # to match majority class\n",
        "                                 random_state=123) # reproducible results\n",
        "df_train_patients = pd.concat([df_train_majority, df_train_minority_upsampled])\n",
        "df_train_patients.label.value_counts()"
      ],
      "execution_count": null,
      "outputs": [
        {
          "output_type": "execute_result",
          "data": {
            "text/plain": [
              "Myocardial infarction    301\n",
              "Healthy control          301\n",
              "Name: label, dtype: int64"
            ]
          },
          "metadata": {
            "tags": []
          },
          "execution_count": 21
        }
      ]
    },
    {
      "cell_type": "code",
      "metadata": {
        "colab": {
          "base_uri": "https://localhost:8080/"
        },
        "id": "fxpsO5XVOM4O",
        "outputId": "1f6248e4-8959-4236-9882-d992b78d85de"
      },
      "source": [
        "df_test_patients.label.value_counts()"
      ],
      "execution_count": null,
      "outputs": [
        {
          "output_type": "execute_result",
          "data": {
            "text/plain": [
              "Myocardial infarction    67\n",
              "Healthy control          16\n",
              "Name: label, dtype: int64"
            ]
          },
          "metadata": {
            "tags": []
          },
          "execution_count": 22
        }
      ]
    },
    {
      "cell_type": "code",
      "metadata": {
        "colab": {
          "base_uri": "https://localhost:8080/"
        },
        "id": "gbSHJyP_PRs-",
        "outputId": "fc8668d9-8896-4bdf-cf1c-49c5e835f5f6"
      },
      "source": [
        "#up sampling the miniority class of test dataset\n",
        "df_test_majority = df_test_patients[df_test_patients.label==\"Myocardial infarction\"]\n",
        "df_test_minority = df_test_patients[df_test_patients.label==\"Healthy control\"]\n",
        "df_test_minority_upsampled = resample(df_test_minority, \n",
        "                                 replace=True,     # sample with replacement\n",
        "                                 n_samples=67,    # to match majority class\n",
        "                                 random_state=123) # reproducible results\n",
        "df_test_patients = pd.concat([df_test_majority, df_test_minority_upsampled])\n",
        "df_test_patients.label.value_counts()"
      ],
      "execution_count": null,
      "outputs": [
        {
          "output_type": "execute_result",
          "data": {
            "text/plain": [
              "Healthy control          67\n",
              "Myocardial infarction    67\n",
              "Name: label, dtype: int64"
            ]
          },
          "metadata": {
            "tags": []
          },
          "execution_count": 23
        }
      ]
    },
    {
      "cell_type": "code",
      "metadata": {
        "colab": {
          "base_uri": "https://localhost:8080/",
          "height": 322,
          "referenced_widgets": [
            "8e6227130f1b4bdb8c16833f7616ec4a",
            "1deeb8422b3e444fb8a4349a055b7a64",
            "e81fc09694fe4f8c855c681e816c2c3a",
            "c5da4f77ae5443a1b3643a542116729b",
            "ad0791d893ea448ea8d3b23a2432628e",
            "e9cbbf2e658f440abfb35b8b86019716",
            "7f62b4e37d394b6788a0cc5842db28d2",
            "41879c3b0fd94674b9678f31c1f870e5",
            "42c219376a3848ad8565d0b05c8ce029",
            "ede7bcba06df46ab9a663942270f7b9f",
            "e9e5292da7ec4152b0fe113ea608484b",
            "f93c033b35e744e5bcef103ce85b8e91",
            "b1dbac455e634290bae7dfbcfb5dbf13",
            "ca1de6774b5541c4ab09146048a4108d",
            "18dbe5be33d34f839e66374efeb46d32",
            "a8371949d15f4129aa4bb7df5a55bf2e",
            "487cf3c801fb4396a0f7f61b98cb4a0a",
            "9ef6503cb2604e4c90da198be75934e9",
            "e90e216d1bb54b1fb311965d8901e938",
            "f987dedcef1b40a294e9daa1f731f621",
            "7204c49f713148f183e93391f22d7b07",
            "bc3dba84f8264f66bb6227ba2e5e4f6c",
            "2bb8c8a5039844bd84ea41dbb2b5f0c6",
            "96a846ce299e495b8c2768c2d06cee42",
            "dca311eb6c3e44e9b137bf4f9e8ca98b",
            "a883c73b5c624347a868d0ca90aaa743",
            "8078fd67443346e7878a4ccf046c5992",
            "5a189c4efe994c43ac3bb3c29d8bc988",
            "142c3f0b57ac4c85a0587a64304dca53",
            "586dad585e3b40309ccd268b4d10a43c",
            "9fccb43715104d1cb7a6983f4f049073",
            "f90fdacd29574690a0237bef745287b7"
          ]
        },
        "id": "qq3K80hRN_s9",
        "outputId": "7f14a328-8ef6-44fb-9219-59f3d103a71c"
      },
      "source": [
        "# trainX, trainY, _,window_size = make_whole_set(df_train_patients, channels, label_map, False, None)\n",
        "\n",
        "# testX, testY, record_list,_ = make_whole_set(df_test_patients, channels, label_map, True, window_size)\n",
        "window_size = 1024\n",
        "trainX, trainY, _ = make_set(df_train_patients, channels, label_map, False, window_size)\n",
        "testX, testY, record_list = make_set(df_test_patients, channels, label_map, True,window_size)\n",
        "\n",
        "#split validation set\n",
        "testX, valX, testY, valY = train_test_split(testX, testY, test_size=0.25, random_state=1)\n",
        "\n",
        "#Shuffle order of train set\n",
        "trainX, trainY = shuffle(trainX, trainY)\n",
        "\n",
        "#Since we have a large class inbalance we need to udjust the weights for it.\n",
        "fractions = 1-trainY.sum(axis=0)/len(trainY)\n",
        "weights = fractions[trainY.argmax(axis=1)]"
      ],
      "execution_count": null,
      "outputs": [
        {
          "output_type": "stream",
          "text": [
            "/usr/local/lib/python3.6/dist-packages/ipykernel_launcher.py:4: TqdmDeprecationWarning: This function will be removed in tqdm==5.0.0\n",
            "Please use `tqdm.notebook.tqdm` instead of `tqdm.tqdm_notebook`\n",
            "  after removing the cwd from sys.path.\n"
          ],
          "name": "stderr"
        },
        {
          "output_type": "display_data",
          "data": {
            "application/vnd.jupyter.widget-view+json": {
              "model_id": "8e6227130f1b4bdb8c16833f7616ec4a",
              "version_minor": 0,
              "version_major": 2
            },
            "text/plain": [
              "HBox(children=(FloatProgress(value=1.0, bar_style='info', max=1.0), HTML(value='')))"
            ]
          },
          "metadata": {
            "tags": []
          }
        },
        {
          "output_type": "stream",
          "text": [
            "\n"
          ],
          "name": "stdout"
        },
        {
          "output_type": "stream",
          "text": [
            "/usr/local/lib/python3.6/dist-packages/ipykernel_launcher.py:12: TqdmDeprecationWarning: This function will be removed in tqdm==5.0.0\n",
            "Please use `tqdm.notebook.tqdm` instead of `tqdm.tqdm_notebook`\n",
            "  if sys.path[0] == '':\n"
          ],
          "name": "stderr"
        },
        {
          "output_type": "display_data",
          "data": {
            "application/vnd.jupyter.widget-view+json": {
              "model_id": "42c219376a3848ad8565d0b05c8ce029",
              "version_minor": 0,
              "version_major": 2
            },
            "text/plain": [
              "HBox(children=(FloatProgress(value=1.0, bar_style='info', max=1.0), HTML(value='')))"
            ]
          },
          "metadata": {
            "tags": []
          }
        },
        {
          "output_type": "stream",
          "text": [
            "\n"
          ],
          "name": "stdout"
        },
        {
          "output_type": "display_data",
          "data": {
            "application/vnd.jupyter.widget-view+json": {
              "model_id": "487cf3c801fb4396a0f7f61b98cb4a0a",
              "version_minor": 0,
              "version_major": 2
            },
            "text/plain": [
              "HBox(children=(FloatProgress(value=1.0, bar_style='info', max=1.0), HTML(value='')))"
            ]
          },
          "metadata": {
            "tags": []
          }
        },
        {
          "output_type": "stream",
          "text": [
            "\n"
          ],
          "name": "stdout"
        },
        {
          "output_type": "display_data",
          "data": {
            "application/vnd.jupyter.widget-view+json": {
              "model_id": "dca311eb6c3e44e9b137bf4f9e8ca98b",
              "version_minor": 0,
              "version_major": 2
            },
            "text/plain": [
              "HBox(children=(FloatProgress(value=1.0, bar_style='info', max=1.0), HTML(value='')))"
            ]
          },
          "metadata": {
            "tags": []
          }
        },
        {
          "output_type": "stream",
          "text": [
            "\n"
          ],
          "name": "stdout"
        }
      ]
    },
    {
      "cell_type": "code",
      "metadata": {
        "colab": {
          "base_uri": "https://localhost:8080/"
        },
        "id": "kBxzrOnoa5jF",
        "outputId": "6b92f127-3633-47ba-a560-70440b60b404"
      },
      "source": [
        "# trainX, valX, trainY, valY = train_test_split(trainX, trainY, test_size=0.25, random_state=1)\n",
        "# #Since we have a large class inbalance we need to udjust the weights for it.\n",
        "# fractions = 1-trainY.sum(axis=0)/len(trainY)\n",
        "# weights = fractions[trainY.argmax(axis=1)]\n",
        "valX.shape"
      ],
      "execution_count": null,
      "outputs": [
        {
          "output_type": "execute_result",
          "data": {
            "text/plain": [
              "(3774, 15, 1024)"
            ]
          },
          "metadata": {
            "tags": []
          },
          "execution_count": 25
        }
      ]
    },
    {
      "cell_type": "code",
      "metadata": {
        "colab": {
          "base_uri": "https://localhost:8080/"
        },
        "id": "G3RBdaHVB-zU",
        "outputId": "db9c5ed1-1fbb-4354-e513-e27e940189d9"
      },
      "source": [
        "testX.shape"
      ],
      "execution_count": null,
      "outputs": [
        {
          "output_type": "execute_result",
          "data": {
            "text/plain": [
              "(11321, 15, 1024)"
            ]
          },
          "metadata": {
            "tags": []
          },
          "execution_count": 26
        }
      ]
    },
    {
      "cell_type": "code",
      "metadata": {
        "colab": {
          "base_uri": "https://localhost:8080/"
        },
        "id": "3nsfJQV3RfNx",
        "outputId": "5d8c157a-ef1a-40ca-d1b0-0e21df3cf92b"
      },
      "source": [
        "trainX.shape"
      ],
      "execution_count": null,
      "outputs": [
        {
          "output_type": "execute_result",
          "data": {
            "text/plain": [
              "(67251, 15, 1024)"
            ]
          },
          "metadata": {
            "tags": []
          },
          "execution_count": 27
        }
      ]
    },
    {
      "cell_type": "code",
      "metadata": {
        "colab": {
          "base_uri": "https://localhost:8080/"
        },
        "id": "l_vL3dsylSDM",
        "outputId": "a9a09fe6-417b-4eb0-f1e7-74fa45934e69"
      },
      "source": [
        "trainY.shape"
      ],
      "execution_count": null,
      "outputs": [
        {
          "output_type": "execute_result",
          "data": {
            "text/plain": [
              "(67251, 2)"
            ]
          },
          "metadata": {
            "tags": []
          },
          "execution_count": 28
        }
      ]
    },
    {
      "cell_type": "code",
      "metadata": {
        "colab": {
          "base_uri": "https://localhost:8080/"
        },
        "id": "jhBpkOXlqNdX",
        "outputId": "d12a8a7f-0a25-4c29-bc1d-37dfbb638d1f"
      },
      "source": [
        "len(weights)"
      ],
      "execution_count": null,
      "outputs": [
        {
          "output_type": "execute_result",
          "data": {
            "text/plain": [
              "67251"
            ]
          },
          "metadata": {
            "tags": []
          },
          "execution_count": 29
        }
      ]
    },
    {
      "cell_type": "code",
      "metadata": {
        "colab": {
          "base_uri": "https://localhost:8080/"
        },
        "id": "hx8Mfhv2IwvC",
        "outputId": "9b180fba-0b36-48c4-bbc6-edd1ae1ad33c"
      },
      "source": [
        "for i in range(len(trainX)):\n",
        "  for j in range(0,14):\n",
        "    trainX[i][j] = denoise(trainX[i][j])"
      ],
      "execution_count": null,
      "outputs": [
        {
          "output_type": "stream",
          "text": [
            "/usr/local/lib/python3.6/dist-packages/pywt/_multilevel.py:45: UserWarning: Level value of 9 is too high: all coefficients will experience boundary effects.\n",
            "  \"boundary effects.\").format(level))\n"
          ],
          "name": "stderr"
        }
      ]
    },
    {
      "cell_type": "code",
      "metadata": {
        "colab": {
          "base_uri": "https://localhost:8080/"
        },
        "id": "oapbnvJVRWv3",
        "outputId": "3883f24e-1839-4972-f474-1d9d5ec4cb4c"
      },
      "source": [
        "for i in range(len(testX)):\n",
        "  for j in range(0,14):\n",
        "    trainX[i][j] = denoise(trainX[i][j])"
      ],
      "execution_count": null,
      "outputs": [
        {
          "output_type": "stream",
          "text": [
            "/usr/local/lib/python3.6/dist-packages/pywt/_multilevel.py:45: UserWarning: Level value of 9 is too high: all coefficients will experience boundary effects.\n",
            "  \"boundary effects.\").format(level))\n"
          ],
          "name": "stderr"
        }
      ]
    },
    {
      "cell_type": "code",
      "metadata": {
        "colab": {
          "base_uri": "https://localhost:8080/"
        },
        "id": "LAT4-nxauwsp",
        "outputId": "373b43be-4607-48af-f01a-cacc257aa868"
      },
      "source": [
        "for i in range(len(valX)):\n",
        "  for j in range(0,14):\n",
        "    valX[i][j] = denoise(valX[i][j])"
      ],
      "execution_count": null,
      "outputs": [
        {
          "output_type": "stream",
          "text": [
            "/usr/local/lib/python3.6/dist-packages/pywt/_multilevel.py:45: UserWarning: Level value of 9 is too high: all coefficients will experience boundary effects.\n",
            "  \"boundary effects.\").format(level))\n",
            "/usr/local/lib/python3.6/dist-packages/pywt/_thresholding.py:23: RuntimeWarning: invalid value encountered in true_divide\n",
            "  thresholded = (1 - value/magnitude)\n"
          ],
          "name": "stderr"
        }
      ]
    },
    {
      "cell_type": "code",
      "metadata": {
        "colab": {
          "base_uri": "https://localhost:8080/",
          "height": 374
        },
        "id": "y_iw5t2v-hb7",
        "outputId": "36c3ad4f-3402-4003-b6ff-e5e69350685d"
      },
      "source": [
        " import matplotlib.pyplot as plt2\n",
        "plt2.figure(figsize=(20,6)) \n",
        "plt2.plot(valX[7][0])\n",
        "plt2.show()\n",
        "#plt2.savefig(\"/gdrive/My Drive/model_output/first_4096.png\")"
      ],
      "execution_count": null,
      "outputs": [
        {
          "output_type": "display_data",
          "data": {
            "image/png": "[encoded data removed]",
            "text/plain": [
              "<Figure size 1440x432 with 1 Axes>"
            ]
          },
          "metadata": {
            "tags": [],
            "needs_background": "light"
          }
        }
      ]
    },
    {
      "cell_type": "code",
      "metadata": {
        "colab": {
          "base_uri": "https://localhost:8080/",
          "height": 1000
        },
        "id": "7z9cQDFh5gbg",
        "outputId": "d2dec2de-9af0-4b7a-d458-c85cfc6700d3"
      },
      "source": [
        "#  weights = 50438\n",
        "%load_ext tensorboard\n",
        "model_Path = '/gdrive/My Drive/model_output'\n",
        "\n",
        "filepath = os.path.join(model_Path, \"weights-improvement-{epoch:02d}-bigger.hdf5\")\n",
        "checkpoint = ModelCheckpoint(filepath, monitor='loss', verbose=1, save_best_only=True, mode='min')\n",
        "\n",
        "model_name = 'two_classes'\n",
        "model_folder = os.path.join(model_Path,'tensorlogs/'+ model_name + \"-logs/\")\n",
        "\n",
        "if not os.path.isdir(model_folder):\n",
        "    n_logs = 0\n",
        "else:\n",
        "    n_logs = len(os.listdir(model_folder))\n",
        "    \n",
        "tensorboard_logs = os.path.join(model_folder, \"%inth_run\"%n_logs)\n",
        "tensorboard_callback = keras.callbacks.TensorBoard(log_dir=tensorboard_logs, write_graph=False)\n",
        "time_callback = TimeHistory()\n",
        "callbacks = [checkpoint, tensorboard_callback, time_callback]\n",
        "\n",
        "model = make_model((trainX.shape[1], trainX.shape[2]), trainY.shape[-1], LSTM)\n",
        "\n",
        "model.fit(trainX, trainY, validation_data = (valX,valY), epochs=100, batch_size=256,sample_weight=weights, callbacks=callbacks)"
      ],
      "execution_count": null,
      "outputs": [
        {
          "output_type": "stream",
          "text": [
            "model dim:  (15, 1024) 2\n",
            "Epoch 1/100\n",
            "  6/263 [..............................] - ETA: 13s - loss: 0.3432 - binary_accuracy: 0.5296WARNING:tensorflow:Callback method `on_train_batch_end` is slow compared to the batch time (batch time: 0.0162s vs `on_train_batch_end` time: 0.0323s). Check your callbacks.\n",
            "263/263 [==============================] - 15s 25ms/step - loss: 0.2570 - binary_accuracy: 0.7258 - val_loss: nan - val_binary_accuracy: 0.8370\n",
            "\n",
            "Epoch 00001: loss improved from inf to 0.19758, saving model to /gdrive/My Drive/model_output/weights-improvement-01-bigger.hdf5\n",
            "Epoch 2/100\n",
            "263/263 [==============================] - 5s 18ms/step - loss: 0.0996 - binary_accuracy: 0.9192 - val_loss: nan - val_binary_accuracy: 0.8413\n",
            "\n",
            "Epoch 00002: loss improved from 0.19758 to 0.08922, saving model to /gdrive/My Drive/model_output/weights-improvement-02-bigger.hdf5\n",
            "Epoch 3/100\n",
            "263/263 [==============================] - 5s 19ms/step - loss: 0.0565 - binary_accuracy: 0.9579 - val_loss: nan - val_binary_accuracy: 0.8357\n",
            "\n",
            "Epoch 00003: loss improved from 0.08922 to 0.05183, saving model to /gdrive/My Drive/model_output/weights-improvement-03-bigger.hdf5\n",
            "Epoch 4/100\n",
            "263/263 [==============================] - 5s 18ms/step - loss: 0.0354 - binary_accuracy: 0.9736 - val_loss: nan - val_binary_accuracy: 0.8333\n",
            "\n",
            "Epoch 00004: loss improved from 0.05183 to 0.03466, saving model to /gdrive/My Drive/model_output/weights-improvement-04-bigger.hdf5\n",
            "Epoch 5/100\n",
            "263/263 [==============================] - 5s 19ms/step - loss: 0.0237 - binary_accuracy: 0.9827 - val_loss: nan - val_binary_accuracy: 0.8037\n",
            "\n",
            "Epoch 00005: loss improved from 0.03466 to 0.02452, saving model to /gdrive/My Drive/model_output/weights-improvement-05-bigger.hdf5\n",
            "Epoch 6/100\n",
            "263/263 [==============================] - 5s 18ms/step - loss: 0.0186 - binary_accuracy: 0.9867 - val_loss: nan - val_binary_accuracy: 0.7941\n",
            "\n",
            "Epoch 00006: loss improved from 0.02452 to 0.01943, saving model to /gdrive/My Drive/model_output/weights-improvement-06-bigger.hdf5\n",
            "Epoch 7/100\n",
            "263/263 [==============================] - 5s 18ms/step - loss: 0.0146 - binary_accuracy: 0.9900 - val_loss: nan - val_binary_accuracy: 0.8042\n",
            "\n",
            "Epoch 00007: loss improved from 0.01943 to 0.01432, saving model to /gdrive/My Drive/model_output/weights-improvement-07-bigger.hdf5\n",
            "Epoch 8/100\n",
            "263/263 [==============================] - 5s 19ms/step - loss: 0.0124 - binary_accuracy: 0.9915 - val_loss: nan - val_binary_accuracy: 0.7949\n",
            "\n",
            "Epoch 00008: loss improved from 0.01432 to 0.01189, saving model to /gdrive/My Drive/model_output/weights-improvement-08-bigger.hdf5\n",
            "Epoch 9/100\n",
            "263/263 [==============================] - 5s 18ms/step - loss: 0.0115 - binary_accuracy: 0.9924 - val_loss: nan - val_binary_accuracy: 0.7769\n",
            "\n",
            "Epoch 00009: loss improved from 0.01189 to 0.01188, saving model to /gdrive/My Drive/model_output/weights-improvement-09-bigger.hdf5\n",
            "Epoch 10/100\n",
            "263/263 [==============================] - 5s 18ms/step - loss: 0.0099 - binary_accuracy: 0.9930 - val_loss: nan - val_binary_accuracy: 0.8071\n",
            "\n",
            "Epoch 00010: loss improved from 0.01188 to 0.00986, saving model to /gdrive/My Drive/model_output/weights-improvement-10-bigger.hdf5\n",
            "Epoch 11/100\n",
            "263/263 [==============================] - 5s 19ms/step - loss: 0.0092 - binary_accuracy: 0.9935 - val_loss: nan - val_binary_accuracy: 0.8047\n",
            "\n",
            "Epoch 00011: loss improved from 0.00986 to 0.00906, saving model to /gdrive/My Drive/model_output/weights-improvement-11-bigger.hdf5\n",
            "Epoch 12/100\n",
            "263/263 [==============================] - 5s 19ms/step - loss: 0.0069 - binary_accuracy: 0.9953 - val_loss: nan - val_binary_accuracy: 0.8005\n",
            "\n",
            "Epoch 00012: loss improved from 0.00906 to 0.00712, saving model to /gdrive/My Drive/model_output/weights-improvement-12-bigger.hdf5\n",
            "Epoch 13/100\n",
            "263/263 [==============================] - 5s 18ms/step - loss: 0.0061 - binary_accuracy: 0.9960 - val_loss: nan - val_binary_accuracy: 0.7864\n",
            "\n",
            "Epoch 00013: loss improved from 0.00712 to 0.00605, saving model to /gdrive/My Drive/model_output/weights-improvement-13-bigger.hdf5\n",
            "Epoch 14/100\n",
            "263/263 [==============================] - 5s 18ms/step - loss: 0.0083 - binary_accuracy: 0.9943 - val_loss: nan - val_binary_accuracy: 0.7893\n",
            "\n",
            "Epoch 00014: loss did not improve from 0.00605\n",
            "Epoch 15/100\n",
            "263/263 [==============================] - 5s 18ms/step - loss: 0.0065 - binary_accuracy: 0.9953 - val_loss: nan - val_binary_accuracy: 0.8037\n",
            "\n",
            "Epoch 00015: loss did not improve from 0.00605\n",
            "Epoch 16/100\n",
            "263/263 [==============================] - 5s 18ms/step - loss: 0.0073 - binary_accuracy: 0.9952 - val_loss: nan - val_binary_accuracy: 0.8182\n",
            "\n",
            "Epoch 00016: loss did not improve from 0.00605\n",
            "Epoch 17/100\n",
            "263/263 [==============================] - 5s 18ms/step - loss: 0.0046 - binary_accuracy: 0.9970 - val_loss: nan - val_binary_accuracy: 0.7999\n",
            "\n",
            "Epoch 00017: loss improved from 0.00605 to 0.00543, saving model to /gdrive/My Drive/model_output/weights-improvement-17-bigger.hdf5\n",
            "Epoch 18/100\n",
            "263/263 [==============================] - 5s 18ms/step - loss: 0.0060 - binary_accuracy: 0.9962 - val_loss: nan - val_binary_accuracy: 0.8100\n",
            "\n",
            "Epoch 00018: loss did not improve from 0.00543\n",
            "Epoch 19/100\n",
            "198/263 [=====================>........] - ETA: 1s - loss: 0.0062 - binary_accuracy: 0.9962"
          ],
          "name": "stdout"
        },
        {
          "output_type": "error",
          "ename": "KeyboardInterrupt",
          "evalue": "ignored",
          "traceback": [
            "\u001b[0;31m---------------------------------------------------------------------------\u001b[0m",
            "\u001b[0;31mKeyboardInterrupt\u001b[0m                         Traceback (most recent call last)",
            "\u001b[0;32m<ipython-input-34-acade96df9c6>\u001b[0m in \u001b[0;36m<module>\u001b[0;34m()\u001b[0m\n\u001b[1;32m     21\u001b[0m \u001b[0mmodel\u001b[0m \u001b[0;34m=\u001b[0m \u001b[0mmake_model\u001b[0m\u001b[0;34m(\u001b[0m\u001b[0;34m(\u001b[0m\u001b[0mtrainX\u001b[0m\u001b[0;34m.\u001b[0m\u001b[0mshape\u001b[0m\u001b[0;34m[\u001b[0m\u001b[0;36m1\u001b[0m\u001b[0;34m]\u001b[0m\u001b[0;34m,\u001b[0m \u001b[0mtrainX\u001b[0m\u001b[0;34m.\u001b[0m\u001b[0mshape\u001b[0m\u001b[0;34m[\u001b[0m\u001b[0;36m2\u001b[0m\u001b[0;34m]\u001b[0m\u001b[0;34m)\u001b[0m\u001b[0;34m,\u001b[0m \u001b[0mtrainY\u001b[0m\u001b[0;34m.\u001b[0m\u001b[0mshape\u001b[0m\u001b[0;34m[\u001b[0m\u001b[0;34m-\u001b[0m\u001b[0;36m1\u001b[0m\u001b[0;34m]\u001b[0m\u001b[0;34m,\u001b[0m \u001b[0mLSTM\u001b[0m\u001b[0;34m)\u001b[0m\u001b[0;34m\u001b[0m\u001b[0;34m\u001b[0m\u001b[0m\n\u001b[1;32m     22\u001b[0m \u001b[0;34m\u001b[0m\u001b[0m\n\u001b[0;32m---> 23\u001b[0;31m \u001b[0mmodel\u001b[0m\u001b[0;34m.\u001b[0m\u001b[0mfit\u001b[0m\u001b[0;34m(\u001b[0m\u001b[0mtrainX\u001b[0m\u001b[0;34m,\u001b[0m \u001b[0mtrainY\u001b[0m\u001b[0;34m,\u001b[0m \u001b[0mvalidation_data\u001b[0m \u001b[0;34m=\u001b[0m \u001b[0;34m(\u001b[0m\u001b[0mvalX\u001b[0m\u001b[0;34m,\u001b[0m\u001b[0mvalY\u001b[0m\u001b[0;34m)\u001b[0m\u001b[0;34m,\u001b[0m \u001b[0mepochs\u001b[0m\u001b[0;34m=\u001b[0m\u001b[0;36m100\u001b[0m\u001b[0;34m,\u001b[0m \u001b[0mbatch_size\u001b[0m\u001b[0;34m=\u001b[0m\u001b[0;36m256\u001b[0m\u001b[0;34m,\u001b[0m\u001b[0msample_weight\u001b[0m\u001b[0;34m=\u001b[0m\u001b[0mweights\u001b[0m\u001b[0;34m,\u001b[0m \u001b[0mcallbacks\u001b[0m\u001b[0;34m=\u001b[0m\u001b[0mcallbacks\u001b[0m\u001b[0;34m)\u001b[0m\u001b[0;34m\u001b[0m\u001b[0;34m\u001b[0m\u001b[0m\n\u001b[0m",
            "\u001b[0;32m/usr/local/lib/python3.6/dist-packages/tensorflow/python/keras/engine/training.py\u001b[0m in \u001b[0;36mfit\u001b[0;34m(self, x, y, batch_size, epochs, verbose, callbacks, validation_split, validation_data, shuffle, class_weight, sample_weight, initial_epoch, steps_per_epoch, validation_steps, validation_batch_size, validation_freq, max_queue_size, workers, use_multiprocessing)\u001b[0m\n\u001b[1;32m   1098\u001b[0m                 _r=1):\n\u001b[1;32m   1099\u001b[0m               \u001b[0mcallbacks\u001b[0m\u001b[0;34m.\u001b[0m\u001b[0mon_train_batch_begin\u001b[0m\u001b[0;34m(\u001b[0m\u001b[0mstep\u001b[0m\u001b[0;34m)\u001b[0m\u001b[0;34m\u001b[0m\u001b[0;34m\u001b[0m\u001b[0m\n\u001b[0;32m-> 1100\u001b[0;31m               \u001b[0mtmp_logs\u001b[0m \u001b[0;34m=\u001b[0m \u001b[0mself\u001b[0m\u001b[0;34m.\u001b[0m\u001b[0mtrain_function\u001b[0m\u001b[0;34m(\u001b[0m\u001b[0miterator\u001b[0m\u001b[0;34m)\u001b[0m\u001b[0;34m\u001b[0m\u001b[0;34m\u001b[0m\u001b[0m\n\u001b[0m\u001b[1;32m   1101\u001b[0m               \u001b[0;32mif\u001b[0m \u001b[0mdata_handler\u001b[0m\u001b[0;34m.\u001b[0m\u001b[0mshould_sync\u001b[0m\u001b[0;34m:\u001b[0m\u001b[0;34m\u001b[0m\u001b[0;34m\u001b[0m\u001b[0m\n\u001b[1;32m   1102\u001b[0m                 \u001b[0mcontext\u001b[0m\u001b[0;34m.\u001b[0m\u001b[0masync_wait\u001b[0m\u001b[0;34m(\u001b[0m\u001b[0;34m)\u001b[0m\u001b[0;34m\u001b[0m\u001b[0;34m\u001b[0m\u001b[0m\n",
            "\u001b[0;32m/usr/local/lib/python3.6/dist-packages/tensorflow/python/eager/def_function.py\u001b[0m in \u001b[0;36m__call__\u001b[0;34m(self, *args, **kwds)\u001b[0m\n\u001b[1;32m    826\u001b[0m     \u001b[0mtracing_count\u001b[0m \u001b[0;34m=\u001b[0m \u001b[0mself\u001b[0m\u001b[0;34m.\u001b[0m\u001b[0mexperimental_get_tracing_count\u001b[0m\u001b[0;34m(\u001b[0m\u001b[0;34m)\u001b[0m\u001b[0;34m\u001b[0m\u001b[0;34m\u001b[0m\u001b[0m\n\u001b[1;32m    827\u001b[0m     \u001b[0;32mwith\u001b[0m \u001b[0mtrace\u001b[0m\u001b[0;34m.\u001b[0m\u001b[0mTrace\u001b[0m\u001b[0;34m(\u001b[0m\u001b[0mself\u001b[0m\u001b[0;34m.\u001b[0m\u001b[0m_name\u001b[0m\u001b[0;34m)\u001b[0m \u001b[0;32mas\u001b[0m \u001b[0mtm\u001b[0m\u001b[0;34m:\u001b[0m\u001b[0;34m\u001b[0m\u001b[0;34m\u001b[0m\u001b[0m\n\u001b[0;32m--> 828\u001b[0;31m       \u001b[0mresult\u001b[0m \u001b[0;34m=\u001b[0m \u001b[0mself\u001b[0m\u001b[0;34m.\u001b[0m\u001b[0m_call\u001b[0m\u001b[0;34m(\u001b[0m\u001b[0;34m*\u001b[0m\u001b[0margs\u001b[0m\u001b[0;34m,\u001b[0m \u001b[0;34m**\u001b[0m\u001b[0mkwds\u001b[0m\u001b[0;34m)\u001b[0m\u001b[0;34m\u001b[0m\u001b[0;34m\u001b[0m\u001b[0m\n\u001b[0m\u001b[1;32m    829\u001b[0m       \u001b[0mcompiler\u001b[0m \u001b[0;34m=\u001b[0m \u001b[0;34m\"xla\"\u001b[0m \u001b[0;32mif\u001b[0m \u001b[0mself\u001b[0m\u001b[0;34m.\u001b[0m\u001b[0m_experimental_compile\u001b[0m \u001b[0;32melse\u001b[0m \u001b[0;34m\"nonXla\"\u001b[0m\u001b[0;34m\u001b[0m\u001b[0;34m\u001b[0m\u001b[0m\n\u001b[1;32m    830\u001b[0m       \u001b[0mnew_tracing_count\u001b[0m \u001b[0;34m=\u001b[0m \u001b[0mself\u001b[0m\u001b[0;34m.\u001b[0m\u001b[0mexperimental_get_tracing_count\u001b[0m\u001b[0;34m(\u001b[0m\u001b[0;34m)\u001b[0m\u001b[0;34m\u001b[0m\u001b[0;34m\u001b[0m\u001b[0m\n",
            "\u001b[0;32m/usr/local/lib/python3.6/dist-packages/tensorflow/python/eager/def_function.py\u001b[0m in \u001b[0;36m_call\u001b[0;34m(self, *args, **kwds)\u001b[0m\n\u001b[1;32m    853\u001b[0m       \u001b[0;31m# In this case we have created variables on the first call, so we run the\u001b[0m\u001b[0;34m\u001b[0m\u001b[0;34m\u001b[0m\u001b[0;34m\u001b[0m\u001b[0m\n\u001b[1;32m    854\u001b[0m       \u001b[0;31m# defunned version which is guaranteed to never create variables.\u001b[0m\u001b[0;34m\u001b[0m\u001b[0;34m\u001b[0m\u001b[0;34m\u001b[0m\u001b[0m\n\u001b[0;32m--> 855\u001b[0;31m       \u001b[0;32mreturn\u001b[0m \u001b[0mself\u001b[0m\u001b[0;34m.\u001b[0m\u001b[0m_stateless_fn\u001b[0m\u001b[0;34m(\u001b[0m\u001b[0;34m*\u001b[0m\u001b[0margs\u001b[0m\u001b[0;34m,\u001b[0m \u001b[0;34m**\u001b[0m\u001b[0mkwds\u001b[0m\u001b[0;34m)\u001b[0m  \u001b[0;31m# pylint: disable=not-callable\u001b[0m\u001b[0;34m\u001b[0m\u001b[0;34m\u001b[0m\u001b[0m\n\u001b[0m\u001b[1;32m    856\u001b[0m     \u001b[0;32melif\u001b[0m \u001b[0mself\u001b[0m\u001b[0;34m.\u001b[0m\u001b[0m_stateful_fn\u001b[0m \u001b[0;32mis\u001b[0m \u001b[0;32mnot\u001b[0m \u001b[0;32mNone\u001b[0m\u001b[0;34m:\u001b[0m\u001b[0;34m\u001b[0m\u001b[0;34m\u001b[0m\u001b[0m\n\u001b[1;32m    857\u001b[0m       \u001b[0;31m# Release the lock early so that multiple threads can perform the call\u001b[0m\u001b[0;34m\u001b[0m\u001b[0;34m\u001b[0m\u001b[0;34m\u001b[0m\u001b[0m\n",
            "\u001b[0;32m/usr/local/lib/python3.6/dist-packages/tensorflow/python/eager/function.py\u001b[0m in \u001b[0;36m__call__\u001b[0;34m(self, *args, **kwargs)\u001b[0m\n\u001b[1;32m   2941\u001b[0m        filtered_flat_args) = self._maybe_define_function(args, kwargs)\n\u001b[1;32m   2942\u001b[0m     return graph_function._call_flat(\n\u001b[0;32m-> 2943\u001b[0;31m         filtered_flat_args, captured_inputs=graph_function.captured_inputs)  # pylint: disable=protected-access\n\u001b[0m\u001b[1;32m   2944\u001b[0m \u001b[0;34m\u001b[0m\u001b[0m\n\u001b[1;32m   2945\u001b[0m   \u001b[0;34m@\u001b[0m\u001b[0mproperty\u001b[0m\u001b[0;34m\u001b[0m\u001b[0;34m\u001b[0m\u001b[0m\n",
            "\u001b[0;32m/usr/local/lib/python3.6/dist-packages/tensorflow/python/eager/function.py\u001b[0m in \u001b[0;36m_call_flat\u001b[0;34m(self, args, captured_inputs, cancellation_manager)\u001b[0m\n\u001b[1;32m   1917\u001b[0m       \u001b[0;31m# No tape is watching; skip to running the function.\u001b[0m\u001b[0;34m\u001b[0m\u001b[0;34m\u001b[0m\u001b[0;34m\u001b[0m\u001b[0m\n\u001b[1;32m   1918\u001b[0m       return self._build_call_outputs(self._inference_function.call(\n\u001b[0;32m-> 1919\u001b[0;31m           ctx, args, cancellation_manager=cancellation_manager))\n\u001b[0m\u001b[1;32m   1920\u001b[0m     forward_backward = self._select_forward_and_backward_functions(\n\u001b[1;32m   1921\u001b[0m         \u001b[0margs\u001b[0m\u001b[0;34m,\u001b[0m\u001b[0;34m\u001b[0m\u001b[0;34m\u001b[0m\u001b[0m\n",
            "\u001b[0;32m/usr/local/lib/python3.6/dist-packages/tensorflow/python/eager/function.py\u001b[0m in \u001b[0;36mcall\u001b[0;34m(self, ctx, args, cancellation_manager)\u001b[0m\n\u001b[1;32m    558\u001b[0m               \u001b[0minputs\u001b[0m\u001b[0;34m=\u001b[0m\u001b[0margs\u001b[0m\u001b[0;34m,\u001b[0m\u001b[0;34m\u001b[0m\u001b[0;34m\u001b[0m\u001b[0m\n\u001b[1;32m    559\u001b[0m               \u001b[0mattrs\u001b[0m\u001b[0;34m=\u001b[0m\u001b[0mattrs\u001b[0m\u001b[0;34m,\u001b[0m\u001b[0;34m\u001b[0m\u001b[0;34m\u001b[0m\u001b[0m\n\u001b[0;32m--> 560\u001b[0;31m               ctx=ctx)\n\u001b[0m\u001b[1;32m    561\u001b[0m         \u001b[0;32melse\u001b[0m\u001b[0;34m:\u001b[0m\u001b[0;34m\u001b[0m\u001b[0;34m\u001b[0m\u001b[0m\n\u001b[1;32m    562\u001b[0m           outputs = execute.execute_with_cancellation(\n",
            "\u001b[0;32m/usr/local/lib/python3.6/dist-packages/tensorflow/python/eager/execute.py\u001b[0m in \u001b[0;36mquick_execute\u001b[0;34m(op_name, num_outputs, inputs, attrs, ctx, name)\u001b[0m\n\u001b[1;32m     58\u001b[0m     \u001b[0mctx\u001b[0m\u001b[0;34m.\u001b[0m\u001b[0mensure_initialized\u001b[0m\u001b[0;34m(\u001b[0m\u001b[0;34m)\u001b[0m\u001b[0;34m\u001b[0m\u001b[0;34m\u001b[0m\u001b[0m\n\u001b[1;32m     59\u001b[0m     tensors = pywrap_tfe.TFE_Py_Execute(ctx._handle, device_name, op_name,\n\u001b[0;32m---> 60\u001b[0;31m                                         inputs, attrs, num_outputs)\n\u001b[0m\u001b[1;32m     61\u001b[0m   \u001b[0;32mexcept\u001b[0m \u001b[0mcore\u001b[0m\u001b[0;34m.\u001b[0m\u001b[0m_NotOkStatusException\u001b[0m \u001b[0;32mas\u001b[0m \u001b[0me\u001b[0m\u001b[0;34m:\u001b[0m\u001b[0;34m\u001b[0m\u001b[0;34m\u001b[0m\u001b[0m\n\u001b[1;32m     62\u001b[0m     \u001b[0;32mif\u001b[0m \u001b[0mname\u001b[0m \u001b[0;32mis\u001b[0m \u001b[0;32mnot\u001b[0m \u001b[0;32mNone\u001b[0m\u001b[0;34m:\u001b[0m\u001b[0;34m\u001b[0m\u001b[0;34m\u001b[0m\u001b[0m\n",
            "\u001b[0;31mKeyboardInterrupt\u001b[0m: "
          ]
        }
      ]
    },
    {
      "cell_type": "code",
      "metadata": {
        "colab": {
          "base_uri": "https://localhost:8080/",
          "height": 35
        },
        "id": "2UBCrfCiDbh4",
        "outputId": "67dd8672-1105-4b3e-d401-ab1c2fd814b0"
      },
      "source": [
        "tensorboard_logs"
      ],
      "execution_count": null,
      "outputs": [
        {
          "output_type": "execute_result",
          "data": {
            "application/vnd.google.colaboratory.intrinsic+json": {
              "type": "string"
            },
            "text/plain": [
              "'/gdrive/My Drive/model_output/tensorlogs/two_classes-logs/3nth_run'"
            ]
          },
          "metadata": {
            "tags": []
          },
          "execution_count": 67
        }
      ]
    },
    {
      "cell_type": "code",
      "metadata": {
        "id": "_hHvY6RnF_uv",
        "colab": {
          "base_uri": "https://localhost:8080/"
        },
        "outputId": "ebce79fa-5ceb-44d3-a26d-3573ad4b6fba"
      },
      "source": [
        "model.summary()"
      ],
      "execution_count": null,
      "outputs": [
        {
          "output_type": "stream",
          "text": [
            "Model: \"sequential\"\n",
            "_________________________________________________________________\n",
            "Layer (type)                 Output Shape              Param #   \n",
            "=================================================================\n",
            "lstm (LSTM)                  (None, 15, 256)           1311744   \n",
            "_________________________________________________________________\n",
            "dropout (Dropout)            (None, 15, 256)           0         \n",
            "_________________________________________________________________\n",
            "lstm_1 (LSTM)                (None, 15, 128)           197120    \n",
            "_________________________________________________________________\n",
            "dropout_1 (Dropout)          (None, 15, 128)           0         \n",
            "_________________________________________________________________\n",
            "lstm_2 (LSTM)                (None, 64)                49408     \n",
            "_________________________________________________________________\n",
            "dropout_2 (Dropout)          (None, 64)                0         \n",
            "_________________________________________________________________\n",
            "dense (Dense)                (None, 2)                 130       \n",
            "=================================================================\n",
            "Total params: 1,558,402\n",
            "Trainable params: 1,558,402\n",
            "Non-trainable params: 0\n",
            "_________________________________________________________________\n"
          ],
          "name": "stdout"
        }
      ]
    },
    {
      "cell_type": "code",
      "metadata": {
        "colab": {
          "base_uri": "https://localhost:8080/"
        },
        "id": "Wy03l1BF5q8l",
        "outputId": "adca8913-316c-4f65-e133-5d0e1547457b"
      },
      "source": [
        "!tensorboard dev upload \\\n",
        "  --logdir /gdrive/My\\ Drive/model_output/tensorlogs/two_classes-logs/3nth_run \\\n",
        "  --name \" 1024 with denoise\" \\\n",
        "  --description \"n_batch = 256,n_epochs = 100,validation\" \\\n",
        "  --one_shot"
      ],
      "execution_count": null,
      "outputs": [
        {
          "output_type": "stream",
          "text": [
            "2021-02-11 06:39:06.676112: I tensorflow/stream_executor/platform/default/dso_loader.cc:49] Successfully opened dynamic library libcudart.so.10.1\n",
            "\n",
            "New experiment created. View your TensorBoard at: https://tensorboard.dev/experiment/coJpqmJ9QeOpwGx2U13N3g/\n",
            "\n",
            "\u001b[1m[2021-02-11T06:39:08]\u001b[0m Started scanning logdir.\n",
            "\u001b[1m[2021-02-11T06:39:09]\u001b[0m Total uploaded: 400 scalars, 0 tensors, 0 binary objects\n",
            "\u001b[1m[2021-02-11T06:39:09]\u001b[0m Done scanning logdir.\n",
            "\n",
            "\n",
            "Done. View your TensorBoard at https://tensorboard.dev/experiment/coJpqmJ9QeOpwGx2U13N3g/\n"
          ],
          "name": "stdout"
        }
      ]
    },
    {
      "cell_type": "code",
      "metadata": {
        "colab": {
          "base_uri": "https://localhost:8080/"
        },
        "id": "SbFqV4mCCoBD",
        "outputId": "bf6ba658-0e65-4fc9-f8b5-1ee1dce793db"
      },
      "source": [
        "testX.shape"
      ],
      "execution_count": null,
      "outputs": [
        {
          "output_type": "execute_result",
          "data": {
            "text/plain": [
              "(11321, 15, 1024)"
            ]
          },
          "metadata": {
            "tags": []
          },
          "execution_count": 36
        }
      ]
    },
    {
      "cell_type": "code",
      "metadata": {
        "colab": {
          "base_uri": "https://localhost:8080/"
        },
        "id": "nuhUnnEMEo4w",
        "outputId": "8cd58f53-b5bb-4543-b713-5b67d77229eb"
      },
      "source": [
        "output = model.predict_classes(testX)\n",
        "output"
      ],
      "execution_count": null,
      "outputs": [
        {
          "output_type": "stream",
          "text": [
            "/usr/local/lib/python3.6/dist-packages/tensorflow/python/keras/engine/sequential.py:450: UserWarning: `model.predict_classes()` is deprecated and will be removed after 2021-01-01. Please use instead:* `np.argmax(model.predict(x), axis=-1)`,   if your model does multi-class classification   (e.g. if it uses a `softmax` last-layer activation).* `(model.predict(x) > 0.5).astype(\"int32\")`,   if your model does binary classification   (e.g. if it uses a `sigmoid` last-layer activation).\n",
            "  warnings.warn('`model.predict_classes()` is deprecated and '\n"
          ],
          "name": "stderr"
        },
        {
          "output_type": "execute_result",
          "data": {
            "text/plain": [
              "array([0, 0, 0, ..., 1, 1, 0])"
            ]
          },
          "metadata": {
            "tags": []
          },
          "execution_count": 37
        }
      ]
    },
    {
      "cell_type": "code",
      "metadata": {
        "colab": {
          "base_uri": "https://localhost:8080/"
        },
        "id": "G8apJq7DE_mY",
        "outputId": "4ab5d5d7-da01-4157-d14e-abf568780eff"
      },
      "source": [
        "confusion_matrix(testY.argmax(axis=1), output)"
      ],
      "execution_count": null,
      "outputs": [
        {
          "output_type": "execute_result",
          "data": {
            "text/plain": [
              "array([[3945, 1760],\n",
              "       [ 542, 5074]])"
            ]
          },
          "metadata": {
            "tags": []
          },
          "execution_count": 38
        }
      ]
    },
    {
      "cell_type": "code",
      "metadata": {
        "colab": {
          "base_uri": "https://localhost:8080/"
        },
        "id": "J94Nx-_4OPkV",
        "outputId": "e8fe831d-cd88-4747-b607-8f50d81eb9c5"
      },
      "source": [
        "y_pred = output\n",
        "y_pred"
      ],
      "execution_count": null,
      "outputs": [
        {
          "output_type": "execute_result",
          "data": {
            "text/plain": [
              "array([0, 0, 0, ..., 1, 1, 0])"
            ]
          },
          "metadata": {
            "tags": []
          },
          "execution_count": 39
        }
      ]
    },
    {
      "cell_type": "code",
      "metadata": {
        "colab": {
          "base_uri": "https://localhost:8080/"
        },
        "id": "R_RxrdZUaU_Q",
        "outputId": "3d7b06eb-2bf4-4e00-a9d0-ee5663b246c0"
      },
      "source": [
        "y_true = testY.argmax(axis=1)\n",
        "y_true"
      ],
      "execution_count": null,
      "outputs": [
        {
          "output_type": "execute_result",
          "data": {
            "text/plain": [
              "array([0, 0, 0, ..., 0, 1, 0])"
            ]
          },
          "metadata": {
            "tags": []
          },
          "execution_count": 40
        }
      ]
    },
    {
      "cell_type": "code",
      "metadata": {
        "colab": {
          "base_uri": "https://localhost:8080/"
        },
        "id": "qE3te0brNLFo",
        "outputId": "9a9f7b00-db91-4988-b97e-ca3b2172f1b4"
      },
      "source": [
        "from sklearn.metrics import classification_report\n",
        "print(classification_report(y_true, y_pred, labels=[0,1]))"
      ],
      "execution_count": null,
      "outputs": [
        {
          "output_type": "stream",
          "text": [
            "              precision    recall  f1-score   support\n",
            "\n",
            "           0       0.88      0.69      0.77      5705\n",
            "           1       0.74      0.90      0.82      5616\n",
            "\n",
            "    accuracy                           0.80     11321\n",
            "   macro avg       0.81      0.80      0.79     11321\n",
            "weighted avg       0.81      0.80      0.79     11321\n",
            "\n"
          ],
          "name": "stdout"
        }
      ]
    },
    {
      "cell_type": "code",
      "metadata": {
        "colab": {
          "base_uri": "https://localhost:8080/"
        },
        "id": "udTiQvRHLiKG",
        "outputId": "2eed9675-5465-473a-f8f7-6d16ed0e0706"
      },
      "source": [
        "testY"
      ],
      "execution_count": null,
      "outputs": [
        {
          "output_type": "execute_result",
          "data": {
            "text/plain": [
              "array([[0., 1.],\n",
              "       [0., 1.],\n",
              "       [0., 1.],\n",
              "       ...,\n",
              "       [1., 0.],\n",
              "       [1., 0.],\n",
              "       [1., 0.]])"
            ]
          },
          "metadata": {
            "tags": []
          },
          "execution_count": 75
        }
      ]
    },
    {
      "cell_type": "code",
      "metadata": {
        "colab": {
          "base_uri": "https://localhost:8080/"
        },
        "id": "Fbju440yFDnN",
        "outputId": "bf962be9-c00b-417f-f211-01cdca4c02ad"
      },
      "source": [
        "(output == testY.argmax(axis=1)).sum()/len(output)"
      ],
      "execution_count": null,
      "outputs": [
        {
          "output_type": "execute_result",
          "data": {
            "text/plain": [
              "0.8154355746936072"
            ]
          },
          "metadata": {
            "tags": []
          },
          "execution_count": 76
        }
      ]
    },
    {
      "cell_type": "code",
      "metadata": {
        "colab": {
          "base_uri": "https://localhost:8080/"
        },
        "id": "OsgCygylFGpK",
        "outputId": "82229d18-9d81-45d4-c00c-ebbb5391385a"
      },
      "source": [
        "summed = pd.DataFrame({'record':record_list, 'predictions':output, 'label':testY.argmax(axis=1)}).groupby('record').mean()\n",
        "control = summed.loc[summed['label'] == 0]\n",
        "#print(control)\n",
        "print(\"Healthy control accuracy: \"+  str((control['predictions'] <= 0.5).sum()/control.shape[0]))\n",
        "\n",
        "infarct = summed.loc[summed['label'] == 1]\n",
        "#print(infarct)\n",
        "print(\"Myocardial infarction accuracy: \"+  str((infarct['predictions'] > 0.5).sum()/infarct.shape[0]))"
      ],
      "execution_count": null,
      "outputs": [
        {
          "output_type": "stream",
          "text": [
            "Healthy control accuracy: 0.8125\n",
            "Myocardial infarction accuracy: 0.9552238805970149\n"
          ],
          "name": "stdout"
        }
      ]
    },
    {
      "cell_type": "code",
      "metadata": {
        "id": "MomraNrVFQWI"
      },
      "source": [
        ""
      ],
      "execution_count": null,
      "outputs": []
    }
  ]
}