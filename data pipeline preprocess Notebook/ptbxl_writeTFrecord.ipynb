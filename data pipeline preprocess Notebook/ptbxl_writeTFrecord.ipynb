{
 "cells": [
  {
   "cell_type": "code",
   "execution_count": 6,
   "metadata": {},
   "outputs": [],
   "source": [
    "import numpy as np\n",
    "import pandas as pd\n",
    "import wfdb\n",
    "import matplotlib.pyplot as plt\n",
    "import ast\n",
    "import os\n",
    "import tensorflow as tf\n",
    "#from keras.utils import to_categorical\n",
    "\n",
    "#import tensorflow_datasets as tfds\n",
    "import datetime\n",
    "\n",
    "from sklearn.utils import resample\n",
    "import pywt"
   ]
  },
  {
   "cell_type": "code",
   "execution_count": 7,
   "metadata": {},
   "outputs": [],
   "source": [
    "path='/Users/xianghuihuang/Desktop/WFDB/'\n",
    "tf_save_path = '/Users/xianghuihuang/Desktop/tfrecord_4labels'"
   ]
  },
  {
   "cell_type": "code",
   "execution_count": 8,
   "metadata": {},
   "outputs": [],
   "source": [
    "def get_label_info(path):\n",
    "  def add_path(str2):\n",
    "      return path + \"HR\"+str2.split(\"_\")[0]\n",
    "  def aggregate_diagnostic(y_dic):\n",
    "      tmp = []\n",
    "      for key in y_dic.keys():\n",
    "          if key in agg_df.index:\n",
    "              tmp.append(agg_df.loc[key].diagnostic_class)\n",
    "      if len(tmp) == 0:\n",
    "        return \"NL\"\n",
    "      return list(set(tmp))[0]\n",
    "  Y = pd.read_csv(path+'ptbxl_database.csv', index_col='ecg_id')\n",
    "  Y.scp_codes = Y.scp_codes.apply(lambda x: ast.literal_eval(x))\n",
    "\n",
    "      # Load scp_statements.csv for diagnostic aggregation\n",
    "  agg_df = pd.read_csv(path+'scp_statements.csv', index_col=0)\n",
    "  agg_df = agg_df[agg_df.diagnostic == 1]\n",
    "\n",
    "      # Apply diagnostic superclass\n",
    "      #target label of the classification\n",
    "  Y['diagnostic_superclass'] = Y.scp_codes.apply(aggregate_diagnostic)\n",
    "  Y['new_filename'] = Y.filename_hr.map(add_path)\n",
    "  Y['strat_fold'] = Y.strat_fold\n",
    "  return Y[[\"new_filename\",\"diagnostic_superclass\",\"age\",\"sex\",\"strat_fold\"]]"
   ]
  },
  {
   "cell_type": "code",
   "execution_count": 9,
   "metadata": {},
   "outputs": [
    {
     "data": {
      "text/html": [
       "<div>\n",
       "<style scoped>\n",
       "    .dataframe tbody tr th:only-of-type {\n",
       "        vertical-align: middle;\n",
       "    }\n",
       "\n",
       "    .dataframe tbody tr th {\n",
       "        vertical-align: top;\n",
       "    }\n",
       "\n",
       "    .dataframe thead th {\n",
       "        text-align: right;\n",
       "    }\n",
       "</style>\n",
       "<table border=\"1\" class=\"dataframe\">\n",
       "  <thead>\n",
       "    <tr style=\"text-align: right;\">\n",
       "      <th></th>\n",
       "      <th>new_filename</th>\n",
       "      <th>diagnostic_superclass</th>\n",
       "      <th>age</th>\n",
       "      <th>sex</th>\n",
       "      <th>strat_fold</th>\n",
       "    </tr>\n",
       "    <tr>\n",
       "      <th>ecg_id</th>\n",
       "      <th></th>\n",
       "      <th></th>\n",
       "      <th></th>\n",
       "      <th></th>\n",
       "      <th></th>\n",
       "    </tr>\n",
       "  </thead>\n",
       "  <tbody>\n",
       "    <tr>\n",
       "      <th>21837</th>\n",
       "      <td>/Users/xianghuihuang/Desktop/WFDB/HR21837</td>\n",
       "      <td>NORM</td>\n",
       "      <td>68.0</td>\n",
       "      <td>0</td>\n",
       "      <td>9</td>\n",
       "    </tr>\n",
       "    <tr>\n",
       "      <th>21836</th>\n",
       "      <td>/Users/xianghuihuang/Desktop/WFDB/HR21836</td>\n",
       "      <td>NORM</td>\n",
       "      <td>64.0</td>\n",
       "      <td>1</td>\n",
       "      <td>8</td>\n",
       "    </tr>\n",
       "    <tr>\n",
       "      <th>21835</th>\n",
       "      <td>/Users/xianghuihuang/Desktop/WFDB/HR21835</td>\n",
       "      <td>STTC</td>\n",
       "      <td>59.0</td>\n",
       "      <td>1</td>\n",
       "      <td>2</td>\n",
       "    </tr>\n",
       "    <tr>\n",
       "      <th>21834</th>\n",
       "      <td>/Users/xianghuihuang/Desktop/WFDB/HR21834</td>\n",
       "      <td>NORM</td>\n",
       "      <td>93.0</td>\n",
       "      <td>0</td>\n",
       "      <td>4</td>\n",
       "    </tr>\n",
       "    <tr>\n",
       "      <th>21833</th>\n",
       "      <td>/Users/xianghuihuang/Desktop/WFDB/HR21833</td>\n",
       "      <td>STTC</td>\n",
       "      <td>67.0</td>\n",
       "      <td>1</td>\n",
       "      <td>7</td>\n",
       "    </tr>\n",
       "  </tbody>\n",
       "</table>\n",
       "</div>"
      ],
      "text/plain": [
       "                                     new_filename diagnostic_superclass   age  \\\n",
       "ecg_id                                                                          \n",
       "21837   /Users/xianghuihuang/Desktop/WFDB/HR21837                  NORM  68.0   \n",
       "21836   /Users/xianghuihuang/Desktop/WFDB/HR21836                  NORM  64.0   \n",
       "21835   /Users/xianghuihuang/Desktop/WFDB/HR21835                  STTC  59.0   \n",
       "21834   /Users/xianghuihuang/Desktop/WFDB/HR21834                  NORM  93.0   \n",
       "21833   /Users/xianghuihuang/Desktop/WFDB/HR21833                  STTC  67.0   \n",
       "\n",
       "        sex  strat_fold  \n",
       "ecg_id                   \n",
       "21837     0           9  \n",
       "21836     1           8  \n",
       "21835     1           2  \n",
       "21834     0           4  \n",
       "21833     1           7  "
      ]
     },
     "execution_count": 9,
     "metadata": {},
     "output_type": "execute_result"
    }
   ],
   "source": [
    "y = get_label_info(path)\n",
    "y.head()"
   ]
  },
  {
   "cell_type": "code",
   "execution_count": 10,
   "metadata": {},
   "outputs": [
    {
     "data": {
      "text/plain": [
       "NORM    9526\n",
       "MI      5485\n",
       "STTC    2878\n",
       "HYP     1830\n",
       "CD      1709\n",
       "NL       407\n",
       "Name: diagnostic_superclass, dtype: int64"
      ]
     },
     "execution_count": 10,
     "metadata": {},
     "output_type": "execute_result"
    }
   ],
   "source": [
    "y.diagnostic_superclass.value_counts()"
   ]
  },
  {
   "cell_type": "code",
   "execution_count": 17,
   "metadata": {},
   "outputs": [
    {
     "data": {
      "text/plain": [
       "NORM    9488\n",
       "STTC    3957\n",
       "CD      3011\n",
       "MI      2538\n",
       "HYP     2434\n",
       "Name: diagnostic_superclass, dtype: int64"
      ]
     },
     "execution_count": 17,
     "metadata": {},
     "output_type": "execute_result"
    }
   ],
   "source": [
    "y = y[y.diagnostic_superclass !=\"NL\"]\n",
    "y.diagnostic_superclass.value_counts()"
   ]
  },
  {
   "cell_type": "code",
   "execution_count": 18,
   "metadata": {},
   "outputs": [
    {
     "data": {
      "text/plain": [
       "STTC    3957\n",
       "CD      3011\n",
       "MI      2538\n",
       "HYP     2434\n",
       "Name: diagnostic_superclass, dtype: int64"
      ]
     },
     "execution_count": 18,
     "metadata": {},
     "output_type": "execute_result"
    }
   ],
   "source": [
    "y = y[y.diagnostic_superclass !=\"NORM\"]\n",
    "y.diagnostic_superclass.value_counts()"
   ]
  },
  {
   "cell_type": "code",
   "execution_count": 19,
   "metadata": {},
   "outputs": [
    {
     "data": {
      "text/plain": [
       "STTC    3928\n",
       "CD      2985\n",
       "MI      2530\n",
       "HYP     2418\n",
       "Name: diagnostic_superclass, dtype: int64"
      ]
     },
     "execution_count": 19,
     "metadata": {},
     "output_type": "execute_result"
    }
   ],
   "source": [
    "y = y.dropna(how='any',axis=0) \n",
    "y.diagnostic_superclass.value_counts()"
   ]
  },
  {
   "cell_type": "code",
   "execution_count": 20,
   "metadata": {},
   "outputs": [],
   "source": [
    "#numeric_label = {\"diagnostic_superclass\":{\"NORM\":0,\"CD\":1,\"MI\":2,\"STTC\":3,\"HYP\":4}}\n",
    "numeric_label = {\"diagnostic_superclass\":{\"MI\":0,\"STTC\":1,\"CD\":2,\"HYP\":3}}\n",
    "y = y.replace(numeric_label)"
   ]
  },
  {
   "cell_type": "code",
   "execution_count": 22,
   "metadata": {},
   "outputs": [
    {
     "data": {
      "text/plain": [
       "1    3928\n",
       "2    2985\n",
       "0    2530\n",
       "3    2418\n",
       "Name: diagnostic_superclass, dtype: int64"
      ]
     },
     "execution_count": 22,
     "metadata": {},
     "output_type": "execute_result"
    }
   ],
   "source": [
    "y.diagnostic_superclass.value_counts()"
   ]
  },
  {
   "cell_type": "code",
   "execution_count": 23,
   "metadata": {},
   "outputs": [],
   "source": [
    "# Split data into train and test\n",
    "test_fold = 10\n",
    "val_fold = 9\n",
    "train_fold = [1,2,3,4,5,6,7,8]\n",
    "\n",
    "# Train\n",
    "train_df = y[(y.strat_fold.isin(train_fold))]\n",
    "# Test\n",
    "test_df = y[(y.strat_fold == test_fold)]\n",
    "#test_df = df_new.loc[df_new[\"strat_fold\"]. isin(test_fold)]\n",
    "val_df = y[(y.strat_fold == val_fold) ]\n",
    "\n",
    "\n",
    "# #split the train test dataset\n",
    "# train_df, test_df = train_test_split(df_new, test_size = 0.2)\n",
    "# #split the train validation dataset\n",
    "# train_df, val_df = train_test_split(train_df, test_size = 0.2)"
   ]
  },
  {
   "cell_type": "code",
   "execution_count": 24,
   "metadata": {},
   "outputs": [
    {
     "data": {
      "text/plain": [
       "1    3127\n",
       "2    2371\n",
       "0    2043\n",
       "3    1935\n",
       "Name: diagnostic_superclass, dtype: int64"
      ]
     },
     "execution_count": 24,
     "metadata": {},
     "output_type": "execute_result"
    }
   ],
   "source": [
    "train_df.diagnostic_superclass.value_counts()"
   ]
  },
  {
   "cell_type": "code",
   "execution_count": 29,
   "metadata": {},
   "outputs": [
    {
     "data": {
      "text/plain": [
       "0.32999155761924864"
      ]
     },
     "execution_count": 29,
     "metadata": {},
     "output_type": "execute_result"
    }
   ],
   "source": [
    "3127/len(train_df)"
   ]
  },
  {
   "cell_type": "code",
   "execution_count": 30,
   "metadata": {},
   "outputs": [
    {
     "data": {
      "text/plain": [
       "0.2502110595187843"
      ]
     },
     "execution_count": 30,
     "metadata": {},
     "output_type": "execute_result"
    }
   ],
   "source": [
    "2371/len(train_df)"
   ]
  },
  {
   "cell_type": "code",
   "execution_count": 31,
   "metadata": {},
   "outputs": [
    {
     "data": {
      "text/plain": [
       "0.21559729843815956"
      ]
     },
     "execution_count": 31,
     "metadata": {},
     "output_type": "execute_result"
    }
   ],
   "source": [
    "2043/len(train_df)"
   ]
  },
  {
   "cell_type": "code",
   "execution_count": 32,
   "metadata": {},
   "outputs": [
    {
     "data": {
      "text/plain": [
       "0.20420008442380752"
      ]
     },
     "execution_count": 32,
     "metadata": {},
     "output_type": "execute_result"
    }
   ],
   "source": [
    "1935/len(train_df)"
   ]
  },
  {
   "cell_type": "code",
   "execution_count": 33,
   "metadata": {},
   "outputs": [
    {
     "data": {
      "text/plain": [
       "1    386\n",
       "2    318\n",
       "0    254\n",
       "3    232\n",
       "Name: diagnostic_superclass, dtype: int64"
      ]
     },
     "execution_count": 33,
     "metadata": {},
     "output_type": "execute_result"
    }
   ],
   "source": [
    "test_df.diagnostic_superclass.value_counts()"
   ]
  },
  {
   "cell_type": "code",
   "execution_count": 34,
   "metadata": {},
   "outputs": [
    {
     "data": {
      "text/plain": [
       "0.3243697478991597"
      ]
     },
     "execution_count": 34,
     "metadata": {},
     "output_type": "execute_result"
    }
   ],
   "source": [
    "386/len(test_df)"
   ]
  },
  {
   "cell_type": "code",
   "execution_count": 35,
   "metadata": {},
   "outputs": [
    {
     "data": {
      "text/plain": [
       "0.2672268907563025"
      ]
     },
     "execution_count": 35,
     "metadata": {},
     "output_type": "execute_result"
    }
   ],
   "source": [
    "318/len(test_df)"
   ]
  },
  {
   "cell_type": "code",
   "execution_count": 36,
   "metadata": {},
   "outputs": [
    {
     "data": {
      "text/plain": [
       "0.2134453781512605"
      ]
     },
     "execution_count": 36,
     "metadata": {},
     "output_type": "execute_result"
    }
   ],
   "source": [
    "254/len(test_df)"
   ]
  },
  {
   "cell_type": "code",
   "execution_count": 37,
   "metadata": {},
   "outputs": [
    {
     "data": {
      "text/plain": [
       "0.1949579831932773"
      ]
     },
     "execution_count": 37,
     "metadata": {},
     "output_type": "execute_result"
    }
   ],
   "source": [
    "232/len(test_df)"
   ]
  },
  {
   "cell_type": "code",
   "execution_count": 38,
   "metadata": {},
   "outputs": [
    {
     "data": {
      "text/plain": [
       "1    415\n",
       "2    296\n",
       "3    251\n",
       "0    233\n",
       "Name: diagnostic_superclass, dtype: int64"
      ]
     },
     "execution_count": 38,
     "metadata": {},
     "output_type": "execute_result"
    }
   ],
   "source": [
    "val_df.diagnostic_superclass.value_counts()"
   ]
  },
  {
   "cell_type": "code",
   "execution_count": null,
   "metadata": {},
   "outputs": [],
   "source": []
  },
  {
   "cell_type": "code",
   "execution_count": 39,
   "metadata": {},
   "outputs": [],
   "source": [
    "#shuffle the dataframe and re_index the dataset\n",
    "def shuffle_dataset(df):\n",
    "  df = df.sample(frac=1)\n",
    "  df = df.reset_index()\n",
    "  return df"
   ]
  },
  {
   "cell_type": "code",
   "execution_count": 40,
   "metadata": {},
   "outputs": [],
   "source": [
    "# def resample_df_two_class(df_majority,df_minority,n_samples ):\n",
    "#     #up sampling the miniority class of dataset\n",
    "#   df_minority_upsampled = resample(df_minority, \n",
    "#                                   replace=True,     # sample with replacement\n",
    "#                                   n_samples= n_samples,    # to match majority class\n",
    "#                                   random_state=123) # reproducible results\n",
    "#   df_new = pd.concat([df_majority, df_minority_upsampled], ignore_index= True)\n",
    "#   #df_new.diagnostic_superclass.value_counts()\n",
    "#   return df_new"
   ]
  },
  {
   "cell_type": "code",
   "execution_count": 41,
   "metadata": {},
   "outputs": [],
   "source": [
    "# df_majority = train_df[train_df.diagnostic_superclass==1]\n",
    "# df_minority = train_df[train_df.diagnostic_superclass==0]\n",
    "# n_samples = len(df_majority)\n",
    "# df_new = resample_df_two_class(df_majority,df_minority,n_samples)\n",
    "# df_new.diagnostic_superclass.value_counts()"
   ]
  },
  {
   "cell_type": "code",
   "execution_count": 42,
   "metadata": {},
   "outputs": [],
   "source": [
    "# df_majority = train_df[train_df.diagnostic_superclass==0]\n",
    "# df_minority1 = train_df[train_df.diagnostic_superclass==1]\n",
    "# df_minority2 = train_df[train_df.diagnostic_superclass==2]\n",
    "# df_minority3 = train_df[train_df.diagnostic_superclass==3]\n",
    "# # df_minority4 = train_df[train_df.diagnostic_superclass==4]\n",
    "# n_samples = len(df_minority2)\n",
    "\n",
    "# # df_minority1_upsampled = resample(df_minority1, \n",
    "# #                                   replace=True,     # sample with replacement\n",
    "# #                                   n_samples= n_samples,    # to match majority class\n",
    "# #                                   random_state=123) # reproducible results\n",
    "# # df_minority2_upsampled = resample(df_minority2, \n",
    "# #                                   replace=True,     # sample with replacement\n",
    "# #                                   n_samples= n_samples,    # to match majority class\n",
    "# #                                   random_state=123) # reproducible results\n",
    "# df_minority3_upsampled = resample(df_minority3, \n",
    "#                                   replace=True,     # sample with replacement\n",
    "#                                   n_samples= n_samples,    # to match majority class\n",
    "#                                   random_state=123) # reproducible results\n",
    "# # df_minority4_upsampled = resample(df_minority4, \n",
    "# #                                   replace=True,     # sample with replacement\n",
    "# #                                   n_samples= n_samples,    # to match majority class\n",
    "# #                                   random_state=123) # reproducible results"
   ]
  },
  {
   "cell_type": "code",
   "execution_count": 43,
   "metadata": {},
   "outputs": [],
   "source": [
    "# df_new = pd.concat([df_majority, df_minority1,df_minority2,df_minority3_upsampled], ignore_index= True)"
   ]
  },
  {
   "cell_type": "code",
   "execution_count": 44,
   "metadata": {},
   "outputs": [],
   "source": [
    "# df_new.diagnostic_superclass.value_counts()"
   ]
  },
  {
   "cell_type": "code",
   "execution_count": 45,
   "metadata": {},
   "outputs": [],
   "source": [
    "# train_df = df_new"
   ]
  },
  {
   "cell_type": "code",
   "execution_count": 46,
   "metadata": {},
   "outputs": [
    {
     "data": {
      "text/plain": [
       "1    386\n",
       "2    318\n",
       "0    254\n",
       "3    232\n",
       "Name: diagnostic_superclass, dtype: int64"
      ]
     },
     "execution_count": 46,
     "metadata": {},
     "output_type": "execute_result"
    }
   ],
   "source": [
    "test_df.diagnostic_superclass.value_counts()"
   ]
  },
  {
   "cell_type": "code",
   "execution_count": 47,
   "metadata": {},
   "outputs": [
    {
     "data": {
      "text/plain": [
       "1    415\n",
       "2    296\n",
       "3    251\n",
       "0    233\n",
       "Name: diagnostic_superclass, dtype: int64"
      ]
     },
     "execution_count": 47,
     "metadata": {},
     "output_type": "execute_result"
    }
   ],
   "source": [
    "val_df.diagnostic_superclass.value_counts()"
   ]
  },
  {
   "cell_type": "code",
   "execution_count": 48,
   "metadata": {},
   "outputs": [
    {
     "name": "stdout",
     "output_type": "stream",
     "text": [
      "train dataset information:\n",
      "<class 'pandas.core.frame.DataFrame'>\n",
      "Int64Index: 9476 entries, 21835 to 22\n",
      "Data columns (total 5 columns):\n",
      "new_filename             9476 non-null object\n",
      "diagnostic_superclass    9476 non-null int64\n",
      "age                      9476 non-null float64\n",
      "sex                      9476 non-null int64\n",
      "strat_fold               9476 non-null int64\n",
      "dtypes: float64(1), int64(3), object(1)\n",
      "memory usage: 444.2+ KB\n",
      "None\n",
      "\n",
      "test dataset information:\n",
      "<class 'pandas.core.frame.DataFrame'>\n",
      "Int64Index: 1190 entries, 21826 to 63\n",
      "Data columns (total 5 columns):\n",
      "new_filename             1190 non-null object\n",
      "diagnostic_superclass    1190 non-null int64\n",
      "age                      1190 non-null float64\n",
      "sex                      1190 non-null int64\n",
      "strat_fold               1190 non-null int64\n",
      "dtypes: float64(1), int64(3), object(1)\n",
      "memory usage: 55.8+ KB\n",
      "None\n",
      "\n",
      "validation dataset information:\n",
      "<class 'pandas.core.frame.DataFrame'>\n",
      "Int64Index: 1195 entries, 21788 to 8\n",
      "Data columns (total 5 columns):\n",
      "new_filename             1195 non-null object\n",
      "diagnostic_superclass    1195 non-null int64\n",
      "age                      1195 non-null float64\n",
      "sex                      1195 non-null int64\n",
      "strat_fold               1195 non-null int64\n",
      "dtypes: float64(1), int64(3), object(1)\n",
      "memory usage: 56.0+ KB\n",
      "None\n"
     ]
    }
   ],
   "source": [
    "print(\"train dataset information:\")\n",
    "print(train_df.info())\n",
    "print()\n",
    "print(\"test dataset information:\")\n",
    "print(test_df.info())\n",
    "print()\n",
    "print(\"validation dataset information:\")\n",
    "print(val_df.info())"
   ]
  },
  {
   "cell_type": "code",
   "execution_count": 49,
   "metadata": {},
   "outputs": [],
   "source": [
    "def _bytes_feature(value):\n",
    "    \"\"\"Returns a bytes_list from a string / byte.\"\"\"\n",
    "    # If the value is an eager tensor BytesList won't unpack a string from an EagerTensor.\n",
    "    if isinstance(value, type(tf.constant(0))):\n",
    "        value = value.numpy() \n",
    "    return tf.train.Feature(bytes_list=tf.train.BytesList(value=[value]))\n",
    "\n",
    "def _float_feature(value):\n",
    "    \"\"\"Returns a float_list from a float / double.\"\"\"\n",
    "    return tf.train.Feature(float_list=tf.train.FloatList(value=[value]))\n",
    "\n",
    "def _int64_feature(value):\n",
    "    \"\"\"Returns an int64_list from a bool / enum / int / uint.\"\"\"\n",
    "    return tf.train.Feature(int64_list=tf.train.Int64List(value=[value]))\n",
    "\n",
    "def save_tfrecords(data, labels, desfile):\n",
    "    with tf.io.TFRecordWriter(desfile) as writer:\n",
    "        \n",
    "       for i in range(len(data)):\n",
    "           features = tf.train.Features(\n",
    "                    feature = {\n",
    "                        \"data\": _bytes_feature(tf.io.serialize_tensor(data[i])),\n",
    "                        \"label\":_bytes_feature(tf.io.serialize_tensor(labels[i])),\n",
    "    #                     \"sex\":_int64_feature(sex),\n",
    "    #                     \"age\":_float_feature(age)\n",
    "                    }\n",
    "                )\n",
    "           example = tf.train.Example(features = features)\n",
    "           serialized = example.SerializeToString()\n",
    "           writer.write(serialized)"
   ]
  },
  {
   "cell_type": "code",
   "execution_count": 50,
   "metadata": {},
   "outputs": [],
   "source": [
    "def denoise(sig_data,sig_num):\n",
    "    # wavedec\n",
    "#     print(record_name)\n",
    "        #print(\"denoise data:\",sig_data)\n",
    "        #print(sig_num)\n",
    "        sig_length = len(sig_data)\n",
    "        #print(\"pywt.waverec 1\")\n",
    "        coeffs = pywt.wavedec(data=sig_data, wavelet='db8', level=9)\n",
    "        #print(\"pass!\")\n",
    "        cA9, cD9, cD8, cD7, cD6, cD5, cD4, cD3, cD2, cD1 = coeffs\n",
    "        #print('here')\n",
    "        # threshold\n",
    "        threshold = (np.median(np.abs(cD1)) / 0.6745) * (np.sqrt(2 * np.log(len(cD1))))\n",
    "        cD1.fill(0)\n",
    "        cD2.fill(0)\n",
    "        for i in range(1, len(coeffs) - 2):\n",
    "           coeffs[i] = pywt.threshold(coeffs[i], threshold)\n",
    "        #print(\"pywt.waverec 2\")\n",
    "        rdata = pywt.waverec(coeffs=coeffs, wavelet='db8')\n",
    "        #print(\"denoise data:\")\n",
    "        sig_array2 = rdata\n",
    "        zero_array = np.zeros(sig_length,)\n",
    "        if max(sig_array2) != 0:\n",
    "            #rdata = sig_array2[0:sig_length]\n",
    "            for i in range(len(sig_array2)):\n",
    "                #print(\"denoise loop\")\n",
    "                zero_array[i] = sig_array2[i]\n",
    "            \n",
    "            rdata = np.nan_to_num(zero_array)\n",
    "        else:\n",
    "            print(\"denoise zero error!\")\n",
    "            return sig_data\n",
    "        \n",
    "        #print(\"denoise return data:\",rdata)\n",
    "        return rdata"
   ]
  },
  {
   "cell_type": "code",
   "execution_count": 51,
   "metadata": {},
   "outputs": [],
   "source": [
    "def denoise_tfrecord(data,file_path):\n",
    "    try:\n",
    "     # Generating numpy array \n",
    "      data_array = data.T\n",
    "      #print(data_array.shape)\n",
    "      for i, sig_array in enumerate(data_array):\n",
    "        #print(\"loop start!\")\n",
    "        sig_array2 = denoise(sig_array,i)\n",
    "        #print(\"loop shape:\")\n",
    "        data_array[i] = sig_array2\n",
    "      data2 = data_array.T\n",
    "#       if data_array.T.shape[0] != 5000 or data_array.T.shape[1] != 12:\n",
    "# #       if data_array    \n",
    "#           print(\"data_array shape:\",data_array.T.shape)\n",
    "#           print(\"data shape:\",data2.shape)\n",
    "      return data2        \n",
    "    except:\n",
    "      print('Denoise error!')\n",
    "      print(file_path)\n",
    "      #print(data.numpy())\n",
    "      return data"
   ]
  },
  {
   "cell_type": "code",
   "execution_count": 45,
   "metadata": {},
   "outputs": [],
   "source": [
    "def load_data_all(df,name,label_num):\n",
    "  path_list = df['new_filename']\n",
    "  #print(i)\n",
    "  #age_tensor = tf.constant(df['age'][start_index: end_index],dtype=\"int8\")\n",
    "  #sex_tensor =tf.constant(df['sex'][start_index: end_index],dtype=\"int8\")\n",
    "  labels_one_hot = tf.one_hot(df['diagnostic_superclass'],label_num)\n",
    "  data_list = []\n",
    "  path_list=path_list.reset_index()\n",
    "  tf_path = os.path.join(tf_save_path,name+'.tfrecords')\n",
    "  for j in range(len(path_list)):\n",
    "    file_path = path_list.new_filename[j]\n",
    "    \n",
    "    data = wfdb.rdrecord(file_path).p_signal\n",
    "    data = denoise_tfrecord(data,file_path).astype(\"float16\")\n",
    "    #print(data.shape)\n",
    "    \n",
    "    if data is None:\n",
    "        print(file_path,\"error!!\")\n",
    "    #save_tfrecords(data, labels_one_hot[j], tf_path)\n",
    "    data_list.append(data)\n",
    "    \n",
    "  data_array = np.array(data_list)\n",
    "  save_tfrecords(data_array, labels_one_hot, tf_path)\n",
    "  #dataset = tf.data.Dataset.from_tensor_slices((data_array,age_tensor,sex_tensor,label_one_hot))\n",
    "  #set tensorflow feature\n",
    "  #label_tensor = tf.constant(train_df['diagnostic_superclass'][start_index: end_index],2)\n",
    "  #dataset = tf.data.Dataset.from_tensor_slices((data_array, labels_one_hot))"
   ]
  },
  {
   "cell_type": "code",
   "execution_count": 48,
   "metadata": {},
   "outputs": [],
   "source": [
    "load_data_all(test_df,\"test2\",2)"
   ]
  },
  {
   "cell_type": "code",
   "execution_count": null,
   "metadata": {},
   "outputs": [],
   "source": []
  }
 ],
 "metadata": {
  "kernelspec": {
   "display_name": "Python 3",
   "language": "python",
   "name": "python3"
  },
  "language_info": {
   "codemirror_mode": {
    "name": "ipython",
    "version": 3
   },
   "file_extension": ".py",
   "mimetype": "text/x-python",
   "name": "python",
   "nbconvert_exporter": "python",
   "pygments_lexer": "ipython3",
   "version": "3.7.3"
  }
 },
 "nbformat": 4,
 "nbformat_minor": 4
}
